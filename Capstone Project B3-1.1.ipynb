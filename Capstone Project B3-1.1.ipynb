{
 "cells": [
  {
   "cell_type": "markdown",
   "id": "b51d6212",
   "metadata": {},
   "source": [
    "# Capstone Project Batch: B Group: 3                                                                      "
   ]
  },
  {
   "cell_type": "markdown",
   "id": "f08e48ea",
   "metadata": {},
   "source": [
    "### Members: Tanisha Jain , Priya Bhardwaj, Aman Bhardwaj, Satyam Sharma and Suneetha Vemula "
   ]
  },
  {
   "cell_type": "code",
   "execution_count": 60,
   "id": "b90a215a",
   "metadata": {},
   "outputs": [],
   "source": [
    "import pandas as pd\n",
    "import numpy as np\n",
    "import matplotlib.pyplot as plt\n",
    "import seaborn as sns\n",
    "import scipy.stats as st\n"
   ]
  },
  {
   "cell_type": "code",
   "execution_count": 61,
   "id": "139e971f",
   "metadata": {},
   "outputs": [],
   "source": [
    "carSalesData = pd.read_csv('Car_sales_details_p3.csv')\n",
    "salesStatus = pd.read_csv('sales_Status_p3.csv')\n",
    "stateRegionMapping = pd.read_csv('State_region_mapping_p3.csv')\n"
   ]
  },
  {
   "cell_type": "code",
   "execution_count": 62,
   "id": "7324e292",
   "metadata": {},
   "outputs": [
    {
     "data": {
      "text/html": [
       "<div>\n",
       "<style scoped>\n",
       "    .dataframe tbody tr th:only-of-type {\n",
       "        vertical-align: middle;\n",
       "    }\n",
       "\n",
       "    .dataframe tbody tr th {\n",
       "        vertical-align: top;\n",
       "    }\n",
       "\n",
       "    .dataframe thead th {\n",
       "        text-align: right;\n",
       "    }\n",
       "</style>\n",
       "<table border=\"1\" class=\"dataframe\">\n",
       "  <thead>\n",
       "    <tr style=\"text-align: right;\">\n",
       "      <th></th>\n",
       "      <th>Sales_ID</th>\n",
       "      <th>name</th>\n",
       "      <th>year</th>\n",
       "      <th>selling_price</th>\n",
       "      <th>km_driven</th>\n",
       "      <th>State or Province</th>\n",
       "      <th>City</th>\n",
       "      <th>fuel</th>\n",
       "      <th>seller_type</th>\n",
       "      <th>transmission</th>\n",
       "      <th>owner</th>\n",
       "      <th>mileage</th>\n",
       "      <th>engine</th>\n",
       "      <th>max_power</th>\n",
       "      <th>seats</th>\n",
       "    </tr>\n",
       "  </thead>\n",
       "  <tbody>\n",
       "    <tr>\n",
       "      <th>0</th>\n",
       "      <td>1</td>\n",
       "      <td>Maruti Swift Dzire VDI</td>\n",
       "      <td>2014</td>\n",
       "      <td>450000</td>\n",
       "      <td>145500</td>\n",
       "      <td>District of Columbia</td>\n",
       "      <td>Washington</td>\n",
       "      <td>Diesel</td>\n",
       "      <td>Individual</td>\n",
       "      <td>Manual</td>\n",
       "      <td>First Owner</td>\n",
       "      <td>23.4 kmpl</td>\n",
       "      <td>1248 CC</td>\n",
       "      <td>74 bhp</td>\n",
       "      <td>5</td>\n",
       "    </tr>\n",
       "    <tr>\n",
       "      <th>1</th>\n",
       "      <td>2</td>\n",
       "      <td>Skoda Rapid 1.5 TDI Ambition</td>\n",
       "      <td>2014</td>\n",
       "      <td>370000</td>\n",
       "      <td>120000</td>\n",
       "      <td>New York</td>\n",
       "      <td>New York City</td>\n",
       "      <td>Diesel</td>\n",
       "      <td>Individual</td>\n",
       "      <td>Manual</td>\n",
       "      <td>Second Owner</td>\n",
       "      <td>21.14 kmpl</td>\n",
       "      <td>1498 CC</td>\n",
       "      <td>103.52 bhp</td>\n",
       "      <td>5</td>\n",
       "    </tr>\n",
       "    <tr>\n",
       "      <th>2</th>\n",
       "      <td>3</td>\n",
       "      <td>Honda City 2017-2020 EXi</td>\n",
       "      <td>2006</td>\n",
       "      <td>158000</td>\n",
       "      <td>140000</td>\n",
       "      <td>Illinois</td>\n",
       "      <td>Chicago</td>\n",
       "      <td>Petrol</td>\n",
       "      <td>Individual</td>\n",
       "      <td>Manual</td>\n",
       "      <td>Third Owner</td>\n",
       "      <td>17.7 kmpl</td>\n",
       "      <td>1497 CC</td>\n",
       "      <td>78 bhp</td>\n",
       "      <td>5</td>\n",
       "    </tr>\n",
       "  </tbody>\n",
       "</table>\n",
       "</div>"
      ],
      "text/plain": [
       "   Sales_ID                          name  year  selling_price  km_driven  \\\n",
       "0         1        Maruti Swift Dzire VDI  2014         450000     145500   \n",
       "1         2  Skoda Rapid 1.5 TDI Ambition  2014         370000     120000   \n",
       "2         3      Honda City 2017-2020 EXi  2006         158000     140000   \n",
       "\n",
       "      State or Province           City    fuel seller_type transmission  \\\n",
       "0  District of Columbia     Washington  Diesel  Individual       Manual   \n",
       "1              New York  New York City  Diesel  Individual       Manual   \n",
       "2              Illinois        Chicago  Petrol  Individual       Manual   \n",
       "\n",
       "          owner     mileage   engine   max_power  seats  \n",
       "0   First Owner   23.4 kmpl  1248 CC      74 bhp      5  \n",
       "1  Second Owner  21.14 kmpl  1498 CC  103.52 bhp      5  \n",
       "2   Third Owner   17.7 kmpl  1497 CC      78 bhp      5  "
      ]
     },
     "execution_count": 62,
     "metadata": {},
     "output_type": "execute_result"
    }
   ],
   "source": [
    "carSalesData.head(3)\n"
   ]
  },
  {
   "cell_type": "code",
   "execution_count": 63,
   "id": "dfa70cfa",
   "metadata": {},
   "outputs": [
    {
     "data": {
      "text/html": [
       "<div>\n",
       "<style scoped>\n",
       "    .dataframe tbody tr th:only-of-type {\n",
       "        vertical-align: middle;\n",
       "    }\n",
       "\n",
       "    .dataframe tbody tr th {\n",
       "        vertical-align: top;\n",
       "    }\n",
       "\n",
       "    .dataframe thead th {\n",
       "        text-align: right;\n",
       "    }\n",
       "</style>\n",
       "<table border=\"1\" class=\"dataframe\">\n",
       "  <thead>\n",
       "    <tr style=\"text-align: right;\">\n",
       "      <th></th>\n",
       "      <th>Sales_ID</th>\n",
       "      <th>sold</th>\n",
       "    </tr>\n",
       "  </thead>\n",
       "  <tbody>\n",
       "    <tr>\n",
       "      <th>0</th>\n",
       "      <td>1</td>\n",
       "      <td>Y</td>\n",
       "    </tr>\n",
       "    <tr>\n",
       "      <th>1</th>\n",
       "      <td>2</td>\n",
       "      <td>Y</td>\n",
       "    </tr>\n",
       "    <tr>\n",
       "      <th>2</th>\n",
       "      <td>3</td>\n",
       "      <td>Y</td>\n",
       "    </tr>\n",
       "  </tbody>\n",
       "</table>\n",
       "</div>"
      ],
      "text/plain": [
       "   Sales_ID sold\n",
       "0         1    Y\n",
       "1         2    Y\n",
       "2         3    Y"
      ]
     },
     "execution_count": 63,
     "metadata": {},
     "output_type": "execute_result"
    }
   ],
   "source": [
    "salesStatus.head(3)"
   ]
  },
  {
   "cell_type": "code",
   "execution_count": 64,
   "id": "458ba5a9",
   "metadata": {},
   "outputs": [
    {
     "data": {
      "text/html": [
       "<div>\n",
       "<style scoped>\n",
       "    .dataframe tbody tr th:only-of-type {\n",
       "        vertical-align: middle;\n",
       "    }\n",
       "\n",
       "    .dataframe tbody tr th {\n",
       "        vertical-align: top;\n",
       "    }\n",
       "\n",
       "    .dataframe thead th {\n",
       "        text-align: right;\n",
       "    }\n",
       "</style>\n",
       "<table border=\"1\" class=\"dataframe\">\n",
       "  <thead>\n",
       "    <tr style=\"text-align: right;\">\n",
       "      <th></th>\n",
       "      <th>Region</th>\n",
       "      <th>State or Province</th>\n",
       "    </tr>\n",
       "  </thead>\n",
       "  <tbody>\n",
       "    <tr>\n",
       "      <th>0</th>\n",
       "      <td>Central</td>\n",
       "      <td>Illinois</td>\n",
       "    </tr>\n",
       "    <tr>\n",
       "      <th>1</th>\n",
       "      <td>Central</td>\n",
       "      <td>Indiana</td>\n",
       "    </tr>\n",
       "    <tr>\n",
       "      <th>2</th>\n",
       "      <td>Central</td>\n",
       "      <td>Iowa</td>\n",
       "    </tr>\n",
       "  </tbody>\n",
       "</table>\n",
       "</div>"
      ],
      "text/plain": [
       "    Region State or Province\n",
       "0  Central          Illinois\n",
       "1  Central           Indiana\n",
       "2  Central              Iowa"
      ]
     },
     "execution_count": 64,
     "metadata": {},
     "output_type": "execute_result"
    }
   ],
   "source": [
    "stateRegionMapping.head(3)"
   ]
  },
  {
   "cell_type": "code",
   "execution_count": 65,
   "id": "cda6fabf",
   "metadata": {},
   "outputs": [
    {
     "data": {
      "text/plain": [
       "(7906, 15)"
      ]
     },
     "execution_count": 65,
     "metadata": {},
     "output_type": "execute_result"
    }
   ],
   "source": [
    "carSalesData.shape "
   ]
  },
  {
   "cell_type": "code",
   "execution_count": 66,
   "id": "acb1202b",
   "metadata": {},
   "outputs": [
    {
     "data": {
      "text/html": [
       "<div>\n",
       "<style scoped>\n",
       "    .dataframe tbody tr th:only-of-type {\n",
       "        vertical-align: middle;\n",
       "    }\n",
       "\n",
       "    .dataframe tbody tr th {\n",
       "        vertical-align: top;\n",
       "    }\n",
       "\n",
       "    .dataframe thead th {\n",
       "        text-align: right;\n",
       "    }\n",
       "</style>\n",
       "<table border=\"1\" class=\"dataframe\">\n",
       "  <thead>\n",
       "    <tr style=\"text-align: right;\">\n",
       "      <th></th>\n",
       "      <th>Sales_ID</th>\n",
       "      <th>sold</th>\n",
       "    </tr>\n",
       "  </thead>\n",
       "  <tbody>\n",
       "    <tr>\n",
       "      <th>0</th>\n",
       "      <td>1</td>\n",
       "      <td>Y</td>\n",
       "    </tr>\n",
       "    <tr>\n",
       "      <th>1</th>\n",
       "      <td>2</td>\n",
       "      <td>Y</td>\n",
       "    </tr>\n",
       "    <tr>\n",
       "      <th>2</th>\n",
       "      <td>3</td>\n",
       "      <td>Y</td>\n",
       "    </tr>\n",
       "  </tbody>\n",
       "</table>\n",
       "</div>"
      ],
      "text/plain": [
       "   Sales_ID sold\n",
       "0         1    Y\n",
       "1         2    Y\n",
       "2         3    Y"
      ]
     },
     "execution_count": 66,
     "metadata": {},
     "output_type": "execute_result"
    }
   ],
   "source": [
    "salesStatus.head(3)"
   ]
  },
  {
   "cell_type": "code",
   "execution_count": 67,
   "id": "d680225b",
   "metadata": {},
   "outputs": [
    {
     "data": {
      "text/plain": [
       "(7906, 2)"
      ]
     },
     "execution_count": 67,
     "metadata": {},
     "output_type": "execute_result"
    }
   ],
   "source": [
    "salesStatus.shape"
   ]
  },
  {
   "cell_type": "code",
   "execution_count": 68,
   "id": "e70c0f08",
   "metadata": {},
   "outputs": [
    {
     "data": {
      "text/html": [
       "<div>\n",
       "<style scoped>\n",
       "    .dataframe tbody tr th:only-of-type {\n",
       "        vertical-align: middle;\n",
       "    }\n",
       "\n",
       "    .dataframe tbody tr th {\n",
       "        vertical-align: top;\n",
       "    }\n",
       "\n",
       "    .dataframe thead th {\n",
       "        text-align: right;\n",
       "    }\n",
       "</style>\n",
       "<table border=\"1\" class=\"dataframe\">\n",
       "  <thead>\n",
       "    <tr style=\"text-align: right;\">\n",
       "      <th></th>\n",
       "      <th>Region</th>\n",
       "      <th>State or Province</th>\n",
       "    </tr>\n",
       "  </thead>\n",
       "  <tbody>\n",
       "    <tr>\n",
       "      <th>0</th>\n",
       "      <td>Central</td>\n",
       "      <td>Illinois</td>\n",
       "    </tr>\n",
       "    <tr>\n",
       "      <th>1</th>\n",
       "      <td>Central</td>\n",
       "      <td>Indiana</td>\n",
       "    </tr>\n",
       "    <tr>\n",
       "      <th>2</th>\n",
       "      <td>Central</td>\n",
       "      <td>Iowa</td>\n",
       "    </tr>\n",
       "  </tbody>\n",
       "</table>\n",
       "</div>"
      ],
      "text/plain": [
       "    Region State or Province\n",
       "0  Central          Illinois\n",
       "1  Central           Indiana\n",
       "2  Central              Iowa"
      ]
     },
     "execution_count": 68,
     "metadata": {},
     "output_type": "execute_result"
    }
   ],
   "source": [
    "stateRegionMapping.head(3)"
   ]
  },
  {
   "cell_type": "code",
   "execution_count": 69,
   "id": "904c9d5a",
   "metadata": {},
   "outputs": [
    {
     "data": {
      "text/plain": [
       "(49, 2)"
      ]
     },
     "execution_count": 69,
     "metadata": {},
     "output_type": "execute_result"
    }
   ],
   "source": [
    "stateRegionMapping.shape"
   ]
  },
  {
   "cell_type": "markdown",
   "id": "75b18783",
   "metadata": {},
   "source": [
    "# Merging the three dataframes and saving it into a new csv file"
   ]
  },
  {
   "cell_type": "markdown",
   "id": "1411a330",
   "metadata": {},
   "source": [
    "Merging datasets CarSalesData and SalesStatus on attribute salesID and then mapping the regions using the stateRegionMapping data. After merging, the shape of the MergedCarSalesData will be (7906, 18). The brand attribute has been engineered into the merged dataset by extracting the first words from the names of the car."
   ]
  },
  {
   "cell_type": "code",
   "execution_count": 70,
   "id": "136a0543",
   "metadata": {
    "scrolled": true
   },
   "outputs": [
    {
     "data": {
      "text/html": [
       "<div>\n",
       "<style scoped>\n",
       "    .dataframe tbody tr th:only-of-type {\n",
       "        vertical-align: middle;\n",
       "    }\n",
       "\n",
       "    .dataframe tbody tr th {\n",
       "        vertical-align: top;\n",
       "    }\n",
       "\n",
       "    .dataframe thead th {\n",
       "        text-align: right;\n",
       "    }\n",
       "</style>\n",
       "<table border=\"1\" class=\"dataframe\">\n",
       "  <thead>\n",
       "    <tr style=\"text-align: right;\">\n",
       "      <th></th>\n",
       "      <th>Sales_ID</th>\n",
       "      <th>name</th>\n",
       "      <th>year</th>\n",
       "      <th>selling_price</th>\n",
       "      <th>km_driven</th>\n",
       "      <th>State or Province</th>\n",
       "      <th>City</th>\n",
       "      <th>fuel</th>\n",
       "      <th>seller_type</th>\n",
       "      <th>transmission</th>\n",
       "      <th>owner</th>\n",
       "      <th>mileage</th>\n",
       "      <th>engine</th>\n",
       "      <th>max_power</th>\n",
       "      <th>seats</th>\n",
       "      <th>sold</th>\n",
       "    </tr>\n",
       "  </thead>\n",
       "  <tbody>\n",
       "    <tr>\n",
       "      <th>0</th>\n",
       "      <td>1</td>\n",
       "      <td>Maruti Swift Dzire VDI</td>\n",
       "      <td>2014</td>\n",
       "      <td>450000</td>\n",
       "      <td>145500</td>\n",
       "      <td>District of Columbia</td>\n",
       "      <td>Washington</td>\n",
       "      <td>Diesel</td>\n",
       "      <td>Individual</td>\n",
       "      <td>Manual</td>\n",
       "      <td>First Owner</td>\n",
       "      <td>23.4 kmpl</td>\n",
       "      <td>1248 CC</td>\n",
       "      <td>74 bhp</td>\n",
       "      <td>5</td>\n",
       "      <td>Y</td>\n",
       "    </tr>\n",
       "    <tr>\n",
       "      <th>1</th>\n",
       "      <td>2</td>\n",
       "      <td>Skoda Rapid 1.5 TDI Ambition</td>\n",
       "      <td>2014</td>\n",
       "      <td>370000</td>\n",
       "      <td>120000</td>\n",
       "      <td>New York</td>\n",
       "      <td>New York City</td>\n",
       "      <td>Diesel</td>\n",
       "      <td>Individual</td>\n",
       "      <td>Manual</td>\n",
       "      <td>Second Owner</td>\n",
       "      <td>21.14 kmpl</td>\n",
       "      <td>1498 CC</td>\n",
       "      <td>103.52 bhp</td>\n",
       "      <td>5</td>\n",
       "      <td>Y</td>\n",
       "    </tr>\n",
       "    <tr>\n",
       "      <th>2</th>\n",
       "      <td>3</td>\n",
       "      <td>Honda City 2017-2020 EXi</td>\n",
       "      <td>2006</td>\n",
       "      <td>158000</td>\n",
       "      <td>140000</td>\n",
       "      <td>Illinois</td>\n",
       "      <td>Chicago</td>\n",
       "      <td>Petrol</td>\n",
       "      <td>Individual</td>\n",
       "      <td>Manual</td>\n",
       "      <td>Third Owner</td>\n",
       "      <td>17.7 kmpl</td>\n",
       "      <td>1497 CC</td>\n",
       "      <td>78 bhp</td>\n",
       "      <td>5</td>\n",
       "      <td>Y</td>\n",
       "    </tr>\n",
       "  </tbody>\n",
       "</table>\n",
       "</div>"
      ],
      "text/plain": [
       "   Sales_ID                          name  year  selling_price  km_driven  \\\n",
       "0         1        Maruti Swift Dzire VDI  2014         450000     145500   \n",
       "1         2  Skoda Rapid 1.5 TDI Ambition  2014         370000     120000   \n",
       "2         3      Honda City 2017-2020 EXi  2006         158000     140000   \n",
       "\n",
       "      State or Province           City    fuel seller_type transmission  \\\n",
       "0  District of Columbia     Washington  Diesel  Individual       Manual   \n",
       "1              New York  New York City  Diesel  Individual       Manual   \n",
       "2              Illinois        Chicago  Petrol  Individual       Manual   \n",
       "\n",
       "          owner     mileage   engine   max_power  seats sold  \n",
       "0   First Owner   23.4 kmpl  1248 CC      74 bhp      5    Y  \n",
       "1  Second Owner  21.14 kmpl  1498 CC  103.52 bhp      5    Y  \n",
       "2   Third Owner   17.7 kmpl  1497 CC      78 bhp      5    Y  "
      ]
     },
     "execution_count": 70,
     "metadata": {},
     "output_type": "execute_result"
    }
   ],
   "source": [
    "mergedCarSalesData = pd.merge(carSalesData,salesStatus,how='inner',on='Sales_ID')\n",
    "mergedCarSalesData.head(3)"
   ]
  },
  {
   "cell_type": "code",
   "execution_count": 71,
   "id": "b0c49052",
   "metadata": {},
   "outputs": [
    {
     "data": {
      "text/plain": [
       "{'Illinois': 'Central',\n",
       " 'Indiana': 'Central',\n",
       " 'Iowa': 'Central',\n",
       " 'Kansas': 'Central',\n",
       " 'Michigan': 'Central',\n",
       " 'Minnesota': 'Central',\n",
       " 'Missouri': 'Central',\n",
       " 'Nebraska': 'Central',\n",
       " 'North Dakota': 'Central',\n",
       " 'Oklahoma': 'Central',\n",
       " 'South Dakota': 'Central',\n",
       " 'Texas': 'Central',\n",
       " 'Wisconsin': 'Central',\n",
       " 'Connecticut': 'East',\n",
       " 'Delaware': 'East',\n",
       " 'District of Columbia': 'East',\n",
       " 'Maine': 'East',\n",
       " 'Maryland': 'East',\n",
       " 'Massachusetts': 'East',\n",
       " 'New Hampshire': 'East',\n",
       " 'New Jersey': 'East',\n",
       " 'New York': 'East',\n",
       " 'Ohio': 'East',\n",
       " 'Pennsylvania': 'East',\n",
       " 'Rhode Island': 'East',\n",
       " 'Vermont': 'East',\n",
       " 'West Virginia': 'East',\n",
       " 'Alabama': 'South',\n",
       " 'Arkansas': 'South',\n",
       " 'Florida': 'South',\n",
       " 'Georgia': 'South',\n",
       " 'Kentucky': 'South',\n",
       " 'Louisiana': 'South',\n",
       " 'Mississippi': 'South',\n",
       " 'North Carolina': 'South',\n",
       " 'South Carolina': 'South',\n",
       " 'Tennessee': 'South',\n",
       " 'Virginia': 'South',\n",
       " 'Arizona': 'West',\n",
       " 'California': 'West',\n",
       " 'Colorado': 'West',\n",
       " 'Idaho': 'West',\n",
       " 'Montana': 'West',\n",
       " 'Nevada': 'West',\n",
       " 'New Mexico': 'West',\n",
       " 'Oregon': 'West',\n",
       " 'Utah': 'West',\n",
       " 'Washington': 'West',\n",
       " 'Wyoming': 'West'}"
      ]
     },
     "execution_count": 71,
     "metadata": {},
     "output_type": "execute_result"
    }
   ],
   "source": [
    "keys = list(stateRegionMapping['State or Province'])\n",
    "values = list(stateRegionMapping['Region'])\n",
    "state_dict = {keys[i]: values[i] for i in range(len(keys))}\n",
    "state_dict"
   ]
  },
  {
   "cell_type": "code",
   "execution_count": 72,
   "id": "09fdd032",
   "metadata": {},
   "outputs": [],
   "source": [
    "mergedCarSalesData['region'] = mergedCarSalesData['State or Province'].map(state_dict)"
   ]
  },
  {
   "cell_type": "code",
   "execution_count": 73,
   "id": "558f4109",
   "metadata": {},
   "outputs": [
    {
     "data": {
      "text/html": [
       "<div>\n",
       "<style scoped>\n",
       "    .dataframe tbody tr th:only-of-type {\n",
       "        vertical-align: middle;\n",
       "    }\n",
       "\n",
       "    .dataframe tbody tr th {\n",
       "        vertical-align: top;\n",
       "    }\n",
       "\n",
       "    .dataframe thead th {\n",
       "        text-align: right;\n",
       "    }\n",
       "</style>\n",
       "<table border=\"1\" class=\"dataframe\">\n",
       "  <thead>\n",
       "    <tr style=\"text-align: right;\">\n",
       "      <th></th>\n",
       "      <th>Sales_ID</th>\n",
       "      <th>name</th>\n",
       "      <th>year</th>\n",
       "      <th>selling_price</th>\n",
       "      <th>km_driven</th>\n",
       "      <th>State or Province</th>\n",
       "      <th>City</th>\n",
       "      <th>fuel</th>\n",
       "      <th>seller_type</th>\n",
       "      <th>transmission</th>\n",
       "      <th>owner</th>\n",
       "      <th>mileage</th>\n",
       "      <th>engine</th>\n",
       "      <th>max_power</th>\n",
       "      <th>seats</th>\n",
       "      <th>sold</th>\n",
       "      <th>region</th>\n",
       "    </tr>\n",
       "  </thead>\n",
       "  <tbody>\n",
       "    <tr>\n",
       "      <th>0</th>\n",
       "      <td>1</td>\n",
       "      <td>Maruti Swift Dzire VDI</td>\n",
       "      <td>2014</td>\n",
       "      <td>450000</td>\n",
       "      <td>145500</td>\n",
       "      <td>District of Columbia</td>\n",
       "      <td>Washington</td>\n",
       "      <td>Diesel</td>\n",
       "      <td>Individual</td>\n",
       "      <td>Manual</td>\n",
       "      <td>First Owner</td>\n",
       "      <td>23.4 kmpl</td>\n",
       "      <td>1248 CC</td>\n",
       "      <td>74 bhp</td>\n",
       "      <td>5</td>\n",
       "      <td>Y</td>\n",
       "      <td>East</td>\n",
       "    </tr>\n",
       "    <tr>\n",
       "      <th>1</th>\n",
       "      <td>2</td>\n",
       "      <td>Skoda Rapid 1.5 TDI Ambition</td>\n",
       "      <td>2014</td>\n",
       "      <td>370000</td>\n",
       "      <td>120000</td>\n",
       "      <td>New York</td>\n",
       "      <td>New York City</td>\n",
       "      <td>Diesel</td>\n",
       "      <td>Individual</td>\n",
       "      <td>Manual</td>\n",
       "      <td>Second Owner</td>\n",
       "      <td>21.14 kmpl</td>\n",
       "      <td>1498 CC</td>\n",
       "      <td>103.52 bhp</td>\n",
       "      <td>5</td>\n",
       "      <td>Y</td>\n",
       "      <td>East</td>\n",
       "    </tr>\n",
       "    <tr>\n",
       "      <th>2</th>\n",
       "      <td>3</td>\n",
       "      <td>Honda City 2017-2020 EXi</td>\n",
       "      <td>2006</td>\n",
       "      <td>158000</td>\n",
       "      <td>140000</td>\n",
       "      <td>Illinois</td>\n",
       "      <td>Chicago</td>\n",
       "      <td>Petrol</td>\n",
       "      <td>Individual</td>\n",
       "      <td>Manual</td>\n",
       "      <td>Third Owner</td>\n",
       "      <td>17.7 kmpl</td>\n",
       "      <td>1497 CC</td>\n",
       "      <td>78 bhp</td>\n",
       "      <td>5</td>\n",
       "      <td>Y</td>\n",
       "      <td>Central</td>\n",
       "    </tr>\n",
       "  </tbody>\n",
       "</table>\n",
       "</div>"
      ],
      "text/plain": [
       "   Sales_ID                          name  year  selling_price  km_driven  \\\n",
       "0         1        Maruti Swift Dzire VDI  2014         450000     145500   \n",
       "1         2  Skoda Rapid 1.5 TDI Ambition  2014         370000     120000   \n",
       "2         3      Honda City 2017-2020 EXi  2006         158000     140000   \n",
       "\n",
       "      State or Province           City    fuel seller_type transmission  \\\n",
       "0  District of Columbia     Washington  Diesel  Individual       Manual   \n",
       "1              New York  New York City  Diesel  Individual       Manual   \n",
       "2              Illinois        Chicago  Petrol  Individual       Manual   \n",
       "\n",
       "          owner     mileage   engine   max_power  seats sold   region  \n",
       "0   First Owner   23.4 kmpl  1248 CC      74 bhp      5    Y     East  \n",
       "1  Second Owner  21.14 kmpl  1498 CC  103.52 bhp      5    Y     East  \n",
       "2   Third Owner   17.7 kmpl  1497 CC      78 bhp      5    Y  Central  "
      ]
     },
     "execution_count": 73,
     "metadata": {},
     "output_type": "execute_result"
    }
   ],
   "source": [
    "mergedCarSalesData.head(3)"
   ]
  },
  {
   "cell_type": "code",
   "execution_count": 74,
   "id": "ec349b59",
   "metadata": {},
   "outputs": [],
   "source": [
    "brand=[]\n",
    "for i in range(mergedCarSalesData.shape[0]):\n",
    "    brand.append(mergedCarSalesData['name'][i].split()[0])"
   ]
  },
  {
   "cell_type": "code",
   "execution_count": 75,
   "id": "fcf752a7",
   "metadata": {},
   "outputs": [
    {
     "data": {
      "text/plain": [
       "['Maruti',\n",
       " 'Skoda',\n",
       " 'Honda',\n",
       " 'Hyundai',\n",
       " 'Maruti',\n",
       " 'Hyundai',\n",
       " 'Maruti',\n",
       " 'Maruti',\n",
       " 'Toyota',\n",
       " 'Ford',\n",
       " 'Renault',\n",
       " 'Maruti',\n",
       " 'Maruti',\n",
       " 'Maruti',\n",
       " 'Mahindra',\n",
       " 'Maruti',\n",
       " 'Hyundai',\n",
       " 'Maruti',\n",
       " 'Hyundai',\n",
       " 'Mahindra',\n",
       " 'Honda',\n",
       " 'Maruti',\n",
       " 'Maruti',\n",
       " 'Tata',\n",
       " 'Maruti',\n",
       " 'Maruti',\n",
       " 'Chevrolet',\n",
       " 'Maruti',\n",
       " 'Maruti',\n",
       " 'Maruti',\n",
       " 'Maruti',\n",
       " 'Hyundai',\n",
       " 'Maruti',\n",
       " 'Maruti',\n",
       " 'Maruti',\n",
       " 'Hyundai',\n",
       " 'Datsun',\n",
       " 'Tata',\n",
       " 'Maruti',\n",
       " 'Jeep',\n",
       " 'Honda',\n",
       " 'Honda',\n",
       " 'Maruti',\n",
       " 'Maruti',\n",
       " 'Maruti',\n",
       " 'Toyota',\n",
       " 'Toyota',\n",
       " 'Mercedes-Benz',\n",
       " 'Honda',\n",
       " 'Mitsubishi',\n",
       " 'Honda',\n",
       " 'Maruti',\n",
       " 'Honda',\n",
       " 'Toyota',\n",
       " 'Toyota',\n",
       " 'Audi',\n",
       " 'Toyota',\n",
       " 'Audi',\n",
       " 'Mercedes-Benz',\n",
       " 'Tata',\n",
       " 'Hyundai',\n",
       " 'Hyundai',\n",
       " 'Maruti',\n",
       " 'Ford',\n",
       " 'Maruti',\n",
       " 'Volkswagen',\n",
       " 'Honda',\n",
       " 'Maruti',\n",
       " 'Volkswagen',\n",
       " 'Maruti',\n",
       " 'Maruti',\n",
       " 'Hyundai',\n",
       " 'Maruti',\n",
       " 'Toyota',\n",
       " 'Maruti',\n",
       " 'Maruti',\n",
       " 'Volkswagen',\n",
       " 'Toyota',\n",
       " 'Ford',\n",
       " 'BMW',\n",
       " 'Maruti',\n",
       " 'Datsun',\n",
       " 'Maruti',\n",
       " 'Maruti',\n",
       " 'Hyundai',\n",
       " 'Maruti',\n",
       " 'Maruti',\n",
       " 'Volkswagen',\n",
       " 'Hyundai',\n",
       " 'Volkswagen',\n",
       " 'Maruti',\n",
       " 'Hyundai',\n",
       " 'Maruti',\n",
       " 'Hyundai',\n",
       " 'Maruti',\n",
       " 'Hyundai',\n",
       " 'Maruti',\n",
       " 'Tata',\n",
       " 'Maruti',\n",
       " 'Maruti',\n",
       " 'Maruti',\n",
       " 'Mahindra',\n",
       " 'Ford',\n",
       " 'Hyundai',\n",
       " 'Volkswagen',\n",
       " 'Tata',\n",
       " 'Mahindra',\n",
       " 'Tata',\n",
       " 'Hyundai',\n",
       " 'Hyundai',\n",
       " 'Toyota',\n",
       " 'Maruti',\n",
       " 'Maruti',\n",
       " 'Maruti',\n",
       " 'Maruti',\n",
       " 'Nissan',\n",
       " 'Hyundai',\n",
       " 'Ford',\n",
       " 'Maruti',\n",
       " 'Renault',\n",
       " 'Maruti',\n",
       " 'Maruti',\n",
       " 'Maruti',\n",
       " 'Hyundai',\n",
       " 'Maruti',\n",
       " 'Honda',\n",
       " 'Audi',\n",
       " 'Lexus',\n",
       " 'Jaguar',\n",
       " 'Jeep',\n",
       " 'Land',\n",
       " 'Mercedes-Benz',\n",
       " 'BMW',\n",
       " 'BMW',\n",
       " 'Skoda',\n",
       " 'Mercedes-Benz',\n",
       " 'MG',\n",
       " 'Honda',\n",
       " 'Toyota',\n",
       " 'Volvo',\n",
       " 'Audi',\n",
       " 'Maruti',\n",
       " 'Mercedes-Benz',\n",
       " 'BMW',\n",
       " 'Hyundai',\n",
       " 'Jaguar',\n",
       " 'Tata',\n",
       " 'Volkswagen',\n",
       " 'Hyundai',\n",
       " 'Skoda',\n",
       " 'Mercedes-Benz',\n",
       " 'Maruti',\n",
       " 'Mercedes-Benz',\n",
       " 'Honda',\n",
       " 'Toyota',\n",
       " 'Maruti',\n",
       " 'Maruti',\n",
       " 'Toyota',\n",
       " 'Tata',\n",
       " 'BMW',\n",
       " 'Toyota',\n",
       " 'BMW',\n",
       " 'Toyota',\n",
       " 'Maruti',\n",
       " 'Volvo',\n",
       " 'Volkswagen',\n",
       " 'Ford',\n",
       " 'Ford',\n",
       " 'Maruti',\n",
       " 'Maruti',\n",
       " 'Hyundai',\n",
       " 'Maruti',\n",
       " 'Maruti',\n",
       " 'Hyundai',\n",
       " 'Volkswagen',\n",
       " 'Hyundai',\n",
       " 'Maruti',\n",
       " 'Hyundai',\n",
       " 'Honda',\n",
       " 'Toyota',\n",
       " 'Daewoo',\n",
       " 'Toyota',\n",
       " 'Mahindra',\n",
       " 'Tata',\n",
       " 'Honda',\n",
       " 'Maruti',\n",
       " 'Maruti',\n",
       " 'Hyundai',\n",
       " 'Maruti',\n",
       " 'Hyundai',\n",
       " 'Hyundai',\n",
       " 'Maruti',\n",
       " 'Tata',\n",
       " 'Maruti',\n",
       " 'Honda',\n",
       " 'Honda',\n",
       " 'Maruti',\n",
       " 'Maruti',\n",
       " 'Hyundai',\n",
       " 'Maruti',\n",
       " 'Maruti',\n",
       " 'Maruti',\n",
       " 'Maruti',\n",
       " 'Maruti',\n",
       " 'Tata',\n",
       " 'Hyundai',\n",
       " 'Maruti',\n",
       " 'Maruti',\n",
       " 'Toyota',\n",
       " 'Honda',\n",
       " 'Maruti',\n",
       " 'Tata',\n",
       " 'Maruti',\n",
       " 'Renault',\n",
       " 'Datsun',\n",
       " 'Maruti',\n",
       " 'Hyundai',\n",
       " 'Maruti',\n",
       " 'Hyundai',\n",
       " 'Tata',\n",
       " 'Nissan',\n",
       " 'Ford',\n",
       " 'Nissan',\n",
       " 'Maruti',\n",
       " 'Mahindra',\n",
       " 'Mahindra',\n",
       " 'Maruti',\n",
       " 'Hyundai',\n",
       " 'Renault',\n",
       " 'Maruti',\n",
       " 'Mahindra',\n",
       " 'Maruti',\n",
       " 'Hyundai',\n",
       " 'Hyundai',\n",
       " 'Mahindra',\n",
       " 'Toyota',\n",
       " 'Maruti',\n",
       " 'Honda',\n",
       " 'Hyundai',\n",
       " 'Maruti',\n",
       " 'Maruti',\n",
       " 'Hyundai',\n",
       " 'Hyundai',\n",
       " 'Maruti',\n",
       " 'Tata',\n",
       " 'Hyundai',\n",
       " 'Maruti',\n",
       " 'Tata',\n",
       " 'Mahindra',\n",
       " 'Hyundai',\n",
       " 'Maruti',\n",
       " 'Maruti',\n",
       " 'Honda',\n",
       " 'Maruti',\n",
       " 'Hyundai',\n",
       " 'Toyota',\n",
       " 'Tata',\n",
       " 'Nissan',\n",
       " 'Hyundai',\n",
       " 'Maruti',\n",
       " 'Toyota',\n",
       " 'Mahindra',\n",
       " 'Maruti',\n",
       " 'Maruti',\n",
       " 'Datsun',\n",
       " 'Hyundai',\n",
       " 'Mahindra',\n",
       " 'Tata',\n",
       " 'Tata',\n",
       " 'Tata',\n",
       " 'Hyundai',\n",
       " 'Honda',\n",
       " 'Hyundai',\n",
       " 'Tata',\n",
       " 'Maruti',\n",
       " 'Tata',\n",
       " 'Mahindra',\n",
       " 'Mahindra',\n",
       " 'Mercedes-Benz',\n",
       " 'Maruti',\n",
       " 'Hyundai',\n",
       " 'Hyundai',\n",
       " 'Hyundai',\n",
       " 'Maruti',\n",
       " 'Hyundai',\n",
       " 'Maruti',\n",
       " 'Maruti',\n",
       " 'Mahindra',\n",
       " 'Hyundai',\n",
       " 'Hyundai',\n",
       " 'Maruti',\n",
       " 'Hyundai',\n",
       " 'Maruti',\n",
       " 'Maruti',\n",
       " 'Maruti',\n",
       " 'Hyundai',\n",
       " 'Maruti',\n",
       " 'Chevrolet',\n",
       " 'Tata',\n",
       " 'Maruti',\n",
       " 'Honda',\n",
       " 'Honda',\n",
       " 'Maruti',\n",
       " 'Nissan',\n",
       " 'Honda',\n",
       " 'Renault',\n",
       " 'Toyota',\n",
       " 'Maruti',\n",
       " 'Hyundai',\n",
       " 'Tata',\n",
       " 'Hyundai',\n",
       " 'Maruti',\n",
       " 'Maruti',\n",
       " 'Maruti',\n",
       " 'Maruti',\n",
       " 'Hyundai',\n",
       " 'Maruti',\n",
       " 'Maruti',\n",
       " 'Toyota',\n",
       " 'Maruti',\n",
       " 'Nissan',\n",
       " 'Maruti',\n",
       " 'Hyundai',\n",
       " 'Maruti',\n",
       " 'Maruti',\n",
       " 'Maruti',\n",
       " 'Maruti',\n",
       " 'Maruti',\n",
       " 'Maruti',\n",
       " 'Nissan',\n",
       " 'Maruti',\n",
       " 'Ford',\n",
       " 'Mahindra',\n",
       " 'Hyundai',\n",
       " 'Maruti',\n",
       " 'Datsun',\n",
       " 'Hyundai',\n",
       " 'Toyota',\n",
       " 'Renault',\n",
       " 'Honda',\n",
       " 'Volkswagen',\n",
       " 'Nissan',\n",
       " 'Toyota',\n",
       " 'Hyundai',\n",
       " 'Renault',\n",
       " 'Mahindra',\n",
       " 'Toyota',\n",
       " 'Tata',\n",
       " 'Hyundai',\n",
       " 'Mercedes-Benz',\n",
       " 'Tata',\n",
       " 'Nissan',\n",
       " 'Maruti',\n",
       " 'Maruti',\n",
       " 'Hyundai',\n",
       " 'Renault',\n",
       " 'Volkswagen',\n",
       " 'Jaguar',\n",
       " 'Lexus',\n",
       " 'Jaguar',\n",
       " 'Tata',\n",
       " 'Volvo',\n",
       " 'Toyota',\n",
       " 'Maruti',\n",
       " 'Maruti',\n",
       " 'Honda',\n",
       " 'Toyota',\n",
       " 'Maruti',\n",
       " 'Toyota',\n",
       " 'Maruti',\n",
       " 'Hyundai',\n",
       " 'BMW',\n",
       " 'BMW',\n",
       " 'Honda',\n",
       " 'Skoda',\n",
       " 'Volvo',\n",
       " 'Hyundai',\n",
       " 'Honda',\n",
       " 'Maruti',\n",
       " 'Hyundai',\n",
       " 'Toyota',\n",
       " 'Maruti',\n",
       " 'Hyundai',\n",
       " 'Hyundai',\n",
       " 'Maruti',\n",
       " 'Honda',\n",
       " 'Maruti',\n",
       " 'Tata',\n",
       " 'Maruti',\n",
       " 'Maruti',\n",
       " 'Mahindra',\n",
       " 'Maruti',\n",
       " 'Hyundai',\n",
       " 'Tata',\n",
       " 'Maruti',\n",
       " 'Jaguar',\n",
       " 'Lexus',\n",
       " 'Jaguar',\n",
       " 'Tata',\n",
       " 'Volvo',\n",
       " 'Toyota',\n",
       " 'Maruti',\n",
       " 'Maruti',\n",
       " 'Honda',\n",
       " 'Toyota',\n",
       " 'Maruti',\n",
       " 'Toyota',\n",
       " 'Maruti',\n",
       " 'Hyundai',\n",
       " 'BMW',\n",
       " 'BMW',\n",
       " 'Honda',\n",
       " 'Skoda',\n",
       " 'Volvo',\n",
       " 'Honda',\n",
       " 'Hyundai',\n",
       " 'Maruti',\n",
       " 'Hyundai',\n",
       " 'Toyota',\n",
       " 'Toyota',\n",
       " 'Maruti',\n",
       " 'Toyota',\n",
       " 'Nissan',\n",
       " 'Maruti',\n",
       " 'Maruti',\n",
       " 'Volkswagen',\n",
       " 'Mahindra',\n",
       " 'Maruti',\n",
       " 'Maruti',\n",
       " 'Hyundai',\n",
       " 'Maruti',\n",
       " 'Maruti',\n",
       " 'Ford',\n",
       " 'Tata',\n",
       " 'Ford',\n",
       " 'Maruti',\n",
       " 'Hyundai',\n",
       " 'Maruti',\n",
       " 'Tata',\n",
       " 'Ford',\n",
       " 'Hyundai',\n",
       " 'Hyundai',\n",
       " 'Honda',\n",
       " 'Mahindra',\n",
       " 'Nissan',\n",
       " 'Maruti',\n",
       " 'Datsun',\n",
       " 'Toyota',\n",
       " 'Hyundai',\n",
       " 'Toyota',\n",
       " 'Maruti',\n",
       " 'Renault',\n",
       " 'Chevrolet',\n",
       " 'Maruti',\n",
       " 'Toyota',\n",
       " 'Maruti',\n",
       " 'Toyota',\n",
       " 'Chevrolet',\n",
       " 'Tata',\n",
       " 'Nissan',\n",
       " 'Hyundai',\n",
       " 'Mahindra',\n",
       " 'Maruti',\n",
       " 'Ford',\n",
       " 'Tata',\n",
       " 'Hyundai',\n",
       " 'Maruti',\n",
       " 'Maruti',\n",
       " 'Hyundai',\n",
       " 'Maruti',\n",
       " 'Maruti',\n",
       " 'Hyundai',\n",
       " 'Maruti',\n",
       " 'Mahindra',\n",
       " 'Kia',\n",
       " 'Hyundai',\n",
       " 'Honda',\n",
       " 'Maruti',\n",
       " 'Maruti',\n",
       " 'Maruti',\n",
       " 'Volkswagen',\n",
       " 'Chevrolet',\n",
       " 'Toyota',\n",
       " 'Hyundai',\n",
       " 'Maruti',\n",
       " 'Honda',\n",
       " 'Maruti',\n",
       " 'Maruti',\n",
       " 'Maruti',\n",
       " 'Chevrolet',\n",
       " 'Tata',\n",
       " 'Chevrolet',\n",
       " 'Tata',\n",
       " 'Ford',\n",
       " 'Tata',\n",
       " 'Maruti',\n",
       " 'Maruti',\n",
       " 'Datsun',\n",
       " 'Maruti',\n",
       " 'Maruti',\n",
       " 'Tata',\n",
       " 'Mahindra',\n",
       " 'Hyundai',\n",
       " 'Hyundai',\n",
       " 'Maruti',\n",
       " 'Maruti',\n",
       " 'Maruti',\n",
       " 'Chevrolet',\n",
       " 'Tata',\n",
       " 'Chevrolet',\n",
       " 'Maruti',\n",
       " 'Jeep',\n",
       " 'Honda',\n",
       " 'Volkswagen',\n",
       " 'Maruti',\n",
       " 'Hyundai',\n",
       " 'Tata',\n",
       " 'Maruti',\n",
       " 'Hyundai',\n",
       " 'Hyundai',\n",
       " 'Hyundai',\n",
       " 'Maruti',\n",
       " 'Chevrolet',\n",
       " 'Tata',\n",
       " 'Ford',\n",
       " 'Maruti',\n",
       " 'Toyota',\n",
       " 'Mahindra',\n",
       " 'Maruti',\n",
       " 'Maruti',\n",
       " 'Maruti',\n",
       " 'Tata',\n",
       " 'Maruti',\n",
       " 'Toyota',\n",
       " 'Hyundai',\n",
       " 'Maruti',\n",
       " 'Hyundai',\n",
       " 'Hyundai',\n",
       " 'Honda',\n",
       " 'Honda',\n",
       " 'Hyundai',\n",
       " 'Nissan',\n",
       " 'Ford',\n",
       " 'Hyundai',\n",
       " 'Datsun',\n",
       " 'Ford',\n",
       " 'Hyundai',\n",
       " 'Ford',\n",
       " 'Nissan',\n",
       " 'Hyundai',\n",
       " 'Maruti',\n",
       " 'Hyundai',\n",
       " 'Jeep',\n",
       " 'Maruti',\n",
       " 'Tata',\n",
       " 'Maruti',\n",
       " 'Skoda',\n",
       " 'Hyundai',\n",
       " 'Mahindra',\n",
       " 'Renault',\n",
       " 'Mahindra',\n",
       " 'Maruti',\n",
       " 'Ford',\n",
       " 'Hyundai',\n",
       " 'Maruti',\n",
       " 'Mahindra',\n",
       " 'Maruti',\n",
       " 'Hyundai',\n",
       " 'Toyota',\n",
       " 'Mitsubishi',\n",
       " 'Chevrolet',\n",
       " 'Volkswagen',\n",
       " 'Toyota',\n",
       " 'Hyundai',\n",
       " 'Renault',\n",
       " 'Maruti',\n",
       " 'Toyota',\n",
       " 'Maruti',\n",
       " 'Hyundai',\n",
       " 'Honda',\n",
       " 'Maruti',\n",
       " 'Toyota',\n",
       " 'Ford',\n",
       " 'Hyundai',\n",
       " 'Tata',\n",
       " 'Tata',\n",
       " 'Tata',\n",
       " 'Hyundai',\n",
       " 'Tata',\n",
       " 'Renault',\n",
       " 'Mahindra',\n",
       " 'Mahindra',\n",
       " 'Maruti',\n",
       " 'Maruti',\n",
       " 'Maruti',\n",
       " 'Tata',\n",
       " 'Ford',\n",
       " 'Maruti',\n",
       " 'Maruti',\n",
       " 'Hyundai',\n",
       " 'Tata',\n",
       " 'Maruti',\n",
       " 'Maruti',\n",
       " 'Tata',\n",
       " 'Maruti',\n",
       " 'Hyundai',\n",
       " 'Renault',\n",
       " 'Maruti',\n",
       " 'Mahindra',\n",
       " 'Honda',\n",
       " 'Maruti',\n",
       " 'Maruti',\n",
       " 'Hyundai',\n",
       " 'Mahindra',\n",
       " 'Maruti',\n",
       " 'Hyundai',\n",
       " 'Ford',\n",
       " 'Maruti',\n",
       " 'Mahindra',\n",
       " 'Hyundai',\n",
       " 'Tata',\n",
       " 'Mahindra',\n",
       " 'Mahindra',\n",
       " 'Mahindra',\n",
       " 'Maruti',\n",
       " 'Tata',\n",
       " 'Maruti',\n",
       " 'Jaguar',\n",
       " 'Lexus',\n",
       " 'Jaguar',\n",
       " 'Tata',\n",
       " 'Volvo',\n",
       " 'Toyota',\n",
       " 'Maruti',\n",
       " 'Maruti',\n",
       " 'Honda',\n",
       " 'Toyota',\n",
       " 'Maruti',\n",
       " 'Toyota',\n",
       " 'Maruti',\n",
       " 'Hyundai',\n",
       " 'BMW',\n",
       " 'BMW',\n",
       " 'Honda',\n",
       " 'Skoda',\n",
       " 'Volvo',\n",
       " 'Mahindra',\n",
       " 'Maruti',\n",
       " 'Hyundai',\n",
       " 'Mahindra',\n",
       " 'Fiat',\n",
       " 'Maruti',\n",
       " 'Hyundai',\n",
       " 'Maruti',\n",
       " 'Mahindra',\n",
       " 'Tata',\n",
       " 'Hyundai',\n",
       " 'Mahindra',\n",
       " 'Maruti',\n",
       " 'Maruti',\n",
       " 'Ford',\n",
       " 'Toyota',\n",
       " 'Mercedes-Benz',\n",
       " 'Toyota',\n",
       " 'Mahindra',\n",
       " 'Volkswagen',\n",
       " 'Ford',\n",
       " 'Mahindra',\n",
       " 'Hyundai',\n",
       " 'Hyundai',\n",
       " 'Nissan',\n",
       " 'Hyundai',\n",
       " 'Maruti',\n",
       " 'Hyundai',\n",
       " 'Mahindra',\n",
       " 'Maruti',\n",
       " 'Tata',\n",
       " 'Mahindra',\n",
       " 'Maruti',\n",
       " 'Maruti',\n",
       " 'Renault',\n",
       " 'Mahindra',\n",
       " 'Maruti',\n",
       " 'Mahindra',\n",
       " 'Mahindra',\n",
       " 'Hyundai',\n",
       " 'Maruti',\n",
       " 'Maruti',\n",
       " 'Hyundai',\n",
       " 'Tata',\n",
       " 'Mahindra',\n",
       " 'Chevrolet',\n",
       " 'Hyundai',\n",
       " 'Hyundai',\n",
       " 'Mahindra',\n",
       " 'Mahindra',\n",
       " 'Honda',\n",
       " 'Datsun',\n",
       " 'Mahindra',\n",
       " 'Hyundai',\n",
       " 'Maruti',\n",
       " 'Hyundai',\n",
       " 'Mahindra',\n",
       " 'Tata',\n",
       " 'Mahindra',\n",
       " 'Mahindra',\n",
       " 'Mahindra',\n",
       " 'Nissan',\n",
       " 'Tata',\n",
       " 'Hyundai',\n",
       " 'Hyundai',\n",
       " 'Ford',\n",
       " 'Skoda',\n",
       " 'Mahindra',\n",
       " 'Mahindra',\n",
       " 'Toyota',\n",
       " 'Hyundai',\n",
       " 'Renault',\n",
       " 'Volkswagen',\n",
       " 'Chevrolet',\n",
       " 'Maruti',\n",
       " 'Mahindra',\n",
       " 'Tata',\n",
       " 'Hyundai',\n",
       " 'Tata',\n",
       " 'Maruti',\n",
       " 'Maruti',\n",
       " 'Mahindra',\n",
       " 'Toyota',\n",
       " 'Tata',\n",
       " 'Ford',\n",
       " 'Mahindra',\n",
       " 'Hyundai',\n",
       " 'Hyundai',\n",
       " 'Maruti',\n",
       " 'Tata',\n",
       " 'Maruti',\n",
       " 'Volkswagen',\n",
       " 'Hyundai',\n",
       " 'Mahindra',\n",
       " 'Mahindra',\n",
       " 'Fiat',\n",
       " 'Hyundai',\n",
       " 'Maruti',\n",
       " 'Hyundai',\n",
       " 'Mahindra',\n",
       " 'Honda',\n",
       " 'Mahindra',\n",
       " 'Maruti',\n",
       " 'Mahindra',\n",
       " 'Tata',\n",
       " 'Ford',\n",
       " 'Hyundai',\n",
       " 'Ford',\n",
       " 'Mahindra',\n",
       " 'Chevrolet',\n",
       " 'Mahindra',\n",
       " 'Mahindra',\n",
       " 'Hyundai',\n",
       " 'Datsun',\n",
       " 'Mahindra',\n",
       " 'Maruti',\n",
       " 'Tata',\n",
       " 'Ford',\n",
       " 'Maruti',\n",
       " 'Honda',\n",
       " 'Mahindra',\n",
       " 'Maruti',\n",
       " 'Chevrolet',\n",
       " 'Maruti',\n",
       " 'Datsun',\n",
       " 'Maruti',\n",
       " 'Renault',\n",
       " 'Chevrolet',\n",
       " 'Maruti',\n",
       " 'Maruti',\n",
       " 'Hyundai',\n",
       " 'Renault',\n",
       " 'Honda',\n",
       " 'Tata',\n",
       " 'Maruti',\n",
       " 'Maruti',\n",
       " 'Honda',\n",
       " 'Maruti',\n",
       " 'Tata',\n",
       " 'Maruti',\n",
       " 'Hyundai',\n",
       " 'Maruti',\n",
       " 'Tata',\n",
       " 'Mahindra',\n",
       " 'Maruti',\n",
       " 'Maruti',\n",
       " 'Honda',\n",
       " 'Toyota',\n",
       " 'Hyundai',\n",
       " 'Maruti',\n",
       " 'Maruti',\n",
       " 'Hyundai',\n",
       " 'Maruti',\n",
       " 'Hyundai',\n",
       " 'Maruti',\n",
       " 'Hyundai',\n",
       " 'Mahindra',\n",
       " 'Maruti',\n",
       " 'Hyundai',\n",
       " 'Maruti',\n",
       " 'Maruti',\n",
       " 'Ford',\n",
       " 'Mahindra',\n",
       " 'Maruti',\n",
       " 'Maruti',\n",
       " 'Tata',\n",
       " 'Maruti',\n",
       " 'Tata',\n",
       " 'Maruti',\n",
       " 'Tata',\n",
       " 'Hyundai',\n",
       " 'Hyundai',\n",
       " 'Ford',\n",
       " 'Mahindra',\n",
       " 'Hyundai',\n",
       " 'Maruti',\n",
       " 'Tata',\n",
       " 'Maruti',\n",
       " 'Mahindra',\n",
       " 'Hyundai',\n",
       " 'Hyundai',\n",
       " 'Maruti',\n",
       " 'Maruti',\n",
       " 'Tata',\n",
       " 'Renault',\n",
       " 'Chevrolet',\n",
       " 'Maruti',\n",
       " 'Hyundai',\n",
       " 'Renault',\n",
       " 'Hyundai',\n",
       " 'Tata',\n",
       " 'Maruti',\n",
       " 'Maruti',\n",
       " 'Renault',\n",
       " 'Hyundai',\n",
       " 'Maruti',\n",
       " 'Maruti',\n",
       " 'Toyota',\n",
       " 'Hyundai',\n",
       " 'Hyundai',\n",
       " 'Tata',\n",
       " 'Mahindra',\n",
       " 'Tata',\n",
       " 'Mahindra',\n",
       " 'Tata',\n",
       " 'Ford',\n",
       " 'Maruti',\n",
       " 'Renault',\n",
       " 'Chevrolet',\n",
       " 'Mahindra',\n",
       " 'Renault',\n",
       " 'Chevrolet',\n",
       " 'Mahindra',\n",
       " 'Tata',\n",
       " 'Hyundai',\n",
       " 'Ford',\n",
       " 'Mahindra',\n",
       " 'Mahindra',\n",
       " 'Skoda',\n",
       " 'Ford',\n",
       " 'Mahindra',\n",
       " 'Tata',\n",
       " 'Honda',\n",
       " 'Honda',\n",
       " 'Hyundai',\n",
       " 'Maruti',\n",
       " 'Hyundai',\n",
       " 'Maruti',\n",
       " 'Ford',\n",
       " 'Toyota',\n",
       " 'Toyota',\n",
       " 'Hyundai',\n",
       " 'Audi',\n",
       " 'Toyota',\n",
       " 'Hyundai',\n",
       " 'Hyundai',\n",
       " 'Hyundai',\n",
       " 'Tata',\n",
       " 'Tata',\n",
       " 'Hyundai',\n",
       " 'Hyundai',\n",
       " 'Maruti',\n",
       " 'Datsun',\n",
       " 'Maruti',\n",
       " 'Mahindra',\n",
       " 'Hyundai',\n",
       " 'Maruti',\n",
       " 'Renault',\n",
       " 'Maruti',\n",
       " 'Hyundai',\n",
       " 'Mahindra',\n",
       " 'Mahindra',\n",
       " 'Toyota',\n",
       " 'Tata',\n",
       " 'Honda',\n",
       " 'Hyundai',\n",
       " 'Maruti',\n",
       " 'Maruti',\n",
       " 'Maruti',\n",
       " 'Chevrolet',\n",
       " 'Hyundai',\n",
       " 'Maruti',\n",
       " 'Maruti',\n",
       " 'Tata',\n",
       " 'Maruti',\n",
       " 'Hyundai',\n",
       " 'Hyundai',\n",
       " 'Tata',\n",
       " 'Maruti',\n",
       " 'Maruti',\n",
       " 'Hyundai',\n",
       " 'Maruti',\n",
       " 'Maruti',\n",
       " 'Chevrolet',\n",
       " 'Tata',\n",
       " 'Ford',\n",
       " 'Hyundai',\n",
       " 'Maruti',\n",
       " 'Maruti',\n",
       " 'Renault',\n",
       " 'Renault',\n",
       " 'Maruti',\n",
       " 'Maruti',\n",
       " 'Maruti',\n",
       " 'Maruti',\n",
       " 'Mahindra',\n",
       " 'Toyota',\n",
       " 'Hyundai',\n",
       " 'Mahindra',\n",
       " 'Toyota',\n",
       " 'Toyota',\n",
       " 'Maruti',\n",
       " 'Maruti',\n",
       " 'Maruti',\n",
       " 'Volkswagen',\n",
       " 'Maruti',\n",
       " 'Toyota',\n",
       " 'Mahindra',\n",
       " 'Honda',\n",
       " 'Hyundai',\n",
       " 'Chevrolet',\n",
       " 'Hyundai',\n",
       " 'Maruti',\n",
       " 'Hyundai',\n",
       " 'Hyundai',\n",
       " 'Volkswagen',\n",
       " 'Tata',\n",
       " 'Maruti',\n",
       " 'Maruti',\n",
       " 'Tata',\n",
       " 'Hyundai',\n",
       " 'Mahindra',\n",
       " 'Chevrolet',\n",
       " 'Maruti',\n",
       " 'Hyundai',\n",
       " 'Chevrolet',\n",
       " 'Maruti',\n",
       " 'Mahindra',\n",
       " 'Tata',\n",
       " 'Mahindra',\n",
       " 'Maruti',\n",
       " 'Tata',\n",
       " 'Tata',\n",
       " 'Maruti',\n",
       " 'Maruti',\n",
       " 'Renault',\n",
       " 'Mahindra',\n",
       " 'Maruti',\n",
       " 'Hyundai',\n",
       " 'Hyundai',\n",
       " 'Toyota',\n",
       " 'Tata',\n",
       " 'Toyota',\n",
       " 'Ford',\n",
       " 'Ford',\n",
       " 'Ford',\n",
       " 'Ford',\n",
       " 'Ford',\n",
       " 'Ford',\n",
       " 'Mahindra',\n",
       " 'Ford',\n",
       " 'Hyundai',\n",
       " 'Tata',\n",
       " 'Mahindra',\n",
       " 'Tata',\n",
       " 'Honda',\n",
       " 'Maruti',\n",
       " 'Ford',\n",
       " 'Tata',\n",
       " 'Maruti',\n",
       " 'Maruti',\n",
       " 'Chevrolet',\n",
       " 'Hyundai',\n",
       " 'Hyundai',\n",
       " ...]"
      ]
     },
     "execution_count": 75,
     "metadata": {},
     "output_type": "execute_result"
    }
   ],
   "source": [
    "brand"
   ]
  },
  {
   "cell_type": "code",
   "execution_count": 76,
   "id": "1176a307",
   "metadata": {},
   "outputs": [],
   "source": [
    "mergedCarSalesData['brand']=brand"
   ]
  },
  {
   "cell_type": "code",
   "execution_count": 77,
   "id": "e94bb0ce",
   "metadata": {},
   "outputs": [
    {
     "data": {
      "text/html": [
       "<div>\n",
       "<style scoped>\n",
       "    .dataframe tbody tr th:only-of-type {\n",
       "        vertical-align: middle;\n",
       "    }\n",
       "\n",
       "    .dataframe tbody tr th {\n",
       "        vertical-align: top;\n",
       "    }\n",
       "\n",
       "    .dataframe thead th {\n",
       "        text-align: right;\n",
       "    }\n",
       "</style>\n",
       "<table border=\"1\" class=\"dataframe\">\n",
       "  <thead>\n",
       "    <tr style=\"text-align: right;\">\n",
       "      <th></th>\n",
       "      <th>Sales_ID</th>\n",
       "      <th>name</th>\n",
       "      <th>year</th>\n",
       "      <th>selling_price</th>\n",
       "      <th>km_driven</th>\n",
       "      <th>State or Province</th>\n",
       "      <th>City</th>\n",
       "      <th>fuel</th>\n",
       "      <th>seller_type</th>\n",
       "      <th>transmission</th>\n",
       "      <th>owner</th>\n",
       "      <th>mileage</th>\n",
       "      <th>engine</th>\n",
       "      <th>max_power</th>\n",
       "      <th>seats</th>\n",
       "      <th>sold</th>\n",
       "      <th>region</th>\n",
       "      <th>brand</th>\n",
       "    </tr>\n",
       "  </thead>\n",
       "  <tbody>\n",
       "    <tr>\n",
       "      <th>0</th>\n",
       "      <td>1</td>\n",
       "      <td>Maruti Swift Dzire VDI</td>\n",
       "      <td>2014</td>\n",
       "      <td>450000</td>\n",
       "      <td>145500</td>\n",
       "      <td>District of Columbia</td>\n",
       "      <td>Washington</td>\n",
       "      <td>Diesel</td>\n",
       "      <td>Individual</td>\n",
       "      <td>Manual</td>\n",
       "      <td>First Owner</td>\n",
       "      <td>23.4 kmpl</td>\n",
       "      <td>1248 CC</td>\n",
       "      <td>74 bhp</td>\n",
       "      <td>5</td>\n",
       "      <td>Y</td>\n",
       "      <td>East</td>\n",
       "      <td>Maruti</td>\n",
       "    </tr>\n",
       "    <tr>\n",
       "      <th>1</th>\n",
       "      <td>2</td>\n",
       "      <td>Skoda Rapid 1.5 TDI Ambition</td>\n",
       "      <td>2014</td>\n",
       "      <td>370000</td>\n",
       "      <td>120000</td>\n",
       "      <td>New York</td>\n",
       "      <td>New York City</td>\n",
       "      <td>Diesel</td>\n",
       "      <td>Individual</td>\n",
       "      <td>Manual</td>\n",
       "      <td>Second Owner</td>\n",
       "      <td>21.14 kmpl</td>\n",
       "      <td>1498 CC</td>\n",
       "      <td>103.52 bhp</td>\n",
       "      <td>5</td>\n",
       "      <td>Y</td>\n",
       "      <td>East</td>\n",
       "      <td>Skoda</td>\n",
       "    </tr>\n",
       "  </tbody>\n",
       "</table>\n",
       "</div>"
      ],
      "text/plain": [
       "   Sales_ID                          name  year  selling_price  km_driven  \\\n",
       "0         1        Maruti Swift Dzire VDI  2014         450000     145500   \n",
       "1         2  Skoda Rapid 1.5 TDI Ambition  2014         370000     120000   \n",
       "\n",
       "      State or Province           City    fuel seller_type transmission  \\\n",
       "0  District of Columbia     Washington  Diesel  Individual       Manual   \n",
       "1              New York  New York City  Diesel  Individual       Manual   \n",
       "\n",
       "          owner     mileage   engine   max_power  seats sold region   brand  \n",
       "0   First Owner   23.4 kmpl  1248 CC      74 bhp      5    Y   East  Maruti  \n",
       "1  Second Owner  21.14 kmpl  1498 CC  103.52 bhp      5    Y   East   Skoda  "
      ]
     },
     "execution_count": 77,
     "metadata": {},
     "output_type": "execute_result"
    }
   ],
   "source": [
    "mergedCarSalesData.head(2)"
   ]
  },
  {
   "cell_type": "code",
   "execution_count": 78,
   "id": "087fca0d",
   "metadata": {},
   "outputs": [
    {
     "data": {
      "text/plain": [
       "(7906, 18)"
      ]
     },
     "execution_count": 78,
     "metadata": {},
     "output_type": "execute_result"
    }
   ],
   "source": [
    "mergedCarSalesData.shape"
   ]
  },
  {
   "cell_type": "code",
   "execution_count": 79,
   "id": "2fed88e2",
   "metadata": {},
   "outputs": [],
   "source": [
    "mergedCarSalesData.to_csv('mergedCarSales.csv')"
   ]
  },
  {
   "cell_type": "code",
   "execution_count": 80,
   "id": "01f499fd",
   "metadata": {},
   "outputs": [
    {
     "data": {
      "text/plain": [
       "0     23.4 kmpl\n",
       "1    21.14 kmpl\n",
       "2     17.7 kmpl\n",
       "3     23.0 kmpl\n",
       "4     16.1 kmpl\n",
       "Name: mileage, dtype: object"
      ]
     },
     "execution_count": 80,
     "metadata": {},
     "output_type": "execute_result"
    }
   ],
   "source": [
    "mergedCarSalesData['mileage'].head()"
   ]
  },
  {
   "cell_type": "code",
   "execution_count": 81,
   "id": "8dcf976d",
   "metadata": {},
   "outputs": [
    {
     "name": "stderr",
     "output_type": "stream",
     "text": [
      "<ipython-input-81-8987e95fb8c3>:2: SettingWithCopyWarning: \n",
      "A value is trying to be set on a copy of a slice from a DataFrame\n",
      "\n",
      "See the caveats in the documentation: https://pandas.pydata.org/pandas-docs/stable/user_guide/indexing.html#returning-a-view-versus-a-copy\n",
      "  mergedCarSalesData['mileage'][i] = mergedCarSalesData['mileage'][i].split()[0]\n",
      "<ipython-input-81-8987e95fb8c3>:3: SettingWithCopyWarning: \n",
      "A value is trying to be set on a copy of a slice from a DataFrame\n",
      "\n",
      "See the caveats in the documentation: https://pandas.pydata.org/pandas-docs/stable/user_guide/indexing.html#returning-a-view-versus-a-copy\n",
      "  mergedCarSalesData['engine'][i] = mergedCarSalesData['engine'][i].split()[0]\n",
      "<ipython-input-81-8987e95fb8c3>:4: SettingWithCopyWarning: \n",
      "A value is trying to be set on a copy of a slice from a DataFrame\n",
      "\n",
      "See the caveats in the documentation: https://pandas.pydata.org/pandas-docs/stable/user_guide/indexing.html#returning-a-view-versus-a-copy\n",
      "  mergedCarSalesData['max_power'][i] = mergedCarSalesData['max_power'][i].split()[0]\n"
     ]
    }
   ],
   "source": [
    "for i in range(len(mergedCarSalesData)):\n",
    "    mergedCarSalesData['mileage'][i] = mergedCarSalesData['mileage'][i].split()[0]\n",
    "    mergedCarSalesData['engine'][i] = mergedCarSalesData['engine'][i].split()[0]\n",
    "    mergedCarSalesData['max_power'][i] = mergedCarSalesData['max_power'][i].split()[0]\n"
   ]
  },
  {
   "cell_type": "code",
   "execution_count": 82,
   "id": "285f61db",
   "metadata": {},
   "outputs": [],
   "source": [
    "mergedCarSalesData.engine = mergedCarSalesData.engine.astype('int64')\n",
    "mergedCarSalesData.max_power = mergedCarSalesData.max_power.astype('float')\n",
    "mergedCarSalesData.mileage = mergedCarSalesData.mileage.astype('float')"
   ]
  },
  {
   "cell_type": "markdown",
   "id": "fa4964c5",
   "metadata": {},
   "source": [
    "#### Assigning dummy values to strings"
   ]
  },
  {
   "cell_type": "code",
   "execution_count": 83,
   "id": "1416eb69",
   "metadata": {},
   "outputs": [],
   "source": [
    "province_dict = {'District of Columbia': 1, 'New York' :2 , 'Illinois': 3, 'California' : 4,'Texas':5, 'Massachusetts':6, \n",
    "              'Washington':7, 'Georgia':8,'North Carolina':9, 'Florida':10, 'Pennsylvania':11, 'Michigan':12, 'Iowa':13,\n",
    "              'Oregon':14, 'New Mexico':15, 'Maryland':16, 'Montana':17, 'Arkansas':18,'Arizona':19, 'Maine':20, \n",
    "              'Vermont':21, 'New Jersey':22, 'Connecticut':23,'Oklahoma':24, 'Tennessee':25, 'Alabama':26, 'Wisconsin':27,\n",
    "              'South Carolina':28,'New Hampshire':29, 'Idaho':30, 'Minnesota':31, 'Ohio':32, 'Kansas':33, 'Utah':34,\n",
    "              'Virginia':35, 'Nebraska':36, 'West Virginia':37, 'Colorado':38, 'Indiana':39,'Kentucky':40, 'Missouri':41, \n",
    "              'North Dakota':42, 'Rhode Island':43,'Louisiana':44, 'Wyoming':45, 'Nevada':46, 'Mississippi':47, \n",
    "              'Delaware':48,'South Dakota':49}\n",
    "\n",
    "region_dict = {'East':1, 'Central':2, 'West':3, 'South':4}\n",
    "\n",
    "transmission_dict = {'Manual' : 1 , 'Automatic' : 2}\n",
    "\n",
    "seller_type_dict = {'Individual' : 1, 'Dealer' : 2, 'Trustmark Dealer' : 3}\n",
    "\n",
    "owner_dict = {'First Owner':1,'Second Owner':2, 'Third Owner':3,'Fourth and Above Owner':4, 'Test Drive Car':5}\n",
    "\n",
    "fuel_dict = {'Diesel':1, 'Petrol':2, 'LPG':3, 'CNG':4}"
   ]
  },
  {
   "cell_type": "code",
   "execution_count": 84,
   "id": "23b2d5bb",
   "metadata": {},
   "outputs": [],
   "source": [
    "dummy_data = pd.get_dummies(mergedCarSalesData, columns=['sold'], drop_first=True)"
   ]
  },
  {
   "cell_type": "code",
   "execution_count": 85,
   "id": "9c01327d",
   "metadata": {},
   "outputs": [
    {
     "data": {
      "text/html": [
       "<div>\n",
       "<style scoped>\n",
       "    .dataframe tbody tr th:only-of-type {\n",
       "        vertical-align: middle;\n",
       "    }\n",
       "\n",
       "    .dataframe tbody tr th {\n",
       "        vertical-align: top;\n",
       "    }\n",
       "\n",
       "    .dataframe thead th {\n",
       "        text-align: right;\n",
       "    }\n",
       "</style>\n",
       "<table border=\"1\" class=\"dataframe\">\n",
       "  <thead>\n",
       "    <tr style=\"text-align: right;\">\n",
       "      <th></th>\n",
       "      <th>Sales_ID</th>\n",
       "      <th>name</th>\n",
       "      <th>year</th>\n",
       "      <th>selling_price</th>\n",
       "      <th>km_driven</th>\n",
       "      <th>State or Province</th>\n",
       "      <th>City</th>\n",
       "      <th>fuel</th>\n",
       "      <th>seller_type</th>\n",
       "      <th>transmission</th>\n",
       "      <th>owner</th>\n",
       "      <th>mileage</th>\n",
       "      <th>engine</th>\n",
       "      <th>max_power</th>\n",
       "      <th>seats</th>\n",
       "      <th>region</th>\n",
       "      <th>brand</th>\n",
       "      <th>sold_Y</th>\n",
       "    </tr>\n",
       "  </thead>\n",
       "  <tbody>\n",
       "    <tr>\n",
       "      <th>0</th>\n",
       "      <td>1</td>\n",
       "      <td>Maruti Swift Dzire VDI</td>\n",
       "      <td>2014</td>\n",
       "      <td>450000</td>\n",
       "      <td>145500</td>\n",
       "      <td>1</td>\n",
       "      <td>Washington</td>\n",
       "      <td>1</td>\n",
       "      <td>1</td>\n",
       "      <td>1</td>\n",
       "      <td>1.0</td>\n",
       "      <td>23.40</td>\n",
       "      <td>1248</td>\n",
       "      <td>74.00</td>\n",
       "      <td>5</td>\n",
       "      <td>1</td>\n",
       "      <td>Maruti</td>\n",
       "      <td>1</td>\n",
       "    </tr>\n",
       "    <tr>\n",
       "      <th>1</th>\n",
       "      <td>2</td>\n",
       "      <td>Skoda Rapid 1.5 TDI Ambition</td>\n",
       "      <td>2014</td>\n",
       "      <td>370000</td>\n",
       "      <td>120000</td>\n",
       "      <td>2</td>\n",
       "      <td>New York City</td>\n",
       "      <td>1</td>\n",
       "      <td>1</td>\n",
       "      <td>1</td>\n",
       "      <td>2.0</td>\n",
       "      <td>21.14</td>\n",
       "      <td>1498</td>\n",
       "      <td>103.52</td>\n",
       "      <td>5</td>\n",
       "      <td>1</td>\n",
       "      <td>Skoda</td>\n",
       "      <td>1</td>\n",
       "    </tr>\n",
       "    <tr>\n",
       "      <th>2</th>\n",
       "      <td>3</td>\n",
       "      <td>Honda City 2017-2020 EXi</td>\n",
       "      <td>2006</td>\n",
       "      <td>158000</td>\n",
       "      <td>140000</td>\n",
       "      <td>3</td>\n",
       "      <td>Chicago</td>\n",
       "      <td>2</td>\n",
       "      <td>1</td>\n",
       "      <td>1</td>\n",
       "      <td>3.0</td>\n",
       "      <td>17.70</td>\n",
       "      <td>1497</td>\n",
       "      <td>78.00</td>\n",
       "      <td>5</td>\n",
       "      <td>2</td>\n",
       "      <td>Honda</td>\n",
       "      <td>1</td>\n",
       "    </tr>\n",
       "  </tbody>\n",
       "</table>\n",
       "</div>"
      ],
      "text/plain": [
       "   Sales_ID                          name  year  selling_price  km_driven  \\\n",
       "0         1        Maruti Swift Dzire VDI  2014         450000     145500   \n",
       "1         2  Skoda Rapid 1.5 TDI Ambition  2014         370000     120000   \n",
       "2         3      Honda City 2017-2020 EXi  2006         158000     140000   \n",
       "\n",
       "   State or Province           City  fuel  seller_type  transmission  owner  \\\n",
       "0                  1     Washington     1            1             1    1.0   \n",
       "1                  2  New York City     1            1             1    2.0   \n",
       "2                  3        Chicago     2            1             1    3.0   \n",
       "\n",
       "   mileage  engine  max_power  seats  region   brand  sold_Y  \n",
       "0    23.40    1248      74.00      5       1  Maruti       1  \n",
       "1    21.14    1498     103.52      5       1   Skoda       1  \n",
       "2    17.70    1497      78.00      5       2   Honda       1  "
      ]
     },
     "execution_count": 85,
     "metadata": {},
     "output_type": "execute_result"
    }
   ],
   "source": [
    "dummy_data['State or Province'] = dummy_data['State or Province'].map(province_dict)\n",
    "dummy_data['region'] = dummy_data['region'].map(region_dict)\n",
    "dummy_data['transmission'] = dummy_data['transmission'].map(transmission_dict)\n",
    "dummy_data['seller_type'] = dummy_data['seller_type'].map(seller_type_dict)\n",
    "dummy_data['fuel'] = dummy_data['fuel'].map(fuel_dict)\n",
    "dummy_data['owner'] = dummy_data['owner'].map(owner_dict)\n",
    "dummy_data.head(3)"
   ]
  },
  {
   "cell_type": "code",
   "execution_count": 86,
   "id": "4c0b14cd",
   "metadata": {},
   "outputs": [
    {
     "data": {
      "text/plain": [
       "Sales_ID               int64\n",
       "name                  object\n",
       "year                   int64\n",
       "selling_price          int64\n",
       "km_driven              int64\n",
       "State or Province      int64\n",
       "City                  object\n",
       "fuel                   int64\n",
       "seller_type            int64\n",
       "transmission           int64\n",
       "owner                float64\n",
       "mileage              float64\n",
       "engine                 int64\n",
       "max_power            float64\n",
       "seats                  int64\n",
       "region                 int64\n",
       "brand                 object\n",
       "sold_Y                 uint8\n",
       "dtype: object"
      ]
     },
     "execution_count": 86,
     "metadata": {},
     "output_type": "execute_result"
    }
   ],
   "source": [
    "dummy_data.dtypes\n"
   ]
  },
  {
   "cell_type": "markdown",
   "id": "0587fb65",
   "metadata": {},
   "source": [
    "## a.\tWhich variables are significant in predicting the price of a used car?"
   ]
  },
  {
   "cell_type": "code",
   "execution_count": 87,
   "id": "1ce0feeb",
   "metadata": {},
   "outputs": [
    {
     "data": {
      "image/png": "[encoded data removed]",
      "text/plain": [
       "<Figure size 576x576 with 1 Axes>"
      ]
     },
     "metadata": {
      "needs_background": "light"
     },
     "output_type": "display_data"
    }
   ],
   "source": [
    "plt.figure(figsize=(8,8))\n",
    "plt.bar(mergedCarSalesData['brand'],mergedCarSalesData['selling_price'])\n",
    "plt.xlabel('Brands')\n",
    "plt.ylabel('Maximum price offered by brands')\n",
    "plt.title('Price of Different Brands',fontsize=20)\n",
    "plt.xticks(rotation=90)\n",
    "plt.show()"
   ]
  },
  {
   "cell_type": "markdown",
   "id": "bbfc98b6",
   "metadata": {},
   "source": [
    "The above bar plot shows the maximum price of cars of every brand. It can be seen that Volvo offers the maximum price of car, followed by BMW, Audi and Mercedes-Benz. Daewoo, Ambassador and Opel come at the lowest positions."
   ]
  },
  {
   "cell_type": "code",
   "execution_count": 88,
   "id": "4353a31c",
   "metadata": {},
   "outputs": [
    {
     "data": {
      "text/plain": [
       "(1882972.1268011527, 462819.1249817917)"
      ]
     },
     "execution_count": 88,
     "metadata": {},
     "output_type": "execute_result"
    }
   ],
   "source": [
    "auto=mergedCarSalesData[mergedCarSalesData['transmission']=='Automatic'].selling_price.mean()\n",
    "man=mergedCarSalesData[mergedCarSalesData['transmission']=='Manual'].selling_price.mean()\n",
    "auto,man"
   ]
  },
  {
   "cell_type": "code",
   "execution_count": 89,
   "id": "cf73e86c",
   "metadata": {},
   "outputs": [
    {
     "data": {
      "text/plain": [
       "count    1.041000e+03\n",
       "mean     1.882972e+06\n",
       "std      1.641287e+06\n",
       "min      7.500000e+04\n",
       "25%      6.450000e+05\n",
       "50%      1.100000e+06\n",
       "75%      2.711000e+06\n",
       "max      1.000000e+07\n",
       "Name: selling_price, dtype: float64"
      ]
     },
     "execution_count": 89,
     "metadata": {},
     "output_type": "execute_result"
    }
   ],
   "source": [
    "mergedCarSalesData[mergedCarSalesData['transmission']=='Automatic'].selling_price.describe()"
   ]
  },
  {
   "cell_type": "code",
   "execution_count": 90,
   "id": "159975c7",
   "metadata": {},
   "outputs": [
    {
     "data": {
      "text/plain": [
       "count    6.865000e+03\n",
       "mean     4.628191e+05\n",
       "std      2.975717e+05\n",
       "min      2.999900e+04\n",
       "25%      2.500000e+05\n",
       "50%      4.099990e+05\n",
       "75%      6.100000e+05\n",
       "max      3.200000e+06\n",
       "Name: selling_price, dtype: float64"
      ]
     },
     "execution_count": 90,
     "metadata": {},
     "output_type": "execute_result"
    }
   ],
   "source": [
    "mergedCarSalesData[mergedCarSalesData['transmission']=='Manual'].selling_price.describe()"
   ]
  },
  {
   "cell_type": "code",
   "execution_count": 91,
   "id": "f437f4a1",
   "metadata": {},
   "outputs": [
    {
     "data": {
      "image/png": "[encoded data removed]",
      "text/plain": [
       "<Figure size 432x288 with 1 Axes>"
      ]
     },
     "metadata": {
      "needs_background": "light"
     },
     "output_type": "display_data"
    }
   ],
   "source": [
    "plt.plot(mergedCarSalesData[mergedCarSalesData['transmission']=='Manual'].selling_price,alpha=0.8)\n",
    "plt.plot(mergedCarSalesData[mergedCarSalesData['transmission']=='Automatic'].selling_price,alpha=0.8)\n",
    "\n",
    "plt.legend(['Manual','Automatic'])\n",
    "plt.xlabel('Transmission Type')\n",
    "plt.ylabel('Selling Price')\n",
    "plt.title('Transmission Vs Selling Price')\n",
    "plt.show()"
   ]
  },
  {
   "cell_type": "markdown",
   "id": "682880f7",
   "metadata": {},
   "source": [
    "The above line plot helps us in comparing the prices of Manual and Automatic cars. The Manual cars pricing is of a lower range, whereas Automatic Cars have a higher price distribution."
   ]
  },
  {
   "cell_type": "code",
   "execution_count": 92,
   "id": "05ec5d01",
   "metadata": {},
   "outputs": [
    {
     "data": {
      "image/png": "[encoded data removed]",
      "text/plain": [
       "<Figure size 432x288 with 1 Axes>"
      ]
     },
     "metadata": {
      "needs_background": "light"
     },
     "output_type": "display_data"
    }
   ],
   "source": [
    "plt.plot(mergedCarSalesData[mergedCarSalesData['fuel']=='Diesel'].selling_price,alpha=0.25)\n",
    "plt.plot(mergedCarSalesData[mergedCarSalesData['fuel']=='Petrol'].selling_price,alpha=0.4)\n",
    "plt.plot(mergedCarSalesData[mergedCarSalesData['fuel']=='LPG'].selling_price,alpha=1)\n",
    "plt.plot(mergedCarSalesData[mergedCarSalesData['fuel']=='CNG'].selling_price,alpha=1)\n",
    "plt.legend([\"Diesel\",'Petrol','LPG','CNG'])\n",
    "plt.xlabel('Fuel')\n",
    "plt.ylabel('Selling Price')\n",
    "plt.title('Fuel Vs Selling Price')\n",
    "plt.show()"
   ]
  },
  {
   "cell_type": "markdown",
   "id": "3cd46643",
   "metadata": {},
   "source": [
    "The above line plot shows the price distribution of cars having different fuel attributes. The price ranges of Diesel and Petrol are near about same, with Diesel cars taking the upper range. LPG cars are having the lowest pricing range, followed by CNG Cars."
   ]
  },
  {
   "cell_type": "code",
   "execution_count": 93,
   "id": "74b89f3f",
   "metadata": {},
   "outputs": [
    {
     "data": {
      "text/plain": [
       "count    6.563000e+03\n",
       "mean     5.077058e+05\n",
       "std      4.872721e+05\n",
       "min      2.999900e+04\n",
       "25%      2.500000e+05\n",
       "50%      4.000000e+05\n",
       "75%      6.250000e+05\n",
       "max      1.000000e+07\n",
       "Name: selling_price, dtype: float64"
      ]
     },
     "execution_count": 93,
     "metadata": {},
     "output_type": "execute_result"
    }
   ],
   "source": [
    "mergedCarSalesData[mergedCarSalesData['seller_type']=='Individual'].selling_price.describe()"
   ]
  },
  {
   "cell_type": "code",
   "execution_count": 94,
   "id": "74923822",
   "metadata": {},
   "outputs": [
    {
     "data": {
      "text/plain": [
       "count    1.107000e+03\n",
       "mean     1.459910e+06\n",
       "std      1.576638e+06\n",
       "min      6.000000e+04\n",
       "25%      4.750000e+05\n",
       "50%      7.000000e+05\n",
       "75%      1.881999e+06\n",
       "max      6.523000e+06\n",
       "Name: selling_price, dtype: float64"
      ]
     },
     "execution_count": 94,
     "metadata": {},
     "output_type": "execute_result"
    }
   ],
   "source": [
    "mergedCarSalesData[mergedCarSalesData['seller_type']=='Dealer'].selling_price.describe()"
   ]
  },
  {
   "cell_type": "code",
   "execution_count": 95,
   "id": "b6ab37e7",
   "metadata": {},
   "outputs": [
    {
     "data": {
      "text/plain": [
       "count    2.360000e+02\n",
       "mean     8.018390e+05\n",
       "std      5.080779e+05\n",
       "min      2.250000e+05\n",
       "25%      5.500000e+05\n",
       "50%      6.500000e+05\n",
       "75%      7.790000e+05\n",
       "max      2.000000e+06\n",
       "Name: selling_price, dtype: float64"
      ]
     },
     "execution_count": 95,
     "metadata": {},
     "output_type": "execute_result"
    }
   ],
   "source": [
    "mergedCarSalesData[mergedCarSalesData['seller_type']=='Trustmark Dealer'].selling_price.describe()"
   ]
  },
  {
   "cell_type": "code",
   "execution_count": 96,
   "id": "4dbc2e55",
   "metadata": {},
   "outputs": [
    {
     "data": {
      "image/png": "[encoded data removed]",
      "text/plain": [
       "<Figure size 432x288 with 1 Axes>"
      ]
     },
     "metadata": {
      "needs_background": "light"
     },
     "output_type": "display_data"
    }
   ],
   "source": [
    "plt.plot(mergedCarSalesData[mergedCarSalesData['seller_type']=='Trustmark Dealer'].selling_price,alpha=0.8)\n",
    "plt.plot(mergedCarSalesData[mergedCarSalesData['seller_type']=='Dealer'].selling_price,alpha=0.25)\n",
    "plt.plot(mergedCarSalesData[mergedCarSalesData['seller_type']=='Individual'].selling_price,alpha=0.25,color='r')\n",
    "plt.legend(['Trustmark Dealer','Dealer','Individual'])\n",
    "plt.xlabel('Seller Type')\n",
    "plt.ylabel('Selling Price')\n",
    "plt.title('Seller Type Vs Selling Price')\n",
    "plt.show()"
   ]
  },
  {
   "cell_type": "markdown",
   "id": "25361ac8",
   "metadata": {},
   "source": [
    "The above pricing distribution clearly depicts that cars with Dealer seller type have the highest pricing range, and ones with Trustmark Dealers have the lowest price distribution. "
   ]
  },
  {
   "cell_type": "code",
   "execution_count": 97,
   "id": "ac21f473",
   "metadata": {},
   "outputs": [
    {
     "data": {
      "image/png": "[encoded data removed]",
      "text/plain": [
       "<Figure size 432x288 with 1 Axes>"
      ]
     },
     "metadata": {
      "needs_background": "light"
     },
     "output_type": "display_data"
    }
   ],
   "source": [
    "plt.bar(mergedCarSalesData['seller_type'],mergedCarSalesData['selling_price'])\n",
    "plt.xticks(rotation=90)\n",
    "plt.xlabel('Seller Type')\n",
    "plt.ylabel('Maximum price')\n",
    "plt.title('Maximum Price of Cars of Different Seller Type')\n",
    "plt.show()"
   ]
  },
  {
   "cell_type": "markdown",
   "id": "bfae3658",
   "metadata": {},
   "source": [
    "The bar plot shown above the maximum price offered to cars of different selling price. Individual type has the maximum price, followed by Dealer and then Trustmark Dealer."
   ]
  },
  {
   "cell_type": "code",
   "execution_count": 98,
   "id": "a162737f",
   "metadata": {},
   "outputs": [
    {
     "data": {
      "image/png": "[encoded data removed]",
      "text/plain": [
       "<Figure size 576x576 with 1 Axes>"
      ]
     },
     "metadata": {
      "needs_background": "light"
     },
     "output_type": "display_data"
    }
   ],
   "source": [
    "plt.figure(figsize=(8,8))\n",
    "plt.bar(mergedCarSalesData['year'],mergedCarSalesData['selling_price'])\n",
    "plt.xticks(rotation=90)\n",
    "plt.xlabel('Year')\n",
    "plt.ylabel('Maximum price')\n",
    "plt.title('Maximum Price in Different years',fontsize=15)\n",
    "plt.show()"
   ]
  },
  {
   "cell_type": "markdown",
   "id": "c923307c",
   "metadata": {},
   "source": [
    "The above graph shows the maximum price offered in different years. The price keeps on increasing with every year."
   ]
  },
  {
   "cell_type": "code",
   "execution_count": 99,
   "id": "ea6dca0d",
   "metadata": {},
   "outputs": [
    {
     "data": {
      "image/png": "[encoded data removed]",
      "text/plain": [
       "<Figure size 432x288 with 1 Axes>"
      ]
     },
     "metadata": {
      "needs_background": "light"
     },
     "output_type": "display_data"
    }
   ],
   "source": [
    "plt.bar(mergedCarSalesData['owner'],mergedCarSalesData['selling_price'])\n",
    "plt.xticks(rotation=90)\n",
    "plt.xlabel('Owner type')\n",
    "plt.ylabel('Maximum price')\n",
    "plt.title('Maximum Price of Cars of Different Owner Types')\n",
    "plt.show()"
   ]
  },
  {
   "cell_type": "markdown",
   "id": "a98806f8",
   "metadata": {},
   "source": [
    "The above price distribution shows that the maximum price was offered to cars of first owner. "
   ]
  },
  {
   "cell_type": "code",
   "execution_count": 100,
   "id": "9850a379",
   "metadata": {},
   "outputs": [
    {
     "data": {
      "text/plain": [
       "array([ 5,  4,  7,  8,  6,  9, 10, 14,  2], dtype=int64)"
      ]
     },
     "execution_count": 100,
     "metadata": {},
     "output_type": "execute_result"
    }
   ],
   "source": [
    "mergedCarSalesData.seats.unique()"
   ]
  },
  {
   "cell_type": "code",
   "execution_count": 101,
   "id": "f0033f47",
   "metadata": {},
   "outputs": [
    {
     "data": {
      "image/png": "[encoded data removed]",
      "text/plain": [
       "<Figure size 432x288 with 1 Axes>"
      ]
     },
     "metadata": {
      "needs_background": "light"
     },
     "output_type": "display_data"
    }
   ],
   "source": [
    "bars=['0','1','2','3','4','5','6','7','8','9','10','11','12','13','14','15','16']\n",
    "y_pos=np.arange(len(bars))\n",
    "plt.bar(mergedCarSalesData['seats'],mergedCarSalesData['selling_price'])\n",
    "plt.xticks(y_pos,bars,rotation=90)\n",
    "plt.xlabel('Seats')\n",
    "plt.ylabel('Maximum price')\n",
    "plt.title('Maximum price of cars')\n",
    "plt.show()"
   ]
  },
  {
   "cell_type": "markdown",
   "id": "73385026",
   "metadata": {},
   "source": [
    "Cars with 4,7 and 5 seats have the maximum prices."
   ]
  },
  {
   "cell_type": "code",
   "execution_count": 102,
   "id": "ba005c14",
   "metadata": {},
   "outputs": [
    {
     "data": {
      "image/png": "[encoded data removed]",
      "text/plain": [
       "<Figure size 504x504 with 1 Axes>"
      ]
     },
     "metadata": {
      "needs_background": "light"
     },
     "output_type": "display_data"
    }
   ],
   "source": [
    "plt.figure(figsize=(7,7))\n",
    "sns.set_context('talk')\n",
    "plt.scatter(mergedCarSalesData['km_driven'],mergedCarSalesData['selling_price'])\n",
    "plt.xticks(rotation=90)\n",
    "plt.xlabel('Kms Driven')\n",
    "plt.ylabel('Selling Price')\n",
    "plt.title('Km Driven vs Selling Price')\n",
    "plt.show()"
   ]
  },
  {
   "cell_type": "markdown",
   "id": "126ee367",
   "metadata": {},
   "source": [
    "The above scatter plot shows the relation between selling price and km driven of cars. As the km increases, the selling price decreases."
   ]
  },
  {
   "cell_type": "code",
   "execution_count": 103,
   "id": "5e7a2d12",
   "metadata": {},
   "outputs": [
    {
     "data": {
      "image/png": "[encoded data removed]",
      "text/plain": [
       "<Figure size 432x288 with 1 Axes>"
      ]
     },
     "metadata": {
      "needs_background": "light"
     },
     "output_type": "display_data"
    }
   ],
   "source": [
    "\n",
    "plt.scatter(mergedCarSalesData['engine'],mergedCarSalesData['selling_price'])\n",
    "plt.xticks(rotation=90)\n",
    "plt.xlabel('Engine')\n",
    "plt.ylabel('Selling Price')\n",
    "plt.title('Engine vs Selling Price')\n",
    "plt.show()"
   ]
  },
  {
   "cell_type": "code",
   "execution_count": 104,
   "id": "c4249284",
   "metadata": {},
   "outputs": [
    {
     "data": {
      "image/png": "[encoded data removed]",
      "text/plain": [
       "<Figure size 432x288 with 1 Axes>"
      ]
     },
     "metadata": {
      "needs_background": "light"
     },
     "output_type": "display_data"
    }
   ],
   "source": [
    "\n",
    "plt.scatter(mergedCarSalesData['mileage'],mergedCarSalesData['selling_price'])\n",
    "plt.xticks(rotation=90)\n",
    "plt.xlabel('Mileage')\n",
    "plt.ylabel('Selling Price')\n",
    "plt.title('Mileage vs Selling Price')\n",
    "plt.show()"
   ]
  },
  {
   "cell_type": "code",
   "execution_count": 105,
   "id": "35d499de",
   "metadata": {},
   "outputs": [
    {
     "data": {
      "image/png": "[encoded data removed]",
      "text/plain": [
       "<Figure size 432x288 with 1 Axes>"
      ]
     },
     "metadata": {
      "needs_background": "light"
     },
     "output_type": "display_data"
    }
   ],
   "source": [
    "sns.set_context('paper')\n",
    "plt.scatter(mergedCarSalesData['max_power'],mergedCarSalesData['selling_price'])\n",
    "plt.xlabel('Max Power')\n",
    "plt.ylabel('Selling Price')\n",
    "plt.title('Max Power vs Selling Price',fontsize=20)\n",
    "plt.xticks(rotation=90)\n",
    "plt.show()"
   ]
  },
  {
   "cell_type": "markdown",
   "id": "09c786b7",
   "metadata": {},
   "source": [
    "The above scatter plot shows the selling price distribution of cars having different maximum power. With increasing maximum power, the selling price keeps on increasing. There is a strong correlation between maximum power and selling price."
   ]
  },
  {
   "cell_type": "markdown",
   "id": "bf3cfaba",
   "metadata": {},
   "source": [
    "## b.\tHow well those variables describe the price of a car"
   ]
  },
  {
   "cell_type": "code",
   "execution_count": 106,
   "id": "2d5b4b21",
   "metadata": {},
   "outputs": [
    {
     "data": {
      "text/plain": [
       "Sales_ID            -0.012125\n",
       "year                 0.412302\n",
       "selling_price        1.000000\n",
       "km_driven           -0.222158\n",
       "State or Province    0.001732\n",
       "fuel                -0.201221\n",
       "seller_type          0.321389\n",
       "transmission         0.590269\n",
       "owner               -0.209083\n",
       "mileage             -0.126280\n",
       "engine               0.455682\n",
       "max_power            0.749674\n",
       "seats                0.041617\n",
       "region               0.031903\n",
       "sold_Y               0.018997\n",
       "Name: selling_price, dtype: float64"
      ]
     },
     "execution_count": 106,
     "metadata": {},
     "output_type": "execute_result"
    }
   ],
   "source": [
    "dummy_data.corr()['selling_price']\n"
   ]
  },
  {
   "cell_type": "code",
   "execution_count": 107,
   "id": "0191783d",
   "metadata": {},
   "outputs": [
    {
     "data": {
      "text/plain": [
       "<AxesSubplot:>"
      ]
     },
     "execution_count": 107,
     "metadata": {},
     "output_type": "execute_result"
    },
    {
     "data": {
      "image/png": "[encoded data removed]",
      "text/plain": [
       "<Figure size 432x288 with 2 Axes>"
      ]
     },
     "metadata": {
      "needs_background": "light"
     },
     "output_type": "display_data"
    }
   ],
   "source": [
    "sns.heatmap(dummy_data.corr())"
   ]
  },
  {
   "cell_type": "markdown",
   "id": "6c577e1d",
   "metadata": {},
   "source": [
    "##### Variables significant in predicting the price of a used car : (Numerical columns): max_power, engine, year, kms_driven. (Categorical and Discrete Columns): year,fuel,transmission, fuel, owner, seller_type,seats."
   ]
  },
  {
   "cell_type": "markdown",
   "id": "bad3a7c9",
   "metadata": {},
   "source": [
    "## c. Which brands are selling most?"
   ]
  },
  {
   "cell_type": "code",
   "execution_count": 108,
   "id": "5d896dec",
   "metadata": {},
   "outputs": [
    {
     "data": {
      "text/plain": [
       "Sales_ID             0\n",
       "name                 0\n",
       "year                 0\n",
       "selling_price        0\n",
       "km_driven            0\n",
       "State or Province    0\n",
       "City                 0\n",
       "fuel                 0\n",
       "seller_type          0\n",
       "transmission         0\n",
       "owner                0\n",
       "mileage              0\n",
       "engine               0\n",
       "max_power            0\n",
       "seats                0\n",
       "sold                 0\n",
       "region               0\n",
       "brand                0\n",
       "dtype: int64"
      ]
     },
     "execution_count": 108,
     "metadata": {},
     "output_type": "execute_result"
    }
   ],
   "source": [
    "mergedCarSalesData.isnull().sum()  "
   ]
  },
  {
   "cell_type": "code",
   "execution_count": 109,
   "id": "11c60cce",
   "metadata": {},
   "outputs": [
    {
     "data": {
      "text/plain": [
       "N    5906\n",
       "Y    2000\n",
       "Name: sold, dtype: int64"
      ]
     },
     "execution_count": 109,
     "metadata": {},
     "output_type": "execute_result"
    }
   ],
   "source": [
    "mergedCarSalesData['sold'].value_counts()"
   ]
  },
  {
   "cell_type": "code",
   "execution_count": 110,
   "id": "e5452c07",
   "metadata": {},
   "outputs": [],
   "source": [
    "sold = mergedCarSalesData[mergedCarSalesData['sold']=='Y']\n"
   ]
  },
  {
   "cell_type": "code",
   "execution_count": 111,
   "id": "723958b4",
   "metadata": {},
   "outputs": [
    {
     "name": "stdout",
     "output_type": "stream",
     "text": [
      "   Sales_ID                          name  year  selling_price  km_driven  \\\n",
      "0         1        Maruti Swift Dzire VDI  2014         450000     145500   \n",
      "1         2  Skoda Rapid 1.5 TDI Ambition  2014         370000     120000   \n",
      "\n",
      "      State or Province           City    fuel seller_type transmission  \\\n",
      "0  District of Columbia     Washington  Diesel  Individual       Manual   \n",
      "1              New York  New York City  Diesel  Individual       Manual   \n",
      "\n",
      "          owner  mileage  engine  max_power  seats sold region   brand  \n",
      "0   First Owner    23.40    1248      74.00      5    Y   East  Maruti  \n",
      "1  Second Owner    21.14    1498     103.52      5    Y   East   Skoda  \n",
      "(2000, 18)\n"
     ]
    }
   ],
   "source": [
    "print(sold.head(2))\n",
    "print(sold.shape)"
   ]
  },
  {
   "cell_type": "code",
   "execution_count": 112,
   "id": "ed3ed503",
   "metadata": {},
   "outputs": [],
   "source": [
    "s = sold['brand'].value_counts()\n",
    "d = mergedCarSalesData['brand'].value_counts()"
   ]
  },
  {
   "cell_type": "code",
   "execution_count": 113,
   "id": "6c6a5504",
   "metadata": {},
   "outputs": [
    {
     "data": {
      "text/plain": [
       "Maruti           597\n",
       "Hyundai          332\n",
       "Mahindra         201\n",
       "Tata             178\n",
       "Toyota           126\n",
       "Honda            124\n",
       "Ford              92\n",
       "Renault           56\n",
       "Chevrolet         56\n",
       "Volkswagen        39\n",
       "Nissan            33\n",
       "BMW               29\n",
       "Jaguar            21\n",
       "Skoda             20\n",
       "Volvo             19\n",
       "Mercedes-Benz     16\n",
       "Datsun            16\n",
       "Lexus             11\n",
       "Jeep               9\n",
       "Audi               9\n",
       "Fiat               6\n",
       "Mitsubishi         3\n",
       "Kia                2\n",
       "MG                 2\n",
       "Force              1\n",
       "Land               1\n",
       "Daewoo             1\n",
       "Name: brand, dtype: int64"
      ]
     },
     "execution_count": 113,
     "metadata": {},
     "output_type": "execute_result"
    }
   ],
   "source": [
    "s"
   ]
  },
  {
   "cell_type": "code",
   "execution_count": 114,
   "id": "c9147379",
   "metadata": {},
   "outputs": [
    {
     "data": {
      "text/plain": [
       "Text(0.5, 1.0, '# Cars sold by Brands')"
      ]
     },
     "execution_count": 114,
     "metadata": {},
     "output_type": "execute_result"
    },
    {
     "data": {
      "image/png": "[encoded data removed]",
      "text/plain": [
       "<Figure size 720x360 with 1 Axes>"
      ]
     },
     "metadata": {},
     "output_type": "display_data"
    }
   ],
   "source": [
    "sns.set_style('darkgrid')\n",
    "sns.set_context('talk')\n",
    "plt.figure(figsize=(10,5))\n",
    "plt.xticks(rotation=90)\n",
    "plt.bar(s.index,s.values)\n",
    "plt.ylabel('Total Number of Cars Sold')\n",
    "plt.xlabel('Brands')\n",
    "plt.title('# Cars sold by Brands')"
   ]
  },
  {
   "cell_type": "markdown",
   "id": "a6f7c746",
   "metadata": {},
   "source": [
    "The above bar plot shows the number of cars sold of different brands. Maruti, Hyundai, Mahindra take the top three seats in having the most number of cars sold."
   ]
  },
  {
   "cell_type": "markdown",
   "id": "61b95030",
   "metadata": {},
   "source": [
    "## d.\tAre there specific locations selling more?"
   ]
  },
  {
   "cell_type": "code",
   "execution_count": 115,
   "id": "c89ee13b",
   "metadata": {},
   "outputs": [
    {
     "data": {
      "text/plain": [
       "<BarContainer object of 4 artists>"
      ]
     },
     "execution_count": 115,
     "metadata": {},
     "output_type": "execute_result"
    },
    {
     "data": {
      "image/png": "[encoded data removed]",
      "text/plain": [
       "<Figure size 576x432 with 1 Axes>"
      ]
     },
     "metadata": {},
     "output_type": "display_data"
    }
   ],
   "source": [
    "r=sold['region'].value_counts()\n",
    "sns.set_style('darkgrid')\n",
    "sns.set_context('talk')\n",
    "plt.figure(figsize=(8,6))\n",
    "plt.xticks(rotation=90)\n",
    "plt.bar(r.index,r.values)"
   ]
  },
  {
   "cell_type": "markdown",
   "id": "fbf7a495",
   "metadata": {},
   "source": [
    "When looking for the number of cars sold in every region, the above bar plot gives a clear view. The cars sold in different regions in decreasing order are: East -> Central -> West -> South"
   ]
  },
  {
   "cell_type": "code",
   "execution_count": 116,
   "id": "5d79df0c",
   "metadata": {},
   "outputs": [
    {
     "data": {
      "text/plain": [
       "array(['Manual', 'Automatic'], dtype=object)"
      ]
     },
     "execution_count": 116,
     "metadata": {},
     "output_type": "execute_result"
    }
   ],
   "source": [
    "mergedCarSalesData.transmission.unique()"
   ]
  },
  {
   "cell_type": "code",
   "execution_count": 117,
   "id": "ded2577c",
   "metadata": {},
   "outputs": [
    {
     "data": {
      "text/plain": [
       "Text(0.5, 1.0, '# Cars sold in Different Regions')"
      ]
     },
     "execution_count": 117,
     "metadata": {},
     "output_type": "execute_result"
    },
    {
     "data": {
      "image/png": "[encoded data removed]",
      "text/plain": [
       "<Figure size 864x360 with 1 Axes>"
      ]
     },
     "metadata": {},
     "output_type": "display_data"
    }
   ],
   "source": [
    "s=sold['State or Province'].value_counts()\n",
    "sns.set_style('darkgrid')\n",
    "sns.set_context('talk')\n",
    "plt.figure(figsize=(12,5))\n",
    "plt.xticks(rotation=90)\n",
    "plt.bar(s.index,s.values)\n",
    "plt.ylabel('Total Cars Sold')\n",
    "plt.xlabel('State/Provinces')\n",
    "plt.title('# Cars sold in Different Regions')"
   ]
  },
  {
   "cell_type": "markdown",
   "id": "2dca2d74",
   "metadata": {},
   "source": [
    "When looking for the number of cars sold in every State or Province, the above bar plot gives a clear view in decreasing order. New York and California have the highest number of cars sold. Nebraska, New Mexico and Missouri have the lowest number of cars sold."
   ]
  },
  {
   "cell_type": "code",
   "execution_count": null,
   "id": "6ce3e8fe",
   "metadata": {},
   "outputs": [],
   "source": []
  }
 ],
 "metadata": {
  "kernelspec": {
   "display_name": "Python 3",
   "language": "python",
   "name": "python3"
  },
  "language_info": {
   "codemirror_mode": {
    "name": "ipython",
    "version": 3
   },
   "file_extension": ".py",
   "mimetype": "text/x-python",
   "name": "python",
   "nbconvert_exporter": "python",
   "pygments_lexer": "ipython3",
   "version": "3.8.8"
  }
 },
 "nbformat": 4,
 "nbformat_minor": 5
}
