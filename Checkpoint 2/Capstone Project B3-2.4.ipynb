{
 "cells": [
  {
   "cell_type": "markdown",
   "id": "4ec02261",
   "metadata": {
    "id": "4ec02261"
   },
   "source": [
    "# Checkpoint 2.4: Model Building using ML Algorithms "
   ]
  },
  {
   "cell_type": "markdown",
   "id": "42aec095",
   "metadata": {
    "id": "42aec095"
   },
   "source": [
    "### Capstone Project Batch: B Group: 3 "
   ]
  },
  {
   "cell_type": "markdown",
   "id": "053A8fPJpGQ_",
   "metadata": {
    "id": "053A8fPJpGQ_"
   },
   "source": [
    "* Capstone Project Domain: Automotive Industry\n",
    "* Batch B\n",
    "* Group 3\n",
    "* Members: Tanisha Jain , Priya Bhardwaj, Aman Bhardwaj and Satyam Sharma"
   ]
  },
  {
   "cell_type": "markdown",
   "id": "zKyMerLOpGIH",
   "metadata": {
    "id": "zKyMerLOpGIH"
   },
   "source": [
    "Tasks: Model Building:\n",
    "1.\tBuild an appropriate ML model/s on the data.\n",
    "2.\tCompare various ML models with appropriate regularization and/or hyper-parameter tuning.\n",
    "3.\tEvaluate the performance of the model.\n",
    "4.\tIdentify the right metric to evaluate the performance of the model.\n",
    "5.\tIdentify issues and concerns on the given data and suggest the best technique/s to overcome the issues."
   ]
  },
  {
   "cell_type": "markdown",
   "id": "673fda87",
   "metadata": {
    "id": "673fda87"
   },
   "source": [
    "**Importing all libraries and dataset**"
   ]
  },
  {
   "cell_type": "code",
   "execution_count": 1,
   "id": "802b1010",
   "metadata": {
    "id": "802b1010"
   },
   "outputs": [],
   "source": [
    "import pandas as pd\n",
    "import numpy as np\n",
    "import matplotlib.pyplot as plt\n",
    "import seaborn as sns\n",
    "import scipy.stats as st\n",
    "\n",
    "from sklearn.preprocessing import MinMaxScaler\n",
    "from sklearn.model_selection import train_test_split \n",
    "from sklearn.metrics import mean_squared_error, r2_score\n",
    "from sklearn import datasets, linear_model\n",
    "from sklearn.model_selection import GridSearchCV\n",
    "import pickle\n",
    "\n",
    "from sklearn.ensemble import RandomForestRegressor\n",
    "from sklearn.neighbors import KNeighborsRegressor\n",
    "from sklearn.linear_model import Ridge\n",
    "from sklearn.tree import DecisionTreeRegressor\n",
    "from sklearn.ensemble import AdaBoostRegressor\n",
    "import xgboost as xgb\n",
    "from sklearn.ensemble import GradientBoostingRegressor"
   ]
  },
  {
   "cell_type": "code",
   "execution_count": 2,
   "id": "31c43d4f",
   "metadata": {
    "id": "31c43d4f"
   },
   "outputs": [],
   "source": [
    "df=pd.read_csv('ProcessedCarData.csv')\n",
    "performanceMetrics=pd.DataFrame(columns=['Algorithm','R2 Score','MSE','Parameters'])"
   ]
  },
  {
   "cell_type": "code",
   "execution_count": 3,
   "id": "baa5cf96",
   "metadata": {
    "colab": {
     "base_uri": "https://localhost:8080/"
    },
    "id": "baa5cf96",
    "outputId": "7ad6fb44-80a2-4dac-d097-4ee5896ba736"
   },
   "outputs": [
    {
     "data": {
      "text/plain": [
       "(7905, 19)"
      ]
     },
     "execution_count": 3,
     "metadata": {},
     "output_type": "execute_result"
    }
   ],
   "source": [
    "df.shape"
   ]
  },
  {
   "cell_type": "code",
   "execution_count": 4,
   "id": "e10d667c",
   "metadata": {
    "colab": {
     "base_uri": "https://localhost:8080/"
    },
    "id": "e10d667c",
    "outputId": "e478c2aa-dd91-40cc-ee59-59610d7a9c04"
   },
   "outputs": [
    {
     "data": {
      "text/plain": [
       "Index(['Unnamed: 0', 'Sales_ID', 'name', 'year', 'selling_price', 'km_driven',\n",
       "       'State or Province', 'City', 'fuel', 'seller_type', 'transmission',\n",
       "       'owner', 'mileage', 'engine', 'max_power', 'seats', 'region', 'brand',\n",
       "       'sold_Y'],\n",
       "      dtype='object')"
      ]
     },
     "execution_count": 4,
     "metadata": {},
     "output_type": "execute_result"
    }
   ],
   "source": [
    "df.columns"
   ]
  },
  {
   "cell_type": "code",
   "execution_count": 5,
   "id": "JjDMkwk6pXY_",
   "metadata": {
    "colab": {
     "base_uri": "https://localhost:8080/",
     "height": 486
    },
    "id": "JjDMkwk6pXY_",
    "outputId": "eb33feed-7d21-49f3-b23a-6119006b5e48"
   },
   "outputs": [
    {
     "data": {
      "text/html": [
       "<div>\n",
       "<style scoped>\n",
       "    .dataframe tbody tr th:only-of-type {\n",
       "        vertical-align: middle;\n",
       "    }\n",
       "\n",
       "    .dataframe tbody tr th {\n",
       "        vertical-align: top;\n",
       "    }\n",
       "\n",
       "    .dataframe thead th {\n",
       "        text-align: right;\n",
       "    }\n",
       "</style>\n",
       "<table border=\"1\" class=\"dataframe\">\n",
       "  <thead>\n",
       "    <tr style=\"text-align: right;\">\n",
       "      <th></th>\n",
       "      <th>Unnamed: 0</th>\n",
       "      <th>Sales_ID</th>\n",
       "      <th>name</th>\n",
       "      <th>year</th>\n",
       "      <th>selling_price</th>\n",
       "      <th>km_driven</th>\n",
       "      <th>State or Province</th>\n",
       "      <th>City</th>\n",
       "      <th>fuel</th>\n",
       "      <th>seller_type</th>\n",
       "      <th>transmission</th>\n",
       "      <th>owner</th>\n",
       "      <th>mileage</th>\n",
       "      <th>engine</th>\n",
       "      <th>max_power</th>\n",
       "      <th>seats</th>\n",
       "      <th>region</th>\n",
       "      <th>brand</th>\n",
       "      <th>sold_Y</th>\n",
       "    </tr>\n",
       "  </thead>\n",
       "  <tbody>\n",
       "    <tr>\n",
       "      <th>0</th>\n",
       "      <td>0</td>\n",
       "      <td>1</td>\n",
       "      <td>Maruti Swift Dzire VDI</td>\n",
       "      <td>7</td>\n",
       "      <td>450000</td>\n",
       "      <td>145500</td>\n",
       "      <td>1</td>\n",
       "      <td>Washington</td>\n",
       "      <td>1</td>\n",
       "      <td>1</td>\n",
       "      <td>1</td>\n",
       "      <td>1</td>\n",
       "      <td>23.40</td>\n",
       "      <td>1248</td>\n",
       "      <td>74.00</td>\n",
       "      <td>5</td>\n",
       "      <td>1</td>\n",
       "      <td>Maruti</td>\n",
       "      <td>1</td>\n",
       "    </tr>\n",
       "    <tr>\n",
       "      <th>1</th>\n",
       "      <td>1</td>\n",
       "      <td>2</td>\n",
       "      <td>Skoda Rapid 1.5 TDI Ambition</td>\n",
       "      <td>7</td>\n",
       "      <td>370000</td>\n",
       "      <td>120000</td>\n",
       "      <td>2</td>\n",
       "      <td>New York City</td>\n",
       "      <td>1</td>\n",
       "      <td>1</td>\n",
       "      <td>1</td>\n",
       "      <td>2</td>\n",
       "      <td>21.14</td>\n",
       "      <td>1498</td>\n",
       "      <td>103.52</td>\n",
       "      <td>5</td>\n",
       "      <td>1</td>\n",
       "      <td>Skoda</td>\n",
       "      <td>1</td>\n",
       "    </tr>\n",
       "    <tr>\n",
       "      <th>2</th>\n",
       "      <td>2</td>\n",
       "      <td>3</td>\n",
       "      <td>Honda City 2017-2020 EXi</td>\n",
       "      <td>15</td>\n",
       "      <td>158000</td>\n",
       "      <td>140000</td>\n",
       "      <td>3</td>\n",
       "      <td>Chicago</td>\n",
       "      <td>2</td>\n",
       "      <td>1</td>\n",
       "      <td>1</td>\n",
       "      <td>3</td>\n",
       "      <td>17.70</td>\n",
       "      <td>1497</td>\n",
       "      <td>78.00</td>\n",
       "      <td>5</td>\n",
       "      <td>2</td>\n",
       "      <td>Honda</td>\n",
       "      <td>1</td>\n",
       "    </tr>\n",
       "    <tr>\n",
       "      <th>3</th>\n",
       "      <td>3</td>\n",
       "      <td>4</td>\n",
       "      <td>Hyundai i20 Sportz Diesel</td>\n",
       "      <td>11</td>\n",
       "      <td>225000</td>\n",
       "      <td>127000</td>\n",
       "      <td>3</td>\n",
       "      <td>Chicago</td>\n",
       "      <td>1</td>\n",
       "      <td>1</td>\n",
       "      <td>1</td>\n",
       "      <td>1</td>\n",
       "      <td>23.00</td>\n",
       "      <td>1396</td>\n",
       "      <td>90.00</td>\n",
       "      <td>5</td>\n",
       "      <td>2</td>\n",
       "      <td>Hyundai</td>\n",
       "      <td>1</td>\n",
       "    </tr>\n",
       "    <tr>\n",
       "      <th>4</th>\n",
       "      <td>4</td>\n",
       "      <td>5</td>\n",
       "      <td>Maruti Swift VXI BSIII</td>\n",
       "      <td>14</td>\n",
       "      <td>130000</td>\n",
       "      <td>120000</td>\n",
       "      <td>2</td>\n",
       "      <td>New York City</td>\n",
       "      <td>2</td>\n",
       "      <td>1</td>\n",
       "      <td>1</td>\n",
       "      <td>1</td>\n",
       "      <td>16.10</td>\n",
       "      <td>1298</td>\n",
       "      <td>88.20</td>\n",
       "      <td>5</td>\n",
       "      <td>1</td>\n",
       "      <td>Maruti</td>\n",
       "      <td>1</td>\n",
       "    </tr>\n",
       "  </tbody>\n",
       "</table>\n",
       "</div>"
      ],
      "text/plain": [
       "   Unnamed: 0  Sales_ID                          name  year  selling_price  \\\n",
       "0           0         1        Maruti Swift Dzire VDI     7         450000   \n",
       "1           1         2  Skoda Rapid 1.5 TDI Ambition     7         370000   \n",
       "2           2         3      Honda City 2017-2020 EXi    15         158000   \n",
       "3           3         4     Hyundai i20 Sportz Diesel    11         225000   \n",
       "4           4         5        Maruti Swift VXI BSIII    14         130000   \n",
       "\n",
       "   km_driven  State or Province           City  fuel  seller_type  \\\n",
       "0     145500                  1     Washington     1            1   \n",
       "1     120000                  2  New York City     1            1   \n",
       "2     140000                  3        Chicago     2            1   \n",
       "3     127000                  3        Chicago     1            1   \n",
       "4     120000                  2  New York City     2            1   \n",
       "\n",
       "   transmission  owner  mileage  engine  max_power  seats  region    brand  \\\n",
       "0             1      1    23.40    1248      74.00      5       1   Maruti   \n",
       "1             1      2    21.14    1498     103.52      5       1    Skoda   \n",
       "2             1      3    17.70    1497      78.00      5       2    Honda   \n",
       "3             1      1    23.00    1396      90.00      5       2  Hyundai   \n",
       "4             1      1    16.10    1298      88.20      5       1   Maruti   \n",
       "\n",
       "   sold_Y  \n",
       "0       1  \n",
       "1       1  \n",
       "2       1  \n",
       "3       1  \n",
       "4       1  "
      ]
     },
     "execution_count": 5,
     "metadata": {},
     "output_type": "execute_result"
    }
   ],
   "source": [
    "df.head()"
   ]
  },
  {
   "cell_type": "code",
   "execution_count": 6,
   "id": "2c091af8",
   "metadata": {
    "colab": {
     "base_uri": "https://localhost:8080/",
     "height": 605
    },
    "id": "2c091af8",
    "outputId": "2f72d39f-f8f1-41f6-914a-9081144417ac"
   },
   "outputs": [
    {
     "data": {
      "text/html": [
       "<div>\n",
       "<style scoped>\n",
       "    .dataframe tbody tr th:only-of-type {\n",
       "        vertical-align: middle;\n",
       "    }\n",
       "\n",
       "    .dataframe tbody tr th {\n",
       "        vertical-align: top;\n",
       "    }\n",
       "\n",
       "    .dataframe thead th {\n",
       "        text-align: right;\n",
       "    }\n",
       "</style>\n",
       "<table border=\"1\" class=\"dataframe\">\n",
       "  <thead>\n",
       "    <tr style=\"text-align: right;\">\n",
       "      <th></th>\n",
       "      <th>Unnamed: 0</th>\n",
       "      <th>Sales_ID</th>\n",
       "      <th>year</th>\n",
       "      <th>selling_price</th>\n",
       "      <th>km_driven</th>\n",
       "      <th>State or Province</th>\n",
       "      <th>fuel</th>\n",
       "      <th>seller_type</th>\n",
       "      <th>transmission</th>\n",
       "      <th>owner</th>\n",
       "      <th>mileage</th>\n",
       "      <th>engine</th>\n",
       "      <th>max_power</th>\n",
       "      <th>seats</th>\n",
       "      <th>region</th>\n",
       "      <th>sold_Y</th>\n",
       "    </tr>\n",
       "  </thead>\n",
       "  <tbody>\n",
       "    <tr>\n",
       "      <th>Unnamed: 0</th>\n",
       "      <td>1.000000</td>\n",
       "      <td>0.999998</td>\n",
       "      <td>0.001153</td>\n",
       "      <td>-0.011963</td>\n",
       "      <td>0.009799</td>\n",
       "      <td>0.227497</td>\n",
       "      <td>-0.031623</td>\n",
       "      <td>-0.021866</td>\n",
       "      <td>-0.017377</td>\n",
       "      <td>0.001051</td>\n",
       "      <td>0.030641</td>\n",
       "      <td>-0.011145</td>\n",
       "      <td>-0.003568</td>\n",
       "      <td>-0.014071</td>\n",
       "      <td>0.078365</td>\n",
       "      <td>-0.752972</td>\n",
       "    </tr>\n",
       "    <tr>\n",
       "      <th>Sales_ID</th>\n",
       "      <td>0.999998</td>\n",
       "      <td>1.000000</td>\n",
       "      <td>0.001144</td>\n",
       "      <td>-0.012015</td>\n",
       "      <td>0.009811</td>\n",
       "      <td>0.227828</td>\n",
       "      <td>-0.031604</td>\n",
       "      <td>-0.021923</td>\n",
       "      <td>-0.017421</td>\n",
       "      <td>0.001022</td>\n",
       "      <td>0.030691</td>\n",
       "      <td>-0.011173</td>\n",
       "      <td>-0.003609</td>\n",
       "      <td>-0.014066</td>\n",
       "      <td>0.078410</td>\n",
       "      <td>-0.753896</td>\n",
       "    </tr>\n",
       "    <tr>\n",
       "      <th>year</th>\n",
       "      <td>0.001153</td>\n",
       "      <td>0.001144</td>\n",
       "      <td>1.000000</td>\n",
       "      <td>-0.412272</td>\n",
       "      <td>0.428724</td>\n",
       "      <td>-0.009710</td>\n",
       "      <td>0.032528</td>\n",
       "      <td>-0.231768</td>\n",
       "      <td>-0.248976</td>\n",
       "      <td>0.499779</td>\n",
       "      <td>-0.331552</td>\n",
       "      <td>-0.018213</td>\n",
       "      <td>-0.226559</td>\n",
       "      <td>0.007966</td>\n",
       "      <td>-0.015238</td>\n",
       "      <td>-0.002815</td>\n",
       "    </tr>\n",
       "    <tr>\n",
       "      <th>selling_price</th>\n",
       "      <td>-0.011963</td>\n",
       "      <td>-0.012015</td>\n",
       "      <td>-0.412272</td>\n",
       "      <td>1.000000</td>\n",
       "      <td>-0.222267</td>\n",
       "      <td>0.001849</td>\n",
       "      <td>-0.201181</td>\n",
       "      <td>0.321370</td>\n",
       "      <td>0.590259</td>\n",
       "      <td>-0.216449</td>\n",
       "      <td>-0.130040</td>\n",
       "      <td>0.455662</td>\n",
       "      <td>0.749665</td>\n",
       "      <td>0.041588</td>\n",
       "      <td>0.031877</td>\n",
       "      <td>0.018958</td>\n",
       "    </tr>\n",
       "    <tr>\n",
       "      <th>km_driven</th>\n",
       "      <td>0.009799</td>\n",
       "      <td>0.009811</td>\n",
       "      <td>0.428724</td>\n",
       "      <td>-0.222267</td>\n",
       "      <td>1.000000</td>\n",
       "      <td>0.008521</td>\n",
       "      <td>-0.246465</td>\n",
       "      <td>-0.192874</td>\n",
       "      <td>-0.201267</td>\n",
       "      <td>0.281992</td>\n",
       "      <td>-0.178484</td>\n",
       "      <td>0.205973</td>\n",
       "      <td>-0.038243</td>\n",
       "      <td>0.227217</td>\n",
       "      <td>0.000674</td>\n",
       "      <td>-0.005021</td>\n",
       "    </tr>\n",
       "    <tr>\n",
       "      <th>State or Province</th>\n",
       "      <td>0.227497</td>\n",
       "      <td>0.227828</td>\n",
       "      <td>-0.009710</td>\n",
       "      <td>0.001849</td>\n",
       "      <td>0.008521</td>\n",
       "      <td>1.000000</td>\n",
       "      <td>-0.007288</td>\n",
       "      <td>-0.025496</td>\n",
       "      <td>-0.030826</td>\n",
       "      <td>-0.016811</td>\n",
       "      <td>0.009439</td>\n",
       "      <td>-0.005225</td>\n",
       "      <td>-0.012180</td>\n",
       "      <td>-0.001053</td>\n",
       "      <td>0.065904</td>\n",
       "      <td>-0.266525</td>\n",
       "    </tr>\n",
       "    <tr>\n",
       "      <th>fuel</th>\n",
       "      <td>-0.031623</td>\n",
       "      <td>-0.031604</td>\n",
       "      <td>0.032528</td>\n",
       "      <td>-0.201181</td>\n",
       "      <td>-0.246465</td>\n",
       "      <td>-0.007288</td>\n",
       "      <td>1.000000</td>\n",
       "      <td>0.036344</td>\n",
       "      <td>0.011047</td>\n",
       "      <td>-0.016301</td>\n",
       "      <td>-0.022593</td>\n",
       "      <td>-0.488228</td>\n",
       "      <td>-0.306341</td>\n",
       "      <td>-0.339059</td>\n",
       "      <td>-0.002807</td>\n",
       "      <td>0.011218</td>\n",
       "    </tr>\n",
       "    <tr>\n",
       "      <th>seller_type</th>\n",
       "      <td>-0.021866</td>\n",
       "      <td>-0.021923</td>\n",
       "      <td>-0.231768</td>\n",
       "      <td>0.321370</td>\n",
       "      <td>-0.192874</td>\n",
       "      <td>-0.025496</td>\n",
       "      <td>0.036344</td>\n",
       "      <td>1.000000</td>\n",
       "      <td>0.357727</td>\n",
       "      <td>-0.197541</td>\n",
       "      <td>-0.022948</td>\n",
       "      <td>0.119992</td>\n",
       "      <td>0.239213</td>\n",
       "      <td>-0.075309</td>\n",
       "      <td>0.056454</td>\n",
       "      <td>0.031986</td>\n",
       "    </tr>\n",
       "    <tr>\n",
       "      <th>transmission</th>\n",
       "      <td>-0.017377</td>\n",
       "      <td>-0.017421</td>\n",
       "      <td>-0.248976</td>\n",
       "      <td>0.590259</td>\n",
       "      <td>-0.201267</td>\n",
       "      <td>-0.030826</td>\n",
       "      <td>0.011047</td>\n",
       "      <td>0.357727</td>\n",
       "      <td>1.000000</td>\n",
       "      <td>-0.141290</td>\n",
       "      <td>-0.178407</td>\n",
       "      <td>0.283188</td>\n",
       "      <td>0.541859</td>\n",
       "      <td>-0.072745</td>\n",
       "      <td>0.022328</td>\n",
       "      <td>0.019467</td>\n",
       "    </tr>\n",
       "    <tr>\n",
       "      <th>owner</th>\n",
       "      <td>0.001051</td>\n",
       "      <td>0.001022</td>\n",
       "      <td>0.499779</td>\n",
       "      <td>-0.216449</td>\n",
       "      <td>0.281992</td>\n",
       "      <td>-0.016811</td>\n",
       "      <td>-0.016301</td>\n",
       "      <td>-0.197541</td>\n",
       "      <td>-0.141290</td>\n",
       "      <td>1.000000</td>\n",
       "      <td>-0.176261</td>\n",
       "      <td>0.007876</td>\n",
       "      <td>-0.104716</td>\n",
       "      <td>0.027610</td>\n",
       "      <td>-0.010023</td>\n",
       "      <td>0.005381</td>\n",
       "    </tr>\n",
       "    <tr>\n",
       "      <th>mileage</th>\n",
       "      <td>0.030641</td>\n",
       "      <td>0.030691</td>\n",
       "      <td>-0.331552</td>\n",
       "      <td>-0.130040</td>\n",
       "      <td>-0.178484</td>\n",
       "      <td>0.009439</td>\n",
       "      <td>-0.022593</td>\n",
       "      <td>-0.022948</td>\n",
       "      <td>-0.178407</td>\n",
       "      <td>-0.176261</td>\n",
       "      <td>1.000000</td>\n",
       "      <td>-0.589928</td>\n",
       "      <td>-0.385629</td>\n",
       "      <td>-0.470651</td>\n",
       "      <td>-0.004377</td>\n",
       "      <td>-0.030033</td>\n",
       "    </tr>\n",
       "    <tr>\n",
       "      <th>engine</th>\n",
       "      <td>-0.011145</td>\n",
       "      <td>-0.011173</td>\n",
       "      <td>-0.018213</td>\n",
       "      <td>0.455662</td>\n",
       "      <td>0.205973</td>\n",
       "      <td>-0.005225</td>\n",
       "      <td>-0.488228</td>\n",
       "      <td>0.119992</td>\n",
       "      <td>0.283188</td>\n",
       "      <td>0.007876</td>\n",
       "      <td>-0.589928</td>\n",
       "      <td>1.000000</td>\n",
       "      <td>0.703964</td>\n",
       "      <td>0.611093</td>\n",
       "      <td>0.011522</td>\n",
       "      <td>0.013222</td>\n",
       "    </tr>\n",
       "    <tr>\n",
       "      <th>max_power</th>\n",
       "      <td>-0.003568</td>\n",
       "      <td>-0.003609</td>\n",
       "      <td>-0.226559</td>\n",
       "      <td>0.749665</td>\n",
       "      <td>-0.038243</td>\n",
       "      <td>-0.012180</td>\n",
       "      <td>-0.306341</td>\n",
       "      <td>0.239213</td>\n",
       "      <td>0.541859</td>\n",
       "      <td>-0.104716</td>\n",
       "      <td>-0.385629</td>\n",
       "      <td>0.703964</td>\n",
       "      <td>1.000000</td>\n",
       "      <td>0.191976</td>\n",
       "      <td>0.026824</td>\n",
       "      <td>0.010300</td>\n",
       "    </tr>\n",
       "    <tr>\n",
       "      <th>seats</th>\n",
       "      <td>-0.014071</td>\n",
       "      <td>-0.014066</td>\n",
       "      <td>0.007966</td>\n",
       "      <td>0.041588</td>\n",
       "      <td>0.227217</td>\n",
       "      <td>-0.001053</td>\n",
       "      <td>-0.339059</td>\n",
       "      <td>-0.075309</td>\n",
       "      <td>-0.072745</td>\n",
       "      <td>0.027610</td>\n",
       "      <td>-0.470651</td>\n",
       "      <td>0.611093</td>\n",
       "      <td>0.191976</td>\n",
       "      <td>1.000000</td>\n",
       "      <td>-0.018333</td>\n",
       "      <td>0.010044</td>\n",
       "    </tr>\n",
       "    <tr>\n",
       "      <th>region</th>\n",
       "      <td>0.078365</td>\n",
       "      <td>0.078410</td>\n",
       "      <td>-0.015238</td>\n",
       "      <td>0.031877</td>\n",
       "      <td>0.000674</td>\n",
       "      <td>0.065904</td>\n",
       "      <td>-0.002807</td>\n",
       "      <td>0.056454</td>\n",
       "      <td>0.022328</td>\n",
       "      <td>-0.010023</td>\n",
       "      <td>-0.004377</td>\n",
       "      <td>0.011522</td>\n",
       "      <td>0.026824</td>\n",
       "      <td>-0.018333</td>\n",
       "      <td>1.000000</td>\n",
       "      <td>-0.077225</td>\n",
       "    </tr>\n",
       "    <tr>\n",
       "      <th>sold_Y</th>\n",
       "      <td>-0.752972</td>\n",
       "      <td>-0.753896</td>\n",
       "      <td>-0.002815</td>\n",
       "      <td>0.018958</td>\n",
       "      <td>-0.005021</td>\n",
       "      <td>-0.266525</td>\n",
       "      <td>0.011218</td>\n",
       "      <td>0.031986</td>\n",
       "      <td>0.019467</td>\n",
       "      <td>0.005381</td>\n",
       "      <td>-0.030033</td>\n",
       "      <td>0.013222</td>\n",
       "      <td>0.010300</td>\n",
       "      <td>0.010044</td>\n",
       "      <td>-0.077225</td>\n",
       "      <td>1.000000</td>\n",
       "    </tr>\n",
       "  </tbody>\n",
       "</table>\n",
       "</div>"
      ],
      "text/plain": [
       "                   Unnamed: 0  Sales_ID      year  selling_price  km_driven  \\\n",
       "Unnamed: 0           1.000000  0.999998  0.001153      -0.011963   0.009799   \n",
       "Sales_ID             0.999998  1.000000  0.001144      -0.012015   0.009811   \n",
       "year                 0.001153  0.001144  1.000000      -0.412272   0.428724   \n",
       "selling_price       -0.011963 -0.012015 -0.412272       1.000000  -0.222267   \n",
       "km_driven            0.009799  0.009811  0.428724      -0.222267   1.000000   \n",
       "State or Province    0.227497  0.227828 -0.009710       0.001849   0.008521   \n",
       "fuel                -0.031623 -0.031604  0.032528      -0.201181  -0.246465   \n",
       "seller_type         -0.021866 -0.021923 -0.231768       0.321370  -0.192874   \n",
       "transmission        -0.017377 -0.017421 -0.248976       0.590259  -0.201267   \n",
       "owner                0.001051  0.001022  0.499779      -0.216449   0.281992   \n",
       "mileage              0.030641  0.030691 -0.331552      -0.130040  -0.178484   \n",
       "engine              -0.011145 -0.011173 -0.018213       0.455662   0.205973   \n",
       "max_power           -0.003568 -0.003609 -0.226559       0.749665  -0.038243   \n",
       "seats               -0.014071 -0.014066  0.007966       0.041588   0.227217   \n",
       "region               0.078365  0.078410 -0.015238       0.031877   0.000674   \n",
       "sold_Y              -0.752972 -0.753896 -0.002815       0.018958  -0.005021   \n",
       "\n",
       "                   State or Province      fuel  seller_type  transmission  \\\n",
       "Unnamed: 0                  0.227497 -0.031623    -0.021866     -0.017377   \n",
       "Sales_ID                    0.227828 -0.031604    -0.021923     -0.017421   \n",
       "year                       -0.009710  0.032528    -0.231768     -0.248976   \n",
       "selling_price               0.001849 -0.201181     0.321370      0.590259   \n",
       "km_driven                   0.008521 -0.246465    -0.192874     -0.201267   \n",
       "State or Province           1.000000 -0.007288    -0.025496     -0.030826   \n",
       "fuel                       -0.007288  1.000000     0.036344      0.011047   \n",
       "seller_type                -0.025496  0.036344     1.000000      0.357727   \n",
       "transmission               -0.030826  0.011047     0.357727      1.000000   \n",
       "owner                      -0.016811 -0.016301    -0.197541     -0.141290   \n",
       "mileage                     0.009439 -0.022593    -0.022948     -0.178407   \n",
       "engine                     -0.005225 -0.488228     0.119992      0.283188   \n",
       "max_power                  -0.012180 -0.306341     0.239213      0.541859   \n",
       "seats                      -0.001053 -0.339059    -0.075309     -0.072745   \n",
       "region                      0.065904 -0.002807     0.056454      0.022328   \n",
       "sold_Y                     -0.266525  0.011218     0.031986      0.019467   \n",
       "\n",
       "                      owner   mileage    engine  max_power     seats  \\\n",
       "Unnamed: 0         0.001051  0.030641 -0.011145  -0.003568 -0.014071   \n",
       "Sales_ID           0.001022  0.030691 -0.011173  -0.003609 -0.014066   \n",
       "year               0.499779 -0.331552 -0.018213  -0.226559  0.007966   \n",
       "selling_price     -0.216449 -0.130040  0.455662   0.749665  0.041588   \n",
       "km_driven          0.281992 -0.178484  0.205973  -0.038243  0.227217   \n",
       "State or Province -0.016811  0.009439 -0.005225  -0.012180 -0.001053   \n",
       "fuel              -0.016301 -0.022593 -0.488228  -0.306341 -0.339059   \n",
       "seller_type       -0.197541 -0.022948  0.119992   0.239213 -0.075309   \n",
       "transmission      -0.141290 -0.178407  0.283188   0.541859 -0.072745   \n",
       "owner              1.000000 -0.176261  0.007876  -0.104716  0.027610   \n",
       "mileage           -0.176261  1.000000 -0.589928  -0.385629 -0.470651   \n",
       "engine             0.007876 -0.589928  1.000000   0.703964  0.611093   \n",
       "max_power         -0.104716 -0.385629  0.703964   1.000000  0.191976   \n",
       "seats              0.027610 -0.470651  0.611093   0.191976  1.000000   \n",
       "region            -0.010023 -0.004377  0.011522   0.026824 -0.018333   \n",
       "sold_Y             0.005381 -0.030033  0.013222   0.010300  0.010044   \n",
       "\n",
       "                     region    sold_Y  \n",
       "Unnamed: 0         0.078365 -0.752972  \n",
       "Sales_ID           0.078410 -0.753896  \n",
       "year              -0.015238 -0.002815  \n",
       "selling_price      0.031877  0.018958  \n",
       "km_driven          0.000674 -0.005021  \n",
       "State or Province  0.065904 -0.266525  \n",
       "fuel              -0.002807  0.011218  \n",
       "seller_type        0.056454  0.031986  \n",
       "transmission       0.022328  0.019467  \n",
       "owner             -0.010023  0.005381  \n",
       "mileage           -0.004377 -0.030033  \n",
       "engine             0.011522  0.013222  \n",
       "max_power          0.026824  0.010300  \n",
       "seats             -0.018333  0.010044  \n",
       "region             1.000000 -0.077225  \n",
       "sold_Y            -0.077225  1.000000  "
      ]
     },
     "execution_count": 6,
     "metadata": {},
     "output_type": "execute_result"
    }
   ],
   "source": [
    "df.corr()"
   ]
  },
  {
   "cell_type": "code",
   "execution_count": 7,
   "id": "f9e46318",
   "metadata": {
    "id": "f9e46318"
   },
   "outputs": [],
   "source": [
    "data=df.drop(['Sales_ID','name','Unnamed: 0','City','brand','selling_price'],axis=1)"
   ]
  },
  {
   "cell_type": "markdown",
   "id": "61b15c73",
   "metadata": {
    "id": "61b15c73"
   },
   "source": [
    "* Dropped the above columns because:\n",
    "    1. selling price is target variable\n",
    "    2. Sales ID is unique for all\n",
    "    3. name, city and brand are string attributes."
   ]
  },
  {
   "cell_type": "code",
   "execution_count": 8,
   "id": "009e6c35",
   "metadata": {
    "colab": {
     "base_uri": "https://localhost:8080/"
    },
    "id": "009e6c35",
    "outputId": "2b79e112-18df-4ec9-e039-80b52a7c6b71"
   },
   "outputs": [
    {
     "data": {
      "text/plain": [
       "Index(['year', 'km_driven', 'State or Province', 'fuel', 'seller_type',\n",
       "       'transmission', 'owner', 'mileage', 'engine', 'max_power', 'seats',\n",
       "       'region', 'sold_Y'],\n",
       "      dtype='object')"
      ]
     },
     "execution_count": 8,
     "metadata": {},
     "output_type": "execute_result"
    }
   ],
   "source": [
    "data.columns"
   ]
  },
  {
   "cell_type": "code",
   "execution_count": 9,
   "id": "47d0ae20",
   "metadata": {
    "colab": {
     "base_uri": "https://localhost:8080/",
     "height": 491
    },
    "id": "47d0ae20",
    "outputId": "c2ea163a-312d-46b4-f93a-5d928d0f6a21"
   },
   "outputs": [
    {
     "data": {
      "text/html": [
       "<div>\n",
       "<style scoped>\n",
       "    .dataframe tbody tr th:only-of-type {\n",
       "        vertical-align: middle;\n",
       "    }\n",
       "\n",
       "    .dataframe tbody tr th {\n",
       "        vertical-align: top;\n",
       "    }\n",
       "\n",
       "    .dataframe thead th {\n",
       "        text-align: right;\n",
       "    }\n",
       "</style>\n",
       "<table border=\"1\" class=\"dataframe\">\n",
       "  <thead>\n",
       "    <tr style=\"text-align: right;\">\n",
       "      <th></th>\n",
       "      <th>year</th>\n",
       "      <th>km_driven</th>\n",
       "      <th>State or Province</th>\n",
       "      <th>fuel</th>\n",
       "      <th>seller_type</th>\n",
       "      <th>transmission</th>\n",
       "      <th>owner</th>\n",
       "      <th>mileage</th>\n",
       "      <th>engine</th>\n",
       "      <th>max_power</th>\n",
       "      <th>seats</th>\n",
       "      <th>region</th>\n",
       "      <th>sold_Y</th>\n",
       "    </tr>\n",
       "  </thead>\n",
       "  <tbody>\n",
       "    <tr>\n",
       "      <th>year</th>\n",
       "      <td>1.000000</td>\n",
       "      <td>0.428724</td>\n",
       "      <td>-0.009710</td>\n",
       "      <td>0.032528</td>\n",
       "      <td>-0.231768</td>\n",
       "      <td>-0.248976</td>\n",
       "      <td>0.499779</td>\n",
       "      <td>-0.331552</td>\n",
       "      <td>-0.018213</td>\n",
       "      <td>-0.226559</td>\n",
       "      <td>0.007966</td>\n",
       "      <td>-0.015238</td>\n",
       "      <td>-0.002815</td>\n",
       "    </tr>\n",
       "    <tr>\n",
       "      <th>km_driven</th>\n",
       "      <td>0.428724</td>\n",
       "      <td>1.000000</td>\n",
       "      <td>0.008521</td>\n",
       "      <td>-0.246465</td>\n",
       "      <td>-0.192874</td>\n",
       "      <td>-0.201267</td>\n",
       "      <td>0.281992</td>\n",
       "      <td>-0.178484</td>\n",
       "      <td>0.205973</td>\n",
       "      <td>-0.038243</td>\n",
       "      <td>0.227217</td>\n",
       "      <td>0.000674</td>\n",
       "      <td>-0.005021</td>\n",
       "    </tr>\n",
       "    <tr>\n",
       "      <th>State or Province</th>\n",
       "      <td>-0.009710</td>\n",
       "      <td>0.008521</td>\n",
       "      <td>1.000000</td>\n",
       "      <td>-0.007288</td>\n",
       "      <td>-0.025496</td>\n",
       "      <td>-0.030826</td>\n",
       "      <td>-0.016811</td>\n",
       "      <td>0.009439</td>\n",
       "      <td>-0.005225</td>\n",
       "      <td>-0.012180</td>\n",
       "      <td>-0.001053</td>\n",
       "      <td>0.065904</td>\n",
       "      <td>-0.266525</td>\n",
       "    </tr>\n",
       "    <tr>\n",
       "      <th>fuel</th>\n",
       "      <td>0.032528</td>\n",
       "      <td>-0.246465</td>\n",
       "      <td>-0.007288</td>\n",
       "      <td>1.000000</td>\n",
       "      <td>0.036344</td>\n",
       "      <td>0.011047</td>\n",
       "      <td>-0.016301</td>\n",
       "      <td>-0.022593</td>\n",
       "      <td>-0.488228</td>\n",
       "      <td>-0.306341</td>\n",
       "      <td>-0.339059</td>\n",
       "      <td>-0.002807</td>\n",
       "      <td>0.011218</td>\n",
       "    </tr>\n",
       "    <tr>\n",
       "      <th>seller_type</th>\n",
       "      <td>-0.231768</td>\n",
       "      <td>-0.192874</td>\n",
       "      <td>-0.025496</td>\n",
       "      <td>0.036344</td>\n",
       "      <td>1.000000</td>\n",
       "      <td>0.357727</td>\n",
       "      <td>-0.197541</td>\n",
       "      <td>-0.022948</td>\n",
       "      <td>0.119992</td>\n",
       "      <td>0.239213</td>\n",
       "      <td>-0.075309</td>\n",
       "      <td>0.056454</td>\n",
       "      <td>0.031986</td>\n",
       "    </tr>\n",
       "    <tr>\n",
       "      <th>transmission</th>\n",
       "      <td>-0.248976</td>\n",
       "      <td>-0.201267</td>\n",
       "      <td>-0.030826</td>\n",
       "      <td>0.011047</td>\n",
       "      <td>0.357727</td>\n",
       "      <td>1.000000</td>\n",
       "      <td>-0.141290</td>\n",
       "      <td>-0.178407</td>\n",
       "      <td>0.283188</td>\n",
       "      <td>0.541859</td>\n",
       "      <td>-0.072745</td>\n",
       "      <td>0.022328</td>\n",
       "      <td>0.019467</td>\n",
       "    </tr>\n",
       "    <tr>\n",
       "      <th>owner</th>\n",
       "      <td>0.499779</td>\n",
       "      <td>0.281992</td>\n",
       "      <td>-0.016811</td>\n",
       "      <td>-0.016301</td>\n",
       "      <td>-0.197541</td>\n",
       "      <td>-0.141290</td>\n",
       "      <td>1.000000</td>\n",
       "      <td>-0.176261</td>\n",
       "      <td>0.007876</td>\n",
       "      <td>-0.104716</td>\n",
       "      <td>0.027610</td>\n",
       "      <td>-0.010023</td>\n",
       "      <td>0.005381</td>\n",
       "    </tr>\n",
       "    <tr>\n",
       "      <th>mileage</th>\n",
       "      <td>-0.331552</td>\n",
       "      <td>-0.178484</td>\n",
       "      <td>0.009439</td>\n",
       "      <td>-0.022593</td>\n",
       "      <td>-0.022948</td>\n",
       "      <td>-0.178407</td>\n",
       "      <td>-0.176261</td>\n",
       "      <td>1.000000</td>\n",
       "      <td>-0.589928</td>\n",
       "      <td>-0.385629</td>\n",
       "      <td>-0.470651</td>\n",
       "      <td>-0.004377</td>\n",
       "      <td>-0.030033</td>\n",
       "    </tr>\n",
       "    <tr>\n",
       "      <th>engine</th>\n",
       "      <td>-0.018213</td>\n",
       "      <td>0.205973</td>\n",
       "      <td>-0.005225</td>\n",
       "      <td>-0.488228</td>\n",
       "      <td>0.119992</td>\n",
       "      <td>0.283188</td>\n",
       "      <td>0.007876</td>\n",
       "      <td>-0.589928</td>\n",
       "      <td>1.000000</td>\n",
       "      <td>0.703964</td>\n",
       "      <td>0.611093</td>\n",
       "      <td>0.011522</td>\n",
       "      <td>0.013222</td>\n",
       "    </tr>\n",
       "    <tr>\n",
       "      <th>max_power</th>\n",
       "      <td>-0.226559</td>\n",
       "      <td>-0.038243</td>\n",
       "      <td>-0.012180</td>\n",
       "      <td>-0.306341</td>\n",
       "      <td>0.239213</td>\n",
       "      <td>0.541859</td>\n",
       "      <td>-0.104716</td>\n",
       "      <td>-0.385629</td>\n",
       "      <td>0.703964</td>\n",
       "      <td>1.000000</td>\n",
       "      <td>0.191976</td>\n",
       "      <td>0.026824</td>\n",
       "      <td>0.010300</td>\n",
       "    </tr>\n",
       "    <tr>\n",
       "      <th>seats</th>\n",
       "      <td>0.007966</td>\n",
       "      <td>0.227217</td>\n",
       "      <td>-0.001053</td>\n",
       "      <td>-0.339059</td>\n",
       "      <td>-0.075309</td>\n",
       "      <td>-0.072745</td>\n",
       "      <td>0.027610</td>\n",
       "      <td>-0.470651</td>\n",
       "      <td>0.611093</td>\n",
       "      <td>0.191976</td>\n",
       "      <td>1.000000</td>\n",
       "      <td>-0.018333</td>\n",
       "      <td>0.010044</td>\n",
       "    </tr>\n",
       "    <tr>\n",
       "      <th>region</th>\n",
       "      <td>-0.015238</td>\n",
       "      <td>0.000674</td>\n",
       "      <td>0.065904</td>\n",
       "      <td>-0.002807</td>\n",
       "      <td>0.056454</td>\n",
       "      <td>0.022328</td>\n",
       "      <td>-0.010023</td>\n",
       "      <td>-0.004377</td>\n",
       "      <td>0.011522</td>\n",
       "      <td>0.026824</td>\n",
       "      <td>-0.018333</td>\n",
       "      <td>1.000000</td>\n",
       "      <td>-0.077225</td>\n",
       "    </tr>\n",
       "    <tr>\n",
       "      <th>sold_Y</th>\n",
       "      <td>-0.002815</td>\n",
       "      <td>-0.005021</td>\n",
       "      <td>-0.266525</td>\n",
       "      <td>0.011218</td>\n",
       "      <td>0.031986</td>\n",
       "      <td>0.019467</td>\n",
       "      <td>0.005381</td>\n",
       "      <td>-0.030033</td>\n",
       "      <td>0.013222</td>\n",
       "      <td>0.010300</td>\n",
       "      <td>0.010044</td>\n",
       "      <td>-0.077225</td>\n",
       "      <td>1.000000</td>\n",
       "    </tr>\n",
       "  </tbody>\n",
       "</table>\n",
       "</div>"
      ],
      "text/plain": [
       "                       year  km_driven  State or Province      fuel  \\\n",
       "year               1.000000   0.428724          -0.009710  0.032528   \n",
       "km_driven          0.428724   1.000000           0.008521 -0.246465   \n",
       "State or Province -0.009710   0.008521           1.000000 -0.007288   \n",
       "fuel               0.032528  -0.246465          -0.007288  1.000000   \n",
       "seller_type       -0.231768  -0.192874          -0.025496  0.036344   \n",
       "transmission      -0.248976  -0.201267          -0.030826  0.011047   \n",
       "owner              0.499779   0.281992          -0.016811 -0.016301   \n",
       "mileage           -0.331552  -0.178484           0.009439 -0.022593   \n",
       "engine            -0.018213   0.205973          -0.005225 -0.488228   \n",
       "max_power         -0.226559  -0.038243          -0.012180 -0.306341   \n",
       "seats              0.007966   0.227217          -0.001053 -0.339059   \n",
       "region            -0.015238   0.000674           0.065904 -0.002807   \n",
       "sold_Y            -0.002815  -0.005021          -0.266525  0.011218   \n",
       "\n",
       "                   seller_type  transmission     owner   mileage    engine  \\\n",
       "year                 -0.231768     -0.248976  0.499779 -0.331552 -0.018213   \n",
       "km_driven            -0.192874     -0.201267  0.281992 -0.178484  0.205973   \n",
       "State or Province    -0.025496     -0.030826 -0.016811  0.009439 -0.005225   \n",
       "fuel                  0.036344      0.011047 -0.016301 -0.022593 -0.488228   \n",
       "seller_type           1.000000      0.357727 -0.197541 -0.022948  0.119992   \n",
       "transmission          0.357727      1.000000 -0.141290 -0.178407  0.283188   \n",
       "owner                -0.197541     -0.141290  1.000000 -0.176261  0.007876   \n",
       "mileage              -0.022948     -0.178407 -0.176261  1.000000 -0.589928   \n",
       "engine                0.119992      0.283188  0.007876 -0.589928  1.000000   \n",
       "max_power             0.239213      0.541859 -0.104716 -0.385629  0.703964   \n",
       "seats                -0.075309     -0.072745  0.027610 -0.470651  0.611093   \n",
       "region                0.056454      0.022328 -0.010023 -0.004377  0.011522   \n",
       "sold_Y                0.031986      0.019467  0.005381 -0.030033  0.013222   \n",
       "\n",
       "                   max_power     seats    region    sold_Y  \n",
       "year               -0.226559  0.007966 -0.015238 -0.002815  \n",
       "km_driven          -0.038243  0.227217  0.000674 -0.005021  \n",
       "State or Province  -0.012180 -0.001053  0.065904 -0.266525  \n",
       "fuel               -0.306341 -0.339059 -0.002807  0.011218  \n",
       "seller_type         0.239213 -0.075309  0.056454  0.031986  \n",
       "transmission        0.541859 -0.072745  0.022328  0.019467  \n",
       "owner              -0.104716  0.027610 -0.010023  0.005381  \n",
       "mileage            -0.385629 -0.470651 -0.004377 -0.030033  \n",
       "engine              0.703964  0.611093  0.011522  0.013222  \n",
       "max_power           1.000000  0.191976  0.026824  0.010300  \n",
       "seats               0.191976  1.000000 -0.018333  0.010044  \n",
       "region              0.026824 -0.018333  1.000000 -0.077225  \n",
       "sold_Y              0.010300  0.010044 -0.077225  1.000000  "
      ]
     },
     "execution_count": 9,
     "metadata": {},
     "output_type": "execute_result"
    }
   ],
   "source": [
    "data.corr()"
   ]
  },
  {
   "cell_type": "markdown",
   "id": "38e4eedd",
   "metadata": {
    "id": "38e4eedd"
   },
   "source": [
    "* Not removing any columns because no column is highly correlated with each other"
   ]
  },
  {
   "cell_type": "code",
   "execution_count": 10,
   "id": "e8662fdb",
   "metadata": {
    "colab": {
     "base_uri": "https://localhost:8080/",
     "height": 206
    },
    "id": "e8662fdb",
    "outputId": "fded56f4-d657-4e10-cf3b-faea872bcf3d"
   },
   "outputs": [
    {
     "data": {
      "text/html": [
       "<div>\n",
       "<style scoped>\n",
       "    .dataframe tbody tr th:only-of-type {\n",
       "        vertical-align: middle;\n",
       "    }\n",
       "\n",
       "    .dataframe tbody tr th {\n",
       "        vertical-align: top;\n",
       "    }\n",
       "\n",
       "    .dataframe thead th {\n",
       "        text-align: right;\n",
       "    }\n",
       "</style>\n",
       "<table border=\"1\" class=\"dataframe\">\n",
       "  <thead>\n",
       "    <tr style=\"text-align: right;\">\n",
       "      <th></th>\n",
       "      <th>year</th>\n",
       "      <th>km_driven</th>\n",
       "      <th>State or Province</th>\n",
       "      <th>fuel</th>\n",
       "      <th>seller_type</th>\n",
       "      <th>transmission</th>\n",
       "      <th>owner</th>\n",
       "      <th>mileage</th>\n",
       "      <th>engine</th>\n",
       "      <th>max_power</th>\n",
       "      <th>seats</th>\n",
       "      <th>region</th>\n",
       "      <th>sold_Y</th>\n",
       "    </tr>\n",
       "  </thead>\n",
       "  <tbody>\n",
       "    <tr>\n",
       "      <th>0</th>\n",
       "      <td>7</td>\n",
       "      <td>145500</td>\n",
       "      <td>1</td>\n",
       "      <td>1</td>\n",
       "      <td>1</td>\n",
       "      <td>1</td>\n",
       "      <td>1</td>\n",
       "      <td>23.40</td>\n",
       "      <td>1248</td>\n",
       "      <td>74.00</td>\n",
       "      <td>5</td>\n",
       "      <td>1</td>\n",
       "      <td>1</td>\n",
       "    </tr>\n",
       "    <tr>\n",
       "      <th>1</th>\n",
       "      <td>7</td>\n",
       "      <td>120000</td>\n",
       "      <td>2</td>\n",
       "      <td>1</td>\n",
       "      <td>1</td>\n",
       "      <td>1</td>\n",
       "      <td>2</td>\n",
       "      <td>21.14</td>\n",
       "      <td>1498</td>\n",
       "      <td>103.52</td>\n",
       "      <td>5</td>\n",
       "      <td>1</td>\n",
       "      <td>1</td>\n",
       "    </tr>\n",
       "    <tr>\n",
       "      <th>2</th>\n",
       "      <td>15</td>\n",
       "      <td>140000</td>\n",
       "      <td>3</td>\n",
       "      <td>2</td>\n",
       "      <td>1</td>\n",
       "      <td>1</td>\n",
       "      <td>3</td>\n",
       "      <td>17.70</td>\n",
       "      <td>1497</td>\n",
       "      <td>78.00</td>\n",
       "      <td>5</td>\n",
       "      <td>2</td>\n",
       "      <td>1</td>\n",
       "    </tr>\n",
       "    <tr>\n",
       "      <th>3</th>\n",
       "      <td>11</td>\n",
       "      <td>127000</td>\n",
       "      <td>3</td>\n",
       "      <td>1</td>\n",
       "      <td>1</td>\n",
       "      <td>1</td>\n",
       "      <td>1</td>\n",
       "      <td>23.00</td>\n",
       "      <td>1396</td>\n",
       "      <td>90.00</td>\n",
       "      <td>5</td>\n",
       "      <td>2</td>\n",
       "      <td>1</td>\n",
       "    </tr>\n",
       "    <tr>\n",
       "      <th>4</th>\n",
       "      <td>14</td>\n",
       "      <td>120000</td>\n",
       "      <td>2</td>\n",
       "      <td>2</td>\n",
       "      <td>1</td>\n",
       "      <td>1</td>\n",
       "      <td>1</td>\n",
       "      <td>16.10</td>\n",
       "      <td>1298</td>\n",
       "      <td>88.20</td>\n",
       "      <td>5</td>\n",
       "      <td>1</td>\n",
       "      <td>1</td>\n",
       "    </tr>\n",
       "  </tbody>\n",
       "</table>\n",
       "</div>"
      ],
      "text/plain": [
       "   year  km_driven  State or Province  fuel  seller_type  transmission  owner  \\\n",
       "0     7     145500                  1     1            1             1      1   \n",
       "1     7     120000                  2     1            1             1      2   \n",
       "2    15     140000                  3     2            1             1      3   \n",
       "3    11     127000                  3     1            1             1      1   \n",
       "4    14     120000                  2     2            1             1      1   \n",
       "\n",
       "   mileage  engine  max_power  seats  region  sold_Y  \n",
       "0    23.40    1248      74.00      5       1       1  \n",
       "1    21.14    1498     103.52      5       1       1  \n",
       "2    17.70    1497      78.00      5       2       1  \n",
       "3    23.00    1396      90.00      5       2       1  \n",
       "4    16.10    1298      88.20      5       1       1  "
      ]
     },
     "execution_count": 10,
     "metadata": {},
     "output_type": "execute_result"
    }
   ],
   "source": [
    "data.head()"
   ]
  },
  {
   "cell_type": "code",
   "execution_count": 11,
   "id": "bb18341e",
   "metadata": {
    "colab": {
     "base_uri": "https://localhost:8080/"
    },
    "id": "bb18341e",
    "outputId": "05ba989c-24d6-49cc-cf61-bb216bb597a6"
   },
   "outputs": [
    {
     "data": {
      "text/plain": [
       "1    5215\n",
       "2    2016\n",
       "3     510\n",
       "4     159\n",
       "5       5\n",
       "Name: owner, dtype: int64"
      ]
     },
     "execution_count": 11,
     "metadata": {},
     "output_type": "execute_result"
    }
   ],
   "source": [
    "df['owner'].value_counts()"
   ]
  },
  {
   "cell_type": "code",
   "execution_count": 12,
   "id": "2380b68c",
   "metadata": {
    "colab": {
     "base_uri": "https://localhost:8080/"
    },
    "id": "2380b68c",
    "outputId": "2004e57e-f0db-48d6-84f6-90870b5740ba"
   },
   "outputs": [
    {
     "data": {
      "text/plain": [
       "Unnamed: 0           0\n",
       "Sales_ID             0\n",
       "name                 0\n",
       "year                 0\n",
       "selling_price        0\n",
       "km_driven            0\n",
       "State or Province    0\n",
       "City                 0\n",
       "fuel                 0\n",
       "seller_type          0\n",
       "transmission         0\n",
       "owner                0\n",
       "mileage              0\n",
       "engine               0\n",
       "max_power            0\n",
       "seats                0\n",
       "region               0\n",
       "brand                0\n",
       "sold_Y               0\n",
       "dtype: int64"
      ]
     },
     "execution_count": 12,
     "metadata": {},
     "output_type": "execute_result"
    }
   ],
   "source": [
    "df.isnull().sum()"
   ]
  },
  {
   "cell_type": "code",
   "execution_count": 13,
   "id": "84382a76",
   "metadata": {
    "id": "84382a76"
   },
   "outputs": [],
   "source": [
    "def scale(Xdata_train, Xdata_test):\n",
    "    scaler = MinMaxScaler()\n",
    "    Xdata_train=scaler.fit_transform(Xdata_train)\n",
    "    Xdata_test=scaler.transform(Xdata_test)\n",
    "    return Xdata_train, Xdata_test\n"
   ]
  },
  {
   "cell_type": "markdown",
   "id": "veGK6qxUpizb",
   "metadata": {
    "id": "veGK6qxUpizb"
   },
   "source": [
    "### 1.\tBuild an appropriate ML model/s on the data.\n",
    "### 2.\tCompare various ML models with appropriate regularization and/or hyper-parameter tuning.\n",
    "### 3.\tEvaluate the performance of the model.\n"
   ]
  },
  {
   "cell_type": "markdown",
   "id": "29432b2e",
   "metadata": {
    "id": "29432b2e"
   },
   "source": [
    "\n",
    "* **Models built:**\n",
    "    1. Linear Regression\n",
    "        * without PCA\n",
    "        * with PCA\n",
    "        * lasso regularization\n",
    "        * ridge regularization\n",
    "    2. KNN\n",
    "    3. Decision Tree\n",
    "    4. Random Forest\n",
    "    5. Boosting Algorithms\n",
    "        * Adaboost\n",
    "        * Gradient Boost\n",
    "        * XGBoost"
   ]
  },
  {
   "cell_type": "markdown",
   "id": "d735f154",
   "metadata": {
    "id": "d735f154"
   },
   "source": [
    "# Linear Regression (without PCA)"
   ]
  },
  {
   "cell_type": "code",
   "execution_count": 14,
   "id": "4ecdc730",
   "metadata": {
    "id": "4ecdc730"
   },
   "outputs": [],
   "source": [
    "LinearRegResults =pd.DataFrame()\n",
    "randomState=[42, 66, 80]\n",
    "for rs in randomState:\n",
    "    for t in np.arange(0.6,0.81,0.05):\n",
    "        Xdata_train, Xdata_test, Ydata_train, Ydata_test=train_test_split(data, df['selling_price'], train_size=t, random_state=rs)\n",
    "        Xdata_train, Xdata_test= scale(Xdata_train, Xdata_test)\n",
    "        \n",
    "        model = linear_model.LinearRegression()   \n",
    "        model.fit(Xdata_train, Ydata_train)     \n",
    "        data_predicted = model.predict(Xdata_test) \n",
    "        \n",
    "        MSE = mean_squared_error(Ydata_test, data_predicted)\n",
    "        R2_Score = r2_score(Ydata_test, data_predicted)  \n",
    "        LinearRegResults =LinearRegResults.append({'Algorithm':'Linear Regression','TrainSize':t, 'Random State': rs,\n",
    "                                       'R2_Score': R2_Score, 'MSE': MSE, },ignore_index=True)\n"
   ]
  },
  {
   "cell_type": "code",
   "execution_count": 15,
   "id": "66cd0484",
   "metadata": {
    "colab": {
     "base_uri": "https://localhost:8080/",
     "height": 206
    },
    "id": "66cd0484",
    "outputId": "51185f2a-f387-49e7-e409-1107379c8631"
   },
   "outputs": [
    {
     "data": {
      "text/html": [
       "<div>\n",
       "<style scoped>\n",
       "    .dataframe tbody tr th:only-of-type {\n",
       "        vertical-align: middle;\n",
       "    }\n",
       "\n",
       "    .dataframe tbody tr th {\n",
       "        vertical-align: top;\n",
       "    }\n",
       "\n",
       "    .dataframe thead th {\n",
       "        text-align: right;\n",
       "    }\n",
       "</style>\n",
       "<table border=\"1\" class=\"dataframe\">\n",
       "  <thead>\n",
       "    <tr style=\"text-align: right;\">\n",
       "      <th></th>\n",
       "      <th>Algorithm</th>\n",
       "      <th>MSE</th>\n",
       "      <th>R2_Score</th>\n",
       "      <th>Random State</th>\n",
       "      <th>TrainSize</th>\n",
       "    </tr>\n",
       "  </thead>\n",
       "  <tbody>\n",
       "    <tr>\n",
       "      <th>14</th>\n",
       "      <td>Linear Regression</td>\n",
       "      <td>2.282399e+11</td>\n",
       "      <td>0.695888</td>\n",
       "      <td>80.0</td>\n",
       "      <td>0.80</td>\n",
       "    </tr>\n",
       "    <tr>\n",
       "      <th>11</th>\n",
       "      <td>Linear Regression</td>\n",
       "      <td>2.099481e+11</td>\n",
       "      <td>0.685713</td>\n",
       "      <td>80.0</td>\n",
       "      <td>0.65</td>\n",
       "    </tr>\n",
       "    <tr>\n",
       "      <th>12</th>\n",
       "      <td>Linear Regression</td>\n",
       "      <td>2.088586e+11</td>\n",
       "      <td>0.684892</td>\n",
       "      <td>80.0</td>\n",
       "      <td>0.70</td>\n",
       "    </tr>\n",
       "    <tr>\n",
       "      <th>13</th>\n",
       "      <td>Linear Regression</td>\n",
       "      <td>2.188999e+11</td>\n",
       "      <td>0.684117</td>\n",
       "      <td>80.0</td>\n",
       "      <td>0.75</td>\n",
       "    </tr>\n",
       "    <tr>\n",
       "      <th>10</th>\n",
       "      <td>Linear Regression</td>\n",
       "      <td>2.161831e+11</td>\n",
       "      <td>0.679629</td>\n",
       "      <td>80.0</td>\n",
       "      <td>0.60</td>\n",
       "    </tr>\n",
       "  </tbody>\n",
       "</table>\n",
       "</div>"
      ],
      "text/plain": [
       "            Algorithm           MSE  R2_Score  Random State  TrainSize\n",
       "14  Linear Regression  2.282399e+11  0.695888          80.0       0.80\n",
       "11  Linear Regression  2.099481e+11  0.685713          80.0       0.65\n",
       "12  Linear Regression  2.088586e+11  0.684892          80.0       0.70\n",
       "13  Linear Regression  2.188999e+11  0.684117          80.0       0.75\n",
       "10  Linear Regression  2.161831e+11  0.679629          80.0       0.60"
      ]
     },
     "execution_count": 15,
     "metadata": {},
     "output_type": "execute_result"
    }
   ],
   "source": [
    "LinearRegResults.sort_values('R2_Score', ascending = False)[:5]"
   ]
  },
  {
   "cell_type": "code",
   "execution_count": 16,
   "id": "ce620de2",
   "metadata": {
    "colab": {
     "base_uri": "https://localhost:8080/"
    },
    "id": "ce620de2",
    "outputId": "f8f1956f-41a9-4e49-ac19-c9de24db2efb"
   },
   "outputs": [
    {
     "name": "stdout",
     "output_type": "stream",
     "text": [
      "Test data performance metrics:\n",
      "\n",
      "MSE :  228239921223.35864 \n",
      "R2_Score : 0.6958877120815488\n",
      "Train data performance metrics:\n",
      "\n",
      "MSE :  215363425250.78384 \n",
      "R2_Score : 0.6630517515150587\n"
     ]
    }
   ],
   "source": [
    "Xdata_train, Xdata_test, Ydata_train, Ydata_test=train_test_split(data, df['selling_price'], train_size=0.8, random_state=80)\n",
    "Xdata_train, Xdata_test= scale(Xdata_train, Xdata_test)\n",
    "\n",
    "\n",
    "model = linear_model.LinearRegression()\n",
    "model.fit(Xdata_train, Ydata_train)     \n",
    "data_predicted = model.predict(Xdata_test)\n",
    "\n",
    "MSE = mean_squared_error(Ydata_test, data_predicted)\n",
    "R2_Score = r2_score(Ydata_test, data_predicted)\n",
    "print('Test data performance metrics:')\n",
    "print(\"\\nMSE : \", MSE , \"\\nR2_Score :\", R2_Score)\n",
    "       \n",
    "    \n",
    "data_predicted1 = model.predict(Xdata_train)\n",
    "MSE1 = mean_squared_error(Ydata_train, data_predicted1)\n",
    "R2_Score1 = r2_score(Ydata_train, data_predicted1)\n",
    "\n",
    "print('Train data performance metrics:')\n",
    "print(\"\\nMSE : \", MSE1 , \"\\nR2_Score :\", R2_Score1)"
   ]
  },
  {
   "cell_type": "markdown",
   "id": "5bf93611",
   "metadata": {},
   "source": [
    "* The Linear Regression model works on this dataset with a training R2 Score of 0.66 and testing R2 score of 0.69.\n",
    "* The dataset is scaled here."
   ]
  },
  {
   "cell_type": "code",
   "execution_count": 17,
   "id": "lDJfMYWnpyIJ",
   "metadata": {
    "id": "lDJfMYWnpyIJ"
   },
   "outputs": [],
   "source": [
    "performanceMetrics = performanceMetrics.append({'Algorithm':'Linear Regression(without PCA)','R2 Score':R2_Score,'MSE':MSE},ignore_index=True)"
   ]
  },
  {
   "cell_type": "markdown",
   "id": "68c2544c",
   "metadata": {
    "id": "68c2544c"
   },
   "source": [
    "# Linear Regression (with PCA)"
   ]
  },
  {
   "cell_type": "code",
   "execution_count": 18,
   "id": "89e31959",
   "metadata": {
    "colab": {
     "base_uri": "https://localhost:8080/"
    },
    "id": "89e31959",
    "outputId": "21175d17-db85-49e2-f1e5-72584a421f38"
   },
   "outputs": [
    {
     "data": {
      "text/plain": [
       "PCA(n_components=3)"
      ]
     },
     "execution_count": 18,
     "metadata": {},
     "output_type": "execute_result"
    }
   ],
   "source": [
    "from sklearn.decomposition import PCA\n",
    "pca = PCA(n_components=3)\n",
    "pca\n"
   ]
  },
  {
   "cell_type": "code",
   "execution_count": 19,
   "id": "2ab1cd14",
   "metadata": {
    "colab": {
     "base_uri": "https://localhost:8080/"
    },
    "id": "2ab1cd14",
    "outputId": "5dec656e-1aa1-4a39-9ae8-2197722be31d"
   },
   "outputs": [
    {
     "name": "stdout",
     "output_type": "stream",
     "text": [
      "7905\n"
     ]
    }
   ],
   "source": [
    "principalComponents = pca.fit_transform(data)\n",
    "print(len(principalComponents))\n"
   ]
  },
  {
   "cell_type": "code",
   "execution_count": 20,
   "id": "3c6fdde1",
   "metadata": {
    "colab": {
     "base_uri": "https://localhost:8080/"
    },
    "id": "3c6fdde1",
    "outputId": "8c200448-21ea-4a8b-e3ce-c0d080347363"
   },
   "outputs": [
    {
     "data": {
      "text/plain": [
       "(7905, 3)"
      ]
     },
     "execution_count": 20,
     "metadata": {},
     "output_type": "execute_result"
    }
   ],
   "source": [
    "principalComponents.shape\n"
   ]
  },
  {
   "cell_type": "code",
   "execution_count": 21,
   "id": "02c43d0c",
   "metadata": {
    "colab": {
     "base_uri": "https://localhost:8080/"
    },
    "id": "02c43d0c",
    "outputId": "8b5e5d82-9509-4420-b015-97e107493add"
   },
   "outputs": [
    {
     "name": "stdout",
     "output_type": "stream",
     "text": [
      "[[ 7.63020755e+04  3.50563469e+02  2.97104344e+00]\n",
      " [ 5.08025744e+04  5.28355043e+01  1.61242819e+01]\n",
      " [ 7.08025400e+04  9.16530429e+01 -7.13350530e+00]\n",
      " ...\n",
      " [ 5.08021183e+04  3.04043825e+02 -4.29327051e-01]\n",
      " [-4.41974525e+04 -1.68040187e+01 -2.35343078e+01]\n",
      " [-4.41974525e+04 -1.68013150e+01 -2.36383815e+01]]\n"
     ]
    }
   ],
   "source": [
    "print(principalComponents[:])\n"
   ]
  },
  {
   "cell_type": "code",
   "execution_count": 22,
   "id": "b5700187",
   "metadata": {
    "colab": {
     "base_uri": "https://localhost:8080/"
    },
    "id": "b5700187",
    "outputId": "99962d0f-8720-403e-df43-73f97fdd8191"
   },
   "outputs": [
    {
     "data": {
      "text/plain": [
       "array([9.99924152e-01, 7.55997679e-05, 1.85679850e-07])"
      ]
     },
     "execution_count": 22,
     "metadata": {},
     "output_type": "execute_result"
    }
   ],
   "source": [
    "pca.explained_variance_ratio_\n"
   ]
  },
  {
   "cell_type": "code",
   "execution_count": 23,
   "id": "076f1dfe",
   "metadata": {
    "colab": {
     "base_uri": "https://localhost:8080/",
     "height": 313
    },
    "id": "076f1dfe",
    "outputId": "749fca5c-d914-40cb-b8c2-fad4ee4d9de6"
   },
   "outputs": [
    {
     "data": {
      "text/plain": [
       "Text(0, 0.5, 'Data_explained')"
      ]
     },
     "execution_count": 23,
     "metadata": {},
     "output_type": "execute_result"
    },
    {
     "data": {
      "image/png": "[encoded data removed]",
      "text/plain": [
       "<Figure size 432x288 with 1 Axes>"
      ]
     },
     "metadata": {
      "needs_background": "light"
     },
     "output_type": "display_data"
    }
   ],
   "source": [
    "plt.plot(range(3), pca.explained_variance_ratio_ , label='Variance-ratio')\n",
    "plt.plot(range(3), np.cumsum(pca.explained_variance_ratio_) , label='cumulative variance-ratio')\n",
    "plt.title('Component-wise and Cumulative Explained Variance')\n",
    "plt.xlabel('No. of components')\n",
    "plt.ylabel('Data_explained')\n"
   ]
  },
  {
   "cell_type": "code",
   "execution_count": 24,
   "id": "58633253",
   "metadata": {
    "id": "58633253"
   },
   "outputs": [],
   "source": [
    "pcaResults =pd.DataFrame()\n",
    "randomState=[42, 66, 80]\n",
    "for rs in randomState:\n",
    "    for t in np.arange(0.6,0.81,0.05):\n",
    "        Xdata_train, Xdata_test, Ydata_train, Ydata_test=train_test_split(principalComponents[:], df['selling_price'], train_size=t, random_state=rs)\n",
    "        model = linear_model.LinearRegression()  #creating a dummy model \n",
    "        model.fit(Xdata_train, Ydata_train)     #apply fit function (model has to be applied on the data)\n",
    "        data_predicted = model.predict(Xdata_test) #predict function contain values of target for Xdata_test\n",
    "        MSE = mean_squared_error(Ydata_test, data_predicted)\n",
    "        R2_Score = r2_score(Ydata_test, data_predicted) #if data_predicted = Ydata_test is 1 , then it's correct \n",
    "        pcaResults =pcaResults.append({'Algorithm':'Linear Regression','TrainSize':t, 'Random State': rs,\n",
    "                                       'R2_Score': R2_Score, 'MSE': MSE, },ignore_index=True)\n"
   ]
  },
  {
   "cell_type": "code",
   "execution_count": 25,
   "id": "676de36a",
   "metadata": {
    "colab": {
     "base_uri": "https://localhost:8080/",
     "height": 206
    },
    "id": "676de36a",
    "outputId": "a8aae0b3-6d8f-4057-ab81-f1ae8524fb43"
   },
   "outputs": [
    {
     "data": {
      "text/html": [
       "<div>\n",
       "<style scoped>\n",
       "    .dataframe tbody tr th:only-of-type {\n",
       "        vertical-align: middle;\n",
       "    }\n",
       "\n",
       "    .dataframe tbody tr th {\n",
       "        vertical-align: top;\n",
       "    }\n",
       "\n",
       "    .dataframe thead th {\n",
       "        text-align: right;\n",
       "    }\n",
       "</style>\n",
       "<table border=\"1\" class=\"dataframe\">\n",
       "  <thead>\n",
       "    <tr style=\"text-align: right;\">\n",
       "      <th></th>\n",
       "      <th>Algorithm</th>\n",
       "      <th>MSE</th>\n",
       "      <th>R2_Score</th>\n",
       "      <th>Random State</th>\n",
       "      <th>TrainSize</th>\n",
       "    </tr>\n",
       "  </thead>\n",
       "  <tbody>\n",
       "    <tr>\n",
       "      <th>14</th>\n",
       "      <td>Linear Regression</td>\n",
       "      <td>2.745591e+11</td>\n",
       "      <td>0.634171</td>\n",
       "      <td>80.0</td>\n",
       "      <td>0.80</td>\n",
       "    </tr>\n",
       "    <tr>\n",
       "      <th>11</th>\n",
       "      <td>Linear Regression</td>\n",
       "      <td>2.552853e+11</td>\n",
       "      <td>0.617845</td>\n",
       "      <td>80.0</td>\n",
       "      <td>0.65</td>\n",
       "    </tr>\n",
       "    <tr>\n",
       "      <th>12</th>\n",
       "      <td>Linear Regression</td>\n",
       "      <td>2.534235e+11</td>\n",
       "      <td>0.617657</td>\n",
       "      <td>80.0</td>\n",
       "      <td>0.70</td>\n",
       "    </tr>\n",
       "    <tr>\n",
       "      <th>13</th>\n",
       "      <td>Linear Regression</td>\n",
       "      <td>2.660586e+11</td>\n",
       "      <td>0.616065</td>\n",
       "      <td>80.0</td>\n",
       "      <td>0.75</td>\n",
       "    </tr>\n",
       "    <tr>\n",
       "      <th>10</th>\n",
       "      <td>Linear Regression</td>\n",
       "      <td>2.626368e+11</td>\n",
       "      <td>0.610788</td>\n",
       "      <td>80.0</td>\n",
       "      <td>0.60</td>\n",
       "    </tr>\n",
       "  </tbody>\n",
       "</table>\n",
       "</div>"
      ],
      "text/plain": [
       "            Algorithm           MSE  R2_Score  Random State  TrainSize\n",
       "14  Linear Regression  2.745591e+11  0.634171          80.0       0.80\n",
       "11  Linear Regression  2.552853e+11  0.617845          80.0       0.65\n",
       "12  Linear Regression  2.534235e+11  0.617657          80.0       0.70\n",
       "13  Linear Regression  2.660586e+11  0.616065          80.0       0.75\n",
       "10  Linear Regression  2.626368e+11  0.610788          80.0       0.60"
      ]
     },
     "execution_count": 25,
     "metadata": {},
     "output_type": "execute_result"
    }
   ],
   "source": [
    "pcaResults.sort_values('R2_Score', ascending = False)[:5]"
   ]
  },
  {
   "cell_type": "code",
   "execution_count": 26,
   "id": "075cc015",
   "metadata": {
    "colab": {
     "base_uri": "https://localhost:8080/"
    },
    "id": "075cc015",
    "outputId": "ed527ab0-6d59-47b6-a953-ddc2e3c19c7d"
   },
   "outputs": [
    {
     "name": "stdout",
     "output_type": "stream",
     "text": [
      "Test Data performance:\n",
      "\n",
      "MSE :  274559120341.32303 \n",
      "R2_Score 0.6341709118705572\n",
      "Train Data performance:\n",
      "\n",
      "MSE :  260821309322.22675 \n",
      "R2_Score : 0.5919303231672874\n"
     ]
    }
   ],
   "source": [
    "Xdata_train, Xdata_test, Ydata_train, Ydata_test=train_test_split(principalComponents, df['selling_price'], train_size=0.8, random_state=80)\n",
    "\n",
    "model = linear_model.LinearRegression()\n",
    "model.fit(Xdata_train, Ydata_train)     \n",
    "data_predicted = model.predict(Xdata_test)\n",
    "\n",
    "MSE = mean_squared_error(Ydata_test, data_predicted)\n",
    "R2_Score = r2_score(Ydata_test, data_predicted)  \n",
    "print('Test Data performance:')\n",
    "print(\"\\nMSE : \", MSE , \"\\nR2_Score\", R2_Score)\n",
    "       \n",
    "    \n",
    "    \n",
    "data_predicted1 = model.predict(Xdata_train)\n",
    "MSE1 = mean_squared_error(Ydata_train, data_predicted1)\n",
    "R2_Score1 = r2_score(Ydata_train, data_predicted1)\n",
    "print('Train Data performance:')\n",
    "print(\"\\nMSE : \", MSE1 , \"\\nR2_Score :\", R2_Score1)"
   ]
  },
  {
   "cell_type": "markdown",
   "id": "308c1864",
   "metadata": {},
   "source": [
    "* The Linear Regression model works on this dataset with a training R2 Score of 0.59 and testing R2 score of 0.63. Here the features have been sent after performing PCA.\n",
    "* The performance metrics show that the model doesn't perform really well on this dataset.\n"
   ]
  },
  {
   "cell_type": "code",
   "execution_count": 27,
   "id": "DLCZIH3KqfeR",
   "metadata": {
    "id": "DLCZIH3KqfeR"
   },
   "outputs": [],
   "source": [
    "performanceMetrics =performanceMetrics.append({'Algorithm':'Linear Regression(with PCA)','R2 Score':R2_Score,'MSE':MSE},ignore_index=True)"
   ]
  },
  {
   "cell_type": "markdown",
   "id": "62916f8c",
   "metadata": {
    "id": "62916f8c"
   },
   "source": [
    "# Ridge"
   ]
  },
  {
   "cell_type": "code",
   "execution_count": 28,
   "id": "895322a3",
   "metadata": {
    "id": "895322a3"
   },
   "outputs": [],
   "source": [
    "ridgeResults =pd.DataFrame()\n",
    "randomState=[42, 66, 80]\n",
    "alpha = [0.05,0.1,1,10,20]\n",
    "\n",
    "for rs in randomState:\n",
    "    for t in np.arange(0.6,0.81,0.05):\n",
    "        for a in alpha:\n",
    "            Xdata_train, Xdata_test, Ydata_train, Ydata_test=train_test_split(data, df['selling_price'], train_size=t, random_state=rs)\n",
    "            ridgeModel = linear_model.Ridge(alpha= a)\n",
    "            ridgeModel.fit(Xdata_train, Ydata_train)\n",
    "            ridgePredicted = ridgeModel.predict(Xdata_test)\n",
    "            MSE = mean_squared_error(Ydata_test, ridgePredicted )\n",
    "            R2_Score = r2_score(Ydata_test, ridgePredicted ) \n",
    "            ridgeResults = ridgeResults.append({'Algorithm':'Ridge','TrainSize':t, 'Random State': rs, 'alpha':a,\n",
    "                                       'R2_Score': R2_Score, 'MSE': MSE, },ignore_index=True)\n"
   ]
  },
  {
   "cell_type": "code",
   "execution_count": 29,
   "id": "81cccc52",
   "metadata": {
    "colab": {
     "base_uri": "https://localhost:8080/",
     "height": 206
    },
    "id": "81cccc52",
    "outputId": "51b5bf7b-1977-4a3a-efc6-f3e88fb0b4c4"
   },
   "outputs": [
    {
     "data": {
      "text/html": [
       "<div>\n",
       "<style scoped>\n",
       "    .dataframe tbody tr th:only-of-type {\n",
       "        vertical-align: middle;\n",
       "    }\n",
       "\n",
       "    .dataframe tbody tr th {\n",
       "        vertical-align: top;\n",
       "    }\n",
       "\n",
       "    .dataframe thead th {\n",
       "        text-align: right;\n",
       "    }\n",
       "</style>\n",
       "<table border=\"1\" class=\"dataframe\">\n",
       "  <thead>\n",
       "    <tr style=\"text-align: right;\">\n",
       "      <th></th>\n",
       "      <th>Algorithm</th>\n",
       "      <th>MSE</th>\n",
       "      <th>R2_Score</th>\n",
       "      <th>Random State</th>\n",
       "      <th>TrainSize</th>\n",
       "      <th>alpha</th>\n",
       "    </tr>\n",
       "  </thead>\n",
       "  <tbody>\n",
       "    <tr>\n",
       "      <th>70</th>\n",
       "      <td>Ridge</td>\n",
       "      <td>2.282402e+11</td>\n",
       "      <td>0.695887</td>\n",
       "      <td>80.0</td>\n",
       "      <td>0.8</td>\n",
       "      <td>0.05</td>\n",
       "    </tr>\n",
       "    <tr>\n",
       "      <th>71</th>\n",
       "      <td>Ridge</td>\n",
       "      <td>2.282404e+11</td>\n",
       "      <td>0.695887</td>\n",
       "      <td>80.0</td>\n",
       "      <td>0.8</td>\n",
       "      <td>0.10</td>\n",
       "    </tr>\n",
       "    <tr>\n",
       "      <th>72</th>\n",
       "      <td>Ridge</td>\n",
       "      <td>2.282449e+11</td>\n",
       "      <td>0.695881</td>\n",
       "      <td>80.0</td>\n",
       "      <td>0.8</td>\n",
       "      <td>1.00</td>\n",
       "    </tr>\n",
       "    <tr>\n",
       "      <th>73</th>\n",
       "      <td>Ridge</td>\n",
       "      <td>2.282957e+11</td>\n",
       "      <td>0.695813</td>\n",
       "      <td>80.0</td>\n",
       "      <td>0.8</td>\n",
       "      <td>10.00</td>\n",
       "    </tr>\n",
       "    <tr>\n",
       "      <th>74</th>\n",
       "      <td>Ridge</td>\n",
       "      <td>2.283640e+11</td>\n",
       "      <td>0.695722</td>\n",
       "      <td>80.0</td>\n",
       "      <td>0.8</td>\n",
       "      <td>20.00</td>\n",
       "    </tr>\n",
       "  </tbody>\n",
       "</table>\n",
       "</div>"
      ],
      "text/plain": [
       "   Algorithm           MSE  R2_Score  Random State  TrainSize  alpha\n",
       "70     Ridge  2.282402e+11  0.695887          80.0        0.8   0.05\n",
       "71     Ridge  2.282404e+11  0.695887          80.0        0.8   0.10\n",
       "72     Ridge  2.282449e+11  0.695881          80.0        0.8   1.00\n",
       "73     Ridge  2.282957e+11  0.695813          80.0        0.8  10.00\n",
       "74     Ridge  2.283640e+11  0.695722          80.0        0.8  20.00"
      ]
     },
     "execution_count": 29,
     "metadata": {},
     "output_type": "execute_result"
    }
   ],
   "source": [
    "ridgeResults.sort_values('R2_Score', ascending = False)[:5]"
   ]
  },
  {
   "cell_type": "code",
   "execution_count": 30,
   "id": "7eb0705a",
   "metadata": {
    "id": "7eb0705a"
   },
   "outputs": [],
   "source": [
    "ridgeModel=linear_model.Ridge(alpha=0.05)\n",
    "\n",
    "Xdata_train, Xdata_test, Ydata_train, Ydata_test=train_test_split(data, df['selling_price'], train_size=0.8, random_state=80)\n",
    "Xdata_train, Xdata_test= scale(Xdata_train, Xdata_test)\n",
    "\n",
    "ridgeModel.fit(Xdata_train,Ydata_train)\n",
    "ridge_Predicted=ridgeModel.predict(Xdata_test)\n",
    "ridge_trainPredicted=ridgeModel.predict(Xdata_train)"
   ]
  },
  {
   "cell_type": "code",
   "execution_count": 31,
   "id": "2e63ce31",
   "metadata": {
    "colab": {
     "base_uri": "https://localhost:8080/"
    },
    "id": "2e63ce31",
    "outputId": "0064a79d-27a6-4816-f27c-dce603e01b6f"
   },
   "outputs": [
    {
     "name": "stdout",
     "output_type": "stream",
     "text": [
      "Test Data performance:\n",
      "Mean squared error: 228297811231.92\n",
      "R Square score: 0.70\n",
      "Train Data Metrics:\n",
      "\n",
      "Mean squared error: 215364574831.63\n",
      "R Square score: 0.66\n"
     ]
    }
   ],
   "source": [
    "print('Test Data performance:')\n",
    "print('Mean squared error: %.2f' %mean_squared_error(Ydata_test,ridge_Predicted))\n",
    "print('R Square score: %.2f' %r2_score(Ydata_test,ridge_Predicted))\n",
    "print('Train Data Metrics:\\n')\n",
    "print('Mean squared error: %.2f' %mean_squared_error(Ydata_train,ridge_trainPredicted))\n",
    "print('R Square score: %.2f' %r2_score(Ydata_train,ridge_trainPredicted))"
   ]
  },
  {
   "cell_type": "markdown",
   "id": "fd2ff18b",
   "metadata": {},
   "source": [
    "* The Linear Regression model works on this dataset with a training R2 Score of 0.66 and testing R2 score of 0.70. Here the features have been sent after Ridge regularisation.\n",
    "* The performance metrics show that the model doesn't perform really well on this dataset but better than the one with PCA."
   ]
  },
  {
   "cell_type": "code",
   "execution_count": 32,
   "id": "8Q-2dLIysE6k",
   "metadata": {
    "id": "8Q-2dLIysE6k"
   },
   "outputs": [],
   "source": [
    "performanceMetrics =performanceMetrics.append({'Algorithm':'Linear Regression(with Ridge)','R2 Score':r2_score(Ydata_test,ridge_Predicted),'MSE':mean_squared_error(Ydata_test,ridge_Predicted),'Parameters':'Alpha=0.05'},ignore_index=True)"
   ]
  },
  {
   "cell_type": "markdown",
   "id": "60dce8e8",
   "metadata": {
    "id": "60dce8e8"
   },
   "source": [
    "# Lasso"
   ]
  },
  {
   "cell_type": "code",
   "execution_count": 33,
   "id": "702b3abd",
   "metadata": {
    "id": "702b3abd"
   },
   "outputs": [],
   "source": [
    "lassoResults =pd.DataFrame()\n",
    "randomState=[42, 66, 80]\n",
    "alpha = [0.05,0.1,1,10,20, 25,30,50,100]\n",
    "\n",
    "for rs in randomState:\n",
    "    for t in np.arange(0.6,0.81,0.05):\n",
    "        for a in alpha:\n",
    "            Xdata_train, Xdata_test, Ydata_train, Ydata_test=train_test_split(data, df['selling_price'], train_size=t, random_state=rs)\n",
    "            Xdata_train, Xdata_test= scale(Xdata_train, Xdata_test)\n",
    "            \n",
    "            lassoModel = linear_model.Lasso(alpha = a)\n",
    "            lassoModel.fit(Xdata_train, Ydata_train)\n",
    "            lassoPredicted = lassoModel.predict(Xdata_test)\n",
    "            \n",
    "            MSE = mean_squared_error(Ydata_test, lassoPredicted )\n",
    "            R2_Score = r2_score(Ydata_test, lassoPredicted ) #if data_predicted = Ydata_test is 1 , then it's correct \n",
    "            lassoResults =lassoResults.append({'Algorithm':'Lasso','TrainSize':t, 'Random State': rs,'alpha':a,\n",
    "                                       'R2_Score': R2_Score, 'MSE': MSE, },ignore_index=True)\n"
   ]
  },
  {
   "cell_type": "code",
   "execution_count": 34,
   "id": "24671376",
   "metadata": {
    "colab": {
     "base_uri": "https://localhost:8080/",
     "height": 206
    },
    "id": "24671376",
    "outputId": "6e61242f-4bc7-4cf8-96e4-1d35eed8f944"
   },
   "outputs": [
    {
     "data": {
      "text/html": [
       "<div>\n",
       "<style scoped>\n",
       "    .dataframe tbody tr th:only-of-type {\n",
       "        vertical-align: middle;\n",
       "    }\n",
       "\n",
       "    .dataframe tbody tr th {\n",
       "        vertical-align: top;\n",
       "    }\n",
       "\n",
       "    .dataframe thead th {\n",
       "        text-align: right;\n",
       "    }\n",
       "</style>\n",
       "<table border=\"1\" class=\"dataframe\">\n",
       "  <thead>\n",
       "    <tr style=\"text-align: right;\">\n",
       "      <th></th>\n",
       "      <th>Algorithm</th>\n",
       "      <th>MSE</th>\n",
       "      <th>R2_Score</th>\n",
       "      <th>Random State</th>\n",
       "      <th>TrainSize</th>\n",
       "      <th>alpha</th>\n",
       "    </tr>\n",
       "  </thead>\n",
       "  <tbody>\n",
       "    <tr>\n",
       "      <th>126</th>\n",
       "      <td>Lasso</td>\n",
       "      <td>2.282401e+11</td>\n",
       "      <td>0.695887</td>\n",
       "      <td>80.0</td>\n",
       "      <td>0.8</td>\n",
       "      <td>0.05</td>\n",
       "    </tr>\n",
       "    <tr>\n",
       "      <th>127</th>\n",
       "      <td>Lasso</td>\n",
       "      <td>2.282403e+11</td>\n",
       "      <td>0.695887</td>\n",
       "      <td>80.0</td>\n",
       "      <td>0.8</td>\n",
       "      <td>0.10</td>\n",
       "    </tr>\n",
       "    <tr>\n",
       "      <th>128</th>\n",
       "      <td>Lasso</td>\n",
       "      <td>2.282434e+11</td>\n",
       "      <td>0.695883</td>\n",
       "      <td>80.0</td>\n",
       "      <td>0.8</td>\n",
       "      <td>1.00</td>\n",
       "    </tr>\n",
       "    <tr>\n",
       "      <th>129</th>\n",
       "      <td>Lasso</td>\n",
       "      <td>2.282752e+11</td>\n",
       "      <td>0.695841</td>\n",
       "      <td>80.0</td>\n",
       "      <td>0.8</td>\n",
       "      <td>10.00</td>\n",
       "    </tr>\n",
       "    <tr>\n",
       "      <th>130</th>\n",
       "      <td>Lasso</td>\n",
       "      <td>2.283110e+11</td>\n",
       "      <td>0.695793</td>\n",
       "      <td>80.0</td>\n",
       "      <td>0.8</td>\n",
       "      <td>20.00</td>\n",
       "    </tr>\n",
       "  </tbody>\n",
       "</table>\n",
       "</div>"
      ],
      "text/plain": [
       "    Algorithm           MSE  R2_Score  Random State  TrainSize  alpha\n",
       "126     Lasso  2.282401e+11  0.695887          80.0        0.8   0.05\n",
       "127     Lasso  2.282403e+11  0.695887          80.0        0.8   0.10\n",
       "128     Lasso  2.282434e+11  0.695883          80.0        0.8   1.00\n",
       "129     Lasso  2.282752e+11  0.695841          80.0        0.8  10.00\n",
       "130     Lasso  2.283110e+11  0.695793          80.0        0.8  20.00"
      ]
     },
     "execution_count": 34,
     "metadata": {},
     "output_type": "execute_result"
    }
   ],
   "source": [
    "lassoResults.sort_values('R2_Score',ascending=False)[:5]"
   ]
  },
  {
   "cell_type": "code",
   "execution_count": 35,
   "id": "47dc544d",
   "metadata": {
    "colab": {
     "base_uri": "https://localhost:8080/"
    },
    "id": "47dc544d",
    "outputId": "23f58dd4-c0e4-4cdf-80da-8b261bf48f1d"
   },
   "outputs": [
    {
     "name": "stdout",
     "output_type": "stream",
     "text": [
      "Test Data performance:\n",
      "Mean squared error: 228240090693.53\n",
      "R square score: 0.70\n",
      "\n",
      "Training Data performance:\n",
      "Mean squared error: 215363425257.81\n",
      "R Square score: 0.66\n"
     ]
    }
   ],
   "source": [
    "Xdata_train, Xdata_test, Ydata_train, Ydata_test = train_test_split(data, df['selling_price'],train_size=0.80, random_state=80)\n",
    "Xdata_train, Xdata_test= scale(Xdata_train, Xdata_test)\n",
    "\n",
    "lassoModel = linear_model.Lasso(alpha =0.05)\n",
    "lassoModel.fit(Xdata_train, Ydata_train)\n",
    "lassoPredicted = lassoModel.predict(Xdata_test)\n",
    "lassoTrainPredicted= lassoModel.predict(Xdata_train)\n",
    "\n",
    "print('Test Data performance:')\n",
    "print('Mean squared error: %.2f'\n",
    "     % mean_squared_error(Ydata_test, lassoPredicted)) \n",
    "\n",
    "\n",
    "print('R square score: %.2f' % r2_score (Ydata_test, lassoPredicted))\n",
    "\n",
    "print('\\nTraining Data performance:')\n",
    "print('Mean squared error: %.2f' %mean_squared_error(Ydata_train,lassoTrainPredicted))\n",
    "print('R Square score: %.2f' %r2_score(Ydata_train,lassoTrainPredicted))"
   ]
  },
  {
   "cell_type": "markdown",
   "id": "1ff25bae",
   "metadata": {},
   "source": [
    "* The Linear Regression model works on this dataset with a training R2 Score of 0.66 and testing R2 score of 0.70. Here the features have been sent after performing Lasso regularisation.\n",
    "* The performance metrics show that the model doesn't perform really well on this dataset but better than the one with PCA.\n",
    "* The performance metrics of both regularisation have no major difference."
   ]
  },
  {
   "cell_type": "code",
   "execution_count": 36,
   "id": "jUbPki3-sg83",
   "metadata": {
    "id": "jUbPki3-sg83"
   },
   "outputs": [],
   "source": [
    "performanceMetrics =performanceMetrics.append({'Algorithm':'Linear Regression(with Lasso)','R2 Score':r2_score (Ydata_test, lassoPredicted),'MSE':mean_squared_error(Ydata_test, lassoPredicted),'Parameters':'Alpha=0.05'},ignore_index=True)"
   ]
  },
  {
   "cell_type": "markdown",
   "id": "bdbadccb",
   "metadata": {
    "id": "bdbadccb"
   },
   "source": [
    "# KNN"
   ]
  },
  {
   "cell_type": "code",
   "execution_count": 38,
   "id": "14c67d08",
   "metadata": {
    "id": "14c67d08"
   },
   "outputs": [
    {
     "name": "stderr",
     "output_type": "stream",
     "text": [
      "C:\\Users\\tanishajain8\\Anaconda3\\lib\\site-packages\\sklearn\\model_selection\\_search.py:918: UserWarning: One or more of the test scores are non-finite: [       nan        nan        nan        nan        nan        nan\n",
      "        nan        nan        nan        nan        nan        nan\n",
      "        nan        nan        nan        nan        nan        nan\n",
      "        nan        nan        nan        nan        nan        nan\n",
      "        nan        nan        nan        nan        nan        nan\n",
      "        nan        nan        nan        nan        nan        nan\n",
      " 0.77179288 0.79785261 0.77179288 0.79785261 0.76925296 0.80299105\n",
      " 0.76925296 0.80299105 0.76059218 0.8016361  0.76059218 0.8016361\n",
      " 0.75667978 0.80286862 0.75667978 0.80286862 0.74940167 0.80205559\n",
      " 0.74940167 0.80205559 0.7451839  0.80247007 0.7451839  0.80247007\n",
      " 0.73879921 0.80129523 0.73879921 0.80129523 0.73589754 0.80153352\n",
      " 0.73589754 0.80153352 0.73394082 0.80119503 0.73394082 0.80119503\n",
      "        nan        nan        nan        nan        nan        nan\n",
      "        nan        nan        nan        nan        nan        nan\n",
      "        nan        nan        nan        nan        nan        nan\n",
      "        nan        nan        nan        nan        nan        nan\n",
      "        nan        nan        nan        nan        nan        nan\n",
      "        nan        nan        nan        nan        nan        nan\n",
      " 0.77180167 0.79785646 0.77180167 0.79785646 0.76925319 0.80299162\n",
      " 0.76925319 0.80299162 0.76056357 0.80162384 0.76056357 0.80162384\n",
      " 0.75668519 0.80287265 0.75668519 0.80287265 0.74944443 0.80208813\n",
      " 0.74944443 0.80208813 0.74518373 0.80247183 0.74518373 0.80247183\n",
      " 0.73879713 0.80129459 0.73879713 0.80129459 0.73589677 0.8015331\n",
      " 0.73589677 0.8015331  0.73394167 0.80119515 0.73394167 0.80119515\n",
      "        nan        nan        nan        nan        nan        nan\n",
      "        nan        nan        nan        nan        nan        nan\n",
      "        nan        nan        nan        nan        nan        nan\n",
      "        nan        nan        nan        nan        nan        nan\n",
      "        nan        nan        nan        nan        nan        nan\n",
      "        nan        nan        nan        nan        nan        nan\n",
      " 0.77179288 0.79785261 0.77179288 0.79785261 0.76925296 0.80299105\n",
      " 0.76925296 0.80299105 0.76059218 0.8016361  0.76059218 0.8016361\n",
      " 0.75667978 0.80286862 0.75667978 0.80286862 0.74940167 0.80205559\n",
      " 0.74940167 0.80205559 0.7451839  0.80247007 0.7451839  0.80247007\n",
      " 0.73879921 0.80129523 0.73879921 0.80129523 0.73589754 0.80153352\n",
      " 0.73589754 0.80153352 0.73394082 0.80119503 0.73394082 0.80119503\n",
      "        nan        nan        nan        nan        nan        nan\n",
      "        nan        nan        nan        nan        nan        nan\n",
      "        nan        nan        nan        nan        nan        nan\n",
      "        nan        nan        nan        nan        nan        nan\n",
      "        nan        nan        nan        nan        nan        nan\n",
      "        nan        nan        nan        nan        nan        nan\n",
      " 0.77181075 0.79786992 0.77181075 0.79786992 0.76923693 0.80298719\n",
      " 0.76923693 0.80298719 0.76058167 0.8016512  0.76058167 0.8016512\n",
      " 0.75668977 0.80287435 0.75668977 0.80287435 0.74942741 0.80208041\n",
      " 0.74942741 0.80208041 0.74521191 0.80249455 0.74521191 0.80249455\n",
      " 0.73879078 0.80129146 0.73879078 0.80129146 0.7358946  0.80153182\n",
      " 0.7358946  0.80153182 0.73395775 0.80121526 0.73395775 0.80121526]\n",
      "  warnings.warn(\n",
      "C:\\Users\\tanishajain8\\Anaconda3\\lib\\site-packages\\sklearn\\model_selection\\_search.py:918: UserWarning: One or more of the test scores are non-finite: [       nan        nan        nan        nan        nan        nan\n",
      "        nan        nan        nan        nan        nan        nan\n",
      "        nan        nan        nan        nan        nan        nan\n",
      "        nan        nan        nan        nan        nan        nan\n",
      "        nan        nan        nan        nan        nan        nan\n",
      "        nan        nan        nan        nan        nan        nan\n",
      " 0.77447372 0.79698387 0.77447372 0.79698387 0.76394186 0.7996119\n",
      " 0.76394186 0.7996119  0.75462911 0.79860441 0.75462911 0.79860441\n",
      " 0.74972267 0.79857371 0.74972267 0.79857371 0.74440762 0.79696715\n",
      " 0.74440762 0.79696715 0.73856006 0.79701547 0.73856006 0.79701547\n",
      " 0.73099323 0.79461429 0.73099323 0.79461429 0.72584123 0.79287452\n",
      " 0.72584123 0.79287452 0.72215203 0.79269348 0.72215203 0.79269348\n",
      "        nan        nan        nan        nan        nan        nan\n",
      "        nan        nan        nan        nan        nan        nan\n",
      "        nan        nan        nan        nan        nan        nan\n",
      "        nan        nan        nan        nan        nan        nan\n",
      "        nan        nan        nan        nan        nan        nan\n",
      "        nan        nan        nan        nan        nan        nan\n",
      " 0.77446534 0.7969782  0.77446534 0.7969782  0.76394775 0.79961726\n",
      " 0.76394775 0.79961726 0.7546339  0.7986089  0.7546339  0.7986089\n",
      " 0.74973604 0.79857851 0.74973604 0.79857851 0.74440534 0.79696386\n",
      " 0.74440534 0.79696386 0.73855881 0.79701458 0.73855881 0.79701458\n",
      " 0.73099481 0.79461574 0.73099481 0.79461574 0.72583897 0.79287497\n",
      " 0.72583897 0.79287497 0.72215717 0.79269872 0.72215717 0.79269872\n",
      "        nan        nan        nan        nan        nan        nan\n",
      "        nan        nan        nan        nan        nan        nan\n",
      "        nan        nan        nan        nan        nan        nan\n",
      "        nan        nan        nan        nan        nan        nan\n",
      "        nan        nan        nan        nan        nan        nan\n",
      "        nan        nan        nan        nan        nan        nan\n",
      " 0.77447372 0.79698387 0.77447372 0.79698387 0.76394186 0.7996119\n",
      " 0.76394186 0.7996119  0.75462911 0.79860441 0.75462911 0.79860441\n",
      " 0.74972267 0.79857371 0.74972267 0.79857371 0.74440762 0.79696715\n",
      " 0.74440762 0.79696715 0.73856006 0.79701547 0.73856006 0.79701547\n",
      " 0.73099323 0.79461429 0.73099323 0.79461429 0.72584123 0.79287452\n",
      " 0.72584123 0.79287452 0.72215203 0.79269348 0.72215203 0.79269348\n",
      "        nan        nan        nan        nan        nan        nan\n",
      "        nan        nan        nan        nan        nan        nan\n",
      "        nan        nan        nan        nan        nan        nan\n",
      "        nan        nan        nan        nan        nan        nan\n",
      "        nan        nan        nan        nan        nan        nan\n",
      "        nan        nan        nan        nan        nan        nan\n",
      " 0.77440025 0.79693277 0.77440025 0.79693277 0.7638846  0.799569\n",
      " 0.7638846  0.799569   0.75461826 0.79859763 0.75461826 0.79859763\n",
      " 0.74975997 0.7985746  0.74975997 0.7985746  0.74440025 0.79696219\n",
      " 0.74440025 0.79696219 0.73857528 0.79702582 0.73857528 0.79702582\n",
      " 0.73099778 0.79461599 0.73099778 0.79461599 0.72585307 0.79288356\n",
      " 0.72585307 0.79288356 0.72216353 0.79269883 0.72216353 0.79269883]\n",
      "  warnings.warn(\n",
      "C:\\Users\\tanishajain8\\Anaconda3\\lib\\site-packages\\sklearn\\model_selection\\_search.py:918: UserWarning: One or more of the test scores are non-finite: [       nan        nan        nan        nan        nan        nan\n",
      "        nan        nan        nan        nan        nan        nan\n",
      "        nan        nan        nan        nan        nan        nan\n",
      "        nan        nan        nan        nan        nan        nan\n",
      "        nan        nan        nan        nan        nan        nan\n",
      "        nan        nan        nan        nan        nan        nan\n",
      " 0.77742506 0.80305386 0.77742506 0.80305386 0.76676027 0.80329782\n",
      " 0.76676027 0.80329782 0.75946903 0.80330966 0.75946903 0.80330966\n",
      " 0.75551496 0.80301714 0.75551496 0.80301714 0.74973829 0.80111171\n",
      " 0.74973829 0.80111171 0.74468539 0.80042538 0.74468539 0.80042538\n",
      " 0.7393952  0.79901162 0.7393952  0.79901162 0.73439525 0.79725067\n",
      " 0.73439525 0.79725067 0.73067616 0.79580526 0.73067616 0.79580526\n",
      "        nan        nan        nan        nan        nan        nan\n",
      "        nan        nan        nan        nan        nan        nan\n",
      "        nan        nan        nan        nan        nan        nan\n",
      "        nan        nan        nan        nan        nan        nan\n",
      "        nan        nan        nan        nan        nan        nan\n",
      "        nan        nan        nan        nan        nan        nan\n",
      " 0.77743012 0.8030561  0.77743012 0.8030561  0.76675496 0.80329422\n",
      " 0.76675496 0.80329422 0.75946396 0.80330594 0.75946396 0.80330594\n",
      " 0.75552669 0.80302181 0.75552669 0.80302181 0.74974273 0.80111474\n",
      " 0.74974273 0.80111474 0.74468438 0.80042662 0.74468438 0.80042662\n",
      " 0.7393988  0.79901556 0.7393988  0.79901556 0.73437771 0.79723469\n",
      " 0.73437771 0.79723469 0.73067251 0.79580233 0.73067251 0.79580233\n",
      "        nan        nan        nan        nan        nan        nan\n",
      "        nan        nan        nan        nan        nan        nan\n",
      "        nan        nan        nan        nan        nan        nan\n",
      "        nan        nan        nan        nan        nan        nan\n",
      "        nan        nan        nan        nan        nan        nan\n",
      "        nan        nan        nan        nan        nan        nan\n",
      " 0.77742506 0.80305386 0.77742506 0.80305386 0.76676027 0.80329782\n",
      " 0.76676027 0.80329782 0.75946903 0.80330966 0.75946903 0.80330966\n",
      " 0.75551496 0.80301714 0.75551496 0.80301714 0.74973829 0.80111171\n",
      " 0.74973829 0.80111171 0.74468539 0.80042538 0.74468539 0.80042538\n",
      " 0.7393952  0.79901162 0.7393952  0.79901162 0.73439525 0.79725067\n",
      " 0.73439525 0.79725067 0.73067616 0.79580526 0.73067616 0.79580526\n",
      "        nan        nan        nan        nan        nan        nan\n",
      "        nan        nan        nan        nan        nan        nan\n",
      "        nan        nan        nan        nan        nan        nan\n",
      "        nan        nan        nan        nan        nan        nan\n",
      "        nan        nan        nan        nan        nan        nan\n",
      "        nan        nan        nan        nan        nan        nan\n",
      " 0.77745764 0.80308607 0.77745764 0.80308607 0.76673914 0.80328286\n",
      " 0.76673914 0.80328286 0.75947001 0.803302   0.75947001 0.803302\n",
      " 0.75552141 0.80300529 0.75552141 0.80300529 0.74973739 0.80110905\n",
      " 0.74973739 0.80110905 0.74467829 0.80041846 0.74467829 0.80041846\n",
      " 0.7393961  0.79900858 0.7393961  0.79900858 0.73439125 0.79724839\n",
      " 0.73439125 0.79724839 0.73067952 0.79580706 0.73067952 0.79580706]\n",
      "  warnings.warn(\n"
     ]
    },
    {
     "name": "stderr",
     "output_type": "stream",
     "text": [
      "C:\\Users\\tanishajain8\\Anaconda3\\lib\\site-packages\\sklearn\\model_selection\\_search.py:918: UserWarning: One or more of the test scores are non-finite: [       nan        nan        nan        nan        nan        nan\n",
      "        nan        nan        nan        nan        nan        nan\n",
      "        nan        nan        nan        nan        nan        nan\n",
      "        nan        nan        nan        nan        nan        nan\n",
      "        nan        nan        nan        nan        nan        nan\n",
      "        nan        nan        nan        nan        nan        nan\n",
      " 0.78111945 0.804135   0.78111945 0.804135   0.77184168 0.80441016\n",
      " 0.77184168 0.80441016 0.76293602 0.80398597 0.76293602 0.80398597\n",
      " 0.75502717 0.80168173 0.75502717 0.80168173 0.75052671 0.80075604\n",
      " 0.75052671 0.80075604 0.74520691 0.79912703 0.74520691 0.79912703\n",
      " 0.73999308 0.79833386 0.73999308 0.79833386 0.73555695 0.79702045\n",
      " 0.73555695 0.79702045 0.72984654 0.7950212  0.72984654 0.7950212\n",
      "        nan        nan        nan        nan        nan        nan\n",
      "        nan        nan        nan        nan        nan        nan\n",
      "        nan        nan        nan        nan        nan        nan\n",
      "        nan        nan        nan        nan        nan        nan\n",
      "        nan        nan        nan        nan        nan        nan\n",
      "        nan        nan        nan        nan        nan        nan\n",
      " 0.78112492 0.80414077 0.78112492 0.80414077 0.77183703 0.80440733\n",
      " 0.77183703 0.80440733 0.76296303 0.80400167 0.76296303 0.80400167\n",
      " 0.75501193 0.80167351 0.75501193 0.80167351 0.75054097 0.8007663\n",
      " 0.75054097 0.8007663  0.74520372 0.79912517 0.74520372 0.79912517\n",
      " 0.7399907  0.79833148 0.7399907  0.79833148 0.73555997 0.79701467\n",
      " 0.73555997 0.79701467 0.72983009 0.79500412 0.72983009 0.79500412\n",
      "        nan        nan        nan        nan        nan        nan\n",
      "        nan        nan        nan        nan        nan        nan\n",
      "        nan        nan        nan        nan        nan        nan\n",
      "        nan        nan        nan        nan        nan        nan\n",
      "        nan        nan        nan        nan        nan        nan\n",
      "        nan        nan        nan        nan        nan        nan\n",
      " 0.78111945 0.804135   0.78111945 0.804135   0.77184168 0.80441016\n",
      " 0.77184168 0.80441016 0.76293602 0.80398597 0.76293602 0.80398597\n",
      " 0.75502717 0.80168173 0.75502717 0.80168173 0.75052671 0.80075604\n",
      " 0.75052671 0.80075604 0.74520691 0.79912703 0.74520691 0.79912703\n",
      " 0.73999308 0.79833386 0.73999308 0.79833386 0.73555695 0.79702045\n",
      " 0.73555695 0.79702045 0.72984654 0.7950212  0.72984654 0.7950212\n",
      "        nan        nan        nan        nan        nan        nan\n",
      "        nan        nan        nan        nan        nan        nan\n",
      "        nan        nan        nan        nan        nan        nan\n",
      "        nan        nan        nan        nan        nan        nan\n",
      "        nan        nan        nan        nan        nan        nan\n",
      "        nan        nan        nan        nan        nan        nan\n",
      " 0.78114423 0.80414859 0.78114423 0.80414859 0.77177772 0.80435042\n",
      " 0.77177772 0.80435042 0.76295629 0.80399302 0.76295629 0.80399302\n",
      " 0.75499493 0.80166014 0.75499493 0.80166014 0.75051637 0.80075955\n",
      " 0.75051637 0.80075955 0.745195   0.79912107 0.745195   0.79912107\n",
      " 0.73998745 0.79832731 0.73998745 0.79832731 0.7355444  0.7970141\n",
      " 0.7355444  0.7970141  0.72982675 0.79500818 0.72982675 0.79500818]\n",
      "  warnings.warn(\n",
      "C:\\Users\\tanishajain8\\Anaconda3\\lib\\site-packages\\sklearn\\model_selection\\_search.py:918: UserWarning: One or more of the test scores are non-finite: [       nan        nan        nan        nan        nan        nan\n",
      "        nan        nan        nan        nan        nan        nan\n",
      "        nan        nan        nan        nan        nan        nan\n",
      "        nan        nan        nan        nan        nan        nan\n",
      "        nan        nan        nan        nan        nan        nan\n",
      "        nan        nan        nan        nan        nan        nan\n",
      " 0.79814282 0.82550288 0.79814282 0.82550288 0.78475252 0.82560398\n",
      " 0.78475252 0.82560398 0.77720055 0.82706584 0.77720055 0.82706584\n",
      " 0.76659528 0.82541646 0.76659528 0.82541646 0.76014139 0.82413402\n",
      " 0.76014139 0.82413402 0.75476825 0.82286892 0.75476825 0.82286892\n",
      " 0.7481961  0.82115073 0.7481961  0.82115073 0.74364208 0.81914488\n",
      " 0.74364208 0.81914488 0.73932501 0.817793   0.73932501 0.817793\n",
      "        nan        nan        nan        nan        nan        nan\n",
      "        nan        nan        nan        nan        nan        nan\n",
      "        nan        nan        nan        nan        nan        nan\n",
      "        nan        nan        nan        nan        nan        nan\n",
      "        nan        nan        nan        nan        nan        nan\n",
      "        nan        nan        nan        nan        nan        nan\n",
      " 0.79813678 0.82549698 0.79813678 0.82549698 0.78475901 0.82560727\n",
      " 0.78475901 0.82560727 0.77719541 0.82706142 0.77719541 0.82706142\n",
      " 0.76659065 0.82541587 0.76659065 0.82541587 0.76015173 0.82414152\n",
      " 0.76015173 0.82414152 0.75477266 0.82286897 0.75477266 0.82286897\n",
      " 0.74819684 0.82115073 0.74819684 0.82115073 0.74364225 0.81914815\n",
      " 0.74364225 0.81914815 0.73932476 0.81779282 0.73932476 0.81779282\n",
      "        nan        nan        nan        nan        nan        nan\n",
      "        nan        nan        nan        nan        nan        nan\n",
      "        nan        nan        nan        nan        nan        nan\n",
      "        nan        nan        nan        nan        nan        nan\n",
      "        nan        nan        nan        nan        nan        nan\n",
      "        nan        nan        nan        nan        nan        nan\n",
      " 0.79814282 0.82550288 0.79814282 0.82550288 0.78475252 0.82560398\n",
      " 0.78475252 0.82560398 0.77720055 0.82706584 0.77720055 0.82706584\n",
      " 0.76659528 0.82541646 0.76659528 0.82541646 0.76014139 0.82413402\n",
      " 0.76014139 0.82413402 0.75476825 0.82286892 0.75476825 0.82286892\n",
      " 0.7481961  0.82115073 0.7481961  0.82115073 0.74364208 0.81914488\n",
      " 0.74364208 0.81914488 0.73932501 0.817793   0.73932501 0.817793\n",
      "        nan        nan        nan        nan        nan        nan\n",
      "        nan        nan        nan        nan        nan        nan\n",
      "        nan        nan        nan        nan        nan        nan\n",
      "        nan        nan        nan        nan        nan        nan\n",
      "        nan        nan        nan        nan        nan        nan\n",
      "        nan        nan        nan        nan        nan        nan\n",
      " 0.79813029 0.82549279 0.79813029 0.82549279 0.78472369 0.82558013\n",
      " 0.78472369 0.82558013 0.77723148 0.82708854 0.77723148 0.82708854\n",
      " 0.76662248 0.82543153 0.76662248 0.82543153 0.76014388 0.82414058\n",
      " 0.76014388 0.82414058 0.75475559 0.82285958 0.75475559 0.82285958\n",
      " 0.74819757 0.82116061 0.74819757 0.82116061 0.74363023 0.81914111\n",
      " 0.74363023 0.81914111 0.73935623 0.81781379 0.73935623 0.81781379]\n",
      "  warnings.warn(\n"
     ]
    }
   ],
   "source": [
    "knnResults=pd.DataFrame()\n",
    "randomState= [42,66,80]\n",
    "\n",
    "for t in np.arange(0.6,0.81,0.05):\n",
    "    X_train, X_test, Y_train, Y_test= train_test_split(data, df['selling_price'],train_size=t,random_state=42)\n",
    "    params={'metric':['euclidian','manhattan'],\n",
    "            'weights':['uniform', 'distance'],\n",
    "            'n_neighbors':[3,4,5,6,7,8,9,10,11],\n",
    "            'algorithm':['auto', 'ball_tree', 'kd_tree', 'brute'],\n",
    "            'p':[1,2]}\n",
    "    knn_search = GridSearchCV(KNeighborsRegressor(), params,cv=5,n_jobs=-1)\n",
    "    knn_search.fit(X_train,Y_train)\n",
    "    knn_pred= knn_search.predict(X_test)\n",
    "    bestParam= knn_search.best_params_\n",
    "    trSc= knn_search.score(X_train,Y_train)\n",
    "    teSc= knn_search.score(X_test,Y_test)\n",
    "    r2= r2_score(Y_test,knn_pred)\n",
    "    mse= mean_squared_error(Y_test,knn_pred)\n",
    "    knnResults=knnResults.append({'Algorithm':'KNN','TrainSize':t,'Best Parameters':bestParam,'Train Score':trSc,'Test Score':teSc,'Random State':rS,'Mean Square Error':mse,'R2 Score':r2},ignore_index=True) "
   ]
  },
  {
   "cell_type": "code",
   "execution_count": 39,
   "id": "a7ad9a97",
   "metadata": {
    "colab": {
     "base_uri": "https://localhost:8080/",
     "height": 519
    },
    "id": "a7ad9a97",
    "outputId": "08aa88a3-8d0e-4e56-9e79-550bc88c4642"
   },
   "outputs": [
    {
     "data": {
      "text/html": [
       "<div>\n",
       "<style scoped>\n",
       "    .dataframe tbody tr th:only-of-type {\n",
       "        vertical-align: middle;\n",
       "    }\n",
       "\n",
       "    .dataframe tbody tr th {\n",
       "        vertical-align: top;\n",
       "    }\n",
       "\n",
       "    .dataframe thead th {\n",
       "        text-align: right;\n",
       "    }\n",
       "</style>\n",
       "<table border=\"1\" class=\"dataframe\">\n",
       "  <thead>\n",
       "    <tr style=\"text-align: right;\">\n",
       "      <th></th>\n",
       "      <th>Algorithm</th>\n",
       "      <th>Best Parameters</th>\n",
       "      <th>Mean Square Error</th>\n",
       "      <th>R2 Score</th>\n",
       "      <th>Random State</th>\n",
       "      <th>Test Score</th>\n",
       "      <th>Train Score</th>\n",
       "      <th>TrainSize</th>\n",
       "    </tr>\n",
       "  </thead>\n",
       "  <tbody>\n",
       "    <tr>\n",
       "      <th>4</th>\n",
       "      <td>KNN</td>\n",
       "      <td>{'algorithm': 'brute', 'metric': 'manhattan', ...</td>\n",
       "      <td>7.700833e+10</td>\n",
       "      <td>0.880362</td>\n",
       "      <td>80.0</td>\n",
       "      <td>0.880362</td>\n",
       "      <td>0.999978</td>\n",
       "      <td>0.80</td>\n",
       "    </tr>\n",
       "    <tr>\n",
       "      <th>3</th>\n",
       "      <td>KNN</td>\n",
       "      <td>{'algorithm': 'auto', 'metric': 'manhattan', '...</td>\n",
       "      <td>9.129335e+10</td>\n",
       "      <td>0.871723</td>\n",
       "      <td>80.0</td>\n",
       "      <td>0.871723</td>\n",
       "      <td>0.999975</td>\n",
       "      <td>0.75</td>\n",
       "    </tr>\n",
       "    <tr>\n",
       "      <th>2</th>\n",
       "      <td>KNN</td>\n",
       "      <td>{'algorithm': 'auto', 'metric': 'manhattan', '...</td>\n",
       "      <td>9.008382e+10</td>\n",
       "      <td>0.865742</td>\n",
       "      <td>80.0</td>\n",
       "      <td>0.865742</td>\n",
       "      <td>0.999974</td>\n",
       "      <td>0.70</td>\n",
       "    </tr>\n",
       "    <tr>\n",
       "      <th>1</th>\n",
       "      <td>KNN</td>\n",
       "      <td>{'algorithm': 'ball_tree', 'metric': 'manhatta...</td>\n",
       "      <td>9.097893e+10</td>\n",
       "      <td>0.863738</td>\n",
       "      <td>80.0</td>\n",
       "      <td>0.863738</td>\n",
       "      <td>0.999988</td>\n",
       "      <td>0.65</td>\n",
       "    </tr>\n",
       "    <tr>\n",
       "      <th>0</th>\n",
       "      <td>KNN</td>\n",
       "      <td>{'algorithm': 'ball_tree', 'metric': 'manhatta...</td>\n",
       "      <td>1.179153e+11</td>\n",
       "      <td>0.828357</td>\n",
       "      <td>80.0</td>\n",
       "      <td>0.828357</td>\n",
       "      <td>0.999995</td>\n",
       "      <td>0.60</td>\n",
       "    </tr>\n",
       "  </tbody>\n",
       "</table>\n",
       "</div>"
      ],
      "text/plain": [
       "  Algorithm                                    Best Parameters  \\\n",
       "4       KNN  {'algorithm': 'brute', 'metric': 'manhattan', ...   \n",
       "3       KNN  {'algorithm': 'auto', 'metric': 'manhattan', '...   \n",
       "2       KNN  {'algorithm': 'auto', 'metric': 'manhattan', '...   \n",
       "1       KNN  {'algorithm': 'ball_tree', 'metric': 'manhatta...   \n",
       "0       KNN  {'algorithm': 'ball_tree', 'metric': 'manhatta...   \n",
       "\n",
       "   Mean Square Error  R2 Score  Random State  Test Score  Train Score  \\\n",
       "4       7.700833e+10  0.880362          80.0    0.880362     0.999978   \n",
       "3       9.129335e+10  0.871723          80.0    0.871723     0.999975   \n",
       "2       9.008382e+10  0.865742          80.0    0.865742     0.999974   \n",
       "1       9.097893e+10  0.863738          80.0    0.863738     0.999988   \n",
       "0       1.179153e+11  0.828357          80.0    0.828357     0.999995   \n",
       "\n",
       "   TrainSize  \n",
       "4       0.80  \n",
       "3       0.75  \n",
       "2       0.70  \n",
       "1       0.65  \n",
       "0       0.60  "
      ]
     },
     "execution_count": 39,
     "metadata": {},
     "output_type": "execute_result"
    }
   ],
   "source": [
    "knnResults.sort_values('R2 Score', ascending=False)"
   ]
  },
  {
   "cell_type": "code",
   "execution_count": 40,
   "id": "bacc4a4e",
   "metadata": {
    "id": "bacc4a4e"
   },
   "outputs": [],
   "source": [
    "\n",
    "X_train, X_test, Y_train, Y_test= train_test_split(data, df['selling_price'],train_size=0.75,random_state=42)\n",
    "X_train, X_test= scale(X_train, X_test)\n",
    "\n",
    "knnr= KNeighborsRegressor(n_neighbors=4, p=1,weights='distance',algorithm='auto')\n",
    "knnr.fit(X_train,Y_train)\n",
    "pre_pred= knnr.predict(X_train)\n",
    "Y_pred= knnr.predict(X_test)"
   ]
  },
  {
   "cell_type": "code",
   "execution_count": 41,
   "id": "85ea421a",
   "metadata": {
    "colab": {
     "base_uri": "https://localhost:8080/"
    },
    "id": "85ea421a",
    "outputId": "4b132471-7419-480b-e4a2-9befab08791d"
   },
   "outputs": [
    {
     "name": "stdout",
     "output_type": "stream",
     "text": [
      "Test Data Metrics:\n",
      "Mean squared error: 89308994547.02\n",
      "R square score: 0.87\n",
      "\n",
      "Training Data Metrics:\n",
      "Mean squared error: 15925185.56\n",
      "R Square score: 1.00\n"
     ]
    }
   ],
   "source": [
    "print('Test Data Metrics:')\n",
    "print('Mean squared error: %.2f'\n",
    "     % mean_squared_error(Y_test, Y_pred)) \n",
    "\n",
    "print('R square score: %.2f' % r2_score (Y_test, Y_pred))\n",
    "\n",
    "print('\\nTraining Data Metrics:')\n",
    "print('Mean squared error: %.2f' %mean_squared_error(Y_train, pre_pred))\n",
    "print('R Square score: %.2f' %r2_score(Y_train, pre_pred))"
   ]
  },
  {
   "cell_type": "code",
   "execution_count": 42,
   "id": "9PiWVGJHszI5",
   "metadata": {
    "id": "9PiWVGJHszI5"
   },
   "outputs": [],
   "source": [
    "performanceMetrics =performanceMetrics.append({'Algorithm':'KNN','R2 Score':r2_score (Y_test, Y_pred),'MSE':mean_squared_error(Y_test, Y_pred),'Parameters':bestParam},ignore_index=True)"
   ]
  },
  {
   "cell_type": "markdown",
   "id": "0eea8367",
   "metadata": {},
   "source": [
    "* Here, seeing the training and test scores, it can be said that KNN is probably overfitting on the dataset."
   ]
  },
  {
   "cell_type": "markdown",
   "id": "e1f42b19",
   "metadata": {
    "id": "e1f42b19"
   },
   "source": [
    "# Decision Tree"
   ]
  },
  {
   "cell_type": "code",
   "execution_count": 43,
   "id": "ccc84f82",
   "metadata": {
    "id": "ccc84f82"
   },
   "outputs": [],
   "source": [
    "dtreeResults=pd.DataFrame()\n",
    "randomState= [42,66,80]\n",
    "\n",
    "\n",
    "for t in np.arange(0.6,0.81,0.05):\n",
    "    X_train, X_test, Y_train, Y_test= train_test_split(data, df['selling_price'],train_size=t,random_state=42)\n",
    "    X_train, X_test=scale(X_train, X_test)\n",
    "        \n",
    "        \n",
    "    decisionTree= DecisionTreeRegressor()\n",
    "    params={'criterion':['mse','mae'],\n",
    "            'splitter':['best', 'random'],\n",
    "            'min_samples_split':[2,4,5,7,9],\n",
    "            'min_samples_leaf':[1,3,5,7,9],\n",
    "            'max_depth':[5,9,11,13]}\n",
    "    tree_search = GridSearchCV(decisionTree, params,cv=5,n_jobs=-1) #initialize the grid search\n",
    "    tree_search.fit(X_train,Y_train) #fit the model\n",
    "    tree_pred= tree_search.predict(X_test)\n",
    "        \n",
    "    bestParam= tree_search.best_params_\n",
    "    trSc= tree_search.score(X_train,Y_train)\n",
    "    teSc= tree_search.score(X_test,Y_test)\n",
    "    r2= r2_score(Y_test,tree_pred)\n",
    "    mse= mean_squared_error(Y_test,tree_pred)\n",
    "    dtreeResults=dtreeResults.append({'Algorithm':'Decision Tree','TrainSize':t,'Best Parameters':bestParam,'Train Score':trSc,'Test Score':teSc,\n",
    "                           'Random State':rS,'Mean Square Error':mse,'R2 Score':r2},ignore_index=True)\n",
    "\n"
   ]
  },
  {
   "cell_type": "code",
   "execution_count": 44,
   "id": "91813179",
   "metadata": {
    "id": "91813179"
   },
   "outputs": [
    {
     "data": {
      "text/html": [
       "<div>\n",
       "<style scoped>\n",
       "    .dataframe tbody tr th:only-of-type {\n",
       "        vertical-align: middle;\n",
       "    }\n",
       "\n",
       "    .dataframe tbody tr th {\n",
       "        vertical-align: top;\n",
       "    }\n",
       "\n",
       "    .dataframe thead th {\n",
       "        text-align: right;\n",
       "    }\n",
       "</style>\n",
       "<table border=\"1\" class=\"dataframe\">\n",
       "  <thead>\n",
       "    <tr style=\"text-align: right;\">\n",
       "      <th></th>\n",
       "      <th>Algorithm</th>\n",
       "      <th>Best Parameters</th>\n",
       "      <th>Mean Square Error</th>\n",
       "      <th>R2 Score</th>\n",
       "      <th>Random State</th>\n",
       "      <th>Test Score</th>\n",
       "      <th>Train Score</th>\n",
       "      <th>TrainSize</th>\n",
       "    </tr>\n",
       "  </thead>\n",
       "  <tbody>\n",
       "    <tr>\n",
       "      <th>3</th>\n",
       "      <td>Decision Tree</td>\n",
       "      <td>{'criterion': 'mse', 'max_depth': 11, 'min_sam...</td>\n",
       "      <td>2.365536e+10</td>\n",
       "      <td>0.966762</td>\n",
       "      <td>80.0</td>\n",
       "      <td>0.966762</td>\n",
       "      <td>0.991320</td>\n",
       "      <td>0.75</td>\n",
       "    </tr>\n",
       "    <tr>\n",
       "      <th>4</th>\n",
       "      <td>Decision Tree</td>\n",
       "      <td>{'criterion': 'mse', 'max_depth': 11, 'min_sam...</td>\n",
       "      <td>2.177977e+10</td>\n",
       "      <td>0.966163</td>\n",
       "      <td>80.0</td>\n",
       "      <td>0.966163</td>\n",
       "      <td>0.985610</td>\n",
       "      <td>0.80</td>\n",
       "    </tr>\n",
       "    <tr>\n",
       "      <th>1</th>\n",
       "      <td>Decision Tree</td>\n",
       "      <td>{'criterion': 'mse', 'max_depth': 11, 'min_sam...</td>\n",
       "      <td>2.859628e+10</td>\n",
       "      <td>0.957171</td>\n",
       "      <td>80.0</td>\n",
       "      <td>0.957171</td>\n",
       "      <td>0.984572</td>\n",
       "      <td>0.65</td>\n",
       "    </tr>\n",
       "    <tr>\n",
       "      <th>0</th>\n",
       "      <td>Decision Tree</td>\n",
       "      <td>{'criterion': 'mse', 'max_depth': 9, 'min_samp...</td>\n",
       "      <td>3.602642e+10</td>\n",
       "      <td>0.947558</td>\n",
       "      <td>80.0</td>\n",
       "      <td>0.947558</td>\n",
       "      <td>0.982842</td>\n",
       "      <td>0.60</td>\n",
       "    </tr>\n",
       "    <tr>\n",
       "      <th>2</th>\n",
       "      <td>Decision Tree</td>\n",
       "      <td>{'criterion': 'mae', 'max_depth': 11, 'min_sam...</td>\n",
       "      <td>3.611421e+10</td>\n",
       "      <td>0.946177</td>\n",
       "      <td>80.0</td>\n",
       "      <td>0.946177</td>\n",
       "      <td>0.969293</td>\n",
       "      <td>0.70</td>\n",
       "    </tr>\n",
       "  </tbody>\n",
       "</table>\n",
       "</div>"
      ],
      "text/plain": [
       "       Algorithm                                    Best Parameters  \\\n",
       "3  Decision Tree  {'criterion': 'mse', 'max_depth': 11, 'min_sam...   \n",
       "4  Decision Tree  {'criterion': 'mse', 'max_depth': 11, 'min_sam...   \n",
       "1  Decision Tree  {'criterion': 'mse', 'max_depth': 11, 'min_sam...   \n",
       "0  Decision Tree  {'criterion': 'mse', 'max_depth': 9, 'min_samp...   \n",
       "2  Decision Tree  {'criterion': 'mae', 'max_depth': 11, 'min_sam...   \n",
       "\n",
       "   Mean Square Error  R2 Score  Random State  Test Score  Train Score  \\\n",
       "3       2.365536e+10  0.966762          80.0    0.966762     0.991320   \n",
       "4       2.177977e+10  0.966163          80.0    0.966163     0.985610   \n",
       "1       2.859628e+10  0.957171          80.0    0.957171     0.984572   \n",
       "0       3.602642e+10  0.947558          80.0    0.947558     0.982842   \n",
       "2       3.611421e+10  0.946177          80.0    0.946177     0.969293   \n",
       "\n",
       "   TrainSize  \n",
       "3       0.75  \n",
       "4       0.80  \n",
       "1       0.65  \n",
       "0       0.60  \n",
       "2       0.70  "
      ]
     },
     "execution_count": 44,
     "metadata": {},
     "output_type": "execute_result"
    }
   ],
   "source": [
    "dtreeResults.sort_values('R2 Score',ascending=False)"
   ]
  },
  {
   "cell_type": "code",
   "execution_count": 45,
   "id": "c4d638f1",
   "metadata": {
    "id": "c4d638f1"
   },
   "outputs": [],
   "source": [
    "X_train, X_test, Y_train, Y_test= train_test_split(data,df['selling_price'],train_size=0.8,random_state=42)\n",
    "X_train, X_test=scale(X_train, X_test)\n",
    "\n",
    "decisionTree=DecisionTreeRegressor(max_depth=11, min_samples_leaf=1, min_samples_split=4, splitter= 'best')\n",
    "decisionTree.fit(X_train, Y_train)\n",
    "pre_pred= decisionTree.predict(X_train)\n",
    "\n",
    "\n",
    "Y_pred = decisionTree.predict(X_test)\n",
    "pre_pred=decisionTree.predict(X_train)\n",
    "\n",
    " \n"
   ]
  },
  {
   "cell_type": "code",
   "execution_count": 46,
   "id": "879e9687",
   "metadata": {
    "id": "879e9687"
   },
   "outputs": [
    {
     "name": "stdout",
     "output_type": "stream",
     "text": [
      "Test Data Metrics:\n",
      "Mean squared error: 21639063760.97\n",
      "R square score: 0.97\n",
      "\n",
      "Training Data Metrics:\n",
      "Mean squared error: 8260053208.19\n",
      "R Square score: 0.99\n"
     ]
    }
   ],
   "source": [
    "print('Test Data Metrics:')\n",
    "print('Mean squared error: %.2f'\n",
    "     % mean_squared_error(Y_test, Y_pred)) \n",
    "\n",
    "\n",
    "print('R square score: %.2f' % r2_score (Y_test, Y_pred))\n",
    "\n",
    "print('\\nTraining Data Metrics:')\n",
    "print('Mean squared error: %.2f' %mean_squared_error(Y_train, pre_pred))\n",
    "print('R Square score: %.2f' %r2_score(Y_train, pre_pred))"
   ]
  },
  {
   "cell_type": "markdown",
   "id": "c5292266",
   "metadata": {},
   "source": [
    "* The Decision Tree model works on this dataset with a training R2 Score of 0.99 and testing R2 score of 0.97. \n",
    "* This model is giving a very good result as compared to other models."
   ]
  },
  {
   "cell_type": "code",
   "execution_count": 47,
   "id": "N3g2p2l9uJeO",
   "metadata": {
    "id": "N3g2p2l9uJeO"
   },
   "outputs": [],
   "source": [
    "performanceMetrics =performanceMetrics.append({'Algorithm':'Decision Tree','R2 Score':r2_score (Y_test, Y_pred),'MSE':mean_squared_error(Y_test, Y_pred),'Parameters':bestParam},ignore_index=True)"
   ]
  },
  {
   "cell_type": "markdown",
   "id": "bc339e75",
   "metadata": {
    "id": "bc339e75"
   },
   "source": [
    "# Random Forest Regression"
   ]
  },
  {
   "cell_type": "code",
   "execution_count": 48,
   "id": "f8839a46",
   "metadata": {
    "id": "f8839a46"
   },
   "outputs": [],
   "source": [
    "target='selling_price'\n",
    "Result=pd.DataFrame()\n",
    "trainSize=[0.65,0.7,0.75,0.8]\n",
    "criteria=['mse','mae']\n",
    "samplesLeaf=[1,5,10,15]\n",
    "depth=[None,5,20]\n",
    "n_estimators=[100]\n",
    "for t in trainSize:\n",
    "    Xdata_train, Xdata_test, Ydata_train, Ydata_test=train_test_split(data, df[target],train_size=t,random_state=66)\n",
    "    for c in criteria:\n",
    "        for s in samplesLeaf:\n",
    "            for d in depth:\n",
    "                for n in n_estimators:\n",
    "                    randomForestReg=RandomForestRegressor(n_estimators=n,random_state=0,max_depth=d,min_samples_leaf=s,criterion=c)\n",
    "                    randomForestReg.fit(Xdata_train, Ydata_train)\n",
    "                    predictedRandomForestOutput=randomForestReg.predict(Xdata_test)\n",
    "                    mse=mean_squared_error(Ydata_test,predictedRandomForestOutput)\n",
    "                    r2=r2_score(Ydata_test,predictedRandomForestOutput)\n",
    "                    Result=Result.append({'Algorithm':'Random Forest Regression','Dataset':'ProcessedCarData','TrainSize':t,'Criterion':c,'Minimum Samples Leaf':s,\n",
    "                                 'Maximum Depth':d,'N_estimators':n,'MSE':mse,'R2 Score':r2},ignore_index=True)"
   ]
  },
  {
   "cell_type": "code",
   "execution_count": 49,
   "id": "445d9a6c",
   "metadata": {
    "id": "445d9a6c"
   },
   "outputs": [],
   "source": [
    "Result['RMSE']=Result['MSE']**0.5"
   ]
  },
  {
   "cell_type": "code",
   "execution_count": 50,
   "id": "6f60cf33",
   "metadata": {
    "id": "6f60cf33"
   },
   "outputs": [
    {
     "data": {
      "text/html": [
       "<div>\n",
       "<style scoped>\n",
       "    .dataframe tbody tr th:only-of-type {\n",
       "        vertical-align: middle;\n",
       "    }\n",
       "\n",
       "    .dataframe tbody tr th {\n",
       "        vertical-align: top;\n",
       "    }\n",
       "\n",
       "    .dataframe thead th {\n",
       "        text-align: right;\n",
       "    }\n",
       "</style>\n",
       "<table border=\"1\" class=\"dataframe\">\n",
       "  <thead>\n",
       "    <tr style=\"text-align: right;\">\n",
       "      <th></th>\n",
       "      <th>Algorithm</th>\n",
       "      <th>Criterion</th>\n",
       "      <th>Dataset</th>\n",
       "      <th>MSE</th>\n",
       "      <th>Maximum Depth</th>\n",
       "      <th>Minimum Samples Leaf</th>\n",
       "      <th>N_estimators</th>\n",
       "      <th>R2 Score</th>\n",
       "      <th>TrainSize</th>\n",
       "      <th>RMSE</th>\n",
       "    </tr>\n",
       "  </thead>\n",
       "  <tbody>\n",
       "    <tr>\n",
       "      <th>74</th>\n",
       "      <td>Random Forest Regression</td>\n",
       "      <td>mse</td>\n",
       "      <td>ProcessedCarData</td>\n",
       "      <td>1.643572e+10</td>\n",
       "      <td>20</td>\n",
       "      <td>1.0</td>\n",
       "      <td>100.0</td>\n",
       "      <td>0.971818</td>\n",
       "      <td>0.80</td>\n",
       "      <td>128201.860186</td>\n",
       "    </tr>\n",
       "    <tr>\n",
       "      <th>72</th>\n",
       "      <td>Random Forest Regression</td>\n",
       "      <td>mse</td>\n",
       "      <td>ProcessedCarData</td>\n",
       "      <td>1.699569e+10</td>\n",
       "      <td>None</td>\n",
       "      <td>1.0</td>\n",
       "      <td>100.0</td>\n",
       "      <td>0.970857</td>\n",
       "      <td>0.80</td>\n",
       "      <td>130367.502290</td>\n",
       "    </tr>\n",
       "    <tr>\n",
       "      <th>2</th>\n",
       "      <td>Random Forest Regression</td>\n",
       "      <td>mse</td>\n",
       "      <td>ProcessedCarData</td>\n",
       "      <td>1.621245e+10</td>\n",
       "      <td>20</td>\n",
       "      <td>1.0</td>\n",
       "      <td>100.0</td>\n",
       "      <td>0.970744</td>\n",
       "      <td>0.65</td>\n",
       "      <td>127328.102319</td>\n",
       "    </tr>\n",
       "    <tr>\n",
       "      <th>0</th>\n",
       "      <td>Random Forest Regression</td>\n",
       "      <td>mse</td>\n",
       "      <td>ProcessedCarData</td>\n",
       "      <td>1.628392e+10</td>\n",
       "      <td>None</td>\n",
       "      <td>1.0</td>\n",
       "      <td>100.0</td>\n",
       "      <td>0.970615</td>\n",
       "      <td>0.65</td>\n",
       "      <td>127608.476496</td>\n",
       "    </tr>\n",
       "    <tr>\n",
       "      <th>48</th>\n",
       "      <td>Random Forest Regression</td>\n",
       "      <td>mse</td>\n",
       "      <td>ProcessedCarData</td>\n",
       "      <td>1.640195e+10</td>\n",
       "      <td>None</td>\n",
       "      <td>1.0</td>\n",
       "      <td>100.0</td>\n",
       "      <td>0.970191</td>\n",
       "      <td>0.75</td>\n",
       "      <td>128070.108459</td>\n",
       "    </tr>\n",
       "    <tr>\n",
       "      <th>...</th>\n",
       "      <td>...</td>\n",
       "      <td>...</td>\n",
       "      <td>...</td>\n",
       "      <td>...</td>\n",
       "      <td>...</td>\n",
       "      <td>...</td>\n",
       "      <td>...</td>\n",
       "      <td>...</td>\n",
       "      <td>...</td>\n",
       "      <td>...</td>\n",
       "    </tr>\n",
       "    <tr>\n",
       "      <th>67</th>\n",
       "      <td>Random Forest Regression</td>\n",
       "      <td>mae</td>\n",
       "      <td>ProcessedCarData</td>\n",
       "      <td>4.324509e+10</td>\n",
       "      <td>5</td>\n",
       "      <td>10.0</td>\n",
       "      <td>100.0</td>\n",
       "      <td>0.921407</td>\n",
       "      <td>0.75</td>\n",
       "      <td>207954.542654</td>\n",
       "    </tr>\n",
       "    <tr>\n",
       "      <th>64</th>\n",
       "      <td>Random Forest Regression</td>\n",
       "      <td>mae</td>\n",
       "      <td>ProcessedCarData</td>\n",
       "      <td>4.331550e+10</td>\n",
       "      <td>5</td>\n",
       "      <td>5.0</td>\n",
       "      <td>100.0</td>\n",
       "      <td>0.921279</td>\n",
       "      <td>0.75</td>\n",
       "      <td>208123.755908</td>\n",
       "    </tr>\n",
       "    <tr>\n",
       "      <th>46</th>\n",
       "      <td>Random Forest Regression</td>\n",
       "      <td>mae</td>\n",
       "      <td>ProcessedCarData</td>\n",
       "      <td>4.165690e+10</td>\n",
       "      <td>5</td>\n",
       "      <td>15.0</td>\n",
       "      <td>100.0</td>\n",
       "      <td>0.920526</td>\n",
       "      <td>0.70</td>\n",
       "      <td>204100.228381</td>\n",
       "    </tr>\n",
       "    <tr>\n",
       "      <th>70</th>\n",
       "      <td>Random Forest Regression</td>\n",
       "      <td>mae</td>\n",
       "      <td>ProcessedCarData</td>\n",
       "      <td>4.500296e+10</td>\n",
       "      <td>5</td>\n",
       "      <td>15.0</td>\n",
       "      <td>100.0</td>\n",
       "      <td>0.918212</td>\n",
       "      <td>0.75</td>\n",
       "      <td>212139.003765</td>\n",
       "    </tr>\n",
       "    <tr>\n",
       "      <th>22</th>\n",
       "      <td>Random Forest Regression</td>\n",
       "      <td>mae</td>\n",
       "      <td>ProcessedCarData</td>\n",
       "      <td>4.798242e+10</td>\n",
       "      <td>5</td>\n",
       "      <td>15.0</td>\n",
       "      <td>100.0</td>\n",
       "      <td>0.913415</td>\n",
       "      <td>0.65</td>\n",
       "      <td>219048.896780</td>\n",
       "    </tr>\n",
       "  </tbody>\n",
       "</table>\n",
       "<p>96 rows × 10 columns</p>\n",
       "</div>"
      ],
      "text/plain": [
       "                   Algorithm Criterion           Dataset           MSE  \\\n",
       "74  Random Forest Regression       mse  ProcessedCarData  1.643572e+10   \n",
       "72  Random Forest Regression       mse  ProcessedCarData  1.699569e+10   \n",
       "2   Random Forest Regression       mse  ProcessedCarData  1.621245e+10   \n",
       "0   Random Forest Regression       mse  ProcessedCarData  1.628392e+10   \n",
       "48  Random Forest Regression       mse  ProcessedCarData  1.640195e+10   \n",
       "..                       ...       ...               ...           ...   \n",
       "67  Random Forest Regression       mae  ProcessedCarData  4.324509e+10   \n",
       "64  Random Forest Regression       mae  ProcessedCarData  4.331550e+10   \n",
       "46  Random Forest Regression       mae  ProcessedCarData  4.165690e+10   \n",
       "70  Random Forest Regression       mae  ProcessedCarData  4.500296e+10   \n",
       "22  Random Forest Regression       mae  ProcessedCarData  4.798242e+10   \n",
       "\n",
       "   Maximum Depth  Minimum Samples Leaf  N_estimators  R2 Score  TrainSize  \\\n",
       "74            20                   1.0         100.0  0.971818       0.80   \n",
       "72          None                   1.0         100.0  0.970857       0.80   \n",
       "2             20                   1.0         100.0  0.970744       0.65   \n",
       "0           None                   1.0         100.0  0.970615       0.65   \n",
       "48          None                   1.0         100.0  0.970191       0.75   \n",
       "..           ...                   ...           ...       ...        ...   \n",
       "67             5                  10.0         100.0  0.921407       0.75   \n",
       "64             5                   5.0         100.0  0.921279       0.75   \n",
       "46             5                  15.0         100.0  0.920526       0.70   \n",
       "70             5                  15.0         100.0  0.918212       0.75   \n",
       "22             5                  15.0         100.0  0.913415       0.65   \n",
       "\n",
       "             RMSE  \n",
       "74  128201.860186  \n",
       "72  130367.502290  \n",
       "2   127328.102319  \n",
       "0   127608.476496  \n",
       "48  128070.108459  \n",
       "..            ...  \n",
       "67  207954.542654  \n",
       "64  208123.755908  \n",
       "46  204100.228381  \n",
       "70  212139.003765  \n",
       "22  219048.896780  \n",
       "\n",
       "[96 rows x 10 columns]"
      ]
     },
     "execution_count": 50,
     "metadata": {},
     "output_type": "execute_result"
    }
   ],
   "source": [
    "Result.sort_values(['R2 Score','MSE'],ascending=[False,True])"
   ]
  },
  {
   "cell_type": "code",
   "execution_count": 51,
   "id": "93a6ebc8",
   "metadata": {
    "id": "93a6ebc8"
   },
   "outputs": [],
   "source": [
    "Xdata_train, Xdata_test, Ydata_train, Ydata_test=train_test_split(data, df['selling_price'],train_size=0.8,random_state=66)\n",
    "X_train, X_test=scale(X_train, X_test)"
   ]
  },
  {
   "cell_type": "code",
   "execution_count": 52,
   "id": "a00ee848",
   "metadata": {
    "id": "a00ee848"
   },
   "outputs": [],
   "source": [
    "randomForestReg=RandomForestRegressor(n_estimators=100,random_state=0,max_depth=None,min_samples_leaf=1,criterion='mse')\n",
    "randomForestReg.fit(Xdata_train, Ydata_train)\n",
    "predictedRandomForestOutput=randomForestReg.predict(Xdata_test)\n",
    "\n",
    "mse=mean_squared_error(Ydata_test,predictedRandomForestOutput)\n",
    "r2=r2_score(Ydata_test,predictedRandomForestOutput)\n",
    "predictedTrainOutput=randomForestReg.predict(Xdata_train)\n",
    "mset=mean_squared_error(Ydata_train,predictedTrainOutput)\n",
    "r2t=r2_score(Ydata_train,predictedTrainOutput)"
   ]
  },
  {
   "cell_type": "code",
   "execution_count": 53,
   "id": "cc38c8d7",
   "metadata": {
    "id": "cc38c8d7"
   },
   "outputs": [
    {
     "name": "stdout",
     "output_type": "stream",
     "text": [
      "Test Data Metrics:\n",
      "MSE: 16995685653.239048\n",
      "R Squared Score: 0.9708574010131155\n",
      "Training Metrics:\n",
      "MSE: 3099145029.4670587\n",
      "R Squared Score: 0.9954525020557404\n"
     ]
    }
   ],
   "source": [
    "print('Test Data Metrics:')\n",
    "print('MSE:',mse)\n",
    "print('R Squared Score:',r2)\n",
    "print('Training Metrics:')\n",
    "print('MSE:',mset)\n",
    "print('R Squared Score:',r2t)"
   ]
  },
  {
   "cell_type": "markdown",
   "id": "8bae87ec",
   "metadata": {},
   "source": [
    "* The Random Forest model works on this dataset with a training R2 Score of 0.99 and testing R2 score of 0.97. \n",
    "* This model is giving a very good result as compared to other models."
   ]
  },
  {
   "cell_type": "code",
   "execution_count": 54,
   "id": "2_C8EdwIud51",
   "metadata": {
    "id": "2_C8EdwIud51"
   },
   "outputs": [],
   "source": [
    "performanceMetrics =performanceMetrics.append({'Algorithm':'Random Forests','R2 Score':r2,'MSE':mse,'Parameters':'n_estimators=100,random_state=0,max_depth=None,min_samples_leaf=1,criterion=mse'},ignore_index=True)"
   ]
  },
  {
   "cell_type": "code",
   "execution_count": 55,
   "id": "b5a780f4",
   "metadata": {
    "id": "b5a780f4"
   },
   "outputs": [
    {
     "data": {
      "text/plain": [
       "<matplotlib.collections.PathCollection at 0x208450c1520>"
      ]
     },
     "execution_count": 55,
     "metadata": {},
     "output_type": "execute_result"
    },
    {
     "data": {
      "image/png": "[encoded data removed]",
      "text/plain": [
       "<Figure size 432x288 with 1 Axes>"
      ]
     },
     "metadata": {
      "needs_background": "light"
     },
     "output_type": "display_data"
    }
   ],
   "source": [
    "plt.scatter(predictedRandomForestOutput,Ydata_test)"
   ]
  },
  {
   "cell_type": "code",
   "execution_count": 56,
   "id": "e00141f0",
   "metadata": {
    "id": "e00141f0"
   },
   "outputs": [
    {
     "data": {
      "text/plain": [
       "(array([  1.,   0.,   0.,   0.,   0.,   0.,   0.,   0.,   0.,   0.,   0.,\n",
       "          0.,   0.,   0.,   0.,   0.,   0.,   0.,   0.,   0.,   0.,   0.,\n",
       "          0.,   0.,   0.,   0.,   1.,   0.,   0.,   0.,   0.,   1.,   0.,\n",
       "          0.,   0.,   0.,   1.,   1.,   0.,   1.,   0.,   1.,   2.,   1.,\n",
       "          0.,   4.,   2.,   0.,   3.,   7.,  11.,  10.,  13.,  25.,  22.,\n",
       "         48.,  77., 113., 191., 354., 241., 154., 114.,  63.,  41.,  19.,\n",
       "         12.,   7.,   8.,   4.,   2.,   2.,   5.,   2.,   2.,   0.,   3.,\n",
       "          1.,   0.,   0.,   0.,   0.,   1.,   1.,   3.,   1.,   0.,   1.,\n",
       "          1.,   0.,   1.,   0.,   0.,   0.,   0.,   0.,   0.,   0.,   0.,\n",
       "          2.]),\n",
       " array([-1.66038000e+06, -1.63269410e+06, -1.60500820e+06, -1.57732230e+06,\n",
       "        -1.54963640e+06, -1.52195050e+06, -1.49426460e+06, -1.46657870e+06,\n",
       "        -1.43889280e+06, -1.41120690e+06, -1.38352100e+06, -1.35583510e+06,\n",
       "        -1.32814920e+06, -1.30046330e+06, -1.27277740e+06, -1.24509150e+06,\n",
       "        -1.21740560e+06, -1.18971970e+06, -1.16203380e+06, -1.13434790e+06,\n",
       "        -1.10666200e+06, -1.07897610e+06, -1.05129020e+06, -1.02360430e+06,\n",
       "        -9.95918398e+05, -9.68232498e+05, -9.40546597e+05, -9.12860697e+05,\n",
       "        -8.85174797e+05, -8.57488897e+05, -8.29802997e+05, -8.02117097e+05,\n",
       "        -7.74431197e+05, -7.46745297e+05, -7.19059397e+05, -6.91373497e+05,\n",
       "        -6.63687596e+05, -6.36001696e+05, -6.08315796e+05, -5.80629896e+05,\n",
       "        -5.52943996e+05, -5.25258096e+05, -4.97572196e+05, -4.69886296e+05,\n",
       "        -4.42200396e+05, -4.14514495e+05, -3.86828595e+05, -3.59142695e+05,\n",
       "        -3.31456795e+05, -3.03770895e+05, -2.76084995e+05, -2.48399095e+05,\n",
       "        -2.20713195e+05, -1.93027295e+05, -1.65341395e+05, -1.37655495e+05,\n",
       "        -1.09969594e+05, -8.22836943e+04, -5.45977942e+04, -2.69118941e+04,\n",
       "         7.74006000e+02,  2.84599061e+04,  5.61458062e+04,  8.38317063e+04,\n",
       "         1.11517606e+05,  1.39203506e+05,  1.66889407e+05,  1.94575307e+05,\n",
       "         2.22261207e+05,  2.49947107e+05,  2.77633007e+05,  3.05318907e+05,\n",
       "         3.33004807e+05,  3.60690707e+05,  3.88376607e+05,  4.16062507e+05,\n",
       "         4.43748408e+05,  4.71434308e+05,  4.99120208e+05,  5.26806108e+05,\n",
       "         5.54492008e+05,  5.82177908e+05,  6.09863808e+05,  6.37549708e+05,\n",
       "         6.65235608e+05,  6.92921508e+05,  7.20607409e+05,  7.48293309e+05,\n",
       "         7.75979209e+05,  8.03665109e+05,  8.31351009e+05,  8.59036909e+05,\n",
       "         8.86722809e+05,  9.14408709e+05,  9.42094609e+05,  9.69780509e+05,\n",
       "         9.97466410e+05,  1.02515231e+06,  1.05283821e+06,  1.08052411e+06,\n",
       "         1.10821001e+06]),\n",
       " <BarContainer object of 100 artists>)"
      ]
     },
     "execution_count": 56,
     "metadata": {},
     "output_type": "execute_result"
    },
    {
     "data": {
      "image/png": "[encoded data removed]",
      "text/plain": [
       "<Figure size 432x288 with 1 Axes>"
      ]
     },
     "metadata": {
      "needs_background": "light"
     },
     "output_type": "display_data"
    }
   ],
   "source": [
    "plt.hist(Ydata_test - predictedRandomForestOutput, bins=100)"
   ]
  },
  {
   "cell_type": "code",
   "execution_count": 57,
   "id": "858f9c21",
   "metadata": {
    "id": "858f9c21"
   },
   "outputs": [
    {
     "data": {
      "text/plain": [
       "(130367.50228963907, 0.0)"
      ]
     },
     "execution_count": 57,
     "metadata": {},
     "output_type": "execute_result"
    }
   ],
   "source": [
    "rmse=mse**0.5\n",
    "rmse.mean(), rmse.std()"
   ]
  },
  {
   "cell_type": "markdown",
   "id": "dbd97d84",
   "metadata": {
    "id": "dbd97d84"
   },
   "source": [
    "# AdaBoost Regression"
   ]
  },
  {
   "cell_type": "code",
   "execution_count": 66,
   "id": "afa8abaa",
   "metadata": {
    "id": "afa8abaa"
   },
   "outputs": [
    {
     "name": "stdout",
     "output_type": "stream",
     "text": [
      "Test Data performance:\n",
      "Mean squared error: 14042638610.42\n",
      "R Square score: 0.98\n",
      "Training Metrics:\n",
      "Mean squared error: 794852821.29\n",
      "R Square score: 1.00\n"
     ]
    }
   ],
   "source": [
    "adaBoostReg=AdaBoostRegressor(base_estimator=randomForestReg, n_estimators=30, random_state=0)\n",
    "adaBoostReg.fit(Xdata_train, Ydata_train)\n",
    "\n",
    "predictedAdaBoostOutput= adaBoostReg.predict(Xdata_test)\n",
    "predictedTrainOutput=adaBoostReg.predict(Xdata_train)\n",
    "\n",
    "mset=mean_squared_error(Ydata_train,predictedTrainOutput)\n",
    "r2t=r2_score(Ydata_train,predictedTrainOutput)\n",
    "\n",
    "print('Test Data performance:')\n",
    "print('Mean squared error: %.2f' %mean_squared_error(Ydata_test,predictedAdaBoostOutput))\n",
    "print('R Square score: %.2f' %r2_score(Ydata_test,predictedAdaBoostOutput))\n",
    "print('Training Metrics:')\n",
    "print('Mean squared error: %.2f' %mean_squared_error(Ydata_train,predictedTrainOutput))\n",
    "print('R Square score: %.2f' %r2_score(Ydata_train,predictedTrainOutput))"
   ]
  },
  {
   "cell_type": "code",
   "execution_count": 59,
   "id": "RLPGpyrpvWpo",
   "metadata": {
    "id": "RLPGpyrpvWpo"
   },
   "outputs": [
    {
     "name": "stdout",
     "output_type": "stream",
     "text": [
      "Test Data performance:\n",
      "Mean squared error: 91561438686.27\n",
      "R Square score: 0.84\n",
      "Training Metrics:\n",
      "Mean squared error: 89406312356.09\n",
      "R Square score: 0.87\n"
     ]
    }
   ],
   "source": [
    "adaBoostReg=AdaBoostRegressor( n_estimators=30, random_state=0)\n",
    "adaBoostReg.fit(Xdata_train, Ydata_train)\n",
    "\n",
    "predictedAdaBoostOutput= adaBoostReg.predict(Xdata_test)\n",
    "predictedTrainOutput=adaBoostReg.predict(Xdata_train)\n",
    "\n",
    "mset=mean_squared_error(Ydata_train,predictedTrainOutput)\n",
    "r2t=r2_score(Ydata_train,predictedTrainOutput)\n",
    "\n",
    "print('Test Data performance:')\n",
    "print('Mean squared error: %.2f' %mean_squared_error(Ydata_test,predictedAdaBoostOutput))\n",
    "print('R Square score: %.2f' %r2_score(Ydata_test,predictedAdaBoostOutput))\n",
    "print('Training Metrics:')\n",
    "print('Mean squared error: %.2f' %mean_squared_error(Ydata_train,predictedTrainOutput))\n",
    "print('R Square score: %.2f' %r2_score(Ydata_train,predictedTrainOutput))"
   ]
  },
  {
   "cell_type": "markdown",
   "id": "8eff5ecb",
   "metadata": {},
   "source": [
    "* The first Adaboost Regression model has the base estimator as the Random Forest model previously trained. This model gives R2 score of training data as 1 and testing data as 0.98.\n",
    "* The second Adaboost Regression model has the base estimator as the default Decision Tree. This model gives R2 score of training data as 0.87 and testing data as 0.84.\n",
    "* The first model performs really well on the dataset. However R2 score of train dataset as 1.00 is a concern as it can be a case of overfitting."
   ]
  },
  {
   "cell_type": "code",
   "execution_count": 67,
   "id": "fVeuz0s8vaU7",
   "metadata": {
    "id": "fVeuz0s8vaU7"
   },
   "outputs": [],
   "source": [
    "performanceMetrics =performanceMetrics.append({'Algorithm':'Adaboost Regression','R2 Score':r2_score(Ydata_test,predictedAdaBoostOutput),'MSE':mean_squared_error(Ydata_test,predictedAdaBoostOutput),'Parameters':'base_estimator=randomForestReg, n_estimators=30'},ignore_index=True)"
   ]
  },
  {
   "cell_type": "markdown",
   "id": "e2acaec2",
   "metadata": {
    "id": "e2acaec2"
   },
   "source": [
    "# Gradient Boosting Regression"
   ]
  },
  {
   "cell_type": "code",
   "execution_count": 60,
   "id": "d8c34873",
   "metadata": {
    "id": "d8c34873"
   },
   "outputs": [
    {
     "name": "stdout",
     "output_type": "stream",
     "text": [
      "Test data performance:\n",
      "MSE: 40113987348.56\n",
      "R square score: 0.93\n",
      "Training Metrics:\n",
      "Mean squared error: 37873914606.33\n",
      "R Square score: 0.94\n"
     ]
    }
   ],
   "source": [
    "\n",
    "xg_reg=GradientBoostingRegressor(n_estimators=30)\n",
    "xg_reg.fit(Xdata_train, Ydata_train)\n",
    "predicted=xg_reg.predict(Xdata_test)\n",
    "predictedTrainOutput= xg_reg.predict(Xdata_train)\n",
    "\n",
    "print('Test data performance:')\n",
    "print('MSE: %.2f' %mean_squared_error(Ydata_test, predicted))\n",
    "print('R square score: %.2f' %r2_score(Ydata_test, predicted))\n",
    "print('Training Metrics:')\n",
    "print('Mean squared error: %.2f' %mean_squared_error(Ydata_train,predictedTrainOutput))\n",
    "print('R Square score: %.2f' %r2_score(Ydata_train,predictedTrainOutput))"
   ]
  },
  {
   "cell_type": "markdown",
   "id": "f9ae02da",
   "metadata": {},
   "source": [
    "* The Gradient Boosting model has a good performance on dataset. It performs better than all types of Linear Regression model and KNN model."
   ]
  },
  {
   "cell_type": "code",
   "execution_count": 61,
   "id": "EnusQN-8vg2l",
   "metadata": {
    "id": "EnusQN-8vg2l"
   },
   "outputs": [],
   "source": [
    "performanceMetrics =performanceMetrics.append({'Algorithm':'Gradient Boosting','R2 Score':r2_score(Ydata_test, predicted),'MSE':mean_squared_error(Ydata_test, predicted),'Parameters':'n_estimators=30'},ignore_index=True)"
   ]
  },
  {
   "cell_type": "markdown",
   "id": "fdbcfb4c",
   "metadata": {
    "id": "fdbcfb4c"
   },
   "source": [
    "# XG Boost"
   ]
  },
  {
   "cell_type": "code",
   "execution_count": 62,
   "id": "c8c65086",
   "metadata": {
    "id": "c8c65086"
   },
   "outputs": [
    {
     "name": "stdout",
     "output_type": "stream",
     "text": [
      "[06:53:28] WARNING: C:/Users/Administrator/workspace/xgboost-win64_release_1.5.0/src/objective/regression_obj.cu:188: reg:linear is now deprecated in favor of reg:squarederror.\n",
      "Test data performance:\n",
      "MSE: 37025233127.04\n",
      "R square score: 0.94\n",
      "Training Metrics:\n",
      "Mean squared error: 27208036499.67\n",
      "R Square score: 0.96\n"
     ]
    }
   ],
   "source": [
    "\n",
    "xg_reg=xgb.XGBRegressor(objective='reg:linear',colsample_bytree=0.3,learning_rate=0.1,\n",
    "                       max_depth=5, alpha=10, n_estimators=50)\n",
    "xg_reg.fit(Xdata_train, Ydata_train)\n",
    "predicted=xg_reg.predict(Xdata_test)\n",
    "predictedTrainOutput=xg_reg.predict(Xdata_train)\n",
    "\n",
    "print('Test data performance:')\n",
    "print('MSE: %.2f' %mean_squared_error(Ydata_test, predicted))\n",
    "print('R square score: %.2f' %r2_score(Ydata_test, predicted))\n",
    "print('Training Metrics:')\n",
    "print('Mean squared error: %.2f' %mean_squared_error(Ydata_train,predictedTrainOutput))\n",
    "print('R Square score: %.2f' %r2_score(Ydata_train,predictedTrainOutput))"
   ]
  },
  {
   "cell_type": "markdown",
   "id": "f4fb5c6b",
   "metadata": {},
   "source": [
    "* The XGBoost model has a good performance on dataset. It performs better than all types of Linear Regression model and KNN model."
   ]
  },
  {
   "cell_type": "code",
   "execution_count": 63,
   "id": "CxO6Sqzrv2-6",
   "metadata": {
    "id": "CxO6Sqzrv2-6"
   },
   "outputs": [],
   "source": [
    "performanceMetrics =performanceMetrics.append({'Algorithm':'XGBoost','R2 Score':r2_score(Ydata_test, predicted),'MSE':mean_squared_error(Ydata_test, predicted),'Parameters':'objective=\\'reg:linear\\',colsample_bytree=0.3,learning_rate=0.1,max_depth=5, alpha=10, n_estimators=50'},ignore_index=True)"
   ]
  },
  {
   "cell_type": "markdown",
   "id": "PL16BNjlxXKR",
   "metadata": {
    "id": "PL16BNjlxXKR"
   },
   "source": [
    "## Comparison between models"
   ]
  },
  {
   "cell_type": "code",
   "execution_count": 68,
   "id": "bL_NAafawOmv",
   "metadata": {
    "id": "bL_NAafawOmv"
   },
   "outputs": [],
   "source": [
    "performanceMetrics['RMSE']=performanceMetrics['MSE']**0.5"
   ]
  },
  {
   "cell_type": "code",
   "execution_count": 69,
   "id": "-cpBl0NEwOkF",
   "metadata": {
    "id": "-cpBl0NEwOkF"
   },
   "outputs": [
    {
     "data": {
      "text/html": [
       "<div>\n",
       "<style scoped>\n",
       "    .dataframe tbody tr th:only-of-type {\n",
       "        vertical-align: middle;\n",
       "    }\n",
       "\n",
       "    .dataframe tbody tr th {\n",
       "        vertical-align: top;\n",
       "    }\n",
       "\n",
       "    .dataframe thead th {\n",
       "        text-align: right;\n",
       "    }\n",
       "</style>\n",
       "<table border=\"1\" class=\"dataframe\">\n",
       "  <thead>\n",
       "    <tr style=\"text-align: right;\">\n",
       "      <th></th>\n",
       "      <th>Algorithm</th>\n",
       "      <th>R2 Score</th>\n",
       "      <th>MSE</th>\n",
       "      <th>Parameters</th>\n",
       "      <th>RMSE</th>\n",
       "    </tr>\n",
       "  </thead>\n",
       "  <tbody>\n",
       "    <tr>\n",
       "      <th>9</th>\n",
       "      <td>Adaboost Regression</td>\n",
       "      <td>0.975921</td>\n",
       "      <td>1.404264e+10</td>\n",
       "      <td>base_estimator=randomForestReg, n_estimators=30</td>\n",
       "      <td>118501.639695</td>\n",
       "    </tr>\n",
       "    <tr>\n",
       "      <th>6</th>\n",
       "      <td>Random Forests</td>\n",
       "      <td>0.970857</td>\n",
       "      <td>1.699569e+10</td>\n",
       "      <td>n_estimators=100,random_state=0,max_depth=None...</td>\n",
       "      <td>130367.502290</td>\n",
       "    </tr>\n",
       "    <tr>\n",
       "      <th>5</th>\n",
       "      <td>Decision Tree</td>\n",
       "      <td>0.966382</td>\n",
       "      <td>2.163906e+10</td>\n",
       "      <td>{'criterion': 'mse', 'max_depth': 11, 'min_sam...</td>\n",
       "      <td>147102.222148</td>\n",
       "    </tr>\n",
       "    <tr>\n",
       "      <th>8</th>\n",
       "      <td>XGBoost</td>\n",
       "      <td>0.936513</td>\n",
       "      <td>3.702523e+10</td>\n",
       "      <td>objective='reg:linear',colsample_bytree=0.3,le...</td>\n",
       "      <td>192419.419828</td>\n",
       "    </tr>\n",
       "    <tr>\n",
       "      <th>7</th>\n",
       "      <td>Gradient Boosting</td>\n",
       "      <td>0.931216</td>\n",
       "      <td>4.011399e+10</td>\n",
       "      <td>n_estimators=30</td>\n",
       "      <td>200284.765643</td>\n",
       "    </tr>\n",
       "    <tr>\n",
       "      <th>4</th>\n",
       "      <td>KNN</td>\n",
       "      <td>0.874511</td>\n",
       "      <td>8.930899e+10</td>\n",
       "      <td>{'algorithm': 'brute', 'metric': 'manhattan', ...</td>\n",
       "      <td>298846.105123</td>\n",
       "    </tr>\n",
       "    <tr>\n",
       "      <th>0</th>\n",
       "      <td>Linear Regression(without PCA)</td>\n",
       "      <td>0.695888</td>\n",
       "      <td>2.282399e+11</td>\n",
       "      <td>NaN</td>\n",
       "      <td>477744.619251</td>\n",
       "    </tr>\n",
       "    <tr>\n",
       "      <th>3</th>\n",
       "      <td>Linear Regression(with Lasso)</td>\n",
       "      <td>0.695887</td>\n",
       "      <td>2.282401e+11</td>\n",
       "      <td>Alpha=0.05</td>\n",
       "      <td>477744.796616</td>\n",
       "    </tr>\n",
       "    <tr>\n",
       "      <th>2</th>\n",
       "      <td>Linear Regression(with Ridge)</td>\n",
       "      <td>0.695811</td>\n",
       "      <td>2.282978e+11</td>\n",
       "      <td>Alpha=0.05</td>\n",
       "      <td>477805.202182</td>\n",
       "    </tr>\n",
       "    <tr>\n",
       "      <th>1</th>\n",
       "      <td>Linear Regression(with PCA)</td>\n",
       "      <td>0.634171</td>\n",
       "      <td>2.745591e+11</td>\n",
       "      <td>NaN</td>\n",
       "      <td>523983.893208</td>\n",
       "    </tr>\n",
       "  </tbody>\n",
       "</table>\n",
       "</div>"
      ],
      "text/plain": [
       "                        Algorithm  R2 Score           MSE  \\\n",
       "9             Adaboost Regression  0.975921  1.404264e+10   \n",
       "6                  Random Forests  0.970857  1.699569e+10   \n",
       "5                   Decision Tree  0.966382  2.163906e+10   \n",
       "8                         XGBoost  0.936513  3.702523e+10   \n",
       "7               Gradient Boosting  0.931216  4.011399e+10   \n",
       "4                             KNN  0.874511  8.930899e+10   \n",
       "0  Linear Regression(without PCA)  0.695888  2.282399e+11   \n",
       "3   Linear Regression(with Lasso)  0.695887  2.282401e+11   \n",
       "2   Linear Regression(with Ridge)  0.695811  2.282978e+11   \n",
       "1     Linear Regression(with PCA)  0.634171  2.745591e+11   \n",
       "\n",
       "                                          Parameters           RMSE  \n",
       "9    base_estimator=randomForestReg, n_estimators=30  118501.639695  \n",
       "6  n_estimators=100,random_state=0,max_depth=None...  130367.502290  \n",
       "5  {'criterion': 'mse', 'max_depth': 11, 'min_sam...  147102.222148  \n",
       "8  objective='reg:linear',colsample_bytree=0.3,le...  192419.419828  \n",
       "7                                    n_estimators=30  200284.765643  \n",
       "4  {'algorithm': 'brute', 'metric': 'manhattan', ...  298846.105123  \n",
       "0                                                NaN  477744.619251  \n",
       "3                                         Alpha=0.05  477744.796616  \n",
       "2                                         Alpha=0.05  477805.202182  \n",
       "1                                                NaN  523983.893208  "
      ]
     },
     "execution_count": 69,
     "metadata": {},
     "output_type": "execute_result"
    }
   ],
   "source": [
    "performanceMetrics.sort_values(['R2 Score','RMSE'],ascending=[False,True])"
   ]
  },
  {
   "cell_type": "markdown",
   "id": "0203e661",
   "metadata": {},
   "source": [
    "* The Linear regression models (with and without PCA, and ridge and lasso regularization) performs average on the dataset.\n",
    "* The KNN model overfits.\n",
    "* Boosting algorithms have a good performance on the dataset. However Adaboost has the best performance of all, but R2 score of train dataset as 1 is a major concern.\n",
    "* Decision Tree and Random Forest models have a good performance on the dataset."
   ]
  },
  {
   "cell_type": "markdown",
   "id": "fv5m-532x9UZ",
   "metadata": {
    "id": "fv5m-532x9UZ"
   },
   "source": [
    "### 4.\tIdentify the right metric to evaluate the performance of the model."
   ]
  },
  {
   "cell_type": "markdown",
   "id": "euMghikvz_ya",
   "metadata": {
    "id": "euMghikvz_ya"
   },
   "source": [
    "**MAE** is the average of the absolute difference between the predicted values and observed value."
   ]
  },
  {
   "cell_type": "markdown",
   "id": "031ImoUYz_lW",
   "metadata": {
    "id": "031ImoUYz_lW"
   },
   "source": [
    "**RMSE** represents the sample standard deviation of the differences between predicted values and observed values (called residuals)."
   ]
  },
  {
   "cell_type": "markdown",
   "id": "5U9U1wdkyAq0",
   "metadata": {
    "id": "5U9U1wdkyAq0"
   },
   "source": [
    "The formula for **R-Squared** is as follows:\n",
    "\n",
    "R2=1−MSE(model)MSE(baseline)=1−∑Ni=1(y1−y1^)2∑Ni=1(y1¯−y1^)2\n",
    " \n",
    "MSE(model): Mean Squared Error of the predictions against the actual values\n",
    "\n",
    "MSE(baseline): Mean Squared Error of mean prediction against the actual values\n",
    "\n",
    "In other words how good our regression model as compared to a very simple model that just predicts the mean value of target from the train set as predictions.\n",
    "\n",
    "A model performing equal to baseline would give R-Squared as 0. Better the model, higher the r2 value.\n",
    "Range[- infinity, 1)"
   ]
  },
  {
   "cell_type": "markdown",
   "id": "uraK3B0d0wCQ",
   "metadata": {
    "id": "uraK3B0d0wCQ"
   },
   "source": [
    "* It is easy to understand and interpret MAE because it directly takes the average of offsets whereas RMSE penalizes the higher difference more than MAE. Generally, RMSE will be higher than or equal to MAE. The only case where it equals MAE is when all the differences are equal or zero\n",
    "\n",
    "* However, even after being more complex and biased towards higher deviation, RMSE is still the default metric of many models because loss function defined in terms of RMSE is smoothly differentiable and makes it easier to perform mathematical operations.\n",
    "\n",
    "* R-Squared is also termed as the standardized version of MSE. R-squared represents the fraction of variance of response variable captured by the regression model rather than the MSE which captures the residual error.\n",
    "\n",
    "* Thus, we take into consideration both R2 and MSE."
   ]
  },
  {
   "cell_type": "markdown",
   "id": "l9CKIJtHya6y",
   "metadata": {
    "id": "l9CKIJtHya6y"
   },
   "source": [
    "### Q5.\tIdentify issues and concerns on the given data and suggest the best technique/s to overcome the issues."
   ]
  },
  {
   "cell_type": "markdown",
   "id": "riglwX1NyeD4",
   "metadata": {
    "id": "riglwX1NyeD4"
   },
   "source": [
    "1. The original dataset had a few records with mileage =0. Temporarily, these records have been imputed with their respective brand averages.If the test/new data is expected to have such values, they will have to be similarly imputed for the time being.\n",
    "\n",
    "2. There is class imbalance when it comes to brand, owner or fuel attributes. It might happen that due to this, there are inaccurate results."
   ]
  }
 ],
 "metadata": {
  "accelerator": "GPU",
  "colab": {
   "name": "Capstone 2.4-MinMaxScalerMerged.ipynb",
   "provenance": []
  },
  "kernelspec": {
   "display_name": "Python 3",
   "language": "python",
   "name": "python3"
  },
  "language_info": {
   "codemirror_mode": {
    "name": "ipython",
    "version": 3
   },
   "file_extension": ".py",
   "mimetype": "text/x-python",
   "name": "python",
   "nbconvert_exporter": "python",
   "pygments_lexer": "ipython3",
   "version": "3.8.8"
  }
 },
 "nbformat": 4,
 "nbformat_minor": 5
}
