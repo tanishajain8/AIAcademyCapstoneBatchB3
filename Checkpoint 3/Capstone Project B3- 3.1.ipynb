{
 "cells": [
  {
   "cell_type": "markdown",
   "metadata": {},
   "source": [
    "# Checkpoint 3.1 - Data Analysis using Big Data Tools"
   ]
  },
  {
   "cell_type": "markdown",
   "metadata": {},
   "source": [
    "### Capstone Project Batch: B Group: 3 "
   ]
  },
  {
   "cell_type": "markdown",
   "metadata": {},
   "source": [
    "* Capstone Project Domain: Automotive Industry\n",
    "* Batch B\n",
    "* Group 3\n",
    "* Members: Tanisha Jain , Priya Bhardwaj, Aman Bhardwaj and Satyam Sharma"
   ]
  },
  {
   "cell_type": "markdown",
   "metadata": {},
   "source": [
    "### Tasks:\n",
    "\n",
    "Big Data technologies like HDFS, Hive and PySpark need to be used as the historical data increases in size. As part of this task the following activities need to be done.\n",
    "1.\t●       Develop a PySpark application to load data Spark DataFrames and save it into Hive tables on a Hadoop cluster in an optimized format.\n",
    "2.\t●       Perform profiling of the data through PySpark and ensure that it is migrated correctly whereever the source is an RDBMS\n",
    "3.\t●       Write PySpark routines to cleanse the data, prepare the data to handle missing values, and the data transformations identified in task 1.1 again making sure that the data is written into Hive tables in an efficient format\n",
    "4.\t●       If the predictive model identified in task 2.4 available in Spark MLlib then develop a PySpark application to implement and evaluate the ML model identified with appropriate metrics\\\n",
    "\n",
    "Ensure that the best practices are followed and the design & code use the features of Spark and take advantage thereof.\n"
   ]
  },
  {
   "cell_type": "markdown",
   "metadata": {},
   "source": [
    "Note: Here the tasks have been performed in the following order:\n",
    "\n",
    "        1. Data preprocessing (Task 3)\n",
    "        2. Saving in Hive tables (Task 1)\n",
    "        3. Data profiling (Task 2)\n",
    "        4. Building ML Models (Task 4)"
   ]
  },
  {
   "cell_type": "code",
   "execution_count": 1,
   "metadata": {},
   "outputs": [],
   "source": [
    "import findspark\n",
    "findspark.init('/usr/local/spark')\n",
    "import pyspark"
   ]
  },
  {
   "cell_type": "code",
   "execution_count": 2,
   "metadata": {},
   "outputs": [
    {
     "data": {
      "text/plain": [
       "'2.2.2'"
      ]
     },
     "execution_count": 2,
     "metadata": {},
     "output_type": "execute_result"
    }
   ],
   "source": [
    "pyspark.__version__"
   ]
  },
  {
   "cell_type": "code",
   "execution_count": 3,
   "metadata": {},
   "outputs": [],
   "source": [
    "from pyspark.sql import SparkSession\n",
    "spark=SparkSession.builder.appName(\"Capstone B3\").enableHiveSupport().getOrCreate()\n"
   ]
  },
  {
   "cell_type": "code",
   "execution_count": 4,
   "metadata": {},
   "outputs": [
    {
     "data": {
      "text/html": [
       "\n",
       "            <div>\n",
       "                <p><b>SparkSession - hive</b></p>\n",
       "                \n",
       "        <div>\n",
       "            <p><b>SparkContext</b></p>\n",
       "\n",
       "            <p><a href=\"http://10.0.2.15:4040\">Spark UI</a></p>\n",
       "\n",
       "            <dl>\n",
       "              <dt>Version</dt>\n",
       "                <dd><code>v2.2.2</code></dd>\n",
       "              <dt>Master</dt>\n",
       "                <dd><code>local[*]</code></dd>\n",
       "              <dt>AppName</dt>\n",
       "                <dd><code>Capstone B3</code></dd>\n",
       "            </dl>\n",
       "        </div>\n",
       "        \n",
       "            </div>\n",
       "        "
      ],
      "text/plain": [
       "<pyspark.sql.session.SparkSession at 0x7faae4f815c0>"
      ]
     },
     "execution_count": 4,
     "metadata": {},
     "output_type": "execute_result"
    }
   ],
   "source": [
    "spark"
   ]
  },
  {
   "cell_type": "code",
   "execution_count": 6,
   "metadata": {},
   "outputs": [],
   "source": [
    "carData=(spark.read\n",
    "          .format('csv')\n",
    "           .option('header','true')\n",
    "           .load(\"file:///home/hduser/Downloads/sharedfolder/mergedCarSales.csv\")\n",
    "          )"
   ]
  },
  {
   "cell_type": "code",
   "execution_count": 7,
   "metadata": {},
   "outputs": [
    {
     "data": {
      "text/plain": [
       "pyspark.sql.dataframe.DataFrame"
      ]
     },
     "execution_count": 7,
     "metadata": {},
     "output_type": "execute_result"
    }
   ],
   "source": [
    "type(carData)"
   ]
  },
  {
   "cell_type": "code",
   "execution_count": 8,
   "metadata": {},
   "outputs": [
    {
     "data": {
      "text/plain": [
       "['_c0',\n",
       " 'Sales_ID',\n",
       " 'name',\n",
       " 'year',\n",
       " 'selling_price',\n",
       " 'km_driven',\n",
       " 'State or Province',\n",
       " 'City',\n",
       " 'fuel',\n",
       " 'seller_type',\n",
       " 'transmission',\n",
       " 'owner',\n",
       " 'mileage',\n",
       " 'engine',\n",
       " 'max_power',\n",
       " 'seats',\n",
       " 'sold',\n",
       " 'region',\n",
       " 'brand']"
      ]
     },
     "execution_count": 8,
     "metadata": {},
     "output_type": "execute_result"
    }
   ],
   "source": [
    "carData.columns"
   ]
  },
  {
   "cell_type": "code",
   "execution_count": 9,
   "metadata": {},
   "outputs": [
    {
     "name": "stdout",
     "output_type": "stream",
     "text": [
      "+---+--------+--------------------+----+-------------+---------+--------------------+-------------+------+-----------+------------+------------+----------+-------+----------+-----+----+-------+--------+\n",
      "|_c0|Sales_ID|                name|year|selling_price|km_driven|   State or Province|         City|  fuel|seller_type|transmission|       owner|   mileage| engine| max_power|seats|sold| region|   brand|\n",
      "+---+--------+--------------------+----+-------------+---------+--------------------+-------------+------+-----------+------------+------------+----------+-------+----------+-----+----+-------+--------+\n",
      "|  0|       1|Maruti Swift Dzir...|2014|       450000|   145500|District of Columbia|   Washington|Diesel| Individual|      Manual| First Owner| 23.4 kmpl|1248 CC|    74 bhp|    5|   Y|   East|  Maruti|\n",
      "|  1|       2|Skoda Rapid 1.5 T...|2014|       370000|   120000|            New York|New York City|Diesel| Individual|      Manual|Second Owner|21.14 kmpl|1498 CC|103.52 bhp|    5|   Y|   East|   Skoda|\n",
      "|  2|       3|Honda City 2017-2...|2006|       158000|   140000|            Illinois|      Chicago|Petrol| Individual|      Manual| Third Owner| 17.7 kmpl|1497 CC|    78 bhp|    5|   Y|Central|   Honda|\n",
      "|  3|       4|Hyundai i20 Sport...|2010|       225000|   127000|            Illinois|      Chicago|Diesel| Individual|      Manual| First Owner| 23.0 kmpl|1396 CC|    90 bhp|    5|   Y|Central| Hyundai|\n",
      "|  4|       5|Maruti Swift VXI ...|2007|       130000|   120000|            New York|New York City|Petrol| Individual|      Manual| First Owner| 16.1 kmpl|1298 CC|  88.2 bhp|    5|   Y|   East|  Maruti|\n",
      "|  5|       6|Hyundai Xcent 1.2...|2017|       440000|    45000|            New York|New York City|Petrol| Individual|      Manual| First Owner|20.14 kmpl|1197 CC| 81.86 bhp|    5|   Y|   East| Hyundai|\n",
      "|  6|       7|Maruti Wagon R LX...|2007|        96000|   175000|          California|  Los Angeles|   LPG| Individual|      Manual| First Owner|17.3 km/kg|1061 CC|  57.5 bhp|    5|   Y|   West|  Maruti|\n",
      "|  7|       8|  Maruti 800 DX BSII|2001|        45000|     5000|          California|  Los Angeles|Petrol| Individual|      Manual|Second Owner| 16.1 kmpl| 796 CC|    37 bhp|    4|   Y|   West|  Maruti|\n",
      "|  8|       9|    Toyota Etios VXD|2011|       350000|    90000|          California|  Los Angeles|Diesel| Individual|      Manual| First Owner|23.59 kmpl|1364 CC|  67.1 bhp|    5|   Y|   West|  Toyota|\n",
      "|  9|      10|Ford Figo Diesel ...|2013|       200000|   169000|               Texas|      Houston|Diesel| Individual|      Manual| First Owner| 20.0 kmpl|1399 CC|  68.1 bhp|    5|   Y|Central|    Ford|\n",
      "| 10|      11|Renault Duster 11...|2014|       500000|    68000|            New York|New York City|Diesel| Individual|      Manual|Second Owner|19.01 kmpl|1461 CC|108.45 bhp|    5|   Y|   East| Renault|\n",
      "| 11|      12|       Maruti Zen LX|2005|        92000|   100000|               Texas|      Houston|Petrol| Individual|      Manual|Second Owner| 17.3 kmpl| 993 CC|    60 bhp|    5|   Y|Central|  Maruti|\n",
      "| 12|      13|Maruti Swift Dzir...|2009|       280000|   140000|               Texas|      Houston|Diesel| Individual|      Manual|Second Owner| 19.3 kmpl|1248 CC|  73.9 bhp|    5|   Y|Central|  Maruti|\n",
      "| 13|      15|Maruti Wagon R LX...|2009|       180000|    90000|       Massachusetts|       Boston|Petrol| Individual|      Manual|Second Owner| 18.9 kmpl|1061 CC|    67 bhp|    5|   Y|   East|  Maruti|\n",
      "| 14|      16|Mahindra KUV 100 ...|2016|       400000|    40000|       Massachusetts|       Boston|Petrol| Individual|      Manual| First Owner|18.15 kmpl|1198 CC|    82 bhp|    5|   Y|   East|Mahindra|\n",
      "| 15|      17|Maruti Ertiga SHV...|2016|       778000|    70000|               Texas|       Dallas|Diesel| Individual|      Manual|Second Owner|24.52 kmpl|1248 CC|  88.5 bhp|    7|   Y|Central|  Maruti|\n",
      "| 16|      18|Hyundai i20 1.4 C...|2012|       500000|    53000|               Texas|       Dallas|Diesel| Individual|      Manual|Second Owner| 23.0 kmpl|1396 CC|    90 bhp|    5|   Y|Central| Hyundai|\n",
      "| 17|      19|      Maruti Alto LX|2002|       150000|    80000|               Texas|       Dallas|Petrol| Individual|      Manual|Second Owner| 19.7 kmpl| 796 CC|  46.3 bhp|    5|   Y|Central|  Maruti|\n",
      "| 18|      20|Hyundai i20 2015-...|2016|       680000|   100000|            New York|New York City|Diesel| Individual|      Manual| First Owner|22.54 kmpl|1396 CC| 88.73 bhp|    5|   Y|   East| Hyundai|\n",
      "| 19|      21|Mahindra Verito 1...|2011|       174000|   100000|            New York|New York City|Diesel| Individual|      Manual|Second Owner| 21.0 kmpl|1461 CC|  64.1 bhp|    5|   Y|   East|Mahindra|\n",
      "+---+--------+--------------------+----+-------------+---------+--------------------+-------------+------+-----------+------------+------------+----------+-------+----------+-----+----+-------+--------+\n",
      "only showing top 20 rows\n",
      "\n"
     ]
    }
   ],
   "source": [
    "carData.show()"
   ]
  },
  {
   "cell_type": "code",
   "execution_count": 10,
   "metadata": {},
   "outputs": [
    {
     "data": {
      "text/plain": [
       "7906"
      ]
     },
     "execution_count": 10,
     "metadata": {},
     "output_type": "execute_result"
    }
   ],
   "source": [
    "carData.count()"
   ]
  },
  {
   "cell_type": "markdown",
   "metadata": {},
   "source": [
    "#### Task 3\n",
    "Write PySpark routines to cleanse the data, prepare the data to handle missing values, and the data transformations identified in task 1.1 again making sure that the data is written into Hive tables in an efficient format"
   ]
  },
  {
   "cell_type": "markdown",
   "metadata": {},
   "source": [
    "1. Categorical columns have been converted into numerical columns\n",
    "2. Year column has been preprocessed to give the difference of years between the current year and year sold.\n",
    "3. Few columns have been dropped.\n",
    "4. Few numerical columns have been preprocessed."
   ]
  },
  {
   "cell_type": "code",
   "execution_count": 11,
   "metadata": {},
   "outputs": [
    {
     "name": "stdout",
     "output_type": "stream",
     "text": [
      "+---+--------+--------------------+----+-------------+---------+--------------------+-------------+------+-----------+------------+------------+----------+-------+----------+-----+----+-------+--------+\n",
      "|_c0|Sales_ID|                name|year|selling_price|km_driven|   State or Province|         City|  fuel|seller_type|transmission|       owner|   mileage| engine| max_power|seats|sold| region|   brand|\n",
      "+---+--------+--------------------+----+-------------+---------+--------------------+-------------+------+-----------+------------+------------+----------+-------+----------+-----+----+-------+--------+\n",
      "|  0|       1|Maruti Swift Dzir...|2014|       450000|   145500|District of Columbia|   Washington|Diesel| Individual|      Manual| First Owner| 23.4 kmpl|1248 CC|    74 bhp|    5|   Y|   East|  Maruti|\n",
      "|  1|       2|Skoda Rapid 1.5 T...|2014|       370000|   120000|            New York|New York City|Diesel| Individual|      Manual|Second Owner|21.14 kmpl|1498 CC|103.52 bhp|    5|   Y|   East|   Skoda|\n",
      "|  2|       3|Honda City 2017-2...|2006|       158000|   140000|            Illinois|      Chicago|Petrol| Individual|      Manual| Third Owner| 17.7 kmpl|1497 CC|    78 bhp|    5|   Y|Central|   Honda|\n",
      "|  3|       4|Hyundai i20 Sport...|2010|       225000|   127000|            Illinois|      Chicago|Diesel| Individual|      Manual| First Owner| 23.0 kmpl|1396 CC|    90 bhp|    5|   Y|Central| Hyundai|\n",
      "|  4|       5|Maruti Swift VXI ...|2007|       130000|   120000|            New York|New York City|Petrol| Individual|      Manual| First Owner| 16.1 kmpl|1298 CC|  88.2 bhp|    5|   Y|   East|  Maruti|\n",
      "|  5|       6|Hyundai Xcent 1.2...|2017|       440000|    45000|            New York|New York City|Petrol| Individual|      Manual| First Owner|20.14 kmpl|1197 CC| 81.86 bhp|    5|   Y|   East| Hyundai|\n",
      "|  6|       7|Maruti Wagon R LX...|2007|        96000|   175000|          California|  Los Angeles|   LPG| Individual|      Manual| First Owner|17.3 km/kg|1061 CC|  57.5 bhp|    5|   Y|   West|  Maruti|\n",
      "|  7|       8|  Maruti 800 DX BSII|2001|        45000|     5000|          California|  Los Angeles|Petrol| Individual|      Manual|Second Owner| 16.1 kmpl| 796 CC|    37 bhp|    4|   Y|   West|  Maruti|\n",
      "|  8|       9|    Toyota Etios VXD|2011|       350000|    90000|          California|  Los Angeles|Diesel| Individual|      Manual| First Owner|23.59 kmpl|1364 CC|  67.1 bhp|    5|   Y|   West|  Toyota|\n",
      "|  9|      10|Ford Figo Diesel ...|2013|       200000|   169000|               Texas|      Houston|Diesel| Individual|      Manual| First Owner| 20.0 kmpl|1399 CC|  68.1 bhp|    5|   Y|Central|    Ford|\n",
      "| 10|      11|Renault Duster 11...|2014|       500000|    68000|            New York|New York City|Diesel| Individual|      Manual|Second Owner|19.01 kmpl|1461 CC|108.45 bhp|    5|   Y|   East| Renault|\n",
      "| 11|      12|       Maruti Zen LX|2005|        92000|   100000|               Texas|      Houston|Petrol| Individual|      Manual|Second Owner| 17.3 kmpl| 993 CC|    60 bhp|    5|   Y|Central|  Maruti|\n",
      "| 12|      13|Maruti Swift Dzir...|2009|       280000|   140000|               Texas|      Houston|Diesel| Individual|      Manual|Second Owner| 19.3 kmpl|1248 CC|  73.9 bhp|    5|   Y|Central|  Maruti|\n",
      "| 13|      15|Maruti Wagon R LX...|2009|       180000|    90000|       Massachusetts|       Boston|Petrol| Individual|      Manual|Second Owner| 18.9 kmpl|1061 CC|    67 bhp|    5|   Y|   East|  Maruti|\n",
      "| 14|      16|Mahindra KUV 100 ...|2016|       400000|    40000|       Massachusetts|       Boston|Petrol| Individual|      Manual| First Owner|18.15 kmpl|1198 CC|    82 bhp|    5|   Y|   East|Mahindra|\n",
      "| 15|      17|Maruti Ertiga SHV...|2016|       778000|    70000|               Texas|       Dallas|Diesel| Individual|      Manual|Second Owner|24.52 kmpl|1248 CC|  88.5 bhp|    7|   Y|Central|  Maruti|\n",
      "| 16|      18|Hyundai i20 1.4 C...|2012|       500000|    53000|               Texas|       Dallas|Diesel| Individual|      Manual|Second Owner| 23.0 kmpl|1396 CC|    90 bhp|    5|   Y|Central| Hyundai|\n",
      "| 17|      19|      Maruti Alto LX|2002|       150000|    80000|               Texas|       Dallas|Petrol| Individual|      Manual|Second Owner| 19.7 kmpl| 796 CC|  46.3 bhp|    5|   Y|Central|  Maruti|\n",
      "| 18|      20|Hyundai i20 2015-...|2016|       680000|   100000|            New York|New York City|Diesel| Individual|      Manual| First Owner|22.54 kmpl|1396 CC| 88.73 bhp|    5|   Y|   East| Hyundai|\n",
      "| 19|      21|Mahindra Verito 1...|2011|       174000|   100000|            New York|New York City|Diesel| Individual|      Manual|Second Owner| 21.0 kmpl|1461 CC|  64.1 bhp|    5|   Y|   East|Mahindra|\n",
      "+---+--------+--------------------+----+-------------+---------+--------------------+-------------+------+-----------+------------+------------+----------+-------+----------+-----+----+-------+--------+\n",
      "only showing top 20 rows\n",
      "\n"
     ]
    }
   ],
   "source": [
    "carData.show()"
   ]
  },
  {
   "cell_type": "code",
   "execution_count": 12,
   "metadata": {},
   "outputs": [],
   "source": [
    "from pyspark.sql.functions import split\n",
    "carData=carData.withColumn(\"mileage\", split((\"mileage\"), \" \").getItem(0))\n"
   ]
  },
  {
   "cell_type": "code",
   "execution_count": 13,
   "metadata": {},
   "outputs": [
    {
     "name": "stdout",
     "output_type": "stream",
     "text": [
      "+---+--------+--------------------+----+-------------+---------+--------------------+-------------+------+-----------+------------+------------+-------+-------+----------+-----+----+-------+-------+\n",
      "|_c0|Sales_ID|                name|year|selling_price|km_driven|   State or Province|         City|  fuel|seller_type|transmission|       owner|mileage| engine| max_power|seats|sold| region|  brand|\n",
      "+---+--------+--------------------+----+-------------+---------+--------------------+-------------+------+-----------+------------+------------+-------+-------+----------+-----+----+-------+-------+\n",
      "|  0|       1|Maruti Swift Dzir...|2014|       450000|   145500|District of Columbia|   Washington|Diesel| Individual|      Manual| First Owner|   23.4|1248 CC|    74 bhp|    5|   Y|   East| Maruti|\n",
      "|  1|       2|Skoda Rapid 1.5 T...|2014|       370000|   120000|            New York|New York City|Diesel| Individual|      Manual|Second Owner|  21.14|1498 CC|103.52 bhp|    5|   Y|   East|  Skoda|\n",
      "|  2|       3|Honda City 2017-2...|2006|       158000|   140000|            Illinois|      Chicago|Petrol| Individual|      Manual| Third Owner|   17.7|1497 CC|    78 bhp|    5|   Y|Central|  Honda|\n",
      "|  3|       4|Hyundai i20 Sport...|2010|       225000|   127000|            Illinois|      Chicago|Diesel| Individual|      Manual| First Owner|   23.0|1396 CC|    90 bhp|    5|   Y|Central|Hyundai|\n",
      "+---+--------+--------------------+----+-------------+---------+--------------------+-------------+------+-----------+------------+------------+-------+-------+----------+-----+----+-------+-------+\n",
      "only showing top 4 rows\n",
      "\n"
     ]
    }
   ],
   "source": [
    "carData.show(4)"
   ]
  },
  {
   "cell_type": "code",
   "execution_count": 14,
   "metadata": {},
   "outputs": [],
   "source": [
    "carData=carData.withColumn(\"engine\", split((\"engine\"), \" \").getItem(0))\n",
    "carData=carData.withColumn(\"max_power\", split((\"max_power\"), \" \").getItem(0))"
   ]
  },
  {
   "cell_type": "code",
   "execution_count": 15,
   "metadata": {},
   "outputs": [
    {
     "name": "stdout",
     "output_type": "stream",
     "text": [
      "+---+--------+--------------------+----+-------------+---------+--------------------+-------------+------+-----------+------------+------------+-------+------+---------+-----+----+-------+--------+\n",
      "|_c0|Sales_ID|                name|year|selling_price|km_driven|   State or Province|         City|  fuel|seller_type|transmission|       owner|mileage|engine|max_power|seats|sold| region|   brand|\n",
      "+---+--------+--------------------+----+-------------+---------+--------------------+-------------+------+-----------+------------+------------+-------+------+---------+-----+----+-------+--------+\n",
      "|  0|       1|Maruti Swift Dzir...|2014|       450000|   145500|District of Columbia|   Washington|Diesel| Individual|      Manual| First Owner|   23.4|  1248|       74|    5|   Y|   East|  Maruti|\n",
      "|  1|       2|Skoda Rapid 1.5 T...|2014|       370000|   120000|            New York|New York City|Diesel| Individual|      Manual|Second Owner|  21.14|  1498|   103.52|    5|   Y|   East|   Skoda|\n",
      "|  2|       3|Honda City 2017-2...|2006|       158000|   140000|            Illinois|      Chicago|Petrol| Individual|      Manual| Third Owner|   17.7|  1497|       78|    5|   Y|Central|   Honda|\n",
      "|  3|       4|Hyundai i20 Sport...|2010|       225000|   127000|            Illinois|      Chicago|Diesel| Individual|      Manual| First Owner|   23.0|  1396|       90|    5|   Y|Central| Hyundai|\n",
      "|  4|       5|Maruti Swift VXI ...|2007|       130000|   120000|            New York|New York City|Petrol| Individual|      Manual| First Owner|   16.1|  1298|     88.2|    5|   Y|   East|  Maruti|\n",
      "|  5|       6|Hyundai Xcent 1.2...|2017|       440000|    45000|            New York|New York City|Petrol| Individual|      Manual| First Owner|  20.14|  1197|    81.86|    5|   Y|   East| Hyundai|\n",
      "|  6|       7|Maruti Wagon R LX...|2007|        96000|   175000|          California|  Los Angeles|   LPG| Individual|      Manual| First Owner|   17.3|  1061|     57.5|    5|   Y|   West|  Maruti|\n",
      "|  7|       8|  Maruti 800 DX BSII|2001|        45000|     5000|          California|  Los Angeles|Petrol| Individual|      Manual|Second Owner|   16.1|   796|       37|    4|   Y|   West|  Maruti|\n",
      "|  8|       9|    Toyota Etios VXD|2011|       350000|    90000|          California|  Los Angeles|Diesel| Individual|      Manual| First Owner|  23.59|  1364|     67.1|    5|   Y|   West|  Toyota|\n",
      "|  9|      10|Ford Figo Diesel ...|2013|       200000|   169000|               Texas|      Houston|Diesel| Individual|      Manual| First Owner|   20.0|  1399|     68.1|    5|   Y|Central|    Ford|\n",
      "| 10|      11|Renault Duster 11...|2014|       500000|    68000|            New York|New York City|Diesel| Individual|      Manual|Second Owner|  19.01|  1461|   108.45|    5|   Y|   East| Renault|\n",
      "| 11|      12|       Maruti Zen LX|2005|        92000|   100000|               Texas|      Houston|Petrol| Individual|      Manual|Second Owner|   17.3|   993|       60|    5|   Y|Central|  Maruti|\n",
      "| 12|      13|Maruti Swift Dzir...|2009|       280000|   140000|               Texas|      Houston|Diesel| Individual|      Manual|Second Owner|   19.3|  1248|     73.9|    5|   Y|Central|  Maruti|\n",
      "| 13|      15|Maruti Wagon R LX...|2009|       180000|    90000|       Massachusetts|       Boston|Petrol| Individual|      Manual|Second Owner|   18.9|  1061|       67|    5|   Y|   East|  Maruti|\n",
      "| 14|      16|Mahindra KUV 100 ...|2016|       400000|    40000|       Massachusetts|       Boston|Petrol| Individual|      Manual| First Owner|  18.15|  1198|       82|    5|   Y|   East|Mahindra|\n",
      "| 15|      17|Maruti Ertiga SHV...|2016|       778000|    70000|               Texas|       Dallas|Diesel| Individual|      Manual|Second Owner|  24.52|  1248|     88.5|    7|   Y|Central|  Maruti|\n",
      "| 16|      18|Hyundai i20 1.4 C...|2012|       500000|    53000|               Texas|       Dallas|Diesel| Individual|      Manual|Second Owner|   23.0|  1396|       90|    5|   Y|Central| Hyundai|\n",
      "| 17|      19|      Maruti Alto LX|2002|       150000|    80000|               Texas|       Dallas|Petrol| Individual|      Manual|Second Owner|   19.7|   796|     46.3|    5|   Y|Central|  Maruti|\n",
      "| 18|      20|Hyundai i20 2015-...|2016|       680000|   100000|            New York|New York City|Diesel| Individual|      Manual| First Owner|  22.54|  1396|    88.73|    5|   Y|   East| Hyundai|\n",
      "| 19|      21|Mahindra Verito 1...|2011|       174000|   100000|            New York|New York City|Diesel| Individual|      Manual|Second Owner|   21.0|  1461|     64.1|    5|   Y|   East|Mahindra|\n",
      "+---+--------+--------------------+----+-------------+---------+--------------------+-------------+------+-----------+------------+------------+-------+------+---------+-----+----+-------+--------+\n",
      "only showing top 20 rows\n",
      "\n"
     ]
    }
   ],
   "source": [
    "carData.show()"
   ]
  },
  {
   "cell_type": "code",
   "execution_count": 16,
   "metadata": {},
   "outputs": [
    {
     "data": {
      "text/plain": [
       "[('_c0', 'string'),\n",
       " ('Sales_ID', 'string'),\n",
       " ('name', 'string'),\n",
       " ('year', 'string'),\n",
       " ('selling_price', 'string'),\n",
       " ('km_driven', 'string'),\n",
       " ('State or Province', 'string'),\n",
       " ('City', 'string'),\n",
       " ('fuel', 'string'),\n",
       " ('seller_type', 'string'),\n",
       " ('transmission', 'string'),\n",
       " ('owner', 'string'),\n",
       " ('mileage', 'string'),\n",
       " ('engine', 'string'),\n",
       " ('max_power', 'string'),\n",
       " ('seats', 'string'),\n",
       " ('sold', 'string'),\n",
       " ('region', 'string'),\n",
       " ('brand', 'string')]"
      ]
     },
     "execution_count": 16,
     "metadata": {},
     "output_type": "execute_result"
    }
   ],
   "source": [
    "carData.dtypes"
   ]
  },
  {
   "cell_type": "code",
   "execution_count": 17,
   "metadata": {},
   "outputs": [],
   "source": [
    "cleansedData=carData"
   ]
  },
  {
   "cell_type": "code",
   "execution_count": 18,
   "metadata": {},
   "outputs": [],
   "source": [
    "cleansedData=cleansedData.drop('_c0')\n",
    "cleansedData=cleansedData.drop('name')\n",
    "cleansedData=cleansedData.drop('Sales_ID')\n",
    "cleansedData=cleansedData.drop('City')"
   ]
  },
  {
   "cell_type": "code",
   "execution_count": 19,
   "metadata": {},
   "outputs": [
    {
     "name": "stdout",
     "output_type": "stream",
     "text": [
      "+----+-------------+---------+--------------------+------+-----------+------------+------------+-------+------+---------+-----+----+-------+-------+\n",
      "|year|selling_price|km_driven|   State or Province|  fuel|seller_type|transmission|       owner|mileage|engine|max_power|seats|sold| region|  brand|\n",
      "+----+-------------+---------+--------------------+------+-----------+------------+------------+-------+------+---------+-----+----+-------+-------+\n",
      "|2014|       450000|   145500|District of Columbia|Diesel| Individual|      Manual| First Owner|   23.4|  1248|       74|    5|   Y|   East| Maruti|\n",
      "|2014|       370000|   120000|            New York|Diesel| Individual|      Manual|Second Owner|  21.14|  1498|   103.52|    5|   Y|   East|  Skoda|\n",
      "|2006|       158000|   140000|            Illinois|Petrol| Individual|      Manual| Third Owner|   17.7|  1497|       78|    5|   Y|Central|  Honda|\n",
      "|2010|       225000|   127000|            Illinois|Diesel| Individual|      Manual| First Owner|   23.0|  1396|       90|    5|   Y|Central|Hyundai|\n",
      "+----+-------------+---------+--------------------+------+-----------+------------+------------+-------+------+---------+-----+----+-------+-------+\n",
      "only showing top 4 rows\n",
      "\n"
     ]
    }
   ],
   "source": [
    "cleansedData.show(4)"
   ]
  },
  {
   "cell_type": "code",
   "execution_count": 20,
   "metadata": {},
   "outputs": [
    {
     "data": {
      "text/plain": [
       "7906"
      ]
     },
     "execution_count": 20,
     "metadata": {},
     "output_type": "execute_result"
    }
   ],
   "source": [
    "cleansedData.count()"
   ]
  },
  {
   "cell_type": "code",
   "execution_count": 21,
   "metadata": {},
   "outputs": [],
   "source": [
    "cleansedData=cleansedData[cleansedData['mileage']!=0]"
   ]
  },
  {
   "cell_type": "code",
   "execution_count": 22,
   "metadata": {},
   "outputs": [
    {
     "data": {
      "text/plain": [
       "7889"
      ]
     },
     "execution_count": 22,
     "metadata": {},
     "output_type": "execute_result"
    }
   ],
   "source": [
    "cleansedData.count()"
   ]
  },
  {
   "cell_type": "code",
   "execution_count": 23,
   "metadata": {},
   "outputs": [
    {
     "data": {
      "text/plain": [
       "['year',\n",
       " 'selling_price',\n",
       " 'km_driven',\n",
       " 'State or Province',\n",
       " 'fuel',\n",
       " 'seller_type',\n",
       " 'transmission',\n",
       " 'owner',\n",
       " 'mileage',\n",
       " 'engine',\n",
       " 'max_power',\n",
       " 'seats',\n",
       " 'sold',\n",
       " 'region',\n",
       " 'brand']"
      ]
     },
     "execution_count": 23,
     "metadata": {},
     "output_type": "execute_result"
    }
   ],
   "source": [
    "cleansedData.columns"
   ]
  },
  {
   "cell_type": "code",
   "execution_count": 24,
   "metadata": {},
   "outputs": [],
   "source": [
    "from pyspark.ml.feature import StringIndexer"
   ]
  },
  {
   "cell_type": "code",
   "execution_count": 25,
   "metadata": {},
   "outputs": [],
   "source": [
    "cleansedData=StringIndexer(\n",
    "inputCol='owner',\n",
    "outputCol='ownerLabel',\n",
    "handleInvalid='keep').fit(cleansedData).transform(cleansedData)"
   ]
  },
  {
   "cell_type": "code",
   "execution_count": 26,
   "metadata": {},
   "outputs": [
    {
     "name": "stdout",
     "output_type": "stream",
     "text": [
      "+----+-------------+---------+--------------------+------+-----------+------------+------------+-------+------+---------+-----+----+-------+-------+----------+\n",
      "|year|selling_price|km_driven|   State or Province|  fuel|seller_type|transmission|       owner|mileage|engine|max_power|seats|sold| region|  brand|ownerLabel|\n",
      "+----+-------------+---------+--------------------+------+-----------+------------+------------+-------+------+---------+-----+----+-------+-------+----------+\n",
      "|2014|       450000|   145500|District of Columbia|Diesel| Individual|      Manual| First Owner|   23.4|  1248|       74|    5|   Y|   East| Maruti|       0.0|\n",
      "|2014|       370000|   120000|            New York|Diesel| Individual|      Manual|Second Owner|  21.14|  1498|   103.52|    5|   Y|   East|  Skoda|       1.0|\n",
      "|2006|       158000|   140000|            Illinois|Petrol| Individual|      Manual| Third Owner|   17.7|  1497|       78|    5|   Y|Central|  Honda|       2.0|\n",
      "|2010|       225000|   127000|            Illinois|Diesel| Individual|      Manual| First Owner|   23.0|  1396|       90|    5|   Y|Central|Hyundai|       0.0|\n",
      "+----+-------------+---------+--------------------+------+-----------+------------+------------+-------+------+---------+-----+----+-------+-------+----------+\n",
      "only showing top 4 rows\n",
      "\n"
     ]
    }
   ],
   "source": [
    "cleansedData.show(4)"
   ]
  },
  {
   "cell_type": "code",
   "execution_count": 27,
   "metadata": {},
   "outputs": [],
   "source": [
    "cleansedData=StringIndexer(\n",
    "inputCol='region',\n",
    "outputCol='regionLabel',\n",
    "handleInvalid='keep').fit(cleansedData).transform(cleansedData)"
   ]
  },
  {
   "cell_type": "code",
   "execution_count": 28,
   "metadata": {},
   "outputs": [],
   "source": [
    "cleansedData=StringIndexer(\n",
    "inputCol='brand',\n",
    "outputCol='brandLabel',\n",
    "handleInvalid='keep').fit(cleansedData).transform(cleansedData)"
   ]
  },
  {
   "cell_type": "code",
   "execution_count": 29,
   "metadata": {},
   "outputs": [],
   "source": [
    "cleansedData=StringIndexer(\n",
    "inputCol='fuel',\n",
    "outputCol='fuelLabel',\n",
    "handleInvalid='keep').fit(cleansedData).transform(cleansedData)"
   ]
  },
  {
   "cell_type": "code",
   "execution_count": 30,
   "metadata": {},
   "outputs": [],
   "source": [
    "cleansedData=StringIndexer(\n",
    "inputCol='sold',\n",
    "outputCol='soldLabel',\n",
    "handleInvalid='keep').fit(cleansedData).transform(cleansedData)"
   ]
  },
  {
   "cell_type": "code",
   "execution_count": 31,
   "metadata": {},
   "outputs": [],
   "source": [
    "cleansedData=StringIndexer(\n",
    "inputCol='transmission',\n",
    "outputCol='transmissionLabel',\n",
    "handleInvalid='keep').fit(cleansedData).transform(cleansedData)"
   ]
  },
  {
   "cell_type": "code",
   "execution_count": 32,
   "metadata": {},
   "outputs": [],
   "source": [
    "cleansedData=StringIndexer(\n",
    "inputCol='seller_type',\n",
    "outputCol='sellerLabel',\n",
    "handleInvalid='keep').fit(cleansedData).transform(cleansedData)"
   ]
  },
  {
   "cell_type": "code",
   "execution_count": 33,
   "metadata": {},
   "outputs": [],
   "source": [
    "cleansedData=StringIndexer(\n",
    "inputCol='State or Province',\n",
    "outputCol='stateLabel',\n",
    "handleInvalid='keep').fit(cleansedData).transform(cleansedData)"
   ]
  },
  {
   "cell_type": "code",
   "execution_count": 34,
   "metadata": {},
   "outputs": [
    {
     "name": "stdout",
     "output_type": "stream",
     "text": [
      "+----+-------------+---------+--------------------+------+-----------+------------+------------+-------+------+---------+-----+----+-------+-------+----------+-----------+----------+---------+---------+-----------------+-----------+----------+\n",
      "|year|selling_price|km_driven|   State or Province|  fuel|seller_type|transmission|       owner|mileage|engine|max_power|seats|sold| region|  brand|ownerLabel|regionLabel|brandLabel|fuelLabel|soldLabel|transmissionLabel|sellerLabel|stateLabel|\n",
      "+----+-------------+---------+--------------------+------+-----------+------------+------------+-------+------+---------+-----+----+-------+-------+----------+-----------+----------+---------+---------+-----------------+-----------+----------+\n",
      "|2014|       450000|   145500|District of Columbia|Diesel| Individual|      Manual| First Owner|   23.4|  1248|       74|    5|   Y|   East| Maruti|       0.0|        2.0|       0.0|      0.0|      1.0|              0.0|        0.0|      33.0|\n",
      "|2014|       370000|   120000|            New York|Diesel| Individual|      Manual|Second Owner|  21.14|  1498|   103.52|    5|   Y|   East|  Skoda|       1.0|        2.0|      11.0|      0.0|      1.0|              0.0|        0.0|       2.0|\n",
      "|2006|       158000|   140000|            Illinois|Petrol| Individual|      Manual| Third Owner|   17.7|  1497|       78|    5|   Y|Central|  Honda|       2.0|        0.0|       4.0|      1.0|      1.0|              0.0|        0.0|       3.0|\n",
      "|2010|       225000|   127000|            Illinois|Diesel| Individual|      Manual| First Owner|   23.0|  1396|       90|    5|   Y|Central|Hyundai|       0.0|        0.0|       1.0|      0.0|      1.0|              0.0|        0.0|       3.0|\n",
      "+----+-------------+---------+--------------------+------+-----------+------------+------------+-------+------+---------+-----+----+-------+-------+----------+-----------+----------+---------+---------+-----------------+-----------+----------+\n",
      "only showing top 4 rows\n",
      "\n"
     ]
    }
   ],
   "source": [
    "cleansedData.show(4)"
   ]
  },
  {
   "cell_type": "code",
   "execution_count": 35,
   "metadata": {},
   "outputs": [
    {
     "name": "stdout",
     "output_type": "stream",
     "text": [
      "+----+-------------+---------+-------+------+---------+-----+----------+-----------+----------+---------+---------+-----------------+-----------+----------+\n",
      "|year|selling_price|km_driven|mileage|engine|max_power|seats|ownerLabel|regionLabel|brandLabel|fuelLabel|soldLabel|transmissionLabel|sellerLabel|stateLabel|\n",
      "+----+-------------+---------+-------+------+---------+-----+----------+-----------+----------+---------+---------+-----------------+-----------+----------+\n",
      "|2014|       450000|   145500|   23.4|  1248|       74|    5|       0.0|        2.0|       0.0|      0.0|      1.0|              0.0|        0.0|      33.0|\n",
      "|2014|       370000|   120000|  21.14|  1498|   103.52|    5|       1.0|        2.0|      11.0|      0.0|      1.0|              0.0|        0.0|       2.0|\n",
      "|2006|       158000|   140000|   17.7|  1497|       78|    5|       2.0|        0.0|       4.0|      1.0|      1.0|              0.0|        0.0|       3.0|\n",
      "|2010|       225000|   127000|   23.0|  1396|       90|    5|       0.0|        0.0|       1.0|      0.0|      1.0|              0.0|        0.0|       3.0|\n",
      "+----+-------------+---------+-------+------+---------+-----+----------+-----------+----------+---------+---------+-----------------+-----------+----------+\n",
      "only showing top 4 rows\n",
      "\n"
     ]
    }
   ],
   "source": [
    "\n",
    "cleansedData=cleansedData.drop('region')\n",
    "cleansedData=cleansedData.drop('sold')\n",
    "cleansedData=cleansedData.drop('brand')\n",
    "cleansedData=cleansedData.drop('fuel')\n",
    "cleansedData=cleansedData.drop('owner')\n",
    "cleansedData=cleansedData.drop('seller_type')\n",
    "cleansedData=cleansedData.drop('transmission')\n",
    "cleansedData=cleansedData.drop('State or Province')\n",
    "\n",
    "cleansedData.show(4)"
   ]
  },
  {
   "cell_type": "code",
   "execution_count": 36,
   "metadata": {},
   "outputs": [
    {
     "data": {
      "text/plain": [
       "[('year', 'string'),\n",
       " ('selling_price', 'string'),\n",
       " ('km_driven', 'string'),\n",
       " ('mileage', 'string'),\n",
       " ('engine', 'string'),\n",
       " ('max_power', 'string'),\n",
       " ('seats', 'string'),\n",
       " ('ownerLabel', 'double'),\n",
       " ('regionLabel', 'double'),\n",
       " ('brandLabel', 'double'),\n",
       " ('fuelLabel', 'double'),\n",
       " ('soldLabel', 'double'),\n",
       " ('transmissionLabel', 'double'),\n",
       " ('sellerLabel', 'double'),\n",
       " ('stateLabel', 'double')]"
      ]
     },
     "execution_count": 36,
     "metadata": {},
     "output_type": "execute_result"
    }
   ],
   "source": [
    "cleansedData.dtypes"
   ]
  },
  {
   "cell_type": "code",
   "execution_count": 37,
   "metadata": {},
   "outputs": [],
   "source": [
    "from pyspark.sql.functions import col"
   ]
  },
  {
   "cell_type": "code",
   "execution_count": 38,
   "metadata": {},
   "outputs": [],
   "source": [
    "cleansedData=cleansedData.select(col('selling_price').cast('int'),\n",
    "                               col('year').cast('float'),\n",
    "                               col('km_driven').cast('int'),\n",
    "                               col('mileage').cast('float'),\n",
    "                               col('engine').cast('float'),\n",
    "                               col('max_power').cast('float'),\n",
    "                                col('seats').cast('int'),\n",
    "                                col('ownerLabel'),\n",
    "                                col('regionLabel'),\n",
    "                                col('brandLabel'),\n",
    "                                col('fuelLabel'),\n",
    "                                col('soldLabel'),\n",
    "                                col('transmissionLabel'),\n",
    "                                col('sellerLabel'),\n",
    "                                col('stateLabel'))"
   ]
  },
  {
   "cell_type": "code",
   "execution_count": 39,
   "metadata": {},
   "outputs": [
    {
     "data": {
      "text/plain": [
       "[('selling_price', 'int'),\n",
       " ('year', 'float'),\n",
       " ('km_driven', 'int'),\n",
       " ('mileage', 'float'),\n",
       " ('engine', 'float'),\n",
       " ('max_power', 'float'),\n",
       " ('seats', 'int'),\n",
       " ('ownerLabel', 'double'),\n",
       " ('regionLabel', 'double'),\n",
       " ('brandLabel', 'double'),\n",
       " ('fuelLabel', 'double'),\n",
       " ('soldLabel', 'double'),\n",
       " ('transmissionLabel', 'double'),\n",
       " ('sellerLabel', 'double'),\n",
       " ('stateLabel', 'double')]"
      ]
     },
     "execution_count": 39,
     "metadata": {},
     "output_type": "execute_result"
    }
   ],
   "source": [
    "cleansedData.dtypes"
   ]
  },
  {
   "cell_type": "code",
   "execution_count": 40,
   "metadata": {},
   "outputs": [],
   "source": [
    "from pyspark.sql.functions import to_timestamp,date_format\n"
   ]
  },
  {
   "cell_type": "code",
   "execution_count": 41,
   "metadata": {},
   "outputs": [
    {
     "name": "stdout",
     "output_type": "stream",
     "text": [
      "2021\n"
     ]
    }
   ],
   "source": [
    "import findspark\n",
    "from pyspark.sql import Row\n",
    "from pyspark import SparkContext , SparkConf\n",
    "import datetime\n",
    "now = datetime.datetime.now()\n",
    "#Getting Current date and time\n",
    "current_year=now.strftime(\"%Y\")\n",
    "print (now.strftime(\"%Y\"))"
   ]
  },
  {
   "cell_type": "code",
   "execution_count": 42,
   "metadata": {},
   "outputs": [
    {
     "data": {
      "text/plain": [
       "str"
      ]
     },
     "execution_count": 42,
     "metadata": {},
     "output_type": "execute_result"
    }
   ],
   "source": [
    "type(current_year)"
   ]
  },
  {
   "cell_type": "code",
   "execution_count": 43,
   "metadata": {},
   "outputs": [],
   "source": [
    "current_year=int(current_year)"
   ]
  },
  {
   "cell_type": "code",
   "execution_count": 44,
   "metadata": {},
   "outputs": [
    {
     "data": {
      "text/plain": [
       "int"
      ]
     },
     "execution_count": 44,
     "metadata": {},
     "output_type": "execute_result"
    }
   ],
   "source": [
    "type(current_year)"
   ]
  },
  {
   "cell_type": "code",
   "execution_count": 45,
   "metadata": {},
   "outputs": [],
   "source": [
    "len=cleansedData.count()"
   ]
  },
  {
   "cell_type": "code",
   "execution_count": 46,
   "metadata": {},
   "outputs": [],
   "source": [
    "cleansedData=cleansedData.withColumn(\"yearDiff\",current_year-col('year'))\n"
   ]
  },
  {
   "cell_type": "markdown",
   "metadata": {},
   "source": [
    "#### Task 1\n",
    "Develop a PySpark application to load data Spark DataFrames and save it into Hive tables on a Hadoop cluster in an optimized format."
   ]
  },
  {
   "cell_type": "code",
   "execution_count": 47,
   "metadata": {},
   "outputs": [
    {
     "data": {
      "text/plain": [
       "<pyspark.sql.readwriter.DataFrameWriter at 0x7faae43ca0b8>"
      ]
     },
     "execution_count": 47,
     "metadata": {},
     "output_type": "execute_result"
    }
   ],
   "source": [
    "cleansedData.write.partitionBy('sold')"
   ]
  },
  {
   "cell_type": "code",
   "execution_count": 48,
   "metadata": {},
   "outputs": [],
   "source": [
    "cleansedData.createGlobalTempView('CarTempTable2')"
   ]
  },
  {
   "cell_type": "code",
   "execution_count": 49,
   "metadata": {},
   "outputs": [],
   "source": [
    "cleansedData.write.saveAsTable('carTempTable2')"
   ]
  },
  {
   "cell_type": "code",
   "execution_count": 50,
   "metadata": {},
   "outputs": [
    {
     "data": {
      "text/plain": [
       "<pyspark.sql.readwriter.DataFrameWriter at 0x7faae4426be0>"
      ]
     },
     "execution_count": 50,
     "metadata": {},
     "output_type": "execute_result"
    }
   ],
   "source": [
    "cleansedData.write.format('ORC')"
   ]
  },
  {
   "cell_type": "code",
   "execution_count": 51,
   "metadata": {},
   "outputs": [],
   "source": [
    "cleansedData.createGlobalTempView('carORCTable2')"
   ]
  },
  {
   "cell_type": "code",
   "execution_count": 52,
   "metadata": {},
   "outputs": [],
   "source": [
    "cleansedData.write.saveAsTable('carORCTable2')"
   ]
  },
  {
   "cell_type": "code",
   "execution_count": 53,
   "metadata": {},
   "outputs": [],
   "source": [
    "ct1=spark.sql('select * from carORCTable2')"
   ]
  },
  {
   "cell_type": "code",
   "execution_count": 54,
   "metadata": {},
   "outputs": [
    {
     "name": "stdout",
     "output_type": "stream",
     "text": [
      "root\n",
      " |-- selling_price: integer (nullable = true)\n",
      " |-- year: float (nullable = true)\n",
      " |-- km_driven: integer (nullable = true)\n",
      " |-- mileage: float (nullable = true)\n",
      " |-- engine: float (nullable = true)\n",
      " |-- max_power: float (nullable = true)\n",
      " |-- seats: integer (nullable = true)\n",
      " |-- ownerLabel: double (nullable = true)\n",
      " |-- regionLabel: double (nullable = true)\n",
      " |-- brandLabel: double (nullable = true)\n",
      " |-- fuelLabel: double (nullable = true)\n",
      " |-- soldLabel: double (nullable = true)\n",
      " |-- transmissionLabel: double (nullable = true)\n",
      " |-- sellerLabel: double (nullable = true)\n",
      " |-- stateLabel: double (nullable = true)\n",
      " |-- yearDiff: float (nullable = true)\n",
      "\n"
     ]
    }
   ],
   "source": [
    "ct1.printSchema()"
   ]
  },
  {
   "cell_type": "markdown",
   "metadata": {},
   "source": [
    "#### Task 2\n",
    "Perform profiling of the data through PySpark and ensure that it is migrated correctly whereever the source is an RDBMS"
   ]
  },
  {
   "cell_type": "code",
   "execution_count": 55,
   "metadata": {},
   "outputs": [
    {
     "data": {
      "text/plain": [
       "DataFrame[summary: string, selling_price: string, year: string, km_driven: string, mileage: string, engine: string, max_power: string, seats: string, ownerLabel: string, regionLabel: string, brandLabel: string, fuelLabel: string, soldLabel: string, transmissionLabel: string, sellerLabel: string, stateLabel: string, yearDiff: string]"
      ]
     },
     "execution_count": 55,
     "metadata": {},
     "output_type": "execute_result"
    }
   ],
   "source": [
    "ct1.describe()"
   ]
  },
  {
   "cell_type": "code",
   "execution_count": 56,
   "metadata": {},
   "outputs": [
    {
     "name": "stdout",
     "output_type": "stream",
     "text": [
      "+-------------+------+---------+-------+------+---------+-----+----------+-----------+----------+---------+---------+-----------------+-----------+----------+--------+\n",
      "|selling_price|  year|km_driven|mileage|engine|max_power|seats|ownerLabel|regionLabel|brandLabel|fuelLabel|soldLabel|transmissionLabel|sellerLabel|stateLabel|yearDiff|\n",
      "+-------------+------+---------+-------+------+---------+-----+----------+-----------+----------+---------+---------+-----------------+-----------+----------+--------+\n",
      "|       450000|2014.0|   145500|   23.4|1248.0|     74.0|    5|       0.0|        2.0|       0.0|      0.0|      1.0|              0.0|        0.0|      33.0|     7.0|\n",
      "|       370000|2014.0|   120000|  21.14|1498.0|   103.52|    5|       1.0|        2.0|      11.0|      0.0|      1.0|              0.0|        0.0|       2.0|     7.0|\n",
      "|       158000|2006.0|   140000|   17.7|1497.0|     78.0|    5|       2.0|        0.0|       4.0|      1.0|      1.0|              0.0|        0.0|       3.0|    15.0|\n",
      "|       225000|2010.0|   127000|   23.0|1396.0|     90.0|    5|       0.0|        0.0|       1.0|      0.0|      1.0|              0.0|        0.0|       3.0|    11.0|\n",
      "|       130000|2007.0|   120000|   16.1|1298.0|     88.2|    5|       0.0|        2.0|       0.0|      1.0|      1.0|              0.0|        0.0|       2.0|    14.0|\n",
      "|       440000|2017.0|    45000|  20.14|1197.0|    81.86|    5|       0.0|        2.0|       1.0|      1.0|      1.0|              0.0|        0.0|       2.0|     4.0|\n",
      "|        96000|2007.0|   175000|   17.3|1061.0|     57.5|    5|       0.0|        1.0|       0.0|      3.0|      1.0|              0.0|        0.0|       0.0|    14.0|\n",
      "|        45000|2001.0|     5000|   16.1| 796.0|     37.0|    4|       1.0|        1.0|       0.0|      1.0|      1.0|              0.0|        0.0|       0.0|    20.0|\n",
      "|       350000|2011.0|    90000|  23.59|1364.0|     67.1|    5|       0.0|        1.0|       5.0|      0.0|      1.0|              0.0|        0.0|       0.0|    10.0|\n",
      "|       200000|2013.0|   169000|   20.0|1399.0|     68.1|    5|       0.0|        0.0|       6.0|      0.0|      1.0|              0.0|        0.0|       1.0|     8.0|\n",
      "|       500000|2014.0|    68000|  19.01|1461.0|   108.45|    5|       1.0|        2.0|       8.0|      0.0|      1.0|              0.0|        0.0|       2.0|     7.0|\n",
      "|        92000|2005.0|   100000|   17.3| 993.0|     60.0|    5|       1.0|        0.0|       0.0|      1.0|      1.0|              0.0|        0.0|       1.0|    16.0|\n",
      "|       280000|2009.0|   140000|   19.3|1248.0|     73.9|    5|       1.0|        0.0|       0.0|      0.0|      1.0|              0.0|        0.0|       1.0|    12.0|\n",
      "|       180000|2009.0|    90000|   18.9|1061.0|     67.0|    5|       1.0|        2.0|       0.0|      1.0|      1.0|              0.0|        0.0|      11.0|    12.0|\n",
      "|       400000|2016.0|    40000|  18.15|1198.0|     82.0|    5|       0.0|        2.0|       2.0|      1.0|      1.0|              0.0|        0.0|      11.0|     5.0|\n",
      "|       778000|2016.0|    70000|  24.52|1248.0|     88.5|    7|       1.0|        0.0|       0.0|      0.0|      1.0|              0.0|        0.0|       1.0|     5.0|\n",
      "|       500000|2012.0|    53000|   23.0|1396.0|     90.0|    5|       1.0|        0.0|       1.0|      0.0|      1.0|              0.0|        0.0|       1.0|     9.0|\n",
      "|       150000|2002.0|    80000|   19.7| 796.0|     46.3|    5|       1.0|        0.0|       0.0|      1.0|      1.0|              0.0|        0.0|       1.0|    19.0|\n",
      "|       680000|2016.0|   100000|  22.54|1396.0|    88.73|    5|       0.0|        2.0|       1.0|      0.0|      1.0|              0.0|        0.0|       2.0|     5.0|\n",
      "|       174000|2011.0|   100000|   21.0|1461.0|     64.1|    5|       1.0|        2.0|       2.0|      0.0|      1.0|              0.0|        0.0|       2.0|    10.0|\n",
      "+-------------+------+---------+-------+------+---------+-----+----------+-----------+----------+---------+---------+-----------------+-----------+----------+--------+\n",
      "only showing top 20 rows\n",
      "\n"
     ]
    }
   ],
   "source": [
    "ct1.show()"
   ]
  },
  {
   "cell_type": "code",
   "execution_count": 57,
   "metadata": {},
   "outputs": [],
   "source": [
    "ct2=spark.sql('select * from carTempTable2')"
   ]
  },
  {
   "cell_type": "code",
   "execution_count": 58,
   "metadata": {},
   "outputs": [
    {
     "name": "stdout",
     "output_type": "stream",
     "text": [
      "root\n",
      " |-- selling_price: integer (nullable = true)\n",
      " |-- year: float (nullable = true)\n",
      " |-- km_driven: integer (nullable = true)\n",
      " |-- mileage: float (nullable = true)\n",
      " |-- engine: float (nullable = true)\n",
      " |-- max_power: float (nullable = true)\n",
      " |-- seats: integer (nullable = true)\n",
      " |-- ownerLabel: double (nullable = true)\n",
      " |-- regionLabel: double (nullable = true)\n",
      " |-- brandLabel: double (nullable = true)\n",
      " |-- fuelLabel: double (nullable = true)\n",
      " |-- soldLabel: double (nullable = true)\n",
      " |-- transmissionLabel: double (nullable = true)\n",
      " |-- sellerLabel: double (nullable = true)\n",
      " |-- stateLabel: double (nullable = true)\n",
      " |-- yearDiff: float (nullable = true)\n",
      "\n"
     ]
    }
   ],
   "source": [
    "ct2.printSchema()"
   ]
  },
  {
   "cell_type": "code",
   "execution_count": 59,
   "metadata": {},
   "outputs": [
    {
     "data": {
      "text/plain": [
       "DataFrame[summary: string, selling_price: string, year: string, km_driven: string, mileage: string, engine: string, max_power: string, seats: string, ownerLabel: string, regionLabel: string, brandLabel: string, fuelLabel: string, soldLabel: string, transmissionLabel: string, sellerLabel: string, stateLabel: string, yearDiff: string]"
      ]
     },
     "execution_count": 59,
     "metadata": {},
     "output_type": "execute_result"
    }
   ],
   "source": [
    "ct2.describe()"
   ]
  },
  {
   "cell_type": "code",
   "execution_count": 60,
   "metadata": {},
   "outputs": [
    {
     "name": "stdout",
     "output_type": "stream",
     "text": [
      "+-------------+------+---------+-------+------+---------+-----+----------+-----------+----------+---------+---------+-----------------+-----------+----------+--------+\n",
      "|selling_price|  year|km_driven|mileage|engine|max_power|seats|ownerLabel|regionLabel|brandLabel|fuelLabel|soldLabel|transmissionLabel|sellerLabel|stateLabel|yearDiff|\n",
      "+-------------+------+---------+-------+------+---------+-----+----------+-----------+----------+---------+---------+-----------------+-----------+----------+--------+\n",
      "|       450000|2014.0|   145500|   23.4|1248.0|     74.0|    5|       0.0|        2.0|       0.0|      0.0|      1.0|              0.0|        0.0|      33.0|     7.0|\n",
      "|       370000|2014.0|   120000|  21.14|1498.0|   103.52|    5|       1.0|        2.0|      11.0|      0.0|      1.0|              0.0|        0.0|       2.0|     7.0|\n",
      "|       158000|2006.0|   140000|   17.7|1497.0|     78.0|    5|       2.0|        0.0|       4.0|      1.0|      1.0|              0.0|        0.0|       3.0|    15.0|\n",
      "|       225000|2010.0|   127000|   23.0|1396.0|     90.0|    5|       0.0|        0.0|       1.0|      0.0|      1.0|              0.0|        0.0|       3.0|    11.0|\n",
      "|       130000|2007.0|   120000|   16.1|1298.0|     88.2|    5|       0.0|        2.0|       0.0|      1.0|      1.0|              0.0|        0.0|       2.0|    14.0|\n",
      "|       440000|2017.0|    45000|  20.14|1197.0|    81.86|    5|       0.0|        2.0|       1.0|      1.0|      1.0|              0.0|        0.0|       2.0|     4.0|\n",
      "|        96000|2007.0|   175000|   17.3|1061.0|     57.5|    5|       0.0|        1.0|       0.0|      3.0|      1.0|              0.0|        0.0|       0.0|    14.0|\n",
      "|        45000|2001.0|     5000|   16.1| 796.0|     37.0|    4|       1.0|        1.0|       0.0|      1.0|      1.0|              0.0|        0.0|       0.0|    20.0|\n",
      "|       350000|2011.0|    90000|  23.59|1364.0|     67.1|    5|       0.0|        1.0|       5.0|      0.0|      1.0|              0.0|        0.0|       0.0|    10.0|\n",
      "|       200000|2013.0|   169000|   20.0|1399.0|     68.1|    5|       0.0|        0.0|       6.0|      0.0|      1.0|              0.0|        0.0|       1.0|     8.0|\n",
      "|       500000|2014.0|    68000|  19.01|1461.0|   108.45|    5|       1.0|        2.0|       8.0|      0.0|      1.0|              0.0|        0.0|       2.0|     7.0|\n",
      "|        92000|2005.0|   100000|   17.3| 993.0|     60.0|    5|       1.0|        0.0|       0.0|      1.0|      1.0|              0.0|        0.0|       1.0|    16.0|\n",
      "|       280000|2009.0|   140000|   19.3|1248.0|     73.9|    5|       1.0|        0.0|       0.0|      0.0|      1.0|              0.0|        0.0|       1.0|    12.0|\n",
      "|       180000|2009.0|    90000|   18.9|1061.0|     67.0|    5|       1.0|        2.0|       0.0|      1.0|      1.0|              0.0|        0.0|      11.0|    12.0|\n",
      "|       400000|2016.0|    40000|  18.15|1198.0|     82.0|    5|       0.0|        2.0|       2.0|      1.0|      1.0|              0.0|        0.0|      11.0|     5.0|\n",
      "|       778000|2016.0|    70000|  24.52|1248.0|     88.5|    7|       1.0|        0.0|       0.0|      0.0|      1.0|              0.0|        0.0|       1.0|     5.0|\n",
      "|       500000|2012.0|    53000|   23.0|1396.0|     90.0|    5|       1.0|        0.0|       1.0|      0.0|      1.0|              0.0|        0.0|       1.0|     9.0|\n",
      "|       150000|2002.0|    80000|   19.7| 796.0|     46.3|    5|       1.0|        0.0|       0.0|      1.0|      1.0|              0.0|        0.0|       1.0|    19.0|\n",
      "|       680000|2016.0|   100000|  22.54|1396.0|    88.73|    5|       0.0|        2.0|       1.0|      0.0|      1.0|              0.0|        0.0|       2.0|     5.0|\n",
      "|       174000|2011.0|   100000|   21.0|1461.0|     64.1|    5|       1.0|        2.0|       2.0|      0.0|      1.0|              0.0|        0.0|       2.0|    10.0|\n",
      "+-------------+------+---------+-------+------+---------+-----+----------+-----------+----------+---------+---------+-----------------+-----------+----------+--------+\n",
      "only showing top 20 rows\n",
      "\n"
     ]
    }
   ],
   "source": [
    "ct2.show()"
   ]
  },
  {
   "cell_type": "code",
   "execution_count": 61,
   "metadata": {},
   "outputs": [],
   "source": [
    "import os\n",
    "os.environ['PYSPARK_SUBMIT_ARGS'] = '--driver-class-path /usr/local/sqoop/lib/mysql-connector-java-5.1.47-bin.jar \\\n",
    "--jars /usr/local/sqoop/lib/mysql-connector-java-5.1.47/mysql-connector-java-5.1.47-bin.jar pyspark-shell'"
   ]
  },
  {
   "cell_type": "code",
   "execution_count": 62,
   "metadata": {},
   "outputs": [],
   "source": [
    "from pyspark.sql import SparkSession\n",
    "spark = SparkSession.builder.appName(\"Capstone PySpark MySQL JDBC\").getOrCreate()"
   ]
  },
  {
   "cell_type": "code",
   "execution_count": 63,
   "metadata": {},
   "outputs": [
    {
     "name": "stdout",
     "output_type": "stream",
     "text": [
      "+------------+\n",
      "|databaseName|\n",
      "+------------+\n",
      "|  customerdb|\n",
      "|     default|\n",
      "| nyse_hduser|\n",
      "+------------+\n",
      "\n"
     ]
    }
   ],
   "source": [
    "spark.sql('show databases').show()"
   ]
  },
  {
   "cell_type": "code",
   "execution_count": 64,
   "metadata": {},
   "outputs": [
    {
     "name": "stdout",
     "output_type": "stream",
     "text": [
      "+-----------+------------+-----------+\n",
      "|   database|   tableName|isTemporary|\n",
      "+-----------+------------+-----------+\n",
      "|nyse_hduser|       json1|      false|\n",
      "|nyse_hduser|       json2|      false|\n",
      "|nyse_hduser|       json3|      false|\n",
      "|nyse_hduser|     jsonstr|      false|\n",
      "|nyse_hduser|     nydview|      false|\n",
      "|nyse_hduser|   nysedaily|      false|\n",
      "|nyse_hduser|nysedailyrc1|      false|\n",
      "|nyse_hduser|        ssg1|      false|\n",
      "|nyse_hduser|        ssg2|      false|\n",
      "|nyse_hduser|   stugrades|      false|\n",
      "+-----------+------------+-----------+\n",
      "\n"
     ]
    }
   ],
   "source": [
    "spark.sql('show tables from nyse_hduser').show()"
   ]
  },
  {
   "cell_type": "code",
   "execution_count": 65,
   "metadata": {},
   "outputs": [
    {
     "name": "stdout",
     "output_type": "stream",
     "text": [
      "+--------+------------------+-----------+\n",
      "|database|         tableName|isTemporary|\n",
      "+--------+------------------+-----------+\n",
      "| default|      carorctable2|      false|\n",
      "| default|     cartemptable2|      false|\n",
      "| default|   titanicorctable|      false|\n",
      "| default|  titanicorctable1|      false|\n",
      "| default|  titanictemptable|      false|\n",
      "| default| titanictemptable1|      false|\n",
      "| default|titanictemptable12|      false|\n",
      "+--------+------------------+-----------+\n",
      "\n"
     ]
    }
   ],
   "source": [
    "spark.sql('show tables from default').show()"
   ]
  },
  {
   "cell_type": "code",
   "execution_count": 66,
   "metadata": {},
   "outputs": [
    {
     "data": {
      "text/plain": [
       "DataFrame[selling_price: int, year: float, km_driven: int, mileage: float, engine: float, max_power: float, seats: int, ownerLabel: double, regionLabel: double, brandLabel: double, fuelLabel: double, soldLabel: double, transmissionLabel: double, sellerLabel: double, stateLabel: double, yearDiff: float]"
      ]
     },
     "execution_count": 66,
     "metadata": {},
     "output_type": "execute_result"
    }
   ],
   "source": [
    "spark.sql('select * from cartemptable2')"
   ]
  },
  {
   "cell_type": "code",
   "execution_count": 67,
   "metadata": {},
   "outputs": [
    {
     "name": "stdout",
     "output_type": "stream",
     "text": [
      "+-------------+------+---------+-------+------+---------+-----+----------+-----------+----------+---------+---------+-----------------+-----------+----------+--------+\n",
      "|selling_price|  year|km_driven|mileage|engine|max_power|seats|ownerLabel|regionLabel|brandLabel|fuelLabel|soldLabel|transmissionLabel|sellerLabel|stateLabel|yearDiff|\n",
      "+-------------+------+---------+-------+------+---------+-----+----------+-----------+----------+---------+---------+-----------------+-----------+----------+--------+\n",
      "|       450000|2014.0|   145500|   23.4|1248.0|     74.0|    5|       0.0|        2.0|       0.0|      0.0|      1.0|              0.0|        0.0|      33.0|     7.0|\n",
      "|       370000|2014.0|   120000|  21.14|1498.0|   103.52|    5|       1.0|        2.0|      11.0|      0.0|      1.0|              0.0|        0.0|       2.0|     7.0|\n",
      "|       158000|2006.0|   140000|   17.7|1497.0|     78.0|    5|       2.0|        0.0|       4.0|      1.0|      1.0|              0.0|        0.0|       3.0|    15.0|\n",
      "|       225000|2010.0|   127000|   23.0|1396.0|     90.0|    5|       0.0|        0.0|       1.0|      0.0|      1.0|              0.0|        0.0|       3.0|    11.0|\n",
      "|       130000|2007.0|   120000|   16.1|1298.0|     88.2|    5|       0.0|        2.0|       0.0|      1.0|      1.0|              0.0|        0.0|       2.0|    14.0|\n",
      "|       440000|2017.0|    45000|  20.14|1197.0|    81.86|    5|       0.0|        2.0|       1.0|      1.0|      1.0|              0.0|        0.0|       2.0|     4.0|\n",
      "|        96000|2007.0|   175000|   17.3|1061.0|     57.5|    5|       0.0|        1.0|       0.0|      3.0|      1.0|              0.0|        0.0|       0.0|    14.0|\n",
      "|        45000|2001.0|     5000|   16.1| 796.0|     37.0|    4|       1.0|        1.0|       0.0|      1.0|      1.0|              0.0|        0.0|       0.0|    20.0|\n",
      "|       350000|2011.0|    90000|  23.59|1364.0|     67.1|    5|       0.0|        1.0|       5.0|      0.0|      1.0|              0.0|        0.0|       0.0|    10.0|\n",
      "|       200000|2013.0|   169000|   20.0|1399.0|     68.1|    5|       0.0|        0.0|       6.0|      0.0|      1.0|              0.0|        0.0|       1.0|     8.0|\n",
      "|       500000|2014.0|    68000|  19.01|1461.0|   108.45|    5|       1.0|        2.0|       8.0|      0.0|      1.0|              0.0|        0.0|       2.0|     7.0|\n",
      "|        92000|2005.0|   100000|   17.3| 993.0|     60.0|    5|       1.0|        0.0|       0.0|      1.0|      1.0|              0.0|        0.0|       1.0|    16.0|\n",
      "|       280000|2009.0|   140000|   19.3|1248.0|     73.9|    5|       1.0|        0.0|       0.0|      0.0|      1.0|              0.0|        0.0|       1.0|    12.0|\n",
      "|       180000|2009.0|    90000|   18.9|1061.0|     67.0|    5|       1.0|        2.0|       0.0|      1.0|      1.0|              0.0|        0.0|      11.0|    12.0|\n",
      "|       400000|2016.0|    40000|  18.15|1198.0|     82.0|    5|       0.0|        2.0|       2.0|      1.0|      1.0|              0.0|        0.0|      11.0|     5.0|\n",
      "|       778000|2016.0|    70000|  24.52|1248.0|     88.5|    7|       1.0|        0.0|       0.0|      0.0|      1.0|              0.0|        0.0|       1.0|     5.0|\n",
      "|       500000|2012.0|    53000|   23.0|1396.0|     90.0|    5|       1.0|        0.0|       1.0|      0.0|      1.0|              0.0|        0.0|       1.0|     9.0|\n",
      "|       150000|2002.0|    80000|   19.7| 796.0|     46.3|    5|       1.0|        0.0|       0.0|      1.0|      1.0|              0.0|        0.0|       1.0|    19.0|\n",
      "|       680000|2016.0|   100000|  22.54|1396.0|    88.73|    5|       0.0|        2.0|       1.0|      0.0|      1.0|              0.0|        0.0|       2.0|     5.0|\n",
      "|       174000|2011.0|   100000|   21.0|1461.0|     64.1|    5|       1.0|        2.0|       2.0|      0.0|      1.0|              0.0|        0.0|       2.0|    10.0|\n",
      "+-------------+------+---------+-------+------+---------+-----+----------+-----------+----------+---------+---------+-----------------+-----------+----------+--------+\n",
      "only showing top 20 rows\n",
      "\n"
     ]
    }
   ],
   "source": [
    "spark.sql('select * from cartemptable2').show()"
   ]
  },
  {
   "cell_type": "code",
   "execution_count": 68,
   "metadata": {},
   "outputs": [
    {
     "data": {
      "text/plain": [
       "DataFrame[]"
      ]
     },
     "execution_count": 68,
     "metadata": {},
     "output_type": "execute_result"
    }
   ],
   "source": [
    "spark.sql('use default')"
   ]
  },
  {
   "cell_type": "code",
   "execution_count": 69,
   "metadata": {},
   "outputs": [
    {
     "name": "stdout",
     "output_type": "stream",
     "text": [
      "+--------+------------------+-----------+\n",
      "|database|         tableName|isTemporary|\n",
      "+--------+------------------+-----------+\n",
      "| default|      carorctable2|      false|\n",
      "| default|     cartemptable2|      false|\n",
      "| default|   titanicorctable|      false|\n",
      "| default|  titanicorctable1|      false|\n",
      "| default|  titanictemptable|      false|\n",
      "| default| titanictemptable1|      false|\n",
      "| default|titanictemptable12|      false|\n",
      "+--------+------------------+-----------+\n",
      "\n"
     ]
    }
   ],
   "source": [
    "spark.sql('show tables').show()"
   ]
  },
  {
   "cell_type": "code",
   "execution_count": 70,
   "metadata": {},
   "outputs": [
    {
     "name": "stdout",
     "output_type": "stream",
     "text": [
      "+-------------+------+---------+-------+------+---------+-----+----------+-----------+----------+---------+---------+-----------------+-----------+----------+--------+\n",
      "|selling_price|  year|km_driven|mileage|engine|max_power|seats|ownerLabel|regionLabel|brandLabel|fuelLabel|soldLabel|transmissionLabel|sellerLabel|stateLabel|yearDiff|\n",
      "+-------------+------+---------+-------+------+---------+-----+----------+-----------+----------+---------+---------+-----------------+-----------+----------+--------+\n",
      "|       450000|2014.0|   145500|   23.4|1248.0|     74.0|    5|       0.0|        2.0|       0.0|      0.0|      1.0|              0.0|        0.0|      33.0|     7.0|\n",
      "|       370000|2014.0|   120000|  21.14|1498.0|   103.52|    5|       1.0|        2.0|      11.0|      0.0|      1.0|              0.0|        0.0|       2.0|     7.0|\n",
      "|       158000|2006.0|   140000|   17.7|1497.0|     78.0|    5|       2.0|        0.0|       4.0|      1.0|      1.0|              0.0|        0.0|       3.0|    15.0|\n",
      "|       225000|2010.0|   127000|   23.0|1396.0|     90.0|    5|       0.0|        0.0|       1.0|      0.0|      1.0|              0.0|        0.0|       3.0|    11.0|\n",
      "|       130000|2007.0|   120000|   16.1|1298.0|     88.2|    5|       0.0|        2.0|       0.0|      1.0|      1.0|              0.0|        0.0|       2.0|    14.0|\n",
      "|       440000|2017.0|    45000|  20.14|1197.0|    81.86|    5|       0.0|        2.0|       1.0|      1.0|      1.0|              0.0|        0.0|       2.0|     4.0|\n",
      "|        96000|2007.0|   175000|   17.3|1061.0|     57.5|    5|       0.0|        1.0|       0.0|      3.0|      1.0|              0.0|        0.0|       0.0|    14.0|\n",
      "|        45000|2001.0|     5000|   16.1| 796.0|     37.0|    4|       1.0|        1.0|       0.0|      1.0|      1.0|              0.0|        0.0|       0.0|    20.0|\n",
      "|       350000|2011.0|    90000|  23.59|1364.0|     67.1|    5|       0.0|        1.0|       5.0|      0.0|      1.0|              0.0|        0.0|       0.0|    10.0|\n",
      "|       200000|2013.0|   169000|   20.0|1399.0|     68.1|    5|       0.0|        0.0|       6.0|      0.0|      1.0|              0.0|        0.0|       1.0|     8.0|\n",
      "|       500000|2014.0|    68000|  19.01|1461.0|   108.45|    5|       1.0|        2.0|       8.0|      0.0|      1.0|              0.0|        0.0|       2.0|     7.0|\n",
      "|        92000|2005.0|   100000|   17.3| 993.0|     60.0|    5|       1.0|        0.0|       0.0|      1.0|      1.0|              0.0|        0.0|       1.0|    16.0|\n",
      "|       280000|2009.0|   140000|   19.3|1248.0|     73.9|    5|       1.0|        0.0|       0.0|      0.0|      1.0|              0.0|        0.0|       1.0|    12.0|\n",
      "|       180000|2009.0|    90000|   18.9|1061.0|     67.0|    5|       1.0|        2.0|       0.0|      1.0|      1.0|              0.0|        0.0|      11.0|    12.0|\n",
      "|       400000|2016.0|    40000|  18.15|1198.0|     82.0|    5|       0.0|        2.0|       2.0|      1.0|      1.0|              0.0|        0.0|      11.0|     5.0|\n",
      "|       778000|2016.0|    70000|  24.52|1248.0|     88.5|    7|       1.0|        0.0|       0.0|      0.0|      1.0|              0.0|        0.0|       1.0|     5.0|\n",
      "|       500000|2012.0|    53000|   23.0|1396.0|     90.0|    5|       1.0|        0.0|       1.0|      0.0|      1.0|              0.0|        0.0|       1.0|     9.0|\n",
      "|       150000|2002.0|    80000|   19.7| 796.0|     46.3|    5|       1.0|        0.0|       0.0|      1.0|      1.0|              0.0|        0.0|       1.0|    19.0|\n",
      "|       680000|2016.0|   100000|  22.54|1396.0|    88.73|    5|       0.0|        2.0|       1.0|      0.0|      1.0|              0.0|        0.0|       2.0|     5.0|\n",
      "|       174000|2011.0|   100000|   21.0|1461.0|     64.1|    5|       1.0|        2.0|       2.0|      0.0|      1.0|              0.0|        0.0|       2.0|    10.0|\n",
      "+-------------+------+---------+-------+------+---------+-----+----------+-----------+----------+---------+---------+-----------------+-----------+----------+--------+\n",
      "only showing top 20 rows\n",
      "\n"
     ]
    }
   ],
   "source": [
    "spark.sql('select * from cartemptable2').show()"
   ]
  },
  {
   "cell_type": "code",
   "execution_count": 71,
   "metadata": {},
   "outputs": [
    {
     "name": "stdout",
     "output_type": "stream",
     "text": [
      "+----------+\n",
      "|ownerLabel|\n",
      "+----------+\n",
      "|       0.0|\n",
      "|       1.0|\n",
      "|       4.0|\n",
      "|       3.0|\n",
      "|       2.0|\n",
      "+----------+\n",
      "\n"
     ]
    }
   ],
   "source": [
    "spark.sql('select distinct(ownerLabel) from cartemptable2').show()"
   ]
  },
  {
   "cell_type": "code",
   "execution_count": 72,
   "metadata": {},
   "outputs": [
    {
     "name": "stdout",
     "output_type": "stream",
     "text": [
      "+------------------+\n",
      "|avg(selling_price)|\n",
      "+------------------+\n",
      "| 649675.2791228292|\n",
      "+------------------+\n",
      "\n"
     ]
    }
   ],
   "source": [
    "spark.sql('select avg(selling_price) from cartemptable2').show()"
   ]
  },
  {
   "cell_type": "code",
   "execution_count": 73,
   "metadata": {},
   "outputs": [
    {
     "name": "stdout",
     "output_type": "stream",
     "text": [
      "+------------------+\n",
      "|max(selling_price)|\n",
      "+------------------+\n",
      "|          10000000|\n",
      "+------------------+\n",
      "\n"
     ]
    }
   ],
   "source": [
    "spark.sql('select max(selling_price) from cartemptable2').show()"
   ]
  },
  {
   "cell_type": "code",
   "execution_count": 74,
   "metadata": {},
   "outputs": [
    {
     "name": "stdout",
     "output_type": "stream",
     "text": [
      "+------------------+\n",
      "|min(selling_price)|\n",
      "+------------------+\n",
      "|             29999|\n",
      "+------------------+\n",
      "\n"
     ]
    }
   ],
   "source": [
    "spark.sql('select min(selling_price) from cartemptable2').show()"
   ]
  },
  {
   "cell_type": "code",
   "execution_count": 75,
   "metadata": {},
   "outputs": [
    {
     "name": "stdout",
     "output_type": "stream",
     "text": [
      "+----------+-----------------+------------------+\n",
      "|ownerLabel|count(ownerLabel)|avg(selling_price)|\n",
      "+----------+-----------------+------------------+\n",
      "|       0.0|             5205| 789938.7219980787|\n",
      "|       1.0|             2012| 401765.0218687873|\n",
      "|       4.0|                5|         4403800.0|\n",
      "|       3.0|              159| 233720.0754716981|\n",
      "|       2.0|              508|287648.64763779525|\n",
      "+----------+-----------------+------------------+\n",
      "\n"
     ]
    }
   ],
   "source": [
    "spark.sql('select ownerLabel,count(ownerLabel),avg(selling_price) from cartemptable2 group by ownerLabel').show()"
   ]
  },
  {
   "cell_type": "code",
   "execution_count": 76,
   "metadata": {},
   "outputs": [
    {
     "name": "stdout",
     "output_type": "stream",
     "text": [
      "+---------+----------------+------------------+\n",
      "|fuelLabel|count(fuelLabel)|avg(selling_price)|\n",
      "+---------+----------------+------------------+\n",
      "|      0.0|            4293| 801300.4344281388|\n",
      "|      1.0|            3509|473466.37646053004|\n",
      "|      3.0|              35| 210885.7142857143|\n",
      "|      2.0|              52|317903.78846153844|\n",
      "+---------+----------------+------------------+\n",
      "\n"
     ]
    }
   ],
   "source": [
    "spark.sql('select fuelLabel,count(fuelLabel), avg(selling_price) from cartemptable2 group by fuelLabel').show()"
   ]
  },
  {
   "cell_type": "code",
   "execution_count": 77,
   "metadata": {},
   "outputs": [
    {
     "name": "stdout",
     "output_type": "stream",
     "text": [
      "+-----------------+------------------------+------------------+\n",
      "|transmissionLabel|count(transmissionLabel)|avg(selling_price)|\n",
      "+-----------------+------------------------+------------------+\n",
      "|              0.0|                    6854|463176.72789611906|\n",
      "|              1.0|                    1035| 1884710.129468599|\n",
      "+-----------------+------------------------+------------------+\n",
      "\n"
     ]
    }
   ],
   "source": [
    "spark.sql('select transmissionLabel,count(transmissionLabel), avg(selling_price) from cartemptable2 group by transmissionLabel').show()"
   ]
  },
  {
   "cell_type": "code",
   "execution_count": 78,
   "metadata": {},
   "outputs": [
    {
     "name": "stdout",
     "output_type": "stream",
     "text": [
      "+----------+-----------------+\n",
      "|brandLabel|count(brandLabel)|\n",
      "+----------+-----------------+\n",
      "|       8.0|              228|\n",
      "|       0.0|             2367|\n",
      "|       7.0|              230|\n",
      "|      29.0|                1|\n",
      "|      18.0|               40|\n",
      "|       1.0|             1352|\n",
      "|      25.0|                4|\n",
      "|       4.0|              466|\n",
      "|      23.0|                5|\n",
      "|      11.0|              104|\n",
      "|      21.0|               14|\n",
      "|      14.0|               67|\n",
      "|      22.0|                6|\n",
      "|       3.0|              718|\n",
      "|      19.0|               34|\n",
      "|      28.0|                3|\n",
      "|       2.0|              756|\n",
      "|      17.0|               41|\n",
      "|      27.0|                3|\n",
      "|      10.0|              118|\n",
      "+----------+-----------------+\n",
      "only showing top 20 rows\n",
      "\n"
     ]
    }
   ],
   "source": [
    "spark.sql('select brandLabel,count(brandLabel) from cartemptable2 group by brandLabel').show()"
   ]
  },
  {
   "cell_type": "code",
   "execution_count": 79,
   "metadata": {},
   "outputs": [
    {
     "name": "stdout",
     "output_type": "stream",
     "text": [
      "+----------+-----------------+\n",
      "|brandLabel|count(brandLabel)|\n",
      "+----------+-----------------+\n",
      "|       8.0|               56|\n",
      "|       0.0|              597|\n",
      "|       7.0|               56|\n",
      "|      18.0|                9|\n",
      "|       1.0|              330|\n",
      "|      25.0|                2|\n",
      "|       4.0|              124|\n",
      "|      23.0|                1|\n",
      "|      11.0|               20|\n",
      "|      21.0|                3|\n",
      "|      14.0|               19|\n",
      "|      22.0|                1|\n",
      "|       3.0|              177|\n",
      "|      19.0|               11|\n",
      "|      28.0|                2|\n",
      "|       2.0|              201|\n",
      "|      17.0|                6|\n",
      "|      27.0|                1|\n",
      "|      10.0|               29|\n",
      "|      13.0|               21|\n",
      "+----------+-----------------+\n",
      "only showing top 20 rows\n",
      "\n"
     ]
    }
   ],
   "source": [
    "spark.sql('select brandLabel,count(brandLabel) from cartemptable2 where soldLabel==1 group by brandLabel ').show()"
   ]
  },
  {
   "cell_type": "code",
   "execution_count": 80,
   "metadata": {},
   "outputs": [
    {
     "data": {
      "text/plain": [
       "['selling_price',\n",
       " 'year',\n",
       " 'km_driven',\n",
       " 'mileage',\n",
       " 'engine',\n",
       " 'max_power',\n",
       " 'seats',\n",
       " 'ownerLabel',\n",
       " 'regionLabel',\n",
       " 'brandLabel',\n",
       " 'fuelLabel',\n",
       " 'soldLabel',\n",
       " 'transmissionLabel',\n",
       " 'sellerLabel',\n",
       " 'stateLabel',\n",
       " 'yearDiff']"
      ]
     },
     "execution_count": 80,
     "metadata": {},
     "output_type": "execute_result"
    }
   ],
   "source": [
    "cleansedData.columns"
   ]
  },
  {
   "cell_type": "markdown",
   "metadata": {},
   "source": [
    "#### Task 4\n",
    "If the predictive model identified in task 2.4 available in Spark MLlib then develop a PySpark application to implement and evaluate the ML model identified with appropriate metrics. \n",
    "\n",
    "* Models built:\n",
    "   1. Linear Regression\n",
    "   2. Decision Tree\n",
    "   3. Random Forest"
   ]
  },
  {
   "cell_type": "code",
   "execution_count": 81,
   "metadata": {},
   "outputs": [],
   "source": [
    "required_features=[\n",
    " 'yearDiff',\n",
    " 'km_driven',\n",
    " 'mileage',\n",
    " 'engine',\n",
    " 'max_power',\n",
    " 'seats',\n",
    " 'ownerLabel',\n",
    " 'regionLabel',\n",
    " 'brandLabel',\n",
    " 'fuelLabel',\n",
    " 'soldLabel',\n",
    " 'transmissionLabel',\n",
    " 'sellerLabel',\n",
    " 'stateLabel']"
   ]
  },
  {
   "cell_type": "code",
   "execution_count": 82,
   "metadata": {},
   "outputs": [],
   "source": [
    "from pyspark.ml.feature import VectorAssembler"
   ]
  },
  {
   "cell_type": "code",
   "execution_count": 83,
   "metadata": {},
   "outputs": [],
   "source": [
    "assembler=VectorAssembler(inputCols=required_features,outputCol='features')"
   ]
  },
  {
   "cell_type": "code",
   "execution_count": 84,
   "metadata": {},
   "outputs": [
    {
     "data": {
      "text/plain": [
       "['selling_price',\n",
       " 'year',\n",
       " 'km_driven',\n",
       " 'mileage',\n",
       " 'engine',\n",
       " 'max_power',\n",
       " 'seats',\n",
       " 'ownerLabel',\n",
       " 'regionLabel',\n",
       " 'brandLabel',\n",
       " 'fuelLabel',\n",
       " 'soldLabel',\n",
       " 'transmissionLabel',\n",
       " 'sellerLabel',\n",
       " 'stateLabel',\n",
       " 'yearDiff']"
      ]
     },
     "execution_count": 84,
     "metadata": {},
     "output_type": "execute_result"
    }
   ],
   "source": [
    "cleansedData.columns"
   ]
  },
  {
   "cell_type": "code",
   "execution_count": 85,
   "metadata": {},
   "outputs": [],
   "source": [
    "cleansedDF=cleansedData.drop('year')"
   ]
  },
  {
   "cell_type": "code",
   "execution_count": 86,
   "metadata": {},
   "outputs": [
    {
     "data": {
      "text/plain": [
       "['selling_price',\n",
       " 'km_driven',\n",
       " 'mileage',\n",
       " 'engine',\n",
       " 'max_power',\n",
       " 'seats',\n",
       " 'ownerLabel',\n",
       " 'regionLabel',\n",
       " 'brandLabel',\n",
       " 'fuelLabel',\n",
       " 'soldLabel',\n",
       " 'transmissionLabel',\n",
       " 'sellerLabel',\n",
       " 'stateLabel',\n",
       " 'yearDiff']"
      ]
     },
     "execution_count": 86,
     "metadata": {},
     "output_type": "execute_result"
    }
   ],
   "source": [
    "cleansedDF.columns"
   ]
  },
  {
   "cell_type": "code",
   "execution_count": 87,
   "metadata": {},
   "outputs": [
    {
     "data": {
      "text/plain": [
       "['selling_price',\n",
       " 'year',\n",
       " 'km_driven',\n",
       " 'mileage',\n",
       " 'engine',\n",
       " 'max_power',\n",
       " 'seats',\n",
       " 'ownerLabel',\n",
       " 'regionLabel',\n",
       " 'brandLabel',\n",
       " 'fuelLabel',\n",
       " 'soldLabel',\n",
       " 'transmissionLabel',\n",
       " 'sellerLabel',\n",
       " 'stateLabel',\n",
       " 'yearDiff']"
      ]
     },
     "execution_count": 87,
     "metadata": {},
     "output_type": "execute_result"
    }
   ],
   "source": [
    "cleansedData.columns"
   ]
  },
  {
   "cell_type": "code",
   "execution_count": 88,
   "metadata": {},
   "outputs": [],
   "source": [
    "transformed_data=assembler.transform(cleansedDF)"
   ]
  },
  {
   "cell_type": "code",
   "execution_count": 89,
   "metadata": {},
   "outputs": [],
   "source": [
    "(training_data, test_data)=transformed_data.randomSplit([0.8,0.2])"
   ]
  },
  {
   "cell_type": "markdown",
   "metadata": {},
   "source": [
    "##### 1. Linear Regression"
   ]
  },
  {
   "cell_type": "code",
   "execution_count": 90,
   "metadata": {},
   "outputs": [],
   "source": [
    "from pyspark.ml.regression import LinearRegression, RandomForestRegressor, DecisionTreeRegressor\n",
    "from pyspark.ml import Pipeline\n",
    "from pyspark.ml.evaluation import RegressionEvaluator\n",
    "from pyspark.ml.feature import StandardScaler"
   ]
  },
  {
   "cell_type": "code",
   "execution_count": 91,
   "metadata": {},
   "outputs": [],
   "source": [
    "vectorAssembler = VectorAssembler(inputCols=required_features, outputCol=\"unscaled_features\")"
   ]
  },
  {
   "cell_type": "code",
   "execution_count": 92,
   "metadata": {},
   "outputs": [
    {
     "name": "stdout",
     "output_type": "stream",
     "text": [
      "root\n",
      " |-- label: integer (nullable = true)\n",
      " |-- yearDiff: float (nullable = true)\n",
      " |-- km_driven: integer (nullable = true)\n",
      " |-- mileage: float (nullable = true)\n",
      " |-- engine: float (nullable = true)\n",
      " |-- max_power: float (nullable = true)\n",
      " |-- seats: integer (nullable = true)\n",
      " |-- ownerLabel: double (nullable = true)\n",
      " |-- regionLabel: double (nullable = true)\n",
      " |-- brandLabel: double (nullable = true)\n",
      " |-- fuelLabel: double (nullable = true)\n",
      " |-- soldLabel: double (nullable = true)\n",
      " |-- transmissionLabel: double (nullable = true)\n",
      " |-- sellerLabel: double (nullable = true)\n",
      " |-- stateLabel: double (nullable = true)\n",
      "\n"
     ]
    }
   ],
   "source": [
    "lr_data = cleansedData.select(col(\"selling_price\").alias(\"label\"), *required_features)\n",
    "lr_data.printSchema()"
   ]
  },
  {
   "cell_type": "code",
   "execution_count": 93,
   "metadata": {},
   "outputs": [
    {
     "name": "stdout",
     "output_type": "stream",
     "text": [
      "+------+--------+---------+-------+------+---------+-----+----------+-----------+----------+---------+---------+-----------------+-----------+----------+-----------------------------------------------------------------------------------------------+\n",
      "|label |yearDiff|km_driven|mileage|engine|max_power|seats|ownerLabel|regionLabel|brandLabel|fuelLabel|soldLabel|transmissionLabel|sellerLabel|stateLabel|unscaled_features                                                                              |\n",
      "+------+--------+---------+-------+------+---------+-----+----------+-----------+----------+---------+---------+-----------------+-----------+----------+-----------------------------------------------------------------------------------------------+\n",
      "|450000|7.0     |145500   |23.4   |1248.0|74.0     |5    |0.0       |2.0        |0.0       |0.0      |1.0      |0.0              |0.0        |33.0      |[7.0,145500.0,23.399999618530273,1248.0,74.0,5.0,0.0,2.0,0.0,0.0,1.0,0.0,0.0,33.0]             |\n",
      "|370000|7.0     |120000   |21.14  |1498.0|103.52   |5    |1.0       |2.0        |11.0      |0.0      |1.0      |0.0              |0.0        |2.0       |[7.0,120000.0,21.139999389648438,1498.0,103.5199966430664,5.0,1.0,2.0,11.0,0.0,1.0,0.0,0.0,2.0]|\n",
      "|158000|15.0    |140000   |17.7   |1497.0|78.0     |5    |2.0       |0.0        |4.0       |1.0      |1.0      |0.0              |0.0        |3.0       |[15.0,140000.0,17.700000762939453,1497.0,78.0,5.0,2.0,0.0,4.0,1.0,1.0,0.0,0.0,3.0]             |\n",
      "|225000|11.0    |127000   |23.0   |1396.0|90.0     |5    |0.0       |0.0        |1.0       |0.0      |1.0      |0.0              |0.0        |3.0       |[11.0,127000.0,23.0,1396.0,90.0,5.0,0.0,0.0,1.0,0.0,1.0,0.0,0.0,3.0]                           |\n",
      "|130000|14.0    |120000   |16.1   |1298.0|88.2     |5    |0.0       |2.0        |0.0       |1.0      |1.0      |0.0              |0.0        |2.0       |[14.0,120000.0,16.100000381469727,1298.0,88.19999694824219,5.0,0.0,2.0,0.0,1.0,1.0,0.0,0.0,2.0]|\n",
      "|440000|4.0     |45000    |20.14  |1197.0|81.86    |5    |0.0       |2.0        |1.0       |1.0      |1.0      |0.0              |0.0        |2.0       |[4.0,45000.0,20.139999389648438,1197.0,81.86000061035156,5.0,0.0,2.0,1.0,1.0,1.0,0.0,0.0,2.0]  |\n",
      "|96000 |14.0    |175000   |17.3   |1061.0|57.5     |5    |0.0       |1.0        |0.0       |3.0      |1.0      |0.0              |0.0        |0.0       |[14.0,175000.0,17.299999237060547,1061.0,57.5,5.0,0.0,1.0,0.0,3.0,1.0,0.0,0.0,0.0]             |\n",
      "|45000 |20.0    |5000     |16.1   |796.0 |37.0     |4    |1.0       |1.0        |0.0       |1.0      |1.0      |0.0              |0.0        |0.0       |[20.0,5000.0,16.100000381469727,796.0,37.0,4.0,1.0,1.0,0.0,1.0,1.0,0.0,0.0,0.0]                |\n",
      "|350000|10.0    |90000    |23.59  |1364.0|67.1     |5    |0.0       |1.0        |5.0       |0.0      |1.0      |0.0              |0.0        |0.0       |[10.0,90000.0,23.59000015258789,1364.0,67.0999984741211,5.0,0.0,1.0,5.0,0.0,1.0,0.0,0.0,0.0]   |\n",
      "|200000|8.0     |169000   |20.0   |1399.0|68.1     |5    |0.0       |0.0        |6.0       |0.0      |1.0      |0.0              |0.0        |1.0       |[8.0,169000.0,20.0,1399.0,68.0999984741211,5.0,0.0,0.0,6.0,0.0,1.0,0.0,0.0,1.0]                |\n",
      "|500000|7.0     |68000    |19.01  |1461.0|108.45   |5    |1.0       |2.0        |8.0       |0.0      |1.0      |0.0              |0.0        |2.0       |[7.0,68000.0,19.010000228881836,1461.0,108.44999694824219,5.0,1.0,2.0,8.0,0.0,1.0,0.0,0.0,2.0] |\n",
      "|92000 |16.0    |100000   |17.3   |993.0 |60.0     |5    |1.0       |0.0        |0.0       |1.0      |1.0      |0.0              |0.0        |1.0       |[16.0,100000.0,17.299999237060547,993.0,60.0,5.0,1.0,0.0,0.0,1.0,1.0,0.0,0.0,1.0]              |\n",
      "|280000|12.0    |140000   |19.3   |1248.0|73.9     |5    |1.0       |0.0        |0.0       |0.0      |1.0      |0.0              |0.0        |1.0       |[12.0,140000.0,19.299999237060547,1248.0,73.9000015258789,5.0,1.0,0.0,0.0,0.0,1.0,0.0,0.0,1.0] |\n",
      "|180000|12.0    |90000    |18.9   |1061.0|67.0     |5    |1.0       |2.0        |0.0       |1.0      |1.0      |0.0              |0.0        |11.0      |[12.0,90000.0,18.899999618530273,1061.0,67.0,5.0,1.0,2.0,0.0,1.0,1.0,0.0,0.0,11.0]             |\n",
      "|400000|5.0     |40000    |18.15  |1198.0|82.0     |5    |0.0       |2.0        |2.0       |1.0      |1.0      |0.0              |0.0        |11.0      |[5.0,40000.0,18.149999618530273,1198.0,82.0,5.0,0.0,2.0,2.0,1.0,1.0,0.0,0.0,11.0]              |\n",
      "|778000|5.0     |70000    |24.52  |1248.0|88.5     |7    |1.0       |0.0        |0.0       |0.0      |1.0      |0.0              |0.0        |1.0       |[5.0,70000.0,24.520000457763672,1248.0,88.5,7.0,1.0,0.0,0.0,0.0,1.0,0.0,0.0,1.0]               |\n",
      "|500000|9.0     |53000    |23.0   |1396.0|90.0     |5    |1.0       |0.0        |1.0       |0.0      |1.0      |0.0              |0.0        |1.0       |[9.0,53000.0,23.0,1396.0,90.0,5.0,1.0,0.0,1.0,0.0,1.0,0.0,0.0,1.0]                             |\n",
      "|150000|19.0    |80000    |19.7   |796.0 |46.3     |5    |1.0       |0.0        |0.0       |1.0      |1.0      |0.0              |0.0        |1.0       |[19.0,80000.0,19.700000762939453,796.0,46.29999923706055,5.0,1.0,0.0,0.0,1.0,1.0,0.0,0.0,1.0]  |\n",
      "|680000|5.0     |100000   |22.54  |1396.0|88.73    |5    |0.0       |2.0        |1.0       |0.0      |1.0      |0.0              |0.0        |2.0       |[5.0,100000.0,22.540000915527344,1396.0,88.7300033569336,5.0,0.0,2.0,1.0,0.0,1.0,0.0,0.0,2.0]  |\n",
      "|174000|10.0    |100000   |21.0   |1461.0|64.1     |5    |1.0       |2.0        |2.0       |0.0      |1.0      |0.0              |0.0        |2.0       |[10.0,100000.0,21.0,1461.0,64.0999984741211,5.0,1.0,2.0,2.0,0.0,1.0,0.0,0.0,2.0]               |\n",
      "+------+--------+---------+-------+------+---------+-----+----------+-----------+----------+---------+---------+-----------------+-----------+----------+-----------------------------------------------------------------------------------------------+\n",
      "only showing top 20 rows\n",
      "\n"
     ]
    }
   ],
   "source": [
    "va_data = vectorAssembler.transform(lr_data)\n",
    "va_data.show(truncate=False)"
   ]
  },
  {
   "cell_type": "code",
   "execution_count": 94,
   "metadata": {},
   "outputs": [],
   "source": [
    "standardScaler = StandardScaler(inputCol=\"unscaled_features\", outputCol=\"features\")"
   ]
  },
  {
   "cell_type": "code",
   "execution_count": 95,
   "metadata": {},
   "outputs": [],
   "source": [
    "ss_model = standardScaler.fit(va_data)"
   ]
  },
  {
   "cell_type": "code",
   "execution_count": 96,
   "metadata": {},
   "outputs": [],
   "source": [
    "ss_data = ss_model.transform(va_data)"
   ]
  },
  {
   "cell_type": "code",
   "execution_count": 97,
   "metadata": {},
   "outputs": [
    {
     "name": "stdout",
     "output_type": "stream",
     "text": [
      "+------+--------+---------+-------+------+---------+-----+----------+-----------+----------+---------+---------+-----------------+-----------+----------+-----------------------------------------------------------------------------------------------+-----------------------------------------------------------------------------------------------------------------------------------------------------------------------------------------------------------------------------+\n",
      "|label |yearDiff|km_driven|mileage|engine|max_power|seats|ownerLabel|regionLabel|brandLabel|fuelLabel|soldLabel|transmissionLabel|sellerLabel|stateLabel|unscaled_features                                                                              |features                                                                                                                                                                                                                     |\n",
      "+------+--------+---------+-------+------+---------+-----+----------+-----------+----------+---------+---------+-----------------+-----------+----------+-----------------------------------------------------------------------------------------------+-----------------------------------------------------------------------------------------------------------------------------------------------------------------------------------------------------------------------------+\n",
      "|450000|7.0     |145500   |23.4   |1248.0|74.0     |5    |0.0       |2.0        |0.0       |0.0      |1.0      |0.0              |0.0        |33.0      |[7.0,145500.0,23.399999618530273,1248.0,74.0,5.0,0.0,2.0,0.0,0.0,1.0,0.0,0.0,33.0]             |[1.8118474528331736,2.5603713135428294,5.941306888201882,2.479634527221496,2.071014851688158,5.2163442665448025,0.0,1.7972696785862181,0.0,0.0,2.300095879566134,0.0,0.0,2.771962354539176]                                  |\n",
      "|370000|7.0     |120000   |21.14  |1498.0|103.52   |5    |1.0       |2.0        |11.0      |0.0      |1.0      |0.0              |0.0        |2.0       |[7.0,120000.0,21.139999389648438,1498.0,103.5199966430664,5.0,1.0,2.0,11.0,0.0,1.0,0.0,0.0,2.0]|[1.8118474528331736,2.111646444159035,5.367488292215219,2.976356187321956,2.8971817634391726,5.2163442665448025,1.407813181113997,1.7972696785862181,2.48624932244341,0.0,2.300095879566134,0.0,0.0,0.16799771845691977]     |\n",
      "|158000|15.0    |140000   |17.7   |1497.0|78.0     |5    |2.0       |0.0        |4.0       |1.0      |1.0      |0.0              |0.0        |3.0       |[15.0,140000.0,17.700000762939453,1497.0,78.0,5.0,2.0,0.0,4.0,1.0,1.0,0.0,0.0,3.0]             |[3.8825302560710866,2.4635875181855402,4.494065733691485,2.974369300681554,2.1829616004280585,5.2163442665448025,2.815626362227994,0.0,0.9040906627066946,1.8601164159913597,2.300095879566134,0.0,0.0,0.25199657768537964]  |\n",
      "|225000|11.0    |127000   |23.0   |1396.0|90.0     |5    |0.0       |0.0        |1.0       |0.0      |1.0      |0.0              |0.0        |3.0       |[11.0,127000.0,23.0,1396.0,90.0,5.0,0.0,0.0,1.0,0.0,1.0,0.0,0.0,3.0]                           |[2.84718885445213,2.2348258200683118,5.83974618189443,2.7736937500009686,2.5188018466477597,5.2163442665448025,0.0,0.0,0.22602266567667365,0.0,2.300095879566134,0.0,0.0,0.25199657768537964]                                |\n",
      "|130000|14.0    |120000   |16.1   |1298.0|88.2     |5    |0.0       |2.0        |0.0       |1.0      |1.0      |0.0              |0.0        |2.0       |[14.0,120000.0,16.100000381469727,1298.0,88.19999694824219,5.0,0.0,2.0,0.0,1.0,1.0,0.0,0.0,2.0]|[3.623694905666347,2.111646444159035,4.08782242418203,2.5789788592415883,2.468425724306213,5.2163442665448025,0.0,1.7972696785862181,0.0,1.8601164159913597,2.300095879566134,0.0,0.0,0.16799771845691977]                   |\n",
      "|440000|4.0     |45000    |20.14  |1197.0|81.86    |5    |0.0       |2.0        |1.0       |1.0      |1.0      |0.0              |0.0        |2.0       |[4.0,45000.0,20.139999389648438,1197.0,81.86000061035156,5.0,0.0,2.0,1.0,1.0,1.0,0.0,0.0,2.0]  |[1.0353414016189564,0.791867416559638,5.113586284306765,2.3783033085610024,2.2909902300437808,5.2163442665448025,0.0,1.7972696785862181,0.22602266567667365,1.8601164159913597,2.300095879566134,0.0,0.0,0.16799771845691977]|\n",
      "|96000 |14.0    |175000   |17.3   |1061.0|57.5     |5    |0.0       |1.0        |0.0       |3.0      |1.0      |0.0              |0.0        |0.0       |[14.0,175000.0,17.299999237060547,1061.0,57.5,5.0,0.0,1.0,0.0,3.0,1.0,0.0,0.0,0.0]             |[3.623694905666347,3.0794843977319255,4.392504543104386,2.108086725466352,1.6092345131360688,5.2163442665448025,0.0,0.8986348392931091,0.0,5.580349247974079,2.300095879566134,0.0,0.0,0.0]                                  |\n",
      "|45000 |20.0    |5000     |16.1   |796.0 |37.0     |4    |1.0       |1.0        |0.0       |1.0      |1.0      |0.0              |0.0        |0.0       |[20.0,5000.0,16.100000381469727,796.0,37.0,4.0,1.0,1.0,0.0,1.0,1.0,0.0,0.0,0.0]                |[5.176707008094782,0.08798526850662644,4.08782242418203,1.5815617657598644,1.035507425844079,4.173075413235842,1.407813181113997,0.8986348392931091,0.0,1.8601164159913597,2.300095879566134,0.0,0.0,0.0]                    |\n",
      "|350000|10.0    |90000    |23.59  |1364.0|67.1     |5    |0.0       |1.0        |5.0       |0.0      |1.0      |0.0              |0.0        |0.0       |[10.0,90000.0,23.59000015258789,1364.0,67.0999984741211,5.0,0.0,1.0,5.0,0.0,1.0,0.0,0.0,0.0]   |[2.588353504047391,1.583734833119276,5.989548405302789,2.7101133775081094,1.8779066674075342,5.2163442665448025,0.0,0.8986348392931091,1.1301133283833682,0.0,2.300095879566134,0.0,0.0,0.0]                                 |\n",
      "|200000|8.0     |169000   |20.0   |1399.0|68.1     |5    |0.0       |0.0        |6.0       |0.0      |1.0      |0.0              |0.0        |1.0       |[8.0,169000.0,20.0,1399.0,68.0999984741211,5.0,0.0,0.0,6.0,0.0,1.0,0.0,0.0,1.0]                |[2.0706828032379128,2.973902075523974,5.0780401581690695,2.779654409922174,1.9058933545925092,5.2163442665448025,0.0,0.0,1.356135994060042,0.0,2.300095879566134,0.0,0.0,0.08399885922845989]                                |\n",
      "|500000|7.0     |68000    |19.01  |1461.0|108.45   |5    |1.0       |2.0        |8.0       |0.0      |1.0      |0.0              |0.0        |2.0       |[7.0,68000.0,19.010000228881836,1461.0,108.44999694824219,5.0,1.0,2.0,8.0,0.0,1.0,0.0,0.0,2.0] |[1.8118474528331736,1.1965996516901196,4.826677228453258,2.902841381627088,3.035156139801959,5.2163442665448025,1.407813181113997,1.7972696785862181,1.8081813254133892,0.0,2.300095879566134,0.0,0.0,0.16799771845691977]   |\n",
      "|92000 |16.0    |100000   |17.3   |993.0 |60.0     |5    |1.0       |0.0        |0.0       |1.0      |1.0      |0.0              |0.0        |1.0       |[16.0,100000.0,17.299999237060547,993.0,60.0,5.0,1.0,0.0,0.0,1.0,1.0,0.0,0.0,1.0]              |[4.1413656064758255,1.759705370132529,4.392504543104386,1.972978433919027,1.6792012310985065,5.2163442665448025,1.407813181113997,0.0,0.0,1.8601164159913597,2.300095879566134,0.0,0.0,0.08399885922845989]                  |\n",
      "|280000|12.0    |140000   |19.3   |1248.0|73.9     |5    |1.0       |0.0        |0.0       |0.0      |1.0      |0.0              |0.0        |1.0       |[12.0,140000.0,19.299999237060547,1248.0,73.9000015258789,5.0,1.0,0.0,0.0,0.0,1.0,0.0,0.0,1.0] |[3.106024204856869,2.4635875181855402,4.900308558921293,2.479634527221496,2.068216225673956,5.2163442665448025,1.407813181113997,0.0,0.0,0.0,2.300095879566134,0.0,0.0,0.08399885922845989]                                  |\n",
      "|180000|12.0    |90000    |18.9   |1061.0|67.0     |5    |1.0       |2.0        |0.0       |1.0      |1.0      |0.0              |0.0        |11.0      |[12.0,90000.0,18.899999618530273,1061.0,67.0,5.0,1.0,2.0,0.0,1.0,1.0,0.0,0.0,11.0]             |[3.106024204856869,1.583734833119276,4.7987478526138405,2.108086725466352,1.8751080413933323,5.2163442665448025,1.407813181113997,1.7972696785862181,0.0,1.8601164159913597,2.300095879566134,0.0,0.0,0.9239874515130587]    |\n",
      "|400000|5.0     |40000    |18.15  |1198.0|82.0     |5    |0.0       |2.0        |2.0       |1.0      |1.0      |0.0              |0.0        |11.0      |[5.0,40000.0,18.149999618530273,1198.0,82.0,5.0,0.0,2.0,2.0,1.0,1.0,0.0,0.0,11.0]              |[1.2941767520236955,0.7038821480530115,4.608321346682501,2.380290195201404,2.294908349167959,5.2163442665448025,0.0,1.7972696785862181,0.4520453313533473,1.8601164159913597,2.300095879566134,0.0,0.0,0.9239874515130587]   |\n",
      "|778000|5.0     |70000    |24.52  |1248.0|88.5     |7    |1.0       |0.0        |0.0       |0.0      |1.0      |0.0              |0.0        |1.0       |[5.0,70000.0,24.520000457763672,1248.0,88.5,7.0,1.0,0.0,0.0,0.0,1.0,0.0,0.0,1.0]               |[1.2941767520236955,1.2317937590927701,6.225677350142394,2.479634527221496,2.4768218158702973,7.302881973162723,1.407813181113997,0.0,0.0,0.0,2.300095879566134,0.0,0.0,0.08399885922845989]                                 |\n",
      "|500000|9.0     |53000    |23.0   |1396.0|90.0     |5    |1.0       |0.0        |1.0       |0.0      |1.0      |0.0              |0.0        |1.0       |[9.0,53000.0,23.0,1396.0,90.0,5.0,1.0,0.0,1.0,0.0,1.0,0.0,0.0,1.0]                             |[2.3295181536426517,0.9326438461702403,5.83974618189443,2.7736937500009686,2.5188018466477597,5.2163442665448025,1.407813181113997,0.0,0.22602266567667365,0.0,2.300095879566134,0.0,0.0,0.08399885922845989]                |\n",
      "|150000|19.0    |80000    |19.7   |796.0 |46.3     |5    |1.0       |0.0        |0.0       |1.0      |1.0      |0.0              |0.0        |1.0       |[19.0,80000.0,19.700000762939453,796.0,46.29999923706055,5.0,1.0,0.0,0.0,1.0,1.0,0.0,0.0,1.0]  |[4.917871657690043,1.407764296106023,5.001869749508392,1.5815617657598644,1.2957835953121997,5.2163442665448025,1.407813181113997,0.0,0.0,1.8601164159913597,2.300095879566134,0.0,0.0,0.08399885922845989]                  |\n",
      "|680000|5.0     |100000   |22.54  |1396.0|88.73    |5    |0.0       |2.0        |1.0       |0.0      |1.0      |0.0              |0.0        |2.0       |[5.0,100000.0,22.540000915527344,1396.0,88.7300033569336,5.0,0.0,2.0,1.0,0.0,1.0,0.0,0.0,2.0]  |[1.2941767520236955,1.759705370132529,5.722951490710772,2.7736937500009686,2.4832588478722917,5.2163442665448025,0.0,1.7972696785862181,0.22602266567667365,0.0,2.300095879566134,0.0,0.0,0.16799771845691977]               |\n",
      "|174000|10.0    |100000   |21.0   |1461.0|64.1     |5    |1.0       |2.0        |2.0       |0.0      |1.0      |0.0              |0.0        |2.0       |[10.0,100000.0,21.0,1461.0,64.0999984741211,5.0,1.0,2.0,2.0,0.0,1.0,0.0,0.0,2.0]               |[2.588353504047391,1.759705370132529,5.331942166077523,2.902841381627088,1.7939466058526088,5.2163442665448025,1.407813181113997,1.7972696785862181,0.4520453313533473,0.0,2.300095879566134,0.0,0.0,0.16799771845691977]    |\n",
      "+------+--------+---------+-------+------+---------+-----+----------+-----------+----------+---------+---------+-----------------+-----------+----------+-----------------------------------------------------------------------------------------------+-----------------------------------------------------------------------------------------------------------------------------------------------------------------------------------------------------------------------------+\n",
      "only showing top 20 rows\n",
      "\n"
     ]
    }
   ],
   "source": [
    "ss_data.show(truncate=False)"
   ]
  },
  {
   "cell_type": "code",
   "execution_count": 98,
   "metadata": {},
   "outputs": [],
   "source": [
    "(training, test) = ss_data.randomSplit([.7, .3])"
   ]
  },
  {
   "cell_type": "code",
   "execution_count": 99,
   "metadata": {},
   "outputs": [
    {
     "name": "stdout",
     "output_type": "stream",
     "text": [
      "+-------+-----------------+-----------------+-----------------+------------------+------------------+-----------------+------------------+------------------+------------------+------------------+------------------+-------------------+-------------------+-------------------+------------------+\n",
      "|summary|            label|         yearDiff|        km_driven|           mileage|            engine|        max_power|             seats|        ownerLabel|       regionLabel|        brandLabel|         fuelLabel|          soldLabel|  transmissionLabel|        sellerLabel|        stateLabel|\n",
      "+-------+-----------------+-----------------+-----------------+------------------+------------------+-----------------+------------------+------------------+------------------+------------------+------------------+-------------------+-------------------+-------------------+------------------+\n",
      "|  count|             5559|             5559|             5559|              5559|              5559|             5559|              5559|              5559|              5559|              5559|              5559|               5559|               5559|               5559|              5559|\n",
      "|   mean|648974.4554776038|7.008634646519158|68338.18150746537|19.465180824891892|1454.5168195718654|91.44728747904998|  5.41446303291959|0.4520597229717575|1.3599568267674043|3.4675301313185827|0.4754452239611441| 0.2525634106853751|0.13491635186184567| 0.1985968699406368|12.623493434070877|\n",
      "| stddev|818473.8347261694|3.878126848724512|47928.16562071235|3.9262117046772214|504.42663915463413|35.95143328000729|0.9580136029095351|0.7179613490791097|1.1136180163309806|4.4661352032779735|0.5392807494366668|0.43452168973262795| 0.3416649369335896|0.46827165997151976|   11.909042437911|\n",
      "|    min|            30000|              1.0|                1|               9.0|             624.0|             32.8|                 4|               0.0|               0.0|               0.0|               0.0|                0.0|                0.0|                0.0|               0.0|\n",
      "|    max|         10000000|             27.0|           577414|              42.0|            3604.0|            400.0|                14|               4.0|               3.0|              28.0|               3.0|                1.0|                1.0|                2.0|              48.0|\n",
      "+-------+-----------------+-----------------+-----------------+------------------+------------------+-----------------+------------------+------------------+------------------+------------------+------------------+-------------------+-------------------+-------------------+------------------+\n",
      "\n"
     ]
    }
   ],
   "source": [
    "training.describe().show()"
   ]
  },
  {
   "cell_type": "code",
   "execution_count": 100,
   "metadata": {},
   "outputs": [
    {
     "name": "stdout",
     "output_type": "stream",
     "text": [
      "+-------+-----------------+------------------+-----------------+------------------+------------------+-----------------+------------------+-------------------+------------------+------------------+------------------+-------------------+------------------+-------------------+------------------+\n",
      "|summary|            label|          yearDiff|        km_driven|           mileage|            engine|        max_power|             seats|         ownerLabel|       regionLabel|        brandLabel|         fuelLabel|          soldLabel| transmissionLabel|        sellerLabel|        stateLabel|\n",
      "+-------+-----------------+------------------+-----------------+------------------+------------------+-----------------+------------------+-------------------+------------------+------------------+------------------+-------------------+------------------+-------------------+------------------+\n",
      "|  count|             2330|              2330|             2330|              2330|              2330|             2330|              2330|               2330|              2330|              2330|              2330|               2330|              2330|               2330|              2330|\n",
      "|   mean|651347.3300429184| 7.020600858369098|71251.38412017167|19.453424955949252|1467.5922746781116|91.92596795896604| 5.426609442060085|0.43433476394849785|1.3394849785407725|3.4313304721030042|0.4613733905579399|0.25407725321888414|0.1223175965665236|0.20214592274678111|12.196566523605151|\n",
      "| stddev|801599.9935195816|3.8290549950236468|73821.46296983669| 3.968590253045989|500.58928119805364|35.20580852382072|0.9598979780196499| 0.6917452365256698|1.1109485543507482| 4.323814096953461|0.5335556842189891| 0.4354346994162741|0.3277225922293276| 0.4696861683867606|11.892245066199685|\n",
      "|    min|            29999|               1.0|             1000|               9.0|             624.0|             34.2|                 4|                0.0|               0.0|               0.0|               0.0|                0.0|               0.0|                0.0|               0.0|\n",
      "|    max|          6000000|              24.0|          2360457|              33.0|            3604.0|            280.0|                10|                4.0|               3.0|              30.0|               3.0|                1.0|               1.0|                2.0|              48.0|\n",
      "+-------+-----------------+------------------+-----------------+------------------+------------------+-----------------+------------------+-------------------+------------------+------------------+------------------+-------------------+------------------+-------------------+------------------+\n",
      "\n"
     ]
    }
   ],
   "source": [
    "test.describe().show()"
   ]
  },
  {
   "cell_type": "code",
   "execution_count": 101,
   "metadata": {},
   "outputs": [],
   "source": [
    "lr = LinearRegression(maxIter=10, regParam=.01)"
   ]
  },
  {
   "cell_type": "code",
   "execution_count": 102,
   "metadata": {},
   "outputs": [
    {
     "name": "stdout",
     "output_type": "stream",
     "text": [
      "[-94360.62736,-102422.797179,101703.354952,49506.1951596,460292.301877,-1232.14286768,-1562.7442609,5647.68026748,97176.8700042,1995.30141502,11545.5976398,136852.428435,34865.4164522,1086.30027345]\n"
     ]
    }
   ],
   "source": [
    "lr_model = lr.fit(training)\n",
    "print(lr_model.coefficients)"
   ]
  },
  {
   "cell_type": "code",
   "execution_count": 103,
   "metadata": {},
   "outputs": [
    {
     "name": "stdout",
     "output_type": "stream",
     "text": [
      "-1034614.1704750326\n"
     ]
    }
   ],
   "source": [
    "print(lr_model.intercept)\n",
    "trainingSummary = lr_model.summary\n"
   ]
  },
  {
   "cell_type": "code",
   "execution_count": 104,
   "metadata": {},
   "outputs": [
    {
     "data": {
      "text/plain": [
       "455461.3311881192"
      ]
     },
     "execution_count": 104,
     "metadata": {},
     "output_type": "execute_result"
    }
   ],
   "source": [
    "trainingSummary.rootMeanSquaredError"
   ]
  },
  {
   "cell_type": "code",
   "execution_count": 105,
   "metadata": {},
   "outputs": [
    {
     "data": {
      "text/plain": [
       "278488.5311851478"
      ]
     },
     "execution_count": 105,
     "metadata": {},
     "output_type": "execute_result"
    }
   ],
   "source": [
    "trainingSummary.meanAbsoluteError"
   ]
  },
  {
   "cell_type": "code",
   "execution_count": 106,
   "metadata": {},
   "outputs": [
    {
     "data": {
      "text/plain": [
       "207445024207.6536"
      ]
     },
     "execution_count": 106,
     "metadata": {},
     "output_type": "execute_result"
    }
   ],
   "source": [
    "trainingSummary.meanSquaredError"
   ]
  },
  {
   "cell_type": "code",
   "execution_count": 107,
   "metadata": {},
   "outputs": [
    {
     "data": {
      "text/plain": [
       "0.690278357804297"
      ]
     },
     "execution_count": 107,
     "metadata": {},
     "output_type": "execute_result"
    }
   ],
   "source": [
    "trainingSummary.r2"
   ]
  },
  {
   "cell_type": "code",
   "execution_count": 108,
   "metadata": {},
   "outputs": [],
   "source": [
    "prediction_df = lr_model.transform(test)"
   ]
  },
  {
   "cell_type": "code",
   "execution_count": 109,
   "metadata": {},
   "outputs": [
    {
     "name": "stdout",
     "output_type": "stream",
     "text": [
      "+-----+-------------------+\n",
      "|label|prediction         |\n",
      "+-----+-------------------+\n",
      "|29999|-799578.6037356788 |\n",
      "|31504|-641082.6329321289 |\n",
      "|39000|-629645.0286255758 |\n",
      "|40000|-683143.4279925646 |\n",
      "|45000|-595188.5737205544 |\n",
      "|45000|-633147.8877338273 |\n",
      "|50000|-565613.5392540431 |\n",
      "|50000|-625573.948460699  |\n",
      "|50000|-550212.8251220869 |\n",
      "|52000|-754087.8636973328 |\n",
      "|55000|-159575.66232210095|\n",
      "|55000|-309884.5986604295 |\n",
      "|55000|57697.750287044095 |\n",
      "|55000|-149367.51072047127|\n",
      "|55000|-329001.59182935045|\n",
      "|55000|-828.1804531461094 |\n",
      "|55599|-568395.9972450738 |\n",
      "|58000|-465351.654005153  |\n",
      "|59259|-230995.92948406178|\n",
      "|60000|-52392.19556545734 |\n",
      "+-----+-------------------+\n",
      "only showing top 20 rows\n",
      "\n"
     ]
    }
   ],
   "source": [
    "prediction_df.select(\"label\",\"prediction\").show(truncate=False)"
   ]
  },
  {
   "cell_type": "code",
   "execution_count": 110,
   "metadata": {},
   "outputs": [
    {
     "name": "stdout",
     "output_type": "stream",
     "text": [
      "RMSE: 477892.647\n",
      "MSE: 228381381595.950\n",
      "MAE: 282419.310\n",
      "r2: 0.644\n"
     ]
    }
   ],
   "source": [
    "eval = RegressionEvaluator(labelCol=\"label\", predictionCol=\"prediction\", metricName=\"rmse\")\n",
    "rmse = eval.evaluate(prediction_df)\n",
    "print(\"RMSE: %.3f\" % rmse)\n",
    "mse = eval.evaluate(prediction_df, {eval.metricName: \"mse\"})\n",
    "print(\"MSE: %.3f\" % mse)\n",
    "mae = eval.evaluate(prediction_df, {eval.metricName: \"mae\"})\n",
    "print(\"MAE: %.3f\" % mae)\n",
    "r2 = eval.evaluate(prediction_df, {eval.metricName: \"r2\"})\n",
    "print(\"r2: %.3f\" %r2)"
   ]
  },
  {
   "cell_type": "markdown",
   "metadata": {},
   "source": [
    "Performance of Linear regression:\n",
    "* r2 for training set is 0.69 and test set is 0.64.\n",
    "* RMSE is around 455461 for train set and 477892 for test set\n",
    "\n",
    "\n",
    "Seeing these stats, we can conclude that linear regression model performs average on car dataset."
   ]
  },
  {
   "cell_type": "markdown",
   "metadata": {},
   "source": [
    "##### 2. Decision Tree Regression"
   ]
  },
  {
   "cell_type": "code",
   "execution_count": 111,
   "metadata": {},
   "outputs": [
    {
     "data": {
      "text/plain": [
       "['selling_price',\n",
       " 'km_driven',\n",
       " 'mileage',\n",
       " 'engine',\n",
       " 'max_power',\n",
       " 'seats',\n",
       " 'ownerLabel',\n",
       " 'regionLabel',\n",
       " 'brandLabel',\n",
       " 'fuelLabel',\n",
       " 'soldLabel',\n",
       " 'transmissionLabel',\n",
       " 'sellerLabel',\n",
       " 'stateLabel',\n",
       " 'yearDiff']"
      ]
     },
     "execution_count": 111,
     "metadata": {},
     "output_type": "execute_result"
    }
   ],
   "source": [
    "cleansedDF.columns"
   ]
  },
  {
   "cell_type": "code",
   "execution_count": 112,
   "metadata": {},
   "outputs": [
    {
     "name": "stdout",
     "output_type": "stream",
     "text": [
      "root\n",
      " |-- label: integer (nullable = true)\n",
      " |-- yearDiff: float (nullable = true)\n",
      " |-- km_driven: integer (nullable = true)\n",
      " |-- mileage: float (nullable = true)\n",
      " |-- engine: float (nullable = true)\n",
      " |-- max_power: float (nullable = true)\n",
      " |-- seats: integer (nullable = true)\n",
      " |-- ownerLabel: double (nullable = true)\n",
      " |-- regionLabel: double (nullable = true)\n",
      " |-- brandLabel: double (nullable = true)\n",
      " |-- fuelLabel: double (nullable = true)\n",
      " |-- soldLabel: double (nullable = true)\n",
      " |-- transmissionLabel: double (nullable = true)\n",
      " |-- sellerLabel: double (nullable = true)\n",
      " |-- stateLabel: double (nullable = true)\n",
      "\n"
     ]
    }
   ],
   "source": [
    "dt_data = cleansedDF.select(col(\"selling_price\").alias(\"label\"), *required_features)\n",
    "dt_data.printSchema()"
   ]
  },
  {
   "cell_type": "code",
   "execution_count": 113,
   "metadata": {},
   "outputs": [],
   "source": [
    "vectorAssembler = VectorAssembler(inputCols=required_features, outputCol=\"unscaled_features\")"
   ]
  },
  {
   "cell_type": "code",
   "execution_count": 114,
   "metadata": {},
   "outputs": [],
   "source": [
    "dt_transformed=vectorAssembler.transform(cleansedDF)"
   ]
  },
  {
   "cell_type": "code",
   "execution_count": 115,
   "metadata": {},
   "outputs": [],
   "source": [
    "(trainingData, testData) = dt_transformed.randomSplit([0.7, 0.3])"
   ]
  },
  {
   "cell_type": "code",
   "execution_count": 116,
   "metadata": {},
   "outputs": [],
   "source": [
    "dt = DecisionTreeRegressor(featuresCol=\"unscaled_features\",labelCol='selling_price',maxBins=100)"
   ]
  },
  {
   "cell_type": "code",
   "execution_count": 117,
   "metadata": {},
   "outputs": [],
   "source": [
    "model = dt.fit(trainingData)"
   ]
  },
  {
   "cell_type": "code",
   "execution_count": 118,
   "metadata": {},
   "outputs": [],
   "source": [
    "preds=model.transform(testData)"
   ]
  },
  {
   "cell_type": "code",
   "execution_count": 119,
   "metadata": {},
   "outputs": [
    {
     "name": "stdout",
     "output_type": "stream",
     "text": [
      "Root Mean Squared Error (RMSE) on test data = 205428\n"
     ]
    }
   ],
   "source": [
    "evaluator = RegressionEvaluator(\n",
    "    labelCol=\"selling_price\", predictionCol=\"prediction\", metricName=\"rmse\")\n",
    "rmse = evaluator.evaluate(preds)\n",
    "print(\"Root Mean Squared Error (RMSE) on test data = %g\" % rmse)"
   ]
  },
  {
   "cell_type": "code",
   "execution_count": 120,
   "metadata": {},
   "outputs": [
    {
     "name": "stdout",
     "output_type": "stream",
     "text": [
      "MAE of test data is 129374.15253085553\n"
     ]
    }
   ],
   "source": [
    "evaluator=RegressionEvaluator(\n",
    "labelCol='selling_price',\n",
    "predictionCol='prediction',\n",
    "metricName='mae')\n",
    "mae=evaluator.evaluate(preds)\n",
    "print('MAE of test data is', mae)"
   ]
  },
  {
   "cell_type": "code",
   "execution_count": 121,
   "metadata": {},
   "outputs": [
    {
     "name": "stdout",
     "output_type": "stream",
     "text": [
      "R2 of test data is 0.9317583787240841\n"
     ]
    }
   ],
   "source": [
    "evaluator=RegressionEvaluator(\n",
    "labelCol='selling_price',\n",
    "predictionCol='prediction',\n",
    "metricName='r2')\n",
    "r2=evaluator.evaluate(preds)\n",
    "print('R2 of test data is',r2)"
   ]
  },
  {
   "cell_type": "markdown",
   "metadata": {},
   "source": [
    "Performance of Decision Tree regression:\n",
    "* r2 for test set is 0.93.\n",
    "* RMSE is around 205428 for test set\n",
    "\n",
    "\n",
    "Seeing these stats, we can conclude that decision tree regression model has a good performance on car dataset."
   ]
  },
  {
   "cell_type": "markdown",
   "metadata": {},
   "source": [
    "##### 3. Random Forest Regression"
   ]
  },
  {
   "cell_type": "code",
   "execution_count": 122,
   "metadata": {},
   "outputs": [],
   "source": [
    " from pyspark.ml.regression import RandomForestRegressor"
   ]
  },
  {
   "cell_type": "code",
   "execution_count": 123,
   "metadata": {},
   "outputs": [],
   "source": [
    "assembler=VectorAssembler(inputCols=required_features,outputCol='features')"
   ]
  },
  {
   "cell_type": "code",
   "execution_count": 124,
   "metadata": {},
   "outputs": [],
   "source": [
    "\n",
    "randFrst=RandomForestRegressor(labelCol='selling_price', featuresCol='features',maxBins=200)"
   ]
  },
  {
   "cell_type": "code",
   "execution_count": 125,
   "metadata": {},
   "outputs": [],
   "source": [
    "model=randFrst.fit(training_data)"
   ]
  },
  {
   "cell_type": "code",
   "execution_count": 126,
   "metadata": {},
   "outputs": [],
   "source": [
    "preds=model.transform(test_data)"
   ]
  },
  {
   "cell_type": "code",
   "execution_count": 127,
   "metadata": {},
   "outputs": [],
   "source": [
    "evaluator=RegressionEvaluator(\n",
    "labelCol='selling_price',\n",
    "predictionCol='prediction',\n",
    "metricName='rmse')"
   ]
  },
  {
   "cell_type": "code",
   "execution_count": 128,
   "metadata": {},
   "outputs": [],
   "source": [
    "rmse=evaluator.evaluate(preds)"
   ]
  },
  {
   "cell_type": "code",
   "execution_count": 129,
   "metadata": {},
   "outputs": [
    {
     "name": "stdout",
     "output_type": "stream",
     "text": [
      "Rmse of test data is 194118.31766748952\n"
     ]
    }
   ],
   "source": [
    "print('Rmse of test data is', rmse)"
   ]
  },
  {
   "cell_type": "code",
   "execution_count": 130,
   "metadata": {},
   "outputs": [],
   "source": [
    "evaluator=RegressionEvaluator(\n",
    "labelCol='selling_price',\n",
    "predictionCol='prediction',\n",
    "metricName='mae')"
   ]
  },
  {
   "cell_type": "code",
   "execution_count": 131,
   "metadata": {},
   "outputs": [],
   "source": [
    "mae=evaluator.evaluate(preds)"
   ]
  },
  {
   "cell_type": "code",
   "execution_count": 132,
   "metadata": {},
   "outputs": [
    {
     "name": "stdout",
     "output_type": "stream",
     "text": [
      "MAE of test data is 125737.08459903157\n"
     ]
    }
   ],
   "source": [
    "print('MAE of test data is', mae)"
   ]
  },
  {
   "cell_type": "code",
   "execution_count": 133,
   "metadata": {},
   "outputs": [],
   "source": [
    "evaluator=RegressionEvaluator(\n",
    "labelCol='selling_price',\n",
    "predictionCol='prediction',\n",
    "metricName='r2')"
   ]
  },
  {
   "cell_type": "code",
   "execution_count": 134,
   "metadata": {},
   "outputs": [],
   "source": [
    "r2=evaluator.evaluate(preds)"
   ]
  },
  {
   "cell_type": "code",
   "execution_count": 135,
   "metadata": {},
   "outputs": [
    {
     "name": "stdout",
     "output_type": "stream",
     "text": [
      "R2 of test data is 0.9416441337954653\n"
     ]
    }
   ],
   "source": [
    "print('R2 of test data is',r2)"
   ]
  },
  {
   "cell_type": "markdown",
   "metadata": {},
   "source": [
    "Performance of Random Forest regression:\n",
    "* r2 for test set is 0.94.\n",
    "* RMSE is around 194118 for test set.\n",
    "\n",
    "\n",
    "Seeing these stats, we can conclude that Random Forest regression model has a good performance on car dataset."
   ]
  },
  {
   "cell_type": "code",
   "execution_count": null,
   "metadata": {},
   "outputs": [],
   "source": []
  }
 ],
 "metadata": {
  "kernelspec": {
   "display_name": "Python 3 (ipykernel)",
   "language": "python",
   "name": "python3"
  },
  "language_info": {
   "codemirror_mode": {
    "name": "ipython",
    "version": 3
   },
   "file_extension": ".py",
   "mimetype": "text/x-python",
   "name": "python",
   "nbconvert_exporter": "python",
   "pygments_lexer": "ipython3",
   "version": "3.9.7"
  }
 },
 "nbformat": 4,
 "nbformat_minor": 2
}
