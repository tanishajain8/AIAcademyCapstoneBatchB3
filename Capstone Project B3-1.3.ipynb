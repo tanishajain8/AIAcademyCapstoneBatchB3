{
 "cells": [
  {
   "cell_type": "markdown",
   "id": "b51d6212",
   "metadata": {},
   "source": [
    "# Capstone Project Batch: B Group: 3                                                                      "
   ]
  },
  {
   "cell_type": "markdown",
   "id": "f08e48ea",
   "metadata": {},
   "source": [
    "### Members: Tanisha Jain , Priya Bhardwaj, Aman Bhardwaj, Satyam Sharma and Suneetha Vemula "
   ]
  },
  {
   "cell_type": "code",
   "execution_count": 70,
   "id": "b90a215a",
   "metadata": {},
   "outputs": [],
   "source": [
    "import pandas as pd\n",
    "import numpy as np\n",
    "import matplotlib.pyplot as plt\n",
    "import seaborn as sns\n",
    "import scipy.stats as st\n"
   ]
  },
  {
   "cell_type": "code",
   "execution_count": 71,
   "id": "139e971f",
   "metadata": {},
   "outputs": [],
   "source": [
    "carSalesData = pd.read_csv('Car_sales_details_p3.csv')\n",
    "salesStatus = pd.read_csv('sales_Status_p3.csv')\n",
    "stateRegionMapping = pd.read_csv('State_region_mapping_p3.csv')\n"
   ]
  },
  {
   "cell_type": "code",
   "execution_count": 72,
   "id": "7324e292",
   "metadata": {},
   "outputs": [
    {
     "data": {
      "text/html": [
       "<div>\n",
       "<style scoped>\n",
       "    .dataframe tbody tr th:only-of-type {\n",
       "        vertical-align: middle;\n",
       "    }\n",
       "\n",
       "    .dataframe tbody tr th {\n",
       "        vertical-align: top;\n",
       "    }\n",
       "\n",
       "    .dataframe thead th {\n",
       "        text-align: right;\n",
       "    }\n",
       "</style>\n",
       "<table border=\"1\" class=\"dataframe\">\n",
       "  <thead>\n",
       "    <tr style=\"text-align: right;\">\n",
       "      <th></th>\n",
       "      <th>Sales_ID</th>\n",
       "      <th>name</th>\n",
       "      <th>year</th>\n",
       "      <th>selling_price</th>\n",
       "      <th>km_driven</th>\n",
       "      <th>State or Province</th>\n",
       "      <th>City</th>\n",
       "      <th>fuel</th>\n",
       "      <th>seller_type</th>\n",
       "      <th>transmission</th>\n",
       "      <th>owner</th>\n",
       "      <th>mileage</th>\n",
       "      <th>engine</th>\n",
       "      <th>max_power</th>\n",
       "      <th>seats</th>\n",
       "    </tr>\n",
       "  </thead>\n",
       "  <tbody>\n",
       "    <tr>\n",
       "      <th>0</th>\n",
       "      <td>1</td>\n",
       "      <td>Maruti Swift Dzire VDI</td>\n",
       "      <td>2014</td>\n",
       "      <td>450000</td>\n",
       "      <td>145500</td>\n",
       "      <td>District of Columbia</td>\n",
       "      <td>Washington</td>\n",
       "      <td>Diesel</td>\n",
       "      <td>Individual</td>\n",
       "      <td>Manual</td>\n",
       "      <td>First Owner</td>\n",
       "      <td>23.4 kmpl</td>\n",
       "      <td>1248 CC</td>\n",
       "      <td>74 bhp</td>\n",
       "      <td>5</td>\n",
       "    </tr>\n",
       "    <tr>\n",
       "      <th>1</th>\n",
       "      <td>2</td>\n",
       "      <td>Skoda Rapid 1.5 TDI Ambition</td>\n",
       "      <td>2014</td>\n",
       "      <td>370000</td>\n",
       "      <td>120000</td>\n",
       "      <td>New York</td>\n",
       "      <td>New York City</td>\n",
       "      <td>Diesel</td>\n",
       "      <td>Individual</td>\n",
       "      <td>Manual</td>\n",
       "      <td>Second Owner</td>\n",
       "      <td>21.14 kmpl</td>\n",
       "      <td>1498 CC</td>\n",
       "      <td>103.52 bhp</td>\n",
       "      <td>5</td>\n",
       "    </tr>\n",
       "    <tr>\n",
       "      <th>2</th>\n",
       "      <td>3</td>\n",
       "      <td>Honda City 2017-2020 EXi</td>\n",
       "      <td>2006</td>\n",
       "      <td>158000</td>\n",
       "      <td>140000</td>\n",
       "      <td>Illinois</td>\n",
       "      <td>Chicago</td>\n",
       "      <td>Petrol</td>\n",
       "      <td>Individual</td>\n",
       "      <td>Manual</td>\n",
       "      <td>Third Owner</td>\n",
       "      <td>17.7 kmpl</td>\n",
       "      <td>1497 CC</td>\n",
       "      <td>78 bhp</td>\n",
       "      <td>5</td>\n",
       "    </tr>\n",
       "  </tbody>\n",
       "</table>\n",
       "</div>"
      ],
      "text/plain": [
       "   Sales_ID                          name  year  selling_price  km_driven  \\\n",
       "0         1        Maruti Swift Dzire VDI  2014         450000     145500   \n",
       "1         2  Skoda Rapid 1.5 TDI Ambition  2014         370000     120000   \n",
       "2         3      Honda City 2017-2020 EXi  2006         158000     140000   \n",
       "\n",
       "      State or Province           City    fuel seller_type transmission  \\\n",
       "0  District of Columbia     Washington  Diesel  Individual       Manual   \n",
       "1              New York  New York City  Diesel  Individual       Manual   \n",
       "2              Illinois        Chicago  Petrol  Individual       Manual   \n",
       "\n",
       "          owner     mileage   engine   max_power  seats  \n",
       "0   First Owner   23.4 kmpl  1248 CC      74 bhp      5  \n",
       "1  Second Owner  21.14 kmpl  1498 CC  103.52 bhp      5  \n",
       "2   Third Owner   17.7 kmpl  1497 CC      78 bhp      5  "
      ]
     },
     "execution_count": 72,
     "metadata": {},
     "output_type": "execute_result"
    }
   ],
   "source": [
    "carSalesData.head(3)\n"
   ]
  },
  {
   "cell_type": "code",
   "execution_count": 73,
   "id": "dfa70cfa",
   "metadata": {},
   "outputs": [
    {
     "data": {
      "text/html": [
       "<div>\n",
       "<style scoped>\n",
       "    .dataframe tbody tr th:only-of-type {\n",
       "        vertical-align: middle;\n",
       "    }\n",
       "\n",
       "    .dataframe tbody tr th {\n",
       "        vertical-align: top;\n",
       "    }\n",
       "\n",
       "    .dataframe thead th {\n",
       "        text-align: right;\n",
       "    }\n",
       "</style>\n",
       "<table border=\"1\" class=\"dataframe\">\n",
       "  <thead>\n",
       "    <tr style=\"text-align: right;\">\n",
       "      <th></th>\n",
       "      <th>Sales_ID</th>\n",
       "      <th>sold</th>\n",
       "    </tr>\n",
       "  </thead>\n",
       "  <tbody>\n",
       "    <tr>\n",
       "      <th>0</th>\n",
       "      <td>1</td>\n",
       "      <td>Y</td>\n",
       "    </tr>\n",
       "    <tr>\n",
       "      <th>1</th>\n",
       "      <td>2</td>\n",
       "      <td>Y</td>\n",
       "    </tr>\n",
       "    <tr>\n",
       "      <th>2</th>\n",
       "      <td>3</td>\n",
       "      <td>Y</td>\n",
       "    </tr>\n",
       "  </tbody>\n",
       "</table>\n",
       "</div>"
      ],
      "text/plain": [
       "   Sales_ID sold\n",
       "0         1    Y\n",
       "1         2    Y\n",
       "2         3    Y"
      ]
     },
     "execution_count": 73,
     "metadata": {},
     "output_type": "execute_result"
    }
   ],
   "source": [
    "salesStatus.head(3)"
   ]
  },
  {
   "cell_type": "code",
   "execution_count": 74,
   "id": "458ba5a9",
   "metadata": {},
   "outputs": [
    {
     "data": {
      "text/html": [
       "<div>\n",
       "<style scoped>\n",
       "    .dataframe tbody tr th:only-of-type {\n",
       "        vertical-align: middle;\n",
       "    }\n",
       "\n",
       "    .dataframe tbody tr th {\n",
       "        vertical-align: top;\n",
       "    }\n",
       "\n",
       "    .dataframe thead th {\n",
       "        text-align: right;\n",
       "    }\n",
       "</style>\n",
       "<table border=\"1\" class=\"dataframe\">\n",
       "  <thead>\n",
       "    <tr style=\"text-align: right;\">\n",
       "      <th></th>\n",
       "      <th>Region</th>\n",
       "      <th>State or Province</th>\n",
       "    </tr>\n",
       "  </thead>\n",
       "  <tbody>\n",
       "    <tr>\n",
       "      <th>0</th>\n",
       "      <td>Central</td>\n",
       "      <td>Illinois</td>\n",
       "    </tr>\n",
       "    <tr>\n",
       "      <th>1</th>\n",
       "      <td>Central</td>\n",
       "      <td>Indiana</td>\n",
       "    </tr>\n",
       "    <tr>\n",
       "      <th>2</th>\n",
       "      <td>Central</td>\n",
       "      <td>Iowa</td>\n",
       "    </tr>\n",
       "  </tbody>\n",
       "</table>\n",
       "</div>"
      ],
      "text/plain": [
       "    Region State or Province\n",
       "0  Central          Illinois\n",
       "1  Central           Indiana\n",
       "2  Central              Iowa"
      ]
     },
     "execution_count": 74,
     "metadata": {},
     "output_type": "execute_result"
    }
   ],
   "source": [
    "stateRegionMapping.head(3)"
   ]
  },
  {
   "cell_type": "code",
   "execution_count": 75,
   "id": "cda6fabf",
   "metadata": {},
   "outputs": [
    {
     "data": {
      "text/plain": [
       "(7906, 15)"
      ]
     },
     "execution_count": 75,
     "metadata": {},
     "output_type": "execute_result"
    }
   ],
   "source": [
    "carSalesData.shape "
   ]
  },
  {
   "cell_type": "code",
   "execution_count": 76,
   "id": "acb1202b",
   "metadata": {},
   "outputs": [
    {
     "data": {
      "text/html": [
       "<div>\n",
       "<style scoped>\n",
       "    .dataframe tbody tr th:only-of-type {\n",
       "        vertical-align: middle;\n",
       "    }\n",
       "\n",
       "    .dataframe tbody tr th {\n",
       "        vertical-align: top;\n",
       "    }\n",
       "\n",
       "    .dataframe thead th {\n",
       "        text-align: right;\n",
       "    }\n",
       "</style>\n",
       "<table border=\"1\" class=\"dataframe\">\n",
       "  <thead>\n",
       "    <tr style=\"text-align: right;\">\n",
       "      <th></th>\n",
       "      <th>Sales_ID</th>\n",
       "      <th>sold</th>\n",
       "    </tr>\n",
       "  </thead>\n",
       "  <tbody>\n",
       "    <tr>\n",
       "      <th>0</th>\n",
       "      <td>1</td>\n",
       "      <td>Y</td>\n",
       "    </tr>\n",
       "    <tr>\n",
       "      <th>1</th>\n",
       "      <td>2</td>\n",
       "      <td>Y</td>\n",
       "    </tr>\n",
       "    <tr>\n",
       "      <th>2</th>\n",
       "      <td>3</td>\n",
       "      <td>Y</td>\n",
       "    </tr>\n",
       "  </tbody>\n",
       "</table>\n",
       "</div>"
      ],
      "text/plain": [
       "   Sales_ID sold\n",
       "0         1    Y\n",
       "1         2    Y\n",
       "2         3    Y"
      ]
     },
     "execution_count": 76,
     "metadata": {},
     "output_type": "execute_result"
    }
   ],
   "source": [
    "salesStatus.head(3)"
   ]
  },
  {
   "cell_type": "code",
   "execution_count": 77,
   "id": "d680225b",
   "metadata": {},
   "outputs": [
    {
     "data": {
      "text/plain": [
       "(7906, 2)"
      ]
     },
     "execution_count": 77,
     "metadata": {},
     "output_type": "execute_result"
    }
   ],
   "source": [
    "salesStatus.shape"
   ]
  },
  {
   "cell_type": "code",
   "execution_count": 78,
   "id": "e70c0f08",
   "metadata": {},
   "outputs": [
    {
     "data": {
      "text/html": [
       "<div>\n",
       "<style scoped>\n",
       "    .dataframe tbody tr th:only-of-type {\n",
       "        vertical-align: middle;\n",
       "    }\n",
       "\n",
       "    .dataframe tbody tr th {\n",
       "        vertical-align: top;\n",
       "    }\n",
       "\n",
       "    .dataframe thead th {\n",
       "        text-align: right;\n",
       "    }\n",
       "</style>\n",
       "<table border=\"1\" class=\"dataframe\">\n",
       "  <thead>\n",
       "    <tr style=\"text-align: right;\">\n",
       "      <th></th>\n",
       "      <th>Region</th>\n",
       "      <th>State or Province</th>\n",
       "    </tr>\n",
       "  </thead>\n",
       "  <tbody>\n",
       "    <tr>\n",
       "      <th>0</th>\n",
       "      <td>Central</td>\n",
       "      <td>Illinois</td>\n",
       "    </tr>\n",
       "    <tr>\n",
       "      <th>1</th>\n",
       "      <td>Central</td>\n",
       "      <td>Indiana</td>\n",
       "    </tr>\n",
       "    <tr>\n",
       "      <th>2</th>\n",
       "      <td>Central</td>\n",
       "      <td>Iowa</td>\n",
       "    </tr>\n",
       "  </tbody>\n",
       "</table>\n",
       "</div>"
      ],
      "text/plain": [
       "    Region State or Province\n",
       "0  Central          Illinois\n",
       "1  Central           Indiana\n",
       "2  Central              Iowa"
      ]
     },
     "execution_count": 78,
     "metadata": {},
     "output_type": "execute_result"
    }
   ],
   "source": [
    "stateRegionMapping.head(3)"
   ]
  },
  {
   "cell_type": "code",
   "execution_count": 79,
   "id": "904c9d5a",
   "metadata": {},
   "outputs": [
    {
     "data": {
      "text/plain": [
       "(49, 2)"
      ]
     },
     "execution_count": 79,
     "metadata": {},
     "output_type": "execute_result"
    }
   ],
   "source": [
    "stateRegionMapping.shape"
   ]
  },
  {
   "cell_type": "markdown",
   "id": "75b18783",
   "metadata": {},
   "source": [
    "# Merging the three dataframes and saving it into a new csv file"
   ]
  },
  {
   "cell_type": "markdown",
   "id": "1411a330",
   "metadata": {},
   "source": [
    "Merging datasets CarSalesData and SalesStatus on attribute salesID and then mapping the regions using the stateRegionMapping data. After merging, the shape of the MergedCarSalesData will be (7906, 18). The brand attribute has been engineered into the merged dataset by extracting the first words from the names of the car."
   ]
  },
  {
   "cell_type": "code",
   "execution_count": 80,
   "id": "136a0543",
   "metadata": {
    "scrolled": true
   },
   "outputs": [
    {
     "data": {
      "text/html": [
       "<div>\n",
       "<style scoped>\n",
       "    .dataframe tbody tr th:only-of-type {\n",
       "        vertical-align: middle;\n",
       "    }\n",
       "\n",
       "    .dataframe tbody tr th {\n",
       "        vertical-align: top;\n",
       "    }\n",
       "\n",
       "    .dataframe thead th {\n",
       "        text-align: right;\n",
       "    }\n",
       "</style>\n",
       "<table border=\"1\" class=\"dataframe\">\n",
       "  <thead>\n",
       "    <tr style=\"text-align: right;\">\n",
       "      <th></th>\n",
       "      <th>Sales_ID</th>\n",
       "      <th>name</th>\n",
       "      <th>year</th>\n",
       "      <th>selling_price</th>\n",
       "      <th>km_driven</th>\n",
       "      <th>State or Province</th>\n",
       "      <th>City</th>\n",
       "      <th>fuel</th>\n",
       "      <th>seller_type</th>\n",
       "      <th>transmission</th>\n",
       "      <th>owner</th>\n",
       "      <th>mileage</th>\n",
       "      <th>engine</th>\n",
       "      <th>max_power</th>\n",
       "      <th>seats</th>\n",
       "      <th>sold</th>\n",
       "    </tr>\n",
       "  </thead>\n",
       "  <tbody>\n",
       "    <tr>\n",
       "      <th>0</th>\n",
       "      <td>1</td>\n",
       "      <td>Maruti Swift Dzire VDI</td>\n",
       "      <td>2014</td>\n",
       "      <td>450000</td>\n",
       "      <td>145500</td>\n",
       "      <td>District of Columbia</td>\n",
       "      <td>Washington</td>\n",
       "      <td>Diesel</td>\n",
       "      <td>Individual</td>\n",
       "      <td>Manual</td>\n",
       "      <td>First Owner</td>\n",
       "      <td>23.4 kmpl</td>\n",
       "      <td>1248 CC</td>\n",
       "      <td>74 bhp</td>\n",
       "      <td>5</td>\n",
       "      <td>Y</td>\n",
       "    </tr>\n",
       "    <tr>\n",
       "      <th>1</th>\n",
       "      <td>2</td>\n",
       "      <td>Skoda Rapid 1.5 TDI Ambition</td>\n",
       "      <td>2014</td>\n",
       "      <td>370000</td>\n",
       "      <td>120000</td>\n",
       "      <td>New York</td>\n",
       "      <td>New York City</td>\n",
       "      <td>Diesel</td>\n",
       "      <td>Individual</td>\n",
       "      <td>Manual</td>\n",
       "      <td>Second Owner</td>\n",
       "      <td>21.14 kmpl</td>\n",
       "      <td>1498 CC</td>\n",
       "      <td>103.52 bhp</td>\n",
       "      <td>5</td>\n",
       "      <td>Y</td>\n",
       "    </tr>\n",
       "    <tr>\n",
       "      <th>2</th>\n",
       "      <td>3</td>\n",
       "      <td>Honda City 2017-2020 EXi</td>\n",
       "      <td>2006</td>\n",
       "      <td>158000</td>\n",
       "      <td>140000</td>\n",
       "      <td>Illinois</td>\n",
       "      <td>Chicago</td>\n",
       "      <td>Petrol</td>\n",
       "      <td>Individual</td>\n",
       "      <td>Manual</td>\n",
       "      <td>Third Owner</td>\n",
       "      <td>17.7 kmpl</td>\n",
       "      <td>1497 CC</td>\n",
       "      <td>78 bhp</td>\n",
       "      <td>5</td>\n",
       "      <td>Y</td>\n",
       "    </tr>\n",
       "  </tbody>\n",
       "</table>\n",
       "</div>"
      ],
      "text/plain": [
       "   Sales_ID                          name  year  selling_price  km_driven  \\\n",
       "0         1        Maruti Swift Dzire VDI  2014         450000     145500   \n",
       "1         2  Skoda Rapid 1.5 TDI Ambition  2014         370000     120000   \n",
       "2         3      Honda City 2017-2020 EXi  2006         158000     140000   \n",
       "\n",
       "      State or Province           City    fuel seller_type transmission  \\\n",
       "0  District of Columbia     Washington  Diesel  Individual       Manual   \n",
       "1              New York  New York City  Diesel  Individual       Manual   \n",
       "2              Illinois        Chicago  Petrol  Individual       Manual   \n",
       "\n",
       "          owner     mileage   engine   max_power  seats sold  \n",
       "0   First Owner   23.4 kmpl  1248 CC      74 bhp      5    Y  \n",
       "1  Second Owner  21.14 kmpl  1498 CC  103.52 bhp      5    Y  \n",
       "2   Third Owner   17.7 kmpl  1497 CC      78 bhp      5    Y  "
      ]
     },
     "execution_count": 80,
     "metadata": {},
     "output_type": "execute_result"
    }
   ],
   "source": [
    "mergedCarSalesData = pd.merge(carSalesData,salesStatus,how='inner',on='Sales_ID')\n",
    "mergedCarSalesData.head(3)"
   ]
  },
  {
   "cell_type": "code",
   "execution_count": 81,
   "id": "b0c49052",
   "metadata": {},
   "outputs": [
    {
     "data": {
      "text/plain": [
       "{'Illinois': 'Central',\n",
       " 'Indiana': 'Central',\n",
       " 'Iowa': 'Central',\n",
       " 'Kansas': 'Central',\n",
       " 'Michigan': 'Central',\n",
       " 'Minnesota': 'Central',\n",
       " 'Missouri': 'Central',\n",
       " 'Nebraska': 'Central',\n",
       " 'North Dakota': 'Central',\n",
       " 'Oklahoma': 'Central',\n",
       " 'South Dakota': 'Central',\n",
       " 'Texas': 'Central',\n",
       " 'Wisconsin': 'Central',\n",
       " 'Connecticut': 'East',\n",
       " 'Delaware': 'East',\n",
       " 'District of Columbia': 'East',\n",
       " 'Maine': 'East',\n",
       " 'Maryland': 'East',\n",
       " 'Massachusetts': 'East',\n",
       " 'New Hampshire': 'East',\n",
       " 'New Jersey': 'East',\n",
       " 'New York': 'East',\n",
       " 'Ohio': 'East',\n",
       " 'Pennsylvania': 'East',\n",
       " 'Rhode Island': 'East',\n",
       " 'Vermont': 'East',\n",
       " 'West Virginia': 'East',\n",
       " 'Alabama': 'South',\n",
       " 'Arkansas': 'South',\n",
       " 'Florida': 'South',\n",
       " 'Georgia': 'South',\n",
       " 'Kentucky': 'South',\n",
       " 'Louisiana': 'South',\n",
       " 'Mississippi': 'South',\n",
       " 'North Carolina': 'South',\n",
       " 'South Carolina': 'South',\n",
       " 'Tennessee': 'South',\n",
       " 'Virginia': 'South',\n",
       " 'Arizona': 'West',\n",
       " 'California': 'West',\n",
       " 'Colorado': 'West',\n",
       " 'Idaho': 'West',\n",
       " 'Montana': 'West',\n",
       " 'Nevada': 'West',\n",
       " 'New Mexico': 'West',\n",
       " 'Oregon': 'West',\n",
       " 'Utah': 'West',\n",
       " 'Washington': 'West',\n",
       " 'Wyoming': 'West'}"
      ]
     },
     "execution_count": 81,
     "metadata": {},
     "output_type": "execute_result"
    }
   ],
   "source": [
    "keys = list(stateRegionMapping['State or Province'])\n",
    "values = list(stateRegionMapping['Region'])\n",
    "state_dict = {keys[i]: values[i] for i in range(len(keys))}\n",
    "state_dict"
   ]
  },
  {
   "cell_type": "code",
   "execution_count": 82,
   "id": "09fdd032",
   "metadata": {},
   "outputs": [],
   "source": [
    "mergedCarSalesData['region'] = mergedCarSalesData['State or Province'].map(state_dict)"
   ]
  },
  {
   "cell_type": "code",
   "execution_count": 83,
   "id": "558f4109",
   "metadata": {},
   "outputs": [
    {
     "data": {
      "text/html": [
       "<div>\n",
       "<style scoped>\n",
       "    .dataframe tbody tr th:only-of-type {\n",
       "        vertical-align: middle;\n",
       "    }\n",
       "\n",
       "    .dataframe tbody tr th {\n",
       "        vertical-align: top;\n",
       "    }\n",
       "\n",
       "    .dataframe thead th {\n",
       "        text-align: right;\n",
       "    }\n",
       "</style>\n",
       "<table border=\"1\" class=\"dataframe\">\n",
       "  <thead>\n",
       "    <tr style=\"text-align: right;\">\n",
       "      <th></th>\n",
       "      <th>Sales_ID</th>\n",
       "      <th>name</th>\n",
       "      <th>year</th>\n",
       "      <th>selling_price</th>\n",
       "      <th>km_driven</th>\n",
       "      <th>State or Province</th>\n",
       "      <th>City</th>\n",
       "      <th>fuel</th>\n",
       "      <th>seller_type</th>\n",
       "      <th>transmission</th>\n",
       "      <th>owner</th>\n",
       "      <th>mileage</th>\n",
       "      <th>engine</th>\n",
       "      <th>max_power</th>\n",
       "      <th>seats</th>\n",
       "      <th>sold</th>\n",
       "      <th>region</th>\n",
       "    </tr>\n",
       "  </thead>\n",
       "  <tbody>\n",
       "    <tr>\n",
       "      <th>0</th>\n",
       "      <td>1</td>\n",
       "      <td>Maruti Swift Dzire VDI</td>\n",
       "      <td>2014</td>\n",
       "      <td>450000</td>\n",
       "      <td>145500</td>\n",
       "      <td>District of Columbia</td>\n",
       "      <td>Washington</td>\n",
       "      <td>Diesel</td>\n",
       "      <td>Individual</td>\n",
       "      <td>Manual</td>\n",
       "      <td>First Owner</td>\n",
       "      <td>23.4 kmpl</td>\n",
       "      <td>1248 CC</td>\n",
       "      <td>74 bhp</td>\n",
       "      <td>5</td>\n",
       "      <td>Y</td>\n",
       "      <td>East</td>\n",
       "    </tr>\n",
       "    <tr>\n",
       "      <th>1</th>\n",
       "      <td>2</td>\n",
       "      <td>Skoda Rapid 1.5 TDI Ambition</td>\n",
       "      <td>2014</td>\n",
       "      <td>370000</td>\n",
       "      <td>120000</td>\n",
       "      <td>New York</td>\n",
       "      <td>New York City</td>\n",
       "      <td>Diesel</td>\n",
       "      <td>Individual</td>\n",
       "      <td>Manual</td>\n",
       "      <td>Second Owner</td>\n",
       "      <td>21.14 kmpl</td>\n",
       "      <td>1498 CC</td>\n",
       "      <td>103.52 bhp</td>\n",
       "      <td>5</td>\n",
       "      <td>Y</td>\n",
       "      <td>East</td>\n",
       "    </tr>\n",
       "    <tr>\n",
       "      <th>2</th>\n",
       "      <td>3</td>\n",
       "      <td>Honda City 2017-2020 EXi</td>\n",
       "      <td>2006</td>\n",
       "      <td>158000</td>\n",
       "      <td>140000</td>\n",
       "      <td>Illinois</td>\n",
       "      <td>Chicago</td>\n",
       "      <td>Petrol</td>\n",
       "      <td>Individual</td>\n",
       "      <td>Manual</td>\n",
       "      <td>Third Owner</td>\n",
       "      <td>17.7 kmpl</td>\n",
       "      <td>1497 CC</td>\n",
       "      <td>78 bhp</td>\n",
       "      <td>5</td>\n",
       "      <td>Y</td>\n",
       "      <td>Central</td>\n",
       "    </tr>\n",
       "  </tbody>\n",
       "</table>\n",
       "</div>"
      ],
      "text/plain": [
       "   Sales_ID                          name  year  selling_price  km_driven  \\\n",
       "0         1        Maruti Swift Dzire VDI  2014         450000     145500   \n",
       "1         2  Skoda Rapid 1.5 TDI Ambition  2014         370000     120000   \n",
       "2         3      Honda City 2017-2020 EXi  2006         158000     140000   \n",
       "\n",
       "      State or Province           City    fuel seller_type transmission  \\\n",
       "0  District of Columbia     Washington  Diesel  Individual       Manual   \n",
       "1              New York  New York City  Diesel  Individual       Manual   \n",
       "2              Illinois        Chicago  Petrol  Individual       Manual   \n",
       "\n",
       "          owner     mileage   engine   max_power  seats sold   region  \n",
       "0   First Owner   23.4 kmpl  1248 CC      74 bhp      5    Y     East  \n",
       "1  Second Owner  21.14 kmpl  1498 CC  103.52 bhp      5    Y     East  \n",
       "2   Third Owner   17.7 kmpl  1497 CC      78 bhp      5    Y  Central  "
      ]
     },
     "execution_count": 83,
     "metadata": {},
     "output_type": "execute_result"
    }
   ],
   "source": [
    "mergedCarSalesData.head(3)"
   ]
  },
  {
   "cell_type": "code",
   "execution_count": 84,
   "id": "ec349b59",
   "metadata": {},
   "outputs": [],
   "source": [
    "brand=[]\n",
    "for i in range(mergedCarSalesData.shape[0]):\n",
    "    brand.append(mergedCarSalesData['name'][i].split()[0])"
   ]
  },
  {
   "cell_type": "code",
   "execution_count": 142,
   "id": "fcf752a7",
   "metadata": {},
   "outputs": [
    {
     "data": {
      "text/plain": [
       "['Maruti', 'Skoda', 'Honda', 'Hyundai', 'Maruti']"
      ]
     },
     "execution_count": 142,
     "metadata": {},
     "output_type": "execute_result"
    }
   ],
   "source": [
    "brand[:5]"
   ]
  },
  {
   "cell_type": "code",
   "execution_count": 86,
   "id": "1176a307",
   "metadata": {},
   "outputs": [],
   "source": [
    "mergedCarSalesData['brand']=brand"
   ]
  },
  {
   "cell_type": "code",
   "execution_count": 87,
   "id": "e94bb0ce",
   "metadata": {},
   "outputs": [
    {
     "data": {
      "text/html": [
       "<div>\n",
       "<style scoped>\n",
       "    .dataframe tbody tr th:only-of-type {\n",
       "        vertical-align: middle;\n",
       "    }\n",
       "\n",
       "    .dataframe tbody tr th {\n",
       "        vertical-align: top;\n",
       "    }\n",
       "\n",
       "    .dataframe thead th {\n",
       "        text-align: right;\n",
       "    }\n",
       "</style>\n",
       "<table border=\"1\" class=\"dataframe\">\n",
       "  <thead>\n",
       "    <tr style=\"text-align: right;\">\n",
       "      <th></th>\n",
       "      <th>Sales_ID</th>\n",
       "      <th>name</th>\n",
       "      <th>year</th>\n",
       "      <th>selling_price</th>\n",
       "      <th>km_driven</th>\n",
       "      <th>State or Province</th>\n",
       "      <th>City</th>\n",
       "      <th>fuel</th>\n",
       "      <th>seller_type</th>\n",
       "      <th>transmission</th>\n",
       "      <th>owner</th>\n",
       "      <th>mileage</th>\n",
       "      <th>engine</th>\n",
       "      <th>max_power</th>\n",
       "      <th>seats</th>\n",
       "      <th>sold</th>\n",
       "      <th>region</th>\n",
       "      <th>brand</th>\n",
       "    </tr>\n",
       "  </thead>\n",
       "  <tbody>\n",
       "    <tr>\n",
       "      <th>0</th>\n",
       "      <td>1</td>\n",
       "      <td>Maruti Swift Dzire VDI</td>\n",
       "      <td>2014</td>\n",
       "      <td>450000</td>\n",
       "      <td>145500</td>\n",
       "      <td>District of Columbia</td>\n",
       "      <td>Washington</td>\n",
       "      <td>Diesel</td>\n",
       "      <td>Individual</td>\n",
       "      <td>Manual</td>\n",
       "      <td>First Owner</td>\n",
       "      <td>23.4 kmpl</td>\n",
       "      <td>1248 CC</td>\n",
       "      <td>74 bhp</td>\n",
       "      <td>5</td>\n",
       "      <td>Y</td>\n",
       "      <td>East</td>\n",
       "      <td>Maruti</td>\n",
       "    </tr>\n",
       "    <tr>\n",
       "      <th>1</th>\n",
       "      <td>2</td>\n",
       "      <td>Skoda Rapid 1.5 TDI Ambition</td>\n",
       "      <td>2014</td>\n",
       "      <td>370000</td>\n",
       "      <td>120000</td>\n",
       "      <td>New York</td>\n",
       "      <td>New York City</td>\n",
       "      <td>Diesel</td>\n",
       "      <td>Individual</td>\n",
       "      <td>Manual</td>\n",
       "      <td>Second Owner</td>\n",
       "      <td>21.14 kmpl</td>\n",
       "      <td>1498 CC</td>\n",
       "      <td>103.52 bhp</td>\n",
       "      <td>5</td>\n",
       "      <td>Y</td>\n",
       "      <td>East</td>\n",
       "      <td>Skoda</td>\n",
       "    </tr>\n",
       "  </tbody>\n",
       "</table>\n",
       "</div>"
      ],
      "text/plain": [
       "   Sales_ID                          name  year  selling_price  km_driven  \\\n",
       "0         1        Maruti Swift Dzire VDI  2014         450000     145500   \n",
       "1         2  Skoda Rapid 1.5 TDI Ambition  2014         370000     120000   \n",
       "\n",
       "      State or Province           City    fuel seller_type transmission  \\\n",
       "0  District of Columbia     Washington  Diesel  Individual       Manual   \n",
       "1              New York  New York City  Diesel  Individual       Manual   \n",
       "\n",
       "          owner     mileage   engine   max_power  seats sold region   brand  \n",
       "0   First Owner   23.4 kmpl  1248 CC      74 bhp      5    Y   East  Maruti  \n",
       "1  Second Owner  21.14 kmpl  1498 CC  103.52 bhp      5    Y   East   Skoda  "
      ]
     },
     "execution_count": 87,
     "metadata": {},
     "output_type": "execute_result"
    }
   ],
   "source": [
    "mergedCarSalesData.head(2)"
   ]
  },
  {
   "cell_type": "code",
   "execution_count": 88,
   "id": "087fca0d",
   "metadata": {},
   "outputs": [
    {
     "data": {
      "text/plain": [
       "(7906, 18)"
      ]
     },
     "execution_count": 88,
     "metadata": {},
     "output_type": "execute_result"
    }
   ],
   "source": [
    "mergedCarSalesData.shape"
   ]
  },
  {
   "cell_type": "code",
   "execution_count": 89,
   "id": "2fed88e2",
   "metadata": {},
   "outputs": [],
   "source": [
    "mergedCarSalesData.to_csv('mergedCarSales.csv')"
   ]
  },
  {
   "cell_type": "code",
   "execution_count": 90,
   "id": "01f499fd",
   "metadata": {},
   "outputs": [
    {
     "data": {
      "text/plain": [
       "0     23.4 kmpl\n",
       "1    21.14 kmpl\n",
       "2     17.7 kmpl\n",
       "3     23.0 kmpl\n",
       "4     16.1 kmpl\n",
       "Name: mileage, dtype: object"
      ]
     },
     "execution_count": 90,
     "metadata": {},
     "output_type": "execute_result"
    }
   ],
   "source": [
    "mergedCarSalesData['mileage'].head()"
   ]
  },
  {
   "cell_type": "code",
   "execution_count": 91,
   "id": "8dcf976d",
   "metadata": {},
   "outputs": [
    {
     "name": "stderr",
     "output_type": "stream",
     "text": [
      "<ipython-input-91-8987e95fb8c3>:2: SettingWithCopyWarning: \n",
      "A value is trying to be set on a copy of a slice from a DataFrame\n",
      "\n",
      "See the caveats in the documentation: https://pandas.pydata.org/pandas-docs/stable/user_guide/indexing.html#returning-a-view-versus-a-copy\n",
      "  mergedCarSalesData['mileage'][i] = mergedCarSalesData['mileage'][i].split()[0]\n",
      "<ipython-input-91-8987e95fb8c3>:3: SettingWithCopyWarning: \n",
      "A value is trying to be set on a copy of a slice from a DataFrame\n",
      "\n",
      "See the caveats in the documentation: https://pandas.pydata.org/pandas-docs/stable/user_guide/indexing.html#returning-a-view-versus-a-copy\n",
      "  mergedCarSalesData['engine'][i] = mergedCarSalesData['engine'][i].split()[0]\n",
      "<ipython-input-91-8987e95fb8c3>:4: SettingWithCopyWarning: \n",
      "A value is trying to be set on a copy of a slice from a DataFrame\n",
      "\n",
      "See the caveats in the documentation: https://pandas.pydata.org/pandas-docs/stable/user_guide/indexing.html#returning-a-view-versus-a-copy\n",
      "  mergedCarSalesData['max_power'][i] = mergedCarSalesData['max_power'][i].split()[0]\n"
     ]
    }
   ],
   "source": [
    "for i in range(len(mergedCarSalesData)):\n",
    "    mergedCarSalesData['mileage'][i] = mergedCarSalesData['mileage'][i].split()[0]\n",
    "    mergedCarSalesData['engine'][i] = mergedCarSalesData['engine'][i].split()[0]\n",
    "    mergedCarSalesData['max_power'][i] = mergedCarSalesData['max_power'][i].split()[0]\n"
   ]
  },
  {
   "cell_type": "code",
   "execution_count": 92,
   "id": "285f61db",
   "metadata": {},
   "outputs": [],
   "source": [
    "mergedCarSalesData.engine = mergedCarSalesData.engine.astype('int64')\n",
    "mergedCarSalesData.max_power = mergedCarSalesData.max_power.astype('float')\n",
    "mergedCarSalesData.mileage = mergedCarSalesData.mileage.astype('float')"
   ]
  },
  {
   "cell_type": "markdown",
   "id": "fa4964c5",
   "metadata": {},
   "source": [
    "#### Assigning dummy values to strings"
   ]
  },
  {
   "cell_type": "code",
   "execution_count": 93,
   "id": "1416eb69",
   "metadata": {},
   "outputs": [],
   "source": [
    "province_dict = {'District of Columbia': 1, 'New York' :2 , 'Illinois': 3, 'California' : 4,'Texas':5, 'Massachusetts':6, \n",
    "              'Washington':7, 'Georgia':8,'North Carolina':9, 'Florida':10, 'Pennsylvania':11, 'Michigan':12, 'Iowa':13,\n",
    "              'Oregon':14, 'New Mexico':15, 'Maryland':16, 'Montana':17, 'Arkansas':18,'Arizona':19, 'Maine':20, \n",
    "              'Vermont':21, 'New Jersey':22, 'Connecticut':23,'Oklahoma':24, 'Tennessee':25, 'Alabama':26, 'Wisconsin':27,\n",
    "              'South Carolina':28,'New Hampshire':29, 'Idaho':30, 'Minnesota':31, 'Ohio':32, 'Kansas':33, 'Utah':34,\n",
    "              'Virginia':35, 'Nebraska':36, 'West Virginia':37, 'Colorado':38, 'Indiana':39,'Kentucky':40, 'Missouri':41, \n",
    "              'North Dakota':42, 'Rhode Island':43,'Louisiana':44, 'Wyoming':45, 'Nevada':46, 'Mississippi':47, \n",
    "              'Delaware':48,'South Dakota':49}\n",
    "\n",
    "region_dict = {'East':1, 'Central':2, 'West':3, 'South':4}\n",
    "\n",
    "transmission_dict = {'Manual' : 1 , 'Automatic' : 2}\n",
    "\n",
    "seller_type_dict = {'Individual' : 1, 'Dealer' : 2, 'Trustmark Dealer' : 3}\n",
    "\n",
    "owner_dict = {'First Owner':1,'Second Owner':2, 'Third Owner':3,'Fourth and Above Owner':4, 'Test Drive Car':5}\n",
    "\n",
    "fuel_dict = {'Diesel':1, 'Petrol':2, 'LPG':3, 'CNG':4}"
   ]
  },
  {
   "cell_type": "code",
   "execution_count": 94,
   "id": "23b2d5bb",
   "metadata": {},
   "outputs": [],
   "source": [
    "dummy_data = pd.get_dummies(mergedCarSalesData, columns=['sold'], drop_first=True)"
   ]
  },
  {
   "cell_type": "code",
   "execution_count": 95,
   "id": "9c01327d",
   "metadata": {},
   "outputs": [
    {
     "data": {
      "text/html": [
       "<div>\n",
       "<style scoped>\n",
       "    .dataframe tbody tr th:only-of-type {\n",
       "        vertical-align: middle;\n",
       "    }\n",
       "\n",
       "    .dataframe tbody tr th {\n",
       "        vertical-align: top;\n",
       "    }\n",
       "\n",
       "    .dataframe thead th {\n",
       "        text-align: right;\n",
       "    }\n",
       "</style>\n",
       "<table border=\"1\" class=\"dataframe\">\n",
       "  <thead>\n",
       "    <tr style=\"text-align: right;\">\n",
       "      <th></th>\n",
       "      <th>Sales_ID</th>\n",
       "      <th>name</th>\n",
       "      <th>year</th>\n",
       "      <th>selling_price</th>\n",
       "      <th>km_driven</th>\n",
       "      <th>State or Province</th>\n",
       "      <th>City</th>\n",
       "      <th>fuel</th>\n",
       "      <th>seller_type</th>\n",
       "      <th>transmission</th>\n",
       "      <th>owner</th>\n",
       "      <th>mileage</th>\n",
       "      <th>engine</th>\n",
       "      <th>max_power</th>\n",
       "      <th>seats</th>\n",
       "      <th>region</th>\n",
       "      <th>brand</th>\n",
       "      <th>sold_Y</th>\n",
       "    </tr>\n",
       "  </thead>\n",
       "  <tbody>\n",
       "    <tr>\n",
       "      <th>0</th>\n",
       "      <td>1</td>\n",
       "      <td>Maruti Swift Dzire VDI</td>\n",
       "      <td>2014</td>\n",
       "      <td>450000</td>\n",
       "      <td>145500</td>\n",
       "      <td>1</td>\n",
       "      <td>Washington</td>\n",
       "      <td>1</td>\n",
       "      <td>1</td>\n",
       "      <td>1</td>\n",
       "      <td>1.0</td>\n",
       "      <td>23.40</td>\n",
       "      <td>1248</td>\n",
       "      <td>74.00</td>\n",
       "      <td>5</td>\n",
       "      <td>1</td>\n",
       "      <td>Maruti</td>\n",
       "      <td>1</td>\n",
       "    </tr>\n",
       "    <tr>\n",
       "      <th>1</th>\n",
       "      <td>2</td>\n",
       "      <td>Skoda Rapid 1.5 TDI Ambition</td>\n",
       "      <td>2014</td>\n",
       "      <td>370000</td>\n",
       "      <td>120000</td>\n",
       "      <td>2</td>\n",
       "      <td>New York City</td>\n",
       "      <td>1</td>\n",
       "      <td>1</td>\n",
       "      <td>1</td>\n",
       "      <td>2.0</td>\n",
       "      <td>21.14</td>\n",
       "      <td>1498</td>\n",
       "      <td>103.52</td>\n",
       "      <td>5</td>\n",
       "      <td>1</td>\n",
       "      <td>Skoda</td>\n",
       "      <td>1</td>\n",
       "    </tr>\n",
       "    <tr>\n",
       "      <th>2</th>\n",
       "      <td>3</td>\n",
       "      <td>Honda City 2017-2020 EXi</td>\n",
       "      <td>2006</td>\n",
       "      <td>158000</td>\n",
       "      <td>140000</td>\n",
       "      <td>3</td>\n",
       "      <td>Chicago</td>\n",
       "      <td>2</td>\n",
       "      <td>1</td>\n",
       "      <td>1</td>\n",
       "      <td>3.0</td>\n",
       "      <td>17.70</td>\n",
       "      <td>1497</td>\n",
       "      <td>78.00</td>\n",
       "      <td>5</td>\n",
       "      <td>2</td>\n",
       "      <td>Honda</td>\n",
       "      <td>1</td>\n",
       "    </tr>\n",
       "  </tbody>\n",
       "</table>\n",
       "</div>"
      ],
      "text/plain": [
       "   Sales_ID                          name  year  selling_price  km_driven  \\\n",
       "0         1        Maruti Swift Dzire VDI  2014         450000     145500   \n",
       "1         2  Skoda Rapid 1.5 TDI Ambition  2014         370000     120000   \n",
       "2         3      Honda City 2017-2020 EXi  2006         158000     140000   \n",
       "\n",
       "   State or Province           City  fuel  seller_type  transmission  owner  \\\n",
       "0                  1     Washington     1            1             1    1.0   \n",
       "1                  2  New York City     1            1             1    2.0   \n",
       "2                  3        Chicago     2            1             1    3.0   \n",
       "\n",
       "   mileage  engine  max_power  seats  region   brand  sold_Y  \n",
       "0    23.40    1248      74.00      5       1  Maruti       1  \n",
       "1    21.14    1498     103.52      5       1   Skoda       1  \n",
       "2    17.70    1497      78.00      5       2   Honda       1  "
      ]
     },
     "execution_count": 95,
     "metadata": {},
     "output_type": "execute_result"
    }
   ],
   "source": [
    "dummy_data['State or Province'] = dummy_data['State or Province'].map(province_dict)\n",
    "dummy_data['region'] = dummy_data['region'].map(region_dict)\n",
    "dummy_data['transmission'] = dummy_data['transmission'].map(transmission_dict)\n",
    "dummy_data['seller_type'] = dummy_data['seller_type'].map(seller_type_dict)\n",
    "dummy_data['fuel'] = dummy_data['fuel'].map(fuel_dict)\n",
    "dummy_data['owner'] = dummy_data['owner'].map(owner_dict)\n",
    "dummy_data.head(3)"
   ]
  },
  {
   "cell_type": "code",
   "execution_count": 96,
   "id": "4c0b14cd",
   "metadata": {},
   "outputs": [
    {
     "data": {
      "text/plain": [
       "Sales_ID               int64\n",
       "name                  object\n",
       "year                   int64\n",
       "selling_price          int64\n",
       "km_driven              int64\n",
       "State or Province      int64\n",
       "City                  object\n",
       "fuel                   int64\n",
       "seller_type            int64\n",
       "transmission           int64\n",
       "owner                float64\n",
       "mileage              float64\n",
       "engine                 int64\n",
       "max_power            float64\n",
       "seats                  int64\n",
       "region                 int64\n",
       "brand                 object\n",
       "sold_Y                 uint8\n",
       "dtype: object"
      ]
     },
     "execution_count": 96,
     "metadata": {},
     "output_type": "execute_result"
    }
   ],
   "source": [
    "dummy_data.dtypes\n"
   ]
  },
  {
   "cell_type": "code",
   "execution_count": 97,
   "id": "e5452c07",
   "metadata": {},
   "outputs": [],
   "source": [
    "sold = mergedCarSalesData[mergedCarSalesData['sold']=='Y']\n"
   ]
  },
  {
   "cell_type": "code",
   "execution_count": 98,
   "id": "723958b4",
   "metadata": {},
   "outputs": [
    {
     "data": {
      "text/html": [
       "<div>\n",
       "<style scoped>\n",
       "    .dataframe tbody tr th:only-of-type {\n",
       "        vertical-align: middle;\n",
       "    }\n",
       "\n",
       "    .dataframe tbody tr th {\n",
       "        vertical-align: top;\n",
       "    }\n",
       "\n",
       "    .dataframe thead th {\n",
       "        text-align: right;\n",
       "    }\n",
       "</style>\n",
       "<table border=\"1\" class=\"dataframe\">\n",
       "  <thead>\n",
       "    <tr style=\"text-align: right;\">\n",
       "      <th></th>\n",
       "      <th>Sales_ID</th>\n",
       "      <th>name</th>\n",
       "      <th>year</th>\n",
       "      <th>selling_price</th>\n",
       "      <th>km_driven</th>\n",
       "      <th>State or Province</th>\n",
       "      <th>City</th>\n",
       "      <th>fuel</th>\n",
       "      <th>seller_type</th>\n",
       "      <th>transmission</th>\n",
       "      <th>owner</th>\n",
       "      <th>mileage</th>\n",
       "      <th>engine</th>\n",
       "      <th>max_power</th>\n",
       "      <th>seats</th>\n",
       "      <th>sold</th>\n",
       "      <th>region</th>\n",
       "      <th>brand</th>\n",
       "    </tr>\n",
       "  </thead>\n",
       "  <tbody>\n",
       "    <tr>\n",
       "      <th>0</th>\n",
       "      <td>1</td>\n",
       "      <td>Maruti Swift Dzire VDI</td>\n",
       "      <td>2014</td>\n",
       "      <td>450000</td>\n",
       "      <td>145500</td>\n",
       "      <td>District of Columbia</td>\n",
       "      <td>Washington</td>\n",
       "      <td>Diesel</td>\n",
       "      <td>Individual</td>\n",
       "      <td>Manual</td>\n",
       "      <td>First Owner</td>\n",
       "      <td>23.40</td>\n",
       "      <td>1248</td>\n",
       "      <td>74.00</td>\n",
       "      <td>5</td>\n",
       "      <td>Y</td>\n",
       "      <td>East</td>\n",
       "      <td>Maruti</td>\n",
       "    </tr>\n",
       "    <tr>\n",
       "      <th>1</th>\n",
       "      <td>2</td>\n",
       "      <td>Skoda Rapid 1.5 TDI Ambition</td>\n",
       "      <td>2014</td>\n",
       "      <td>370000</td>\n",
       "      <td>120000</td>\n",
       "      <td>New York</td>\n",
       "      <td>New York City</td>\n",
       "      <td>Diesel</td>\n",
       "      <td>Individual</td>\n",
       "      <td>Manual</td>\n",
       "      <td>Second Owner</td>\n",
       "      <td>21.14</td>\n",
       "      <td>1498</td>\n",
       "      <td>103.52</td>\n",
       "      <td>5</td>\n",
       "      <td>Y</td>\n",
       "      <td>East</td>\n",
       "      <td>Skoda</td>\n",
       "    </tr>\n",
       "  </tbody>\n",
       "</table>\n",
       "</div>"
      ],
      "text/plain": [
       "   Sales_ID                          name  year  selling_price  km_driven  \\\n",
       "0         1        Maruti Swift Dzire VDI  2014         450000     145500   \n",
       "1         2  Skoda Rapid 1.5 TDI Ambition  2014         370000     120000   \n",
       "\n",
       "      State or Province           City    fuel seller_type transmission  \\\n",
       "0  District of Columbia     Washington  Diesel  Individual       Manual   \n",
       "1              New York  New York City  Diesel  Individual       Manual   \n",
       "\n",
       "          owner  mileage  engine  max_power  seats sold region   brand  \n",
       "0   First Owner    23.40    1248      74.00      5    Y   East  Maruti  \n",
       "1  Second Owner    21.14    1498     103.52      5    Y   East   Skoda  "
      ]
     },
     "execution_count": 98,
     "metadata": {},
     "output_type": "execute_result"
    }
   ],
   "source": [
    "sold.head(2)"
   ]
  },
  {
   "cell_type": "code",
   "execution_count": 99,
   "id": "ed3ed503",
   "metadata": {},
   "outputs": [
    {
     "data": {
      "text/plain": [
       "(2000, 18)"
      ]
     },
     "execution_count": 99,
     "metadata": {},
     "output_type": "execute_result"
    }
   ],
   "source": [
    "sold.shape"
   ]
  },
  {
   "cell_type": "markdown",
   "id": "8f1d0503",
   "metadata": {},
   "source": [
    "# Statistical Analysis using Python"
   ]
  },
  {
   "cell_type": "markdown",
   "id": "72388062",
   "metadata": {},
   "source": [
    "### a.\tDescriptive statistics for both numerical and categorical and draw few insights from them."
   ]
  },
  {
   "cell_type": "code",
   "execution_count": 100,
   "id": "38f2bc9a",
   "metadata": {},
   "outputs": [
    {
     "data": {
      "text/plain": [
       "Index(['Sales_ID', 'name', 'year', 'selling_price', 'km_driven',\n",
       "       'State or Province', 'City', 'fuel', 'seller_type', 'transmission',\n",
       "       'owner', 'mileage', 'engine', 'max_power', 'seats', 'sold', 'region',\n",
       "       'brand'],\n",
       "      dtype='object')"
      ]
     },
     "execution_count": 100,
     "metadata": {},
     "output_type": "execute_result"
    }
   ],
   "source": [
    "mergedCarSalesData.columns"
   ]
  },
  {
   "cell_type": "code",
   "execution_count": 101,
   "id": "467070c7",
   "metadata": {},
   "outputs": [
    {
     "data": {
      "text/plain": [
       "2017    1010\n",
       "2016     856\n",
       "2018     806\n",
       "2015     775\n",
       "2013     668\n",
       "2012     621\n",
       "2014     620\n",
       "2019     583\n",
       "2011     570\n",
       "2010     375\n",
       "2009     231\n",
       "2008     201\n",
       "2007     173\n",
       "2006     102\n",
       "2005      76\n",
       "2020      74\n",
       "2004      51\n",
       "2003      37\n",
       "2002      19\n",
       "2000      15\n",
       "1999      14\n",
       "1997       9\n",
       "1998       9\n",
       "2001       6\n",
       "1996       2\n",
       "1994       2\n",
       "1995       1\n",
       "Name: year, dtype: int64"
      ]
     },
     "execution_count": 101,
     "metadata": {},
     "output_type": "execute_result"
    }
   ],
   "source": [
    "mergedCarSalesData.year.value_counts()"
   ]
  },
  {
   "cell_type": "code",
   "execution_count": 102,
   "id": "91a0d9a8",
   "metadata": {},
   "outputs": [
    {
     "data": {
      "text/plain": [
       "120000    510\n",
       "70000     441\n",
       "80000     430\n",
       "60000     413\n",
       "50000     379\n",
       "         ... \n",
       "72113       1\n",
       "36521       1\n",
       "16830       1\n",
       "50856       1\n",
       "426000      1\n",
       "Name: km_driven, Length: 898, dtype: int64"
      ]
     },
     "execution_count": 102,
     "metadata": {},
     "output_type": "execute_result"
    }
   ],
   "source": [
    "mergedCarSalesData.km_driven.value_counts()"
   ]
  },
  {
   "cell_type": "code",
   "execution_count": 103,
   "id": "a0a28eb0",
   "metadata": {},
   "outputs": [
    {
     "data": {
      "text/plain": [
       "California              901\n",
       "Texas                   499\n",
       "New York                491\n",
       "Illinois                489\n",
       "Florida                 425\n",
       "Ohio                    321\n",
       "Michigan                305\n",
       "Washington              295\n",
       "Pennsylvania            235\n",
       "North Carolina          222\n",
       "Indiana                 213\n",
       "Massachusetts           191\n",
       "Georgia                 187\n",
       "Minnesota               169\n",
       "Virginia                167\n",
       "Colorado                154\n",
       "New Jersey              154\n",
       "Maryland                144\n",
       "Missouri                141\n",
       "Tennessee               135\n",
       "Utah                    133\n",
       "Oregon                  129\n",
       "Iowa                    123\n",
       "Wisconsin               117\n",
       "Arizona                 115\n",
       "Kansas                  112\n",
       "Maine                   110\n",
       "Arkansas                107\n",
       "Alabama                 106\n",
       "Oklahoma                 95\n",
       "Idaho                    89\n",
       "South Carolina           81\n",
       "New Mexico               71\n",
       "District of Columbia     68\n",
       "Louisiana                66\n",
       "Mississippi              64\n",
       "Connecticut              63\n",
       "Nebraska                 58\n",
       "Kentucky                 55\n",
       "Vermont                  50\n",
       "New Hampshire            47\n",
       "Nevada                   39\n",
       "Montana                  38\n",
       "North Dakota             33\n",
       "West Virginia            33\n",
       "South Dakota             22\n",
       "Rhode Island             17\n",
       "Delaware                 15\n",
       "Wyoming                  12\n",
       "Name: State or Province, dtype: int64"
      ]
     },
     "execution_count": 103,
     "metadata": {},
     "output_type": "execute_result"
    }
   ],
   "source": [
    "mergedCarSalesData['State or Province'].value_counts()"
   ]
  },
  {
   "cell_type": "code",
   "execution_count": 104,
   "id": "01c09de3",
   "metadata": {},
   "outputs": [
    {
     "data": {
      "text/plain": [
       "New York City    196\n",
       "Los Angeles      191\n",
       "Seattle           92\n",
       "Chicago           88\n",
       "Boston            75\n",
       "                ... \n",
       "Beverly            1\n",
       "Manitowoc          1\n",
       "Shrewsbury         1\n",
       "Talladega          1\n",
       "Webster            1\n",
       "Name: City, Length: 1310, dtype: int64"
      ]
     },
     "execution_count": 104,
     "metadata": {},
     "output_type": "execute_result"
    }
   ],
   "source": [
    "mergedCarSalesData.City.value_counts()"
   ]
  },
  {
   "cell_type": "code",
   "execution_count": 105,
   "id": "c76fbf65",
   "metadata": {},
   "outputs": [
    {
     "data": {
      "text/plain": [
       "Diesel    4299\n",
       "Petrol    3520\n",
       "CNG         52\n",
       "LPG         35\n",
       "Name: fuel, dtype: int64"
      ]
     },
     "execution_count": 105,
     "metadata": {},
     "output_type": "execute_result"
    }
   ],
   "source": [
    "mergedCarSalesData.fuel.value_counts()"
   ]
  },
  {
   "cell_type": "code",
   "execution_count": 106,
   "id": "38f25254",
   "metadata": {},
   "outputs": [
    {
     "data": {
      "text/plain": [
       "Individual          6563\n",
       "Dealer              1107\n",
       "Trustmark Dealer     236\n",
       "Name: seller_type, dtype: int64"
      ]
     },
     "execution_count": 106,
     "metadata": {},
     "output_type": "execute_result"
    }
   ],
   "source": [
    "mergedCarSalesData.seller_type.value_counts()"
   ]
  },
  {
   "cell_type": "code",
   "execution_count": 107,
   "id": "29541635",
   "metadata": {},
   "outputs": [
    {
     "data": {
      "text/plain": [
       "Manual       6865\n",
       "Automatic    1041\n",
       "Name: transmission, dtype: int64"
      ]
     },
     "execution_count": 107,
     "metadata": {},
     "output_type": "execute_result"
    }
   ],
   "source": [
    "mergedCarSalesData.transmission.value_counts()"
   ]
  },
  {
   "cell_type": "code",
   "execution_count": 108,
   "id": "f7ccb620",
   "metadata": {},
   "outputs": [
    {
     "data": {
      "text/plain": [
       "First Owner             5215\n",
       "Second Owner            2016\n",
       "Third Owner              510\n",
       "Fourth & Above Owner     160\n",
       "Test Drive Car             5\n",
       "Name: owner, dtype: int64"
      ]
     },
     "execution_count": 108,
     "metadata": {},
     "output_type": "execute_result"
    }
   ],
   "source": [
    "mergedCarSalesData.owner.value_counts()"
   ]
  },
  {
   "cell_type": "code",
   "execution_count": 109,
   "id": "65aaefa4",
   "metadata": {},
   "outputs": [
    {
     "data": {
      "text/plain": [
       "18.90    225\n",
       "19.70    173\n",
       "18.60    164\n",
       "21.10    158\n",
       "17.00    133\n",
       "        ... \n",
       "16.73      1\n",
       "17.97      1\n",
       "32.52      1\n",
       "13.38      1\n",
       "12.50      1\n",
       "Name: mileage, Length: 381, dtype: int64"
      ]
     },
     "execution_count": 109,
     "metadata": {},
     "output_type": "execute_result"
    }
   ],
   "source": [
    "mergedCarSalesData.mileage.value_counts()"
   ]
  },
  {
   "cell_type": "code",
   "execution_count": 110,
   "id": "1b31e83d",
   "metadata": {},
   "outputs": [
    {
     "data": {
      "text/plain": [
       "1248    1017\n",
       "1197     832\n",
       "998      453\n",
       "796      443\n",
       "2179     389\n",
       "        ... \n",
       "2446       1\n",
       "3498       1\n",
       "2650       1\n",
       "1339       1\n",
       "2197       1\n",
       "Name: engine, Length: 121, dtype: int64"
      ]
     },
     "execution_count": 110,
     "metadata": {},
     "output_type": "execute_result"
    }
   ],
   "source": [
    "mergedCarSalesData.engine.value_counts()"
   ]
  },
  {
   "cell_type": "code",
   "execution_count": 111,
   "id": "978b2250",
   "metadata": {},
   "outputs": [
    {
     "data": {
      "text/plain": [
       "74.00     377\n",
       "88.50     222\n",
       "81.80     220\n",
       "67.00     165\n",
       "46.30     162\n",
       "         ... \n",
       "161.00      1\n",
       "265.00      1\n",
       "175.00      1\n",
       "157.75      1\n",
       "155.00      1\n",
       "Name: max_power, Length: 318, dtype: int64"
      ]
     },
     "execution_count": 111,
     "metadata": {},
     "output_type": "execute_result"
    }
   ],
   "source": [
    "mergedCarSalesData.max_power.value_counts()"
   ]
  },
  {
   "cell_type": "code",
   "execution_count": 112,
   "id": "b3f262d1",
   "metadata": {},
   "outputs": [
    {
     "data": {
      "text/plain": [
       "N    5906\n",
       "Y    2000\n",
       "Name: sold, dtype: int64"
      ]
     },
     "execution_count": 112,
     "metadata": {},
     "output_type": "execute_result"
    }
   ],
   "source": [
    "mergedCarSalesData.sold.value_counts()"
   ]
  },
  {
   "cell_type": "code",
   "execution_count": 113,
   "id": "30f29f13",
   "metadata": {},
   "outputs": [
    {
     "data": {
      "text/plain": [
       "5     6254\n",
       "7     1120\n",
       "8      235\n",
       "4      133\n",
       "9       80\n",
       "6       62\n",
       "10      19\n",
       "2        2\n",
       "14       1\n",
       "Name: seats, dtype: int64"
      ]
     },
     "execution_count": 113,
     "metadata": {},
     "output_type": "execute_result"
    }
   ],
   "source": [
    "mergedCarSalesData.seats.value_counts()"
   ]
  },
  {
   "cell_type": "markdown",
   "id": "d91b6198",
   "metadata": {},
   "source": [
    "From the above code snippets, we can statistically analyse and divide the columns into discrete/categorical and numerical/continuous attributes:\n",
    "DISCRETE: year, state or province, owner, seller type, sold, seats, transmission, fuel.\n",
    "CONTINUOUS: km driven, selling price, mileage, engine, max power \n",
    " \n"
   ]
  },
  {
   "cell_type": "code",
   "execution_count": 114,
   "id": "6670092d",
   "metadata": {},
   "outputs": [
    {
     "data": {
      "text/plain": [
       "count    7.906000e+03\n",
       "mean     6.918866e+04\n",
       "std      5.679230e+04\n",
       "min      1.000000e+00\n",
       "25%      3.500000e+04\n",
       "50%      6.000000e+04\n",
       "75%      9.542500e+04\n",
       "max      2.360457e+06\n",
       "Name: km_driven, dtype: float64"
      ]
     },
     "execution_count": 114,
     "metadata": {},
     "output_type": "execute_result"
    }
   ],
   "source": [
    "mergedCarSalesData.km_driven.describe()"
   ]
  },
  {
   "cell_type": "code",
   "execution_count": 115,
   "id": "4624b9e5",
   "metadata": {},
   "outputs": [
    {
     "name": "stdout",
     "output_type": "stream",
     "text": [
      "Kms Driven:\n",
      "Mode: 120000 \n",
      "Skewness: 11.342852951264694 \n",
      "Kurtosis 388.67861197718906\n"
     ]
    }
   ],
   "source": [
    "print('Kms Driven:')\n",
    "print(\"Mode:\", mergedCarSalesData.km_driven.mode()[0] , \"\\nSkewness:\", mergedCarSalesData.km_driven.skew() , \"\\nKurtosis\", mergedCarSalesData.km_driven.kurtosis() ) "
   ]
  },
  {
   "cell_type": "code",
   "execution_count": 116,
   "id": "8dde1f8b",
   "metadata": {},
   "outputs": [
    {
     "name": "stdout",
     "output_type": "stream",
     "text": [
      "Kms Driven:\n",
      "Q1: 35000.0\n",
      "Q3: 95425.0\n",
      "IQR: 60425.0\n",
      "Q3 + 1.5 IQR :  186062.5\n",
      "Q1 - 1.5 IQR :  -55637.5\n",
      "No of outliers found using IQR Method: 194\n"
     ]
    }
   ],
   "source": [
    "print('Kms Driven:')\n",
    "Q1 = np.percentile(mergedCarSalesData.km_driven,25)\n",
    "Q3 = np.percentile(mergedCarSalesData.km_driven,75)\n",
    "\n",
    "print(\"Q1:\", Q1)\n",
    "print(\"Q3:\", Q3)\n",
    "\n",
    "IQR = Q3 - Q1\n",
    "print(\"IQR:\", IQR)\n",
    "\n",
    "x = Q3 + 1.5*IQR #upper_bound\n",
    "y = Q1 - 1.5*IQR #lower_bound\n",
    "\n",
    "print(\"Q3 + 1.5 IQR : \",x)\n",
    "print(\"Q1 - 1.5 IQR : \",y)\n",
    "print('No of outliers found using IQR Method:',mergedCarSalesData[(mergedCarSalesData['km_driven']>x) | (mergedCarSalesData['km_driven']<y)].shape[0])\n"
   ]
  },
  {
   "cell_type": "code",
   "execution_count": 117,
   "id": "d815ef2b",
   "metadata": {},
   "outputs": [
    {
     "name": "stderr",
     "output_type": "stream",
     "text": [
      "C:\\Users\\tanishajain8\\Anaconda3\\lib\\site-packages\\seaborn\\_decorators.py:36: FutureWarning: Pass the following variable as a keyword arg: x. From version 0.12, the only valid positional argument will be `data`, and passing other arguments without an explicit keyword will result in an error or misinterpretation.\n",
      "  warnings.warn(\n"
     ]
    },
    {
     "data": {
      "text/plain": [
       "<AxesSubplot:xlabel='km_driven'>"
      ]
     },
     "execution_count": 117,
     "metadata": {},
     "output_type": "execute_result"
    },
    {
     "data": {
      "image/png": "[encoded data removed]",
      "text/plain": [
       "<Figure size 432x288 with 1 Axes>"
      ]
     },
     "metadata": {
      "needs_background": "light"
     },
     "output_type": "display_data"
    }
   ],
   "source": [
    "sns.boxplot(mergedCarSalesData.km_driven) "
   ]
  },
  {
   "cell_type": "code",
   "execution_count": 118,
   "id": "a5acb9d6",
   "metadata": {},
   "outputs": [
    {
     "data": {
      "text/plain": [
       "count    7906.000000\n",
       "mean       19.419861\n",
       "std         4.036263\n",
       "min         0.000000\n",
       "25%        16.780000\n",
       "50%        19.300000\n",
       "75%        22.320000\n",
       "max        42.000000\n",
       "Name: mileage, dtype: float64"
      ]
     },
     "execution_count": 118,
     "metadata": {},
     "output_type": "execute_result"
    }
   ],
   "source": [
    "mergedCarSalesData.mileage.describe()"
   ]
  },
  {
   "cell_type": "code",
   "execution_count": 119,
   "id": "97043ad6",
   "metadata": {},
   "outputs": [
    {
     "name": "stdout",
     "output_type": "stream",
     "text": [
      "Mileage:\n",
      "Mode: 18.9 \n",
      "Skewness:  -0.14239051994522683 \n",
      "Kurtosis:  0.5710336151887505\n"
     ]
    }
   ],
   "source": [
    "print('Mileage:')\n",
    "print(\"Mode:\",mergedCarSalesData.mileage.mode()[0],\"\\nSkewness: \",mergedCarSalesData.mileage.skew(),\"\\nKurtosis: \",mergedCarSalesData.mileage.kurtosis()) "
   ]
  },
  {
   "cell_type": "code",
   "execution_count": 120,
   "id": "f4c622c9",
   "metadata": {},
   "outputs": [
    {
     "name": "stdout",
     "output_type": "stream",
     "text": [
      "Mileage:\n",
      "Mean: 19.419860865165674 \n",
      "Standard Deviation: 4.036007926863023 \n",
      "Upper and Lower Bound 31.527884645754746 & 7.311837084576604\n",
      "No Of Outliers found using Z Method: 24\n"
     ]
    }
   ],
   "source": [
    "mu=np.mean(mergedCarSalesData['mileage'])\n",
    "sigma=np.std(mergedCarSalesData['mileage'] )\n",
    "upper_bound=mu + 3*sigma\n",
    "lower_bound= mu - 3*sigma\n",
    "print('Mileage:')\n",
    "print('Mean:',mu,'\\nStandard Deviation:',sigma,'\\nUpper and Lower Bound',upper_bound,'&',lower_bound)\n",
    "print('No Of Outliers found using Z Method:',mergedCarSalesData[(mergedCarSalesData['mileage'] >upper_bound) | (mergedCarSalesData['mileage'] <lower_bound)].shape[0])\n",
    " \n",
    "\n"
   ]
  },
  {
   "cell_type": "code",
   "execution_count": 121,
   "id": "c6babc22",
   "metadata": {},
   "outputs": [
    {
     "data": {
      "text/plain": [
       "count    7906.000000\n",
       "mean       91.587374\n",
       "std        35.747216\n",
       "min        32.800000\n",
       "25%        68.050000\n",
       "50%        82.000000\n",
       "75%       102.000000\n",
       "max       400.000000\n",
       "Name: max_power, dtype: float64"
      ]
     },
     "execution_count": 121,
     "metadata": {},
     "output_type": "execute_result"
    }
   ],
   "source": [
    "mergedCarSalesData.max_power.describe()"
   ]
  },
  {
   "cell_type": "code",
   "execution_count": 122,
   "id": "60bb1d5d",
   "metadata": {},
   "outputs": [
    {
     "name": "stdout",
     "output_type": "stream",
     "text": [
      "Max Power:\n",
      "Mode: 74.0 \n",
      "Skewness: 1.639673159282524 \n",
      "Kurtosis: 3.8016160968044534 \n"
     ]
    }
   ],
   "source": [
    "mode=mergedCarSalesData.max_power.mode()[0]\n",
    "sk=mergedCarSalesData.max_power.skew()\n",
    "kurt=mergedCarSalesData.max_power.kurtosis()\n",
    "print('Max Power:')\n",
    "print('Mode: %s \\nSkewness: %s \\nKurtosis: %s '% (mode,sk,kurt))"
   ]
  },
  {
   "cell_type": "code",
   "execution_count": 123,
   "id": "219d4348",
   "metadata": {},
   "outputs": [
    {
     "name": "stdout",
     "output_type": "stream",
     "text": [
      "Max Power:\n",
      "Mean: 91.58737351378655 \n",
      "Standard Deviation: 35.744955247996224 \n",
      "Upper and Lower Bound 198.8222392577752 & -15.647492230202133\n",
      "No Of Outliers found using Z Method: 90\n"
     ]
    }
   ],
   "source": [
    "mu = np.mean(mergedCarSalesData.max_power)\n",
    "sigma = np.std(mergedCarSalesData.max_power)\n",
    "upper_bound=mu + 3*sigma\n",
    "lower_bound= mu - 3*sigma\n",
    "print('Max Power:')\n",
    "print('Mean:',mu,'\\nStandard Deviation:',sigma,'\\nUpper and Lower Bound',upper_bound,'&',lower_bound)\n",
    "#print()\n",
    "print('No Of Outliers found using Z Method:',mergedCarSalesData[(mergedCarSalesData.max_power>upper_bound) | (mergedCarSalesData.max_power<lower_bound)].shape[0])\n"
   ]
  },
  {
   "cell_type": "code",
   "execution_count": 124,
   "id": "9d2614af",
   "metadata": {},
   "outputs": [
    {
     "name": "stdout",
     "output_type": "stream",
     "text": [
      "Engine:\n",
      "Mode: 1248 \n",
      "Skewness: 1.1353585465845375 \n",
      "Kurtosis: 0.7325340409494281 \n"
     ]
    }
   ],
   "source": [
    "mode=mergedCarSalesData.engine.mode()[0]\n",
    "sk=mergedCarSalesData.engine.skew()\n",
    "kurt=mergedCarSalesData.engine.kurtosis()\n",
    "print('Engine:')\n",
    "print('Mode: %s \\nSkewness: %s \\nKurtosis: %s '% (mode,sk,kurt))"
   ]
  },
  {
   "cell_type": "code",
   "execution_count": 125,
   "id": "83bb7d2a",
   "metadata": {},
   "outputs": [
    {
     "name": "stdout",
     "output_type": "stream",
     "text": [
      "Engine:\n",
      "Q1: 1197.0\n",
      "Q3: 1582.0\n",
      "IQR: 385.0\n",
      "Q3 + 1.5 IQR :  2159.5\n",
      "Q1 - 1.5 IQR :  619.5\n",
      "No Of Outliers using IQR Method: 1183\n"
     ]
    }
   ],
   "source": [
    "print('Engine:')\n",
    "q1 = np.percentile(mergedCarSalesData.engine,25)\n",
    "q3 = np.percentile(mergedCarSalesData.engine,75)\n",
    "print(\"Q1:\", q1)\n",
    "print(\"Q3:\", q3)\n",
    "IQR = q3 - q1\n",
    "print(\"IQR:\", IQR)\n",
    "x = q3 + 1.5*IQR #upper_bound\n",
    "y = q1 - 1.5*IQR #lower_bound\n",
    "print(\"Q3 + 1.5 IQR : \",x)\n",
    "print(\"Q1 - 1.5 IQR : \",y)\n",
    "print('No Of Outliers using IQR Method:',mergedCarSalesData[(mergedCarSalesData['engine']>x) | (mergedCarSalesData['engine']<y)].shape[0])"
   ]
  },
  {
   "cell_type": "code",
   "execution_count": 139,
   "id": "0f493bfd",
   "metadata": {},
   "outputs": [
    {
     "name": "stderr",
     "output_type": "stream",
     "text": [
      "C:\\Users\\tanishajain8\\Anaconda3\\lib\\site-packages\\seaborn\\_decorators.py:36: FutureWarning: Pass the following variable as a keyword arg: x. From version 0.12, the only valid positional argument will be `data`, and passing other arguments without an explicit keyword will result in an error or misinterpretation.\n",
      "  warnings.warn(\n"
     ]
    },
    {
     "data": {
      "text/plain": [
       "Text(0.5, 1.0, 'Data Distribution in Engine')"
      ]
     },
     "execution_count": 139,
     "metadata": {},
     "output_type": "execute_result"
    },
    {
     "data": {
      "image/png": "[encoded data removed]",
      "text/plain": [
       "<Figure size 432x288 with 1 Axes>"
      ]
     },
     "metadata": {
      "needs_background": "light"
     },
     "output_type": "display_data"
    }
   ],
   "source": [
    "sns.boxplot(mergedCarSalesData.engine)\n",
    "plt.title('Data Distribution in Engine')"
   ]
  },
  {
   "cell_type": "code",
   "execution_count": 127,
   "id": "e1dd8965",
   "metadata": {},
   "outputs": [
    {
     "name": "stdout",
     "output_type": "stream",
     "text": [
      "Modes of Categorical/Discrete Columns:\n",
      "year : 2017\n",
      "State or Province : California\n",
      "owner : First Owner\n",
      "seller_type : Individual\n",
      "sold : N\n",
      "seats : 5\n",
      "name : Maruti Swift Dzire VDI\n",
      "brand : Maruti\n"
     ]
    }
   ],
   "source": [
    "print('Modes of Categorical/Discrete Columns:')\n",
    "for i in ['year', 'State or Province', 'owner','seller_type', 'sold', 'seats','name','brand']:\n",
    "    print(i,\":\",mergedCarSalesData[i].mode()[0])"
   ]
  },
  {
   "cell_type": "code",
   "execution_count": 128,
   "id": "8a115038",
   "metadata": {},
   "outputs": [
    {
     "data": {
      "text/plain": [
       "<seaborn.axisgrid.FacetGrid at 0x1deb0775730>"
      ]
     },
     "execution_count": 128,
     "metadata": {},
     "output_type": "execute_result"
    },
    {
     "data": {
      "image/png": "[encoded data removed]",
      "text/plain": [
       "<Figure size 1229x360 with 2 Axes>"
      ]
     },
     "metadata": {
      "needs_background": "light"
     },
     "output_type": "display_data"
    }
   ],
   "source": [
    "sns.lmplot(x='max_power',y='selling_price',col='transmission',hue='owner',aspect=1.5,fit_reg=False,data=sold)"
   ]
  },
  {
   "cell_type": "code",
   "execution_count": 129,
   "id": "ed8587af",
   "metadata": {},
   "outputs": [
    {
     "data": {
      "text/plain": [
       "Text(0.5, 1.0, 'Price distribution of different Brands')"
      ]
     },
     "execution_count": 129,
     "metadata": {},
     "output_type": "execute_result"
    },
    {
     "data": {
      "image/png": "[encoded data removed]",
      "text/plain": [
       "<Figure size 864x432 with 1 Axes>"
      ]
     },
     "metadata": {
      "needs_background": "light"
     },
     "output_type": "display_data"
    }
   ],
   "source": [
    "plt.figure(figsize=(12,6))\n",
    "sns.boxplot(x='brand',y='selling_price',data=sold)\n",
    "plt.xticks(rotation=90);\n",
    "plt.title('Price distribution of different Brands')"
   ]
  },
  {
   "cell_type": "markdown",
   "id": "a36ee50d",
   "metadata": {},
   "source": [
    "### b.\tPerform relevant hypothesis testing (t, chi-Square, Anova tests) "
   ]
  },
  {
   "cell_type": "code",
   "execution_count": 130,
   "id": "d5f0bae5",
   "metadata": {},
   "outputs": [
    {
     "data": {
      "text/plain": [
       "Index(['Sales_ID', 'name', 'year', 'selling_price', 'km_driven',\n",
       "       'State or Province', 'City', 'fuel', 'seller_type', 'transmission',\n",
       "       'owner', 'mileage', 'engine', 'max_power', 'seats', 'sold', 'region',\n",
       "       'brand'],\n",
       "      dtype='object')"
      ]
     },
     "execution_count": 130,
     "metadata": {},
     "output_type": "execute_result"
    }
   ],
   "source": [
    "sold.columns"
   ]
  },
  {
   "cell_type": "markdown",
   "id": "e43264a0",
   "metadata": {},
   "source": [
    "#H0: region and year for already sold cars have no association\n",
    "#H1: region and year for already sold cars have association"
   ]
  },
  {
   "cell_type": "code",
   "execution_count": 131,
   "id": "fc928adc",
   "metadata": {},
   "outputs": [
    {
     "data": {
      "text/html": [
       "<div>\n",
       "<style scoped>\n",
       "    .dataframe tbody tr th:only-of-type {\n",
       "        vertical-align: middle;\n",
       "    }\n",
       "\n",
       "    .dataframe tbody tr th {\n",
       "        vertical-align: top;\n",
       "    }\n",
       "\n",
       "    .dataframe thead th {\n",
       "        text-align: right;\n",
       "    }\n",
       "</style>\n",
       "<table border=\"1\" class=\"dataframe\">\n",
       "  <thead>\n",
       "    <tr style=\"text-align: right;\">\n",
       "      <th>year</th>\n",
       "      <th>1994</th>\n",
       "      <th>1999</th>\n",
       "      <th>2000</th>\n",
       "      <th>2001</th>\n",
       "      <th>2002</th>\n",
       "      <th>2003</th>\n",
       "      <th>2004</th>\n",
       "      <th>2005</th>\n",
       "      <th>2006</th>\n",
       "      <th>2007</th>\n",
       "      <th>...</th>\n",
       "      <th>2011</th>\n",
       "      <th>2012</th>\n",
       "      <th>2013</th>\n",
       "      <th>2014</th>\n",
       "      <th>2015</th>\n",
       "      <th>2016</th>\n",
       "      <th>2017</th>\n",
       "      <th>2018</th>\n",
       "      <th>2019</th>\n",
       "      <th>2020</th>\n",
       "    </tr>\n",
       "    <tr>\n",
       "      <th>region</th>\n",
       "      <th></th>\n",
       "      <th></th>\n",
       "      <th></th>\n",
       "      <th></th>\n",
       "      <th></th>\n",
       "      <th></th>\n",
       "      <th></th>\n",
       "      <th></th>\n",
       "      <th></th>\n",
       "      <th></th>\n",
       "      <th></th>\n",
       "      <th></th>\n",
       "      <th></th>\n",
       "      <th></th>\n",
       "      <th></th>\n",
       "      <th></th>\n",
       "      <th></th>\n",
       "      <th></th>\n",
       "      <th></th>\n",
       "      <th></th>\n",
       "      <th></th>\n",
       "    </tr>\n",
       "  </thead>\n",
       "  <tbody>\n",
       "    <tr>\n",
       "      <th>Central</th>\n",
       "      <td>0</td>\n",
       "      <td>2</td>\n",
       "      <td>2</td>\n",
       "      <td>0</td>\n",
       "      <td>1</td>\n",
       "      <td>6</td>\n",
       "      <td>6</td>\n",
       "      <td>6</td>\n",
       "      <td>8</td>\n",
       "      <td>6</td>\n",
       "      <td>...</td>\n",
       "      <td>55</td>\n",
       "      <td>44</td>\n",
       "      <td>42</td>\n",
       "      <td>37</td>\n",
       "      <td>45</td>\n",
       "      <td>52</td>\n",
       "      <td>69</td>\n",
       "      <td>58</td>\n",
       "      <td>32</td>\n",
       "      <td>5</td>\n",
       "    </tr>\n",
       "    <tr>\n",
       "      <th>East</th>\n",
       "      <td>1</td>\n",
       "      <td>1</td>\n",
       "      <td>2</td>\n",
       "      <td>0</td>\n",
       "      <td>1</td>\n",
       "      <td>2</td>\n",
       "      <td>3</td>\n",
       "      <td>9</td>\n",
       "      <td>10</td>\n",
       "      <td>10</td>\n",
       "      <td>...</td>\n",
       "      <td>44</td>\n",
       "      <td>44</td>\n",
       "      <td>55</td>\n",
       "      <td>49</td>\n",
       "      <td>63</td>\n",
       "      <td>67</td>\n",
       "      <td>88</td>\n",
       "      <td>60</td>\n",
       "      <td>48</td>\n",
       "      <td>6</td>\n",
       "    </tr>\n",
       "    <tr>\n",
       "      <th>South</th>\n",
       "      <td>0</td>\n",
       "      <td>0</td>\n",
       "      <td>0</td>\n",
       "      <td>1</td>\n",
       "      <td>1</td>\n",
       "      <td>0</td>\n",
       "      <td>2</td>\n",
       "      <td>5</td>\n",
       "      <td>4</td>\n",
       "      <td>3</td>\n",
       "      <td>...</td>\n",
       "      <td>24</td>\n",
       "      <td>27</td>\n",
       "      <td>36</td>\n",
       "      <td>25</td>\n",
       "      <td>37</td>\n",
       "      <td>38</td>\n",
       "      <td>44</td>\n",
       "      <td>27</td>\n",
       "      <td>35</td>\n",
       "      <td>3</td>\n",
       "    </tr>\n",
       "    <tr>\n",
       "      <th>West</th>\n",
       "      <td>0</td>\n",
       "      <td>0</td>\n",
       "      <td>1</td>\n",
       "      <td>1</td>\n",
       "      <td>4</td>\n",
       "      <td>2</td>\n",
       "      <td>2</td>\n",
       "      <td>5</td>\n",
       "      <td>1</td>\n",
       "      <td>9</td>\n",
       "      <td>...</td>\n",
       "      <td>32</td>\n",
       "      <td>44</td>\n",
       "      <td>41</td>\n",
       "      <td>33</td>\n",
       "      <td>55</td>\n",
       "      <td>68</td>\n",
       "      <td>55</td>\n",
       "      <td>42</td>\n",
       "      <td>39</td>\n",
       "      <td>5</td>\n",
       "    </tr>\n",
       "  </tbody>\n",
       "</table>\n",
       "<p>4 rows × 23 columns</p>\n",
       "</div>"
      ],
      "text/plain": [
       "year     1994  1999  2000  2001  2002  2003  2004  2005  2006  2007  ...  \\\n",
       "region                                                               ...   \n",
       "Central     0     2     2     0     1     6     6     6     8     6  ...   \n",
       "East        1     1     2     0     1     2     3     9    10    10  ...   \n",
       "South       0     0     0     1     1     0     2     5     4     3  ...   \n",
       "West        0     0     1     1     4     2     2     5     1     9  ...   \n",
       "\n",
       "year     2011  2012  2013  2014  2015  2016  2017  2018  2019  2020  \n",
       "region                                                               \n",
       "Central    55    44    42    37    45    52    69    58    32     5  \n",
       "East       44    44    55    49    63    67    88    60    48     6  \n",
       "South      24    27    36    25    37    38    44    27    35     3  \n",
       "West       32    44    41    33    55    68    55    42    39     5  \n",
       "\n",
       "[4 rows x 23 columns]"
      ]
     },
     "execution_count": 131,
     "metadata": {},
     "output_type": "execute_result"
    }
   ],
   "source": [
    "contigency_table=pd.crosstab(sold.region,sold.year)\n",
    "contigency_table"
   ]
  },
  {
   "cell_type": "code",
   "execution_count": 132,
   "id": "8b6a618f",
   "metadata": {},
   "outputs": [
    {
     "data": {
      "text/plain": [
       "(62.15201007452517,\n",
       " 0.6115305994550148,\n",
       " 66,\n",
       " array([[ 0.27  ,  0.81  ,  1.35  ,  0.54  ,  1.89  ,  2.7   ,  3.51  ,\n",
       "          6.75  ,  6.21  ,  7.56  , 11.61  , 19.17  , 25.92  , 41.85  ,\n",
       "         42.93  , 46.98  , 38.88  , 54.    , 60.75  , 69.12  , 50.49  ,\n",
       "         41.58  ,  5.13  ],\n",
       "        [ 0.315 ,  0.945 ,  1.575 ,  0.63  ,  2.205 ,  3.15  ,  4.095 ,\n",
       "          7.875 ,  7.245 ,  8.82  , 13.545 , 22.365 , 30.24  , 48.825 ,\n",
       "         50.085 , 54.81  , 45.36  , 63.    , 70.875 , 80.64  , 58.905 ,\n",
       "         48.51  ,  5.985 ],\n",
       "        [ 0.1715,  0.5145,  0.8575,  0.343 ,  1.2005,  1.715 ,  2.2295,\n",
       "          4.2875,  3.9445,  4.802 ,  7.3745, 12.1765, 16.464 , 26.5825,\n",
       "         27.2685, 29.841 , 24.696 , 34.3   , 38.5875, 43.904 , 32.0705,\n",
       "         26.411 ,  3.2585],\n",
       "        [ 0.2435,  0.7305,  1.2175,  0.487 ,  1.7045,  2.435 ,  3.1655,\n",
       "          6.0875,  5.6005,  6.818 , 10.4705, 17.2885, 23.376 , 37.7425,\n",
       "         38.7165, 42.369 , 35.064 , 48.7   , 54.7875, 62.336 , 45.5345,\n",
       "         37.499 ,  4.6265]]))"
      ]
     },
     "execution_count": 132,
     "metadata": {},
     "output_type": "execute_result"
    }
   ],
   "source": [
    "st.chi2_contingency(contigency_table)"
   ]
  },
  {
   "cell_type": "markdown",
   "id": "14f59b9c",
   "metadata": {},
   "source": [
    "##since p-value(not close to 0)---->accept H0\n",
    "##Yes there is no association between year and region"
   ]
  },
  {
   "cell_type": "code",
   "execution_count": 133,
   "id": "d4fef4aa",
   "metadata": {},
   "outputs": [],
   "source": [
    "from statsmodels.stats.proportion import proportions_ztest"
   ]
  },
  {
   "cell_type": "code",
   "execution_count": 134,
   "id": "e05c68ec",
   "metadata": {},
   "outputs": [
    {
     "data": {
      "text/plain": [
       "597"
      ]
     },
     "execution_count": 134,
     "metadata": {},
     "output_type": "execute_result"
    }
   ],
   "source": [
    "len(sold[sold.brand=='Maruti'])"
   ]
  },
  {
   "cell_type": "code",
   "execution_count": 135,
   "id": "c84ad9d2",
   "metadata": {},
   "outputs": [
    {
     "data": {
      "text/plain": [
       "2000"
      ]
     },
     "execution_count": 135,
     "metadata": {},
     "output_type": "execute_result"
    }
   ],
   "source": [
    "len(sold)"
   ]
  },
  {
   "cell_type": "code",
   "execution_count": 136,
   "id": "55b94d74",
   "metadata": {},
   "outputs": [
    {
     "data": {
      "text/plain": [
       "0.2985"
      ]
     },
     "execution_count": 136,
     "metadata": {},
     "output_type": "execute_result"
    }
   ],
   "source": [
    "597/2000"
   ]
  },
  {
   "cell_type": "markdown",
   "id": "6892cf36",
   "metadata": {},
   "source": [
    "#H0: Maruti accounts for 30% of the cars sold\n",
    "#h1: Maruti doesn't account for 30% of the cars sold"
   ]
  },
  {
   "cell_type": "code",
   "execution_count": 140,
   "id": "0b9c2580",
   "metadata": {},
   "outputs": [],
   "source": [
    "x=len(sold[sold.brand=='Maruti'])\n",
    "n=len(sold)\n",
    "P=0.30"
   ]
  },
  {
   "cell_type": "code",
   "execution_count": 141,
   "id": "2588ed60",
   "metadata": {},
   "outputs": [
    {
     "data": {
      "text/plain": [
       "(-0.14659536915817054, 0.8834514090696418)"
      ]
     },
     "execution_count": 141,
     "metadata": {},
     "output_type": "execute_result"
    }
   ],
   "source": [
    "\n",
    "proportions_ztest(x,n,P)"
   ]
  },
  {
   "cell_type": "markdown",
   "id": "e755e6c5",
   "metadata": {},
   "source": [
    "The p-value is greater than 0.05 so we can accept the Null Hypothesis that Maruti accounts for 30% of the cars sold. Here, the p-value is 0.883."
   ]
  },
  {
   "cell_type": "code",
   "execution_count": null,
   "id": "6ce3e8fe",
   "metadata": {},
   "outputs": [],
   "source": []
  }
 ],
 "metadata": {
  "kernelspec": {
   "display_name": "Python 3",
   "language": "python",
   "name": "python3"
  },
  "language_info": {
   "codemirror_mode": {
    "name": "ipython",
    "version": 3
   },
   "file_extension": ".py",
   "mimetype": "text/x-python",
   "name": "python",
   "nbconvert_exporter": "python",
   "pygments_lexer": "ipython3",
   "version": "3.8.8"
  }
 },
 "nbformat": 4,
 "nbformat_minor": 5
}
